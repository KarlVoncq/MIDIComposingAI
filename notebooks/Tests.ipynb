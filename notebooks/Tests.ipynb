{
 "cells": [
  {
   "cell_type": "code",
   "execution_count": 1,
   "id": "a4b87265-56a0-4c27-a22a-be8723d56aec",
   "metadata": {},
   "outputs": [],
   "source": [
    "%load_ext autoreload\n",
    "%autoreload 2"
   ]
  },
  {
   "cell_type": "code",
   "execution_count": 6,
   "id": "d07a9881-db7b-4d15-b225-f03ab46e6933",
   "metadata": {},
   "outputs": [],
   "source": [
    "from midi2audio import FluidSynth"
   ]
  },
  {
   "cell_type": "code",
   "execution_count": 8,
   "id": "736982b5-ad9e-4c3d-8073-123745fddcd5",
   "metadata": {},
   "outputs": [
    {
     "name": "stdout",
     "output_type": "stream",
     "text": [
      "FluidSynth runtime version 2.1.1\n",
      "Copyright (C) 2000-2020 Peter Hanappe and others.\n",
      "Distributed under the LGPL license.\n",
      "SoundFont(R) is a registered trademark of E-mu Systems, Inc.\n",
      "\n",
      "Rendering audio to file 'truc.wav'..\n"
     ]
    },
    {
     "name": "stderr",
     "output_type": "stream",
     "text": [
      "fluidsynth: warning: No preset found on channel 9 [bank=128 prog=0]\n",
      "fluidsynth: panic: An error occurred while reading from stdin.\n"
     ]
    }
   ],
   "source": [
    "fs = FluidSynth()\n",
    "fs.midi_to_audio('test.mid', 'truc.wav')"
   ]
  },
  {
   "cell_type": "code",
   "execution_count": null,
   "id": "ee2eb4ab-66fc-476a-a40e-951a5b66dce5",
   "metadata": {},
   "outputs": [],
   "source": []
  },
  {
   "cell_type": "code",
   "execution_count": 3,
   "id": "d7784015-1728-4f0e-96b7-c755cd9d1b16",
   "metadata": {},
   "outputs": [],
   "source": [
    "pm = pretty_midi.PrettyMIDI('test.mid')"
   ]
  },
  {
   "cell_type": "code",
   "execution_count": 4,
   "id": "e89f4b2c-09f4-486b-b86d-038936b54718",
   "metadata": {},
   "outputs": [
    {
     "name": "stderr",
     "output_type": "stream",
     "text": [
      "fluidsynth: warning: SDL2 not initialized, SDL2 audio driver won't be usable\n"
     ]
    },
    {
     "data": {
      "text/plain": [
       "array([ 0.        ,  0.        ,  0.        , ..., -0.00043497,\n",
       "        0.        ,  0.        ])"
      ]
     },
     "execution_count": 4,
     "metadata": {},
     "output_type": "execute_result"
    }
   ],
   "source": [
    "pm.fluidsynth()"
   ]
  },
  {
   "cell_type": "code",
   "execution_count": 19,
   "id": "276ce82b-35a3-4d18-a7f3-4b78db7095cd",
   "metadata": {},
   "outputs": [],
   "source": [
    "import numpy as np\n",
    "import pretty_midi\n",
    "import visual_midi\n",
    "import joblib\n",
    "from MIDIComposingAI.utils import piano_roll_to_pretty_midi\n",
    "from MIDIComposingAI.create_dataset import *\n",
    "from MIDIComposingAI.get_back_data import *\n",
    "import pickle"
   ]
  },
  {
   "cell_type": "code",
   "execution_count": 34,
   "id": "c1b3a52c-3f81-40f4-87f0-49a49ed7f1a8",
   "metadata": {},
   "outputs": [],
   "source": [
    "from midi2audio import FluidSynth"
   ]
  },
  {
   "cell_type": "code",
   "execution_count": 5,
   "id": "6b54e81b-d2cd-4c0c-863b-e77d5365a71b",
   "metadata": {},
   "outputs": [
    {
     "name": "stdout",
     "output_type": "stream",
     "text": [
      "FluidSynth runtime version 2.1.1\n",
      "Copyright (C) 2000-2020 Peter Hanappe and others.\n",
      "Distributed under the LGPL license.\n",
      "SoundFont(R) is a registered trademark of E-mu Systems, Inc.\n",
      "\n",
      "FluidSynth executable version 2.1.1\n",
      "Sample type=double\n"
     ]
    },
    {
     "data": {
      "text/plain": [
       "0"
      ]
     },
     "execution_count": 5,
     "metadata": {},
     "output_type": "execute_result"
    }
   ],
   "source": [
    "import subprocess\n",
    "subprocess.call([\"fluidsynth\", \"-V\"])"
   ]
  },
  {
   "cell_type": "code",
   "execution_count": 35,
   "id": "695f3c48-14e4-4cd4-8c3c-7cda5b80fc59",
   "metadata": {},
   "outputs": [
    {
     "ename": "FileNotFoundError",
     "evalue": "[Errno 2] No such file or directory: 'fluidsynth'",
     "output_type": "error",
     "traceback": [
      "\u001b[0;31m---------------------------------------------------------------------------\u001b[0m",
      "\u001b[0;31mFileNotFoundError\u001b[0m                         Traceback (most recent call last)",
      "\u001b[0;32m/tmp/ipykernel_9650/2916970635.py\u001b[0m in \u001b[0;36m<module>\u001b[0;34m\u001b[0m\n\u001b[0;32m----> 1\u001b[0;31m \u001b[0mFluidSynth\u001b[0m\u001b[0;34m(\u001b[0m\u001b[0;34m)\u001b[0m\u001b[0;34m.\u001b[0m\u001b[0mmidi_to_audio\u001b[0m\u001b[0;34m(\u001b[0m\u001b[0;34m'test.mid'\u001b[0m\u001b[0;34m,\u001b[0m \u001b[0;34m'audio.wav'\u001b[0m\u001b[0;34m)\u001b[0m\u001b[0;34m\u001b[0m\u001b[0;34m\u001b[0m\u001b[0m\n\u001b[0m",
      "\u001b[0;32m~/.pyenv/versions/3.8.12/envs/MIDIComposingAI/lib/python3.8/site-packages/midi2audio.py\u001b[0m in \u001b[0;36mmidi_to_audio\u001b[0;34m(self, midi_file, audio_file)\u001b[0m\n\u001b[1;32m     44\u001b[0m \u001b[0;34m\u001b[0m\u001b[0m\n\u001b[1;32m     45\u001b[0m     \u001b[0;32mdef\u001b[0m \u001b[0mmidi_to_audio\u001b[0m\u001b[0;34m(\u001b[0m\u001b[0mself\u001b[0m\u001b[0;34m,\u001b[0m \u001b[0mmidi_file\u001b[0m\u001b[0;34m,\u001b[0m \u001b[0maudio_file\u001b[0m\u001b[0;34m)\u001b[0m\u001b[0;34m:\u001b[0m\u001b[0;34m\u001b[0m\u001b[0;34m\u001b[0m\u001b[0m\n\u001b[0;32m---> 46\u001b[0;31m         \u001b[0msubprocess\u001b[0m\u001b[0;34m.\u001b[0m\u001b[0mcall\u001b[0m\u001b[0;34m(\u001b[0m\u001b[0;34m[\u001b[0m\u001b[0;34m'fluidsynth'\u001b[0m\u001b[0;34m,\u001b[0m \u001b[0;34m'-ni'\u001b[0m\u001b[0;34m,\u001b[0m \u001b[0mself\u001b[0m\u001b[0;34m.\u001b[0m\u001b[0msound_font\u001b[0m\u001b[0;34m,\u001b[0m \u001b[0mmidi_file\u001b[0m\u001b[0;34m,\u001b[0m \u001b[0;34m'-F'\u001b[0m\u001b[0;34m,\u001b[0m \u001b[0maudio_file\u001b[0m\u001b[0;34m,\u001b[0m \u001b[0;34m'-r'\u001b[0m\u001b[0;34m,\u001b[0m \u001b[0mstr\u001b[0m\u001b[0;34m(\u001b[0m\u001b[0mself\u001b[0m\u001b[0;34m.\u001b[0m\u001b[0msample_rate\u001b[0m\u001b[0;34m)\u001b[0m\u001b[0;34m]\u001b[0m\u001b[0;34m)\u001b[0m\u001b[0;34m\u001b[0m\u001b[0;34m\u001b[0m\u001b[0m\n\u001b[0m\u001b[1;32m     47\u001b[0m \u001b[0;34m\u001b[0m\u001b[0m\n\u001b[1;32m     48\u001b[0m     \u001b[0;32mdef\u001b[0m \u001b[0mplay_midi\u001b[0m\u001b[0;34m(\u001b[0m\u001b[0mself\u001b[0m\u001b[0;34m,\u001b[0m \u001b[0mmidi_file\u001b[0m\u001b[0;34m)\u001b[0m\u001b[0;34m:\u001b[0m\u001b[0;34m\u001b[0m\u001b[0;34m\u001b[0m\u001b[0m\n",
      "\u001b[0;32m~/.pyenv/versions/3.8.12/lib/python3.8/subprocess.py\u001b[0m in \u001b[0;36mcall\u001b[0;34m(timeout, *popenargs, **kwargs)\u001b[0m\n\u001b[1;32m    338\u001b[0m     \u001b[0mretcode\u001b[0m \u001b[0;34m=\u001b[0m \u001b[0mcall\u001b[0m\u001b[0;34m(\u001b[0m\u001b[0;34m[\u001b[0m\u001b[0;34m\"ls\"\u001b[0m\u001b[0;34m,\u001b[0m \u001b[0;34m\"-l\"\u001b[0m\u001b[0;34m]\u001b[0m\u001b[0;34m)\u001b[0m\u001b[0;34m\u001b[0m\u001b[0;34m\u001b[0m\u001b[0m\n\u001b[1;32m    339\u001b[0m     \"\"\"\n\u001b[0;32m--> 340\u001b[0;31m     \u001b[0;32mwith\u001b[0m \u001b[0mPopen\u001b[0m\u001b[0;34m(\u001b[0m\u001b[0;34m*\u001b[0m\u001b[0mpopenargs\u001b[0m\u001b[0;34m,\u001b[0m \u001b[0;34m**\u001b[0m\u001b[0mkwargs\u001b[0m\u001b[0;34m)\u001b[0m \u001b[0;32mas\u001b[0m \u001b[0mp\u001b[0m\u001b[0;34m:\u001b[0m\u001b[0;34m\u001b[0m\u001b[0;34m\u001b[0m\u001b[0m\n\u001b[0m\u001b[1;32m    341\u001b[0m         \u001b[0;32mtry\u001b[0m\u001b[0;34m:\u001b[0m\u001b[0;34m\u001b[0m\u001b[0;34m\u001b[0m\u001b[0m\n\u001b[1;32m    342\u001b[0m             \u001b[0;32mreturn\u001b[0m \u001b[0mp\u001b[0m\u001b[0;34m.\u001b[0m\u001b[0mwait\u001b[0m\u001b[0;34m(\u001b[0m\u001b[0mtimeout\u001b[0m\u001b[0;34m=\u001b[0m\u001b[0mtimeout\u001b[0m\u001b[0;34m)\u001b[0m\u001b[0;34m\u001b[0m\u001b[0;34m\u001b[0m\u001b[0m\n",
      "\u001b[0;32m~/.pyenv/versions/3.8.12/lib/python3.8/subprocess.py\u001b[0m in \u001b[0;36m__init__\u001b[0;34m(self, args, bufsize, executable, stdin, stdout, stderr, preexec_fn, close_fds, shell, cwd, env, universal_newlines, startupinfo, creationflags, restore_signals, start_new_session, pass_fds, encoding, errors, text)\u001b[0m\n\u001b[1;32m    856\u001b[0m                             encoding=encoding, errors=errors)\n\u001b[1;32m    857\u001b[0m \u001b[0;34m\u001b[0m\u001b[0m\n\u001b[0;32m--> 858\u001b[0;31m             self._execute_child(args, executable, preexec_fn, close_fds,\n\u001b[0m\u001b[1;32m    859\u001b[0m                                 \u001b[0mpass_fds\u001b[0m\u001b[0;34m,\u001b[0m \u001b[0mcwd\u001b[0m\u001b[0;34m,\u001b[0m \u001b[0menv\u001b[0m\u001b[0;34m,\u001b[0m\u001b[0;34m\u001b[0m\u001b[0;34m\u001b[0m\u001b[0m\n\u001b[1;32m    860\u001b[0m                                 \u001b[0mstartupinfo\u001b[0m\u001b[0;34m,\u001b[0m \u001b[0mcreationflags\u001b[0m\u001b[0;34m,\u001b[0m \u001b[0mshell\u001b[0m\u001b[0;34m,\u001b[0m\u001b[0;34m\u001b[0m\u001b[0;34m\u001b[0m\u001b[0m\n",
      "\u001b[0;32m~/.pyenv/versions/3.8.12/lib/python3.8/subprocess.py\u001b[0m in \u001b[0;36m_execute_child\u001b[0;34m(self, args, executable, preexec_fn, close_fds, pass_fds, cwd, env, startupinfo, creationflags, shell, p2cread, p2cwrite, c2pread, c2pwrite, errread, errwrite, restore_signals, start_new_session)\u001b[0m\n\u001b[1;32m   1702\u001b[0m                     \u001b[0;32mif\u001b[0m \u001b[0merrno_num\u001b[0m \u001b[0;34m!=\u001b[0m \u001b[0;36m0\u001b[0m\u001b[0;34m:\u001b[0m\u001b[0;34m\u001b[0m\u001b[0;34m\u001b[0m\u001b[0m\n\u001b[1;32m   1703\u001b[0m                         \u001b[0merr_msg\u001b[0m \u001b[0;34m=\u001b[0m \u001b[0mos\u001b[0m\u001b[0;34m.\u001b[0m\u001b[0mstrerror\u001b[0m\u001b[0;34m(\u001b[0m\u001b[0merrno_num\u001b[0m\u001b[0;34m)\u001b[0m\u001b[0;34m\u001b[0m\u001b[0;34m\u001b[0m\u001b[0m\n\u001b[0;32m-> 1704\u001b[0;31m                     \u001b[0;32mraise\u001b[0m \u001b[0mchild_exception_type\u001b[0m\u001b[0;34m(\u001b[0m\u001b[0merrno_num\u001b[0m\u001b[0;34m,\u001b[0m \u001b[0merr_msg\u001b[0m\u001b[0;34m,\u001b[0m \u001b[0merr_filename\u001b[0m\u001b[0;34m)\u001b[0m\u001b[0;34m\u001b[0m\u001b[0;34m\u001b[0m\u001b[0m\n\u001b[0m\u001b[1;32m   1705\u001b[0m                 \u001b[0;32mraise\u001b[0m \u001b[0mchild_exception_type\u001b[0m\u001b[0;34m(\u001b[0m\u001b[0merr_msg\u001b[0m\u001b[0;34m)\u001b[0m\u001b[0;34m\u001b[0m\u001b[0;34m\u001b[0m\u001b[0m\n\u001b[1;32m   1706\u001b[0m \u001b[0;34m\u001b[0m\u001b[0m\n",
      "\u001b[0;31mFileNotFoundError\u001b[0m: [Errno 2] No such file or directory: 'fluidsynth'"
     ]
    }
   ],
   "source": [
    "FluidSynth().midi_to_audio('test.mid', 'audio.wav')"
   ]
  },
  {
   "cell_type": "code",
   "execution_count": 3,
   "id": "bb4a4be4-6af3-4cb6-9b19-edfac8c91444",
   "metadata": {},
   "outputs": [],
   "source": [
    "p = pretty_midi.PrettyMIDI('../raw_data/personal.mid')"
   ]
  },
  {
   "cell_type": "code",
   "execution_count": 4,
   "id": "a158462c-c0cf-4421-86c8-34eb2874ae4c",
   "metadata": {},
   "outputs": [],
   "source": [
    "tree = joblib.load('../Models/API_tree.joblib')"
   ]
  },
  {
   "cell_type": "code",
   "execution_count": 5,
   "id": "0c0ec75f-5cf4-4290-9fa1-a18ee24a32fe",
   "metadata": {},
   "outputs": [],
   "source": [
    "zeros = np.zeros((128, 750))"
   ]
  },
  {
   "cell_type": "code",
   "execution_count": 6,
   "id": "0a0f2ee6-b7fb-468a-bb0f-1e0021980568",
   "metadata": {},
   "outputs": [],
   "source": [
    "pers = p.get_piano_roll(fs=50)\n",
    "\n",
    "def reshape_piano_roll(piano_roll, size=500):\n",
    "    \"\"\"\n",
    "    Reshape the piano roll to match into the required shape for predictions\n",
    "    \"\"\"\n",
    "    if piano_roll.shape[-1] < size:\n",
    "        \n",
    "        zeros_array = np.zeros((128, size - piano_roll.shape[-1]))\n",
    "        return np.concatenate((piano_roll, zeros_array), axis=1)\n",
    "    \n",
    "    if piano_roll.shape[-1] > size:\n",
    "        \n",
    "        piano_rolls =  np.split(piano_roll, [500], axis=1)\n",
    "        \n",
    "        while piano_rolls[-1].shape[-1] > 500:\n",
    "            \n",
    "            last_split = np.split(piano_rolls[-1], [500], axis=1)\n",
    "            piano_rolls[-1] = last_split[0]\n",
    "            piano_rolls.append(last_split[-1])\n",
    "        \n",
    "        # while np.array(piano_rolls[-1]).shape > size:\n",
    "        #     piano_rolls.append(np.split(piano_roll[-1], [500], axis=1))\n",
    "        return piano_rolls"
   ]
  },
  {
   "cell_type": "code",
   "execution_count": 7,
   "id": "36960868-f95b-4db1-9fa3-0fc5eb405d36",
   "metadata": {},
   "outputs": [],
   "source": [
    "zeros = np.zeros((128, 3500))"
   ]
  },
  {
   "cell_type": "code",
   "execution_count": 8,
   "id": "83031647-9278-4f8c-88ee-71b6d228479a",
   "metadata": {},
   "outputs": [],
   "source": [
    "pers = reshape_piano_roll(pers)"
   ]
  },
  {
   "cell_type": "code",
   "execution_count": 9,
   "id": "112472aa-5344-4f72-a04d-2ed92d98ef12",
   "metadata": {},
   "outputs": [],
   "source": [
    "chords = adding_chords_info('../raw_data/chords_midi.csv', pers.reshape(1, 128, 500))"
   ]
  },
  {
   "cell_type": "code",
   "execution_count": 10,
   "id": "8d8a69d2-398c-4210-8197-bb48fa3cda49",
   "metadata": {},
   "outputs": [],
   "source": [
    "pers_reshaped = pers.reshape(1, -1)\n",
    "pers_reshaped = np.concatenate((chords, pers_reshaped), axis=1) "
   ]
  },
  {
   "cell_type": "code",
   "execution_count": 11,
   "id": "e33e975f-8a39-4a28-97ba-5d8de20b062f",
   "metadata": {},
   "outputs": [],
   "source": [
    "pred = tree.predict(pers_reshaped)"
   ]
  },
  {
   "cell_type": "code",
   "execution_count": 22,
   "id": "8a11d537-3c6e-46c7-9f78-26d83affa388",
   "metadata": {},
   "outputs": [],
   "source": [
    "pred_mel = [assembled_target_to_melody(p) for p in pred]"
   ]
  },
  {
   "cell_type": "code",
   "execution_count": 24,
   "id": "ced9d6dc-5886-4e9d-a1bc-a51b728e0abc",
   "metadata": {},
   "outputs": [
    {
     "data": {
      "text/plain": [
       "array([[0., 0., 0., ..., 0., 0., 0.],\n",
       "       [0., 0., 0., ..., 0., 0., 0.],\n",
       "       [0., 0., 0., ..., 0., 0., 0.],\n",
       "       ...,\n",
       "       [0., 0., 0., ..., 0., 0., 0.],\n",
       "       [0., 0., 0., ..., 0., 0., 0.],\n",
       "       [0., 0., 0., ..., 0., 0., 0.]])"
      ]
     },
     "execution_count": 24,
     "metadata": {},
     "output_type": "execute_result"
    }
   ],
   "source": [
    "pred_mel[0]"
   ]
  },
  {
   "cell_type": "code",
   "execution_count": 25,
   "id": "f7825c40-71d8-43bb-bef6-60ce5a0865e4",
   "metadata": {},
   "outputs": [],
   "source": [
    "copy = pers.copy()"
   ]
  },
  {
   "cell_type": "code",
   "execution_count": 29,
   "id": "16bd27bb-b32f-44ee-9304-93af842a7595",
   "metadata": {},
   "outputs": [],
   "source": [
    "full_music = assemblate_accompaniment_melody(copy, pred_mel[0])"
   ]
  },
  {
   "cell_type": "code",
   "execution_count": 33,
   "id": "50955209-4a64-43c7-a7b6-8cc2ade462a3",
   "metadata": {},
   "outputs": [],
   "source": [
    "piano_roll_to_pretty_midi(full_music, fs=50).write('test.mp3')"
   ]
  },
  {
   "cell_type": "code",
   "execution_count": 30,
   "id": "821577f8-7611-498b-8234-03f169d30040",
   "metadata": {},
   "outputs": [
    {
     "data": {
      "text/html": [
       "\n",
       "    <div class=\"bk-root\">\n",
       "        <a href=\"https://bokeh.org\" target=\"_blank\" class=\"bk-logo bk-logo-small bk-logo-notebook\"></a>\n",
       "        <span id=\"1556\">Loading BokehJS ...</span>\n",
       "    </div>"
      ]
     },
     "metadata": {},
     "output_type": "display_data"
    },
    {
     "data": {
      "application/javascript": [
       "\n",
       "(function(root) {\n",
       "  function now() {\n",
       "    return new Date();\n",
       "  }\n",
       "\n",
       "  const force = true;\n",
       "\n",
       "  if (typeof root._bokeh_onload_callbacks === \"undefined\" || force === true) {\n",
       "    root._bokeh_onload_callbacks = [];\n",
       "    root._bokeh_is_loading = undefined;\n",
       "  }\n",
       "\n",
       "  const JS_MIME_TYPE = 'application/javascript';\n",
       "  const HTML_MIME_TYPE = 'text/html';\n",
       "  const EXEC_MIME_TYPE = 'application/vnd.bokehjs_exec.v0+json';\n",
       "  const CLASS_NAME = 'output_bokeh rendered_html';\n",
       "\n",
       "  /**\n",
       "   * Render data to the DOM node\n",
       "   */\n",
       "  function render(props, node) {\n",
       "    const script = document.createElement(\"script\");\n",
       "    node.appendChild(script);\n",
       "  }\n",
       "\n",
       "  /**\n",
       "   * Handle when an output is cleared or removed\n",
       "   */\n",
       "  function handleClearOutput(event, handle) {\n",
       "    const cell = handle.cell;\n",
       "\n",
       "    const id = cell.output_area._bokeh_element_id;\n",
       "    const server_id = cell.output_area._bokeh_server_id;\n",
       "    // Clean up Bokeh references\n",
       "    if (id != null && id in Bokeh.index) {\n",
       "      Bokeh.index[id].model.document.clear();\n",
       "      delete Bokeh.index[id];\n",
       "    }\n",
       "\n",
       "    if (server_id !== undefined) {\n",
       "      // Clean up Bokeh references\n",
       "      const cmd_clean = \"from bokeh.io.state import curstate; print(curstate().uuid_to_server['\" + server_id + \"'].get_sessions()[0].document.roots[0]._id)\";\n",
       "      cell.notebook.kernel.execute(cmd_clean, {\n",
       "        iopub: {\n",
       "          output: function(msg) {\n",
       "            const id = msg.content.text.trim();\n",
       "            if (id in Bokeh.index) {\n",
       "              Bokeh.index[id].model.document.clear();\n",
       "              delete Bokeh.index[id];\n",
       "            }\n",
       "          }\n",
       "        }\n",
       "      });\n",
       "      // Destroy server and session\n",
       "      const cmd_destroy = \"import bokeh.io.notebook as ion; ion.destroy_server('\" + server_id + \"')\";\n",
       "      cell.notebook.kernel.execute(cmd_destroy);\n",
       "    }\n",
       "  }\n",
       "\n",
       "  /**\n",
       "   * Handle when a new output is added\n",
       "   */\n",
       "  function handleAddOutput(event, handle) {\n",
       "    const output_area = handle.output_area;\n",
       "    const output = handle.output;\n",
       "\n",
       "    // limit handleAddOutput to display_data with EXEC_MIME_TYPE content only\n",
       "    if ((output.output_type != \"display_data\") || (!Object.prototype.hasOwnProperty.call(output.data, EXEC_MIME_TYPE))) {\n",
       "      return\n",
       "    }\n",
       "\n",
       "    const toinsert = output_area.element.find(\".\" + CLASS_NAME.split(' ')[0]);\n",
       "\n",
       "    if (output.metadata[EXEC_MIME_TYPE][\"id\"] !== undefined) {\n",
       "      toinsert[toinsert.length - 1].firstChild.textContent = output.data[JS_MIME_TYPE];\n",
       "      // store reference to embed id on output_area\n",
       "      output_area._bokeh_element_id = output.metadata[EXEC_MIME_TYPE][\"id\"];\n",
       "    }\n",
       "    if (output.metadata[EXEC_MIME_TYPE][\"server_id\"] !== undefined) {\n",
       "      const bk_div = document.createElement(\"div\");\n",
       "      bk_div.innerHTML = output.data[HTML_MIME_TYPE];\n",
       "      const script_attrs = bk_div.children[0].attributes;\n",
       "      for (let i = 0; i < script_attrs.length; i++) {\n",
       "        toinsert[toinsert.length - 1].firstChild.setAttribute(script_attrs[i].name, script_attrs[i].value);\n",
       "        toinsert[toinsert.length - 1].firstChild.textContent = bk_div.children[0].textContent\n",
       "      }\n",
       "      // store reference to server id on output_area\n",
       "      output_area._bokeh_server_id = output.metadata[EXEC_MIME_TYPE][\"server_id\"];\n",
       "    }\n",
       "  }\n",
       "\n",
       "  function register_renderer(events, OutputArea) {\n",
       "\n",
       "    function append_mime(data, metadata, element) {\n",
       "      // create a DOM node to render to\n",
       "      const toinsert = this.create_output_subarea(\n",
       "        metadata,\n",
       "        CLASS_NAME,\n",
       "        EXEC_MIME_TYPE\n",
       "      );\n",
       "      this.keyboard_manager.register_events(toinsert);\n",
       "      // Render to node\n",
       "      const props = {data: data, metadata: metadata[EXEC_MIME_TYPE]};\n",
       "      render(props, toinsert[toinsert.length - 1]);\n",
       "      element.append(toinsert);\n",
       "      return toinsert\n",
       "    }\n",
       "\n",
       "    /* Handle when an output is cleared or removed */\n",
       "    events.on('clear_output.CodeCell', handleClearOutput);\n",
       "    events.on('delete.Cell', handleClearOutput);\n",
       "\n",
       "    /* Handle when a new output is added */\n",
       "    events.on('output_added.OutputArea', handleAddOutput);\n",
       "\n",
       "    /**\n",
       "     * Register the mime type and append_mime function with output_area\n",
       "     */\n",
       "    OutputArea.prototype.register_mime_type(EXEC_MIME_TYPE, append_mime, {\n",
       "      /* Is output safe? */\n",
       "      safe: true,\n",
       "      /* Index of renderer in `output_area.display_order` */\n",
       "      index: 0\n",
       "    });\n",
       "  }\n",
       "\n",
       "  // register the mime type if in Jupyter Notebook environment and previously unregistered\n",
       "  if (root.Jupyter !== undefined) {\n",
       "    const events = require('base/js/events');\n",
       "    const OutputArea = require('notebook/js/outputarea').OutputArea;\n",
       "\n",
       "    if (OutputArea.prototype.mime_types().indexOf(EXEC_MIME_TYPE) == -1) {\n",
       "      register_renderer(events, OutputArea);\n",
       "    }\n",
       "  }\n",
       "\n",
       "  \n",
       "  if (typeof (root._bokeh_timeout) === \"undefined\" || force === true) {\n",
       "    root._bokeh_timeout = Date.now() + 5000;\n",
       "    root._bokeh_failed_load = false;\n",
       "  }\n",
       "\n",
       "  const NB_LOAD_WARNING = {'data': {'text/html':\n",
       "     \"<div style='background-color: #fdd'>\\n\"+\n",
       "     \"<p>\\n\"+\n",
       "     \"BokehJS does not appear to have successfully loaded. If loading BokehJS from CDN, this \\n\"+\n",
       "     \"may be due to a slow or bad network connection. Possible fixes:\\n\"+\n",
       "     \"</p>\\n\"+\n",
       "     \"<ul>\\n\"+\n",
       "     \"<li>re-rerun `output_notebook()` to attempt to load from CDN again, or</li>\\n\"+\n",
       "     \"<li>use INLINE resources instead, as so:</li>\\n\"+\n",
       "     \"</ul>\\n\"+\n",
       "     \"<code>\\n\"+\n",
       "     \"from bokeh.resources import INLINE\\n\"+\n",
       "     \"output_notebook(resources=INLINE)\\n\"+\n",
       "     \"</code>\\n\"+\n",
       "     \"</div>\"}};\n",
       "\n",
       "  function display_loaded() {\n",
       "    const el = document.getElementById(\"1556\");\n",
       "    if (el != null) {\n",
       "      el.textContent = \"BokehJS is loading...\";\n",
       "    }\n",
       "    if (root.Bokeh !== undefined) {\n",
       "      if (el != null) {\n",
       "        el.textContent = \"BokehJS \" + root.Bokeh.version + \" successfully loaded.\";\n",
       "      }\n",
       "    } else if (Date.now() < root._bokeh_timeout) {\n",
       "      setTimeout(display_loaded, 100)\n",
       "    }\n",
       "  }\n",
       "\n",
       "\n",
       "  function run_callbacks() {\n",
       "    try {\n",
       "      root._bokeh_onload_callbacks.forEach(function(callback) {\n",
       "        if (callback != null)\n",
       "          callback();\n",
       "      });\n",
       "    } finally {\n",
       "      delete root._bokeh_onload_callbacks\n",
       "    }\n",
       "    console.debug(\"Bokeh: all callbacks have finished\");\n",
       "  }\n",
       "\n",
       "  function load_libs(css_urls, js_urls, callback) {\n",
       "    if (css_urls == null) css_urls = [];\n",
       "    if (js_urls == null) js_urls = [];\n",
       "\n",
       "    root._bokeh_onload_callbacks.push(callback);\n",
       "    if (root._bokeh_is_loading > 0) {\n",
       "      console.debug(\"Bokeh: BokehJS is being loaded, scheduling callback at\", now());\n",
       "      return null;\n",
       "    }\n",
       "    if (js_urls == null || js_urls.length === 0) {\n",
       "      run_callbacks();\n",
       "      return null;\n",
       "    }\n",
       "    console.debug(\"Bokeh: BokehJS not loaded, scheduling load and callback at\", now());\n",
       "    root._bokeh_is_loading = css_urls.length + js_urls.length;\n",
       "\n",
       "    function on_load() {\n",
       "      root._bokeh_is_loading--;\n",
       "      if (root._bokeh_is_loading === 0) {\n",
       "        console.debug(\"Bokeh: all BokehJS libraries/stylesheets loaded\");\n",
       "        run_callbacks()\n",
       "      }\n",
       "    }\n",
       "\n",
       "    function on_error(url) {\n",
       "      console.error(\"failed to load \" + url);\n",
       "    }\n",
       "\n",
       "    for (let i = 0; i < css_urls.length; i++) {\n",
       "      const url = css_urls[i];\n",
       "      const element = document.createElement(\"link\");\n",
       "      element.onload = on_load;\n",
       "      element.onerror = on_error.bind(null, url);\n",
       "      element.rel = \"stylesheet\";\n",
       "      element.type = \"text/css\";\n",
       "      element.href = url;\n",
       "      console.debug(\"Bokeh: injecting link tag for BokehJS stylesheet: \", url);\n",
       "      document.body.appendChild(element);\n",
       "    }\n",
       "\n",
       "    for (let i = 0; i < js_urls.length; i++) {\n",
       "      const url = js_urls[i];\n",
       "      const element = document.createElement('script');\n",
       "      element.onload = on_load;\n",
       "      element.onerror = on_error.bind(null, url);\n",
       "      element.async = false;\n",
       "      element.src = url;\n",
       "      console.debug(\"Bokeh: injecting script tag for BokehJS library: \", url);\n",
       "      document.head.appendChild(element);\n",
       "    }\n",
       "  };\n",
       "\n",
       "  function inject_raw_css(css) {\n",
       "    const element = document.createElement(\"style\");\n",
       "    element.appendChild(document.createTextNode(css));\n",
       "    document.body.appendChild(element);\n",
       "  }\n",
       "\n",
       "  \n",
       "  const js_urls = [\"https://cdn.bokeh.org/bokeh/release/bokeh-2.4.2.min.js\", \"https://cdn.bokeh.org/bokeh/release/bokeh-gl-2.4.2.min.js\", \"https://cdn.bokeh.org/bokeh/release/bokeh-widgets-2.4.2.min.js\", \"https://cdn.bokeh.org/bokeh/release/bokeh-tables-2.4.2.min.js\", \"https://cdn.bokeh.org/bokeh/release/bokeh-mathjax-2.4.2.min.js\"];\n",
       "  const css_urls = [];\n",
       "  \n",
       "\n",
       "  const inline_js = [\n",
       "    function(Bokeh) {\n",
       "      Bokeh.set_log_level(\"info\");\n",
       "    },\n",
       "    function(Bokeh) {\n",
       "    \n",
       "    \n",
       "    }\n",
       "  ];\n",
       "\n",
       "  function run_inline_js() {\n",
       "    \n",
       "    if (root.Bokeh !== undefined || force === true) {\n",
       "      \n",
       "    for (let i = 0; i < inline_js.length; i++) {\n",
       "      inline_js[i].call(root, root.Bokeh);\n",
       "    }\n",
       "    if (force === true) {\n",
       "        display_loaded();\n",
       "      }} else if (Date.now() < root._bokeh_timeout) {\n",
       "      setTimeout(run_inline_js, 100);\n",
       "    } else if (!root._bokeh_failed_load) {\n",
       "      console.log(\"Bokeh: BokehJS failed to load within specified timeout.\");\n",
       "      root._bokeh_failed_load = true;\n",
       "    } else if (force !== true) {\n",
       "      const cell = $(document.getElementById(\"1556\")).parents('.cell').data().cell;\n",
       "      cell.output_area.append_execute_result(NB_LOAD_WARNING)\n",
       "    }\n",
       "\n",
       "  }\n",
       "\n",
       "  if (root._bokeh_is_loading === 0) {\n",
       "    console.debug(\"Bokeh: BokehJS loaded, going straight to plotting\");\n",
       "    run_inline_js();\n",
       "  } else {\n",
       "    load_libs(css_urls, js_urls, function() {\n",
       "      console.debug(\"Bokeh: BokehJS plotting callback run at\", now());\n",
       "      run_inline_js();\n",
       "    });\n",
       "  }\n",
       "}(window));"
      ],
      "application/vnd.bokehjs_load.v0+json": "\n(function(root) {\n  function now() {\n    return new Date();\n  }\n\n  const force = true;\n\n  if (typeof root._bokeh_onload_callbacks === \"undefined\" || force === true) {\n    root._bokeh_onload_callbacks = [];\n    root._bokeh_is_loading = undefined;\n  }\n\n  \n\n  \n  if (typeof (root._bokeh_timeout) === \"undefined\" || force === true) {\n    root._bokeh_timeout = Date.now() + 5000;\n    root._bokeh_failed_load = false;\n  }\n\n  const NB_LOAD_WARNING = {'data': {'text/html':\n     \"<div style='background-color: #fdd'>\\n\"+\n     \"<p>\\n\"+\n     \"BokehJS does not appear to have successfully loaded. If loading BokehJS from CDN, this \\n\"+\n     \"may be due to a slow or bad network connection. Possible fixes:\\n\"+\n     \"</p>\\n\"+\n     \"<ul>\\n\"+\n     \"<li>re-rerun `output_notebook()` to attempt to load from CDN again, or</li>\\n\"+\n     \"<li>use INLINE resources instead, as so:</li>\\n\"+\n     \"</ul>\\n\"+\n     \"<code>\\n\"+\n     \"from bokeh.resources import INLINE\\n\"+\n     \"output_notebook(resources=INLINE)\\n\"+\n     \"</code>\\n\"+\n     \"</div>\"}};\n\n  function display_loaded() {\n    const el = document.getElementById(\"1556\");\n    if (el != null) {\n      el.textContent = \"BokehJS is loading...\";\n    }\n    if (root.Bokeh !== undefined) {\n      if (el != null) {\n        el.textContent = \"BokehJS \" + root.Bokeh.version + \" successfully loaded.\";\n      }\n    } else if (Date.now() < root._bokeh_timeout) {\n      setTimeout(display_loaded, 100)\n    }\n  }\n\n\n  function run_callbacks() {\n    try {\n      root._bokeh_onload_callbacks.forEach(function(callback) {\n        if (callback != null)\n          callback();\n      });\n    } finally {\n      delete root._bokeh_onload_callbacks\n    }\n    console.debug(\"Bokeh: all callbacks have finished\");\n  }\n\n  function load_libs(css_urls, js_urls, callback) {\n    if (css_urls == null) css_urls = [];\n    if (js_urls == null) js_urls = [];\n\n    root._bokeh_onload_callbacks.push(callback);\n    if (root._bokeh_is_loading > 0) {\n      console.debug(\"Bokeh: BokehJS is being loaded, scheduling callback at\", now());\n      return null;\n    }\n    if (js_urls == null || js_urls.length === 0) {\n      run_callbacks();\n      return null;\n    }\n    console.debug(\"Bokeh: BokehJS not loaded, scheduling load and callback at\", now());\n    root._bokeh_is_loading = css_urls.length + js_urls.length;\n\n    function on_load() {\n      root._bokeh_is_loading--;\n      if (root._bokeh_is_loading === 0) {\n        console.debug(\"Bokeh: all BokehJS libraries/stylesheets loaded\");\n        run_callbacks()\n      }\n    }\n\n    function on_error(url) {\n      console.error(\"failed to load \" + url);\n    }\n\n    for (let i = 0; i < css_urls.length; i++) {\n      const url = css_urls[i];\n      const element = document.createElement(\"link\");\n      element.onload = on_load;\n      element.onerror = on_error.bind(null, url);\n      element.rel = \"stylesheet\";\n      element.type = \"text/css\";\n      element.href = url;\n      console.debug(\"Bokeh: injecting link tag for BokehJS stylesheet: \", url);\n      document.body.appendChild(element);\n    }\n\n    for (let i = 0; i < js_urls.length; i++) {\n      const url = js_urls[i];\n      const element = document.createElement('script');\n      element.onload = on_load;\n      element.onerror = on_error.bind(null, url);\n      element.async = false;\n      element.src = url;\n      console.debug(\"Bokeh: injecting script tag for BokehJS library: \", url);\n      document.head.appendChild(element);\n    }\n  };\n\n  function inject_raw_css(css) {\n    const element = document.createElement(\"style\");\n    element.appendChild(document.createTextNode(css));\n    document.body.appendChild(element);\n  }\n\n  \n  const js_urls = [\"https://cdn.bokeh.org/bokeh/release/bokeh-2.4.2.min.js\", \"https://cdn.bokeh.org/bokeh/release/bokeh-gl-2.4.2.min.js\", \"https://cdn.bokeh.org/bokeh/release/bokeh-widgets-2.4.2.min.js\", \"https://cdn.bokeh.org/bokeh/release/bokeh-tables-2.4.2.min.js\", \"https://cdn.bokeh.org/bokeh/release/bokeh-mathjax-2.4.2.min.js\"];\n  const css_urls = [];\n  \n\n  const inline_js = [\n    function(Bokeh) {\n      Bokeh.set_log_level(\"info\");\n    },\n    function(Bokeh) {\n    \n    \n    }\n  ];\n\n  function run_inline_js() {\n    \n    if (root.Bokeh !== undefined || force === true) {\n      \n    for (let i = 0; i < inline_js.length; i++) {\n      inline_js[i].call(root, root.Bokeh);\n    }\n    if (force === true) {\n        display_loaded();\n      }} else if (Date.now() < root._bokeh_timeout) {\n      setTimeout(run_inline_js, 100);\n    } else if (!root._bokeh_failed_load) {\n      console.log(\"Bokeh: BokehJS failed to load within specified timeout.\");\n      root._bokeh_failed_load = true;\n    } else if (force !== true) {\n      const cell = $(document.getElementById(\"1556\")).parents('.cell').data().cell;\n      cell.output_area.append_execute_result(NB_LOAD_WARNING)\n    }\n\n  }\n\n  if (root._bokeh_is_loading === 0) {\n    console.debug(\"Bokeh: BokehJS loaded, going straight to plotting\");\n    run_inline_js();\n  } else {\n    load_libs(css_urls, js_urls, function() {\n      console.debug(\"Bokeh: BokehJS plotting callback run at\", now());\n      run_inline_js();\n    });\n  }\n}(window));"
     },
     "metadata": {},
     "output_type": "display_data"
    },
    {
     "data": {
      "text/html": [
       "\n",
       "\n",
       "\n",
       "\n",
       "\n",
       "\n",
       "  <div class=\"bk-root\" id=\"7c73c19a-5bde-4de0-8f5c-33d9fefbcd9b\" data-root-id=\"1555\"></div>\n"
      ]
     },
     "metadata": {},
     "output_type": "display_data"
    },
    {
     "data": {
      "application/javascript": [
       "(function(root) {\n",
       "  function embed_document(root) {\n",
       "    \n",
       "  const docs_json = {\"c90a58db-48ca-4df1-92af-f06fe9341699\":{\"defs\":[],\"roots\":{\"references\":[{\"attributes\":{\"children\":[{\"id\":\"1435\"}]},\"id\":\"1555\",\"type\":\"Column\"},{\"attributes\":{\"coordinates\":null,\"data_source\":{\"id\":\"1471\"},\"glyph\":{\"id\":\"1473\"},\"group\":null,\"hover_glyph\":null,\"muted_glyph\":{\"id\":\"1475\"},\"nonselection_glyph\":{\"id\":\"1474\"},\"view\":{\"id\":\"1477\"}},\"id\":\"1476\",\"type\":\"GlyphRenderer\"},{\"attributes\":{\"interval\":1},\"id\":\"1547\",\"type\":\"SingleIntervalTicker\"},{\"attributes\":{\"coordinates\":null,\"fill_alpha\":0.05,\"fill_color\":\"gray\",\"group\":null,\"left\":6.0,\"level\":\"underlay\",\"line_alpha\":0.5,\"line_color\":\"black\",\"line_width\":2,\"right\":8.0},\"id\":\"1525\",\"type\":\"BoxAnnotation\"},{\"attributes\":{\"coordinates\":null,\"fill_alpha\":0.25,\"fill_color\":\"gray\",\"group\":null,\"left\":0.0,\"level\":\"underlay\",\"line_alpha\":0.5,\"line_color\":\"black\",\"line_width\":2,\"right\":2.0},\"id\":\"1522\",\"type\":\"BoxAnnotation\"},{\"attributes\":{\"bottom\":57,\"coordinates\":null,\"fill_alpha\":0.0,\"fill_color\":\"gray\",\"group\":null,\"level\":\"underlay\",\"line_color\":\"black\",\"top\":58},\"id\":\"1496\",\"type\":\"BoxAnnotation\"},{\"attributes\":{\"coordinates\":null,\"group\":null,\"render_mode\":\"css\",\"text\":\"56\",\"text_font_size\":\"10px\",\"x\":-18,\"x_units\":\"screen\",\"y\":56.1},\"id\":\"1495\",\"type\":\"Label\"},{\"attributes\":{\"bottom\":56,\"coordinates\":null,\"fill_alpha\":0.15,\"fill_color\":\"gray\",\"group\":null,\"level\":\"underlay\",\"line_color\":\"black\",\"top\":57},\"id\":\"1494\",\"type\":\"BoxAnnotation\"},{\"attributes\":{\"coordinates\":null,\"group\":null,\"render_mode\":\"css\",\"text\":\"55\",\"text_font_size\":\"10px\",\"x\":-18,\"x_units\":\"screen\",\"y\":55.1},\"id\":\"1493\",\"type\":\"Label\"},{\"attributes\":{\"bottom\":59,\"coordinates\":null,\"fill_alpha\":0.0,\"fill_color\":\"gray\",\"group\":null,\"level\":\"underlay\",\"line_color\":\"black\",\"top\":60},\"id\":\"1500\",\"type\":\"BoxAnnotation\"},{\"attributes\":{\"coordinates\":null,\"group\":null,\"render_mode\":\"css\",\"text\":\"58\",\"text_font_size\":\"10px\",\"x\":-18,\"x_units\":\"screen\",\"y\":58.1},\"id\":\"1499\",\"type\":\"Label\"},{\"attributes\":{\"bottom\":58,\"coordinates\":null,\"fill_alpha\":0.15,\"fill_color\":\"gray\",\"group\":null,\"level\":\"underlay\",\"line_color\":\"black\",\"top\":59},\"id\":\"1498\",\"type\":\"BoxAnnotation\"},{\"attributes\":{\"coordinates\":null,\"group\":null,\"render_mode\":\"css\",\"text\":\"57\",\"text_font_size\":\"10px\",\"x\":-18,\"x_units\":\"screen\",\"y\":57.1},\"id\":\"1497\",\"type\":\"Label\"},{\"attributes\":{\"bottom\":61,\"coordinates\":null,\"fill_alpha\":0.0,\"fill_color\":\"gray\",\"group\":null,\"level\":\"underlay\",\"line_color\":\"black\",\"top\":62},\"id\":\"1504\",\"type\":\"BoxAnnotation\"},{\"attributes\":{\"coordinates\":null,\"group\":null,\"render_mode\":\"css\",\"text\":\"60\",\"text_font_size\":\"10px\",\"x\":-18,\"x_units\":\"screen\",\"y\":60.1},\"id\":\"1503\",\"type\":\"Label\"},{\"attributes\":{\"bottom\":60,\"coordinates\":null,\"fill_alpha\":0.15,\"fill_color\":\"gray\",\"group\":null,\"level\":\"underlay\",\"line_color\":\"black\",\"top\":61},\"id\":\"1502\",\"type\":\"BoxAnnotation\"},{\"attributes\":{\"coordinates\":null,\"group\":null,\"render_mode\":\"css\",\"text\":\"59\",\"text_font_size\":\"10px\",\"x\":-18,\"x_units\":\"screen\",\"y\":59.1},\"id\":\"1501\",\"type\":\"Label\"},{\"attributes\":{\"tools\":[{\"id\":\"1452\"},{\"id\":\"1453\"},{\"id\":\"1454\"},{\"id\":\"1455\"},{\"id\":\"1456\"}]},\"id\":\"1457\",\"type\":\"Toolbar\"},{\"attributes\":{\"coordinates\":null,\"group\":null,\"render_mode\":\"css\",\"text\":\"62\",\"text_font_size\":\"10px\",\"x\":-18,\"x_units\":\"screen\",\"y\":62.1},\"id\":\"1507\",\"type\":\"Label\"},{\"attributes\":{\"bottom\":64,\"coordinates\":null,\"fill_alpha\":0.15,\"fill_color\":\"gray\",\"group\":null,\"level\":\"underlay\",\"line_color\":\"black\",\"top\":65},\"id\":\"1510\",\"type\":\"BoxAnnotation\"},{\"attributes\":{},\"id\":\"1467\",\"type\":\"AllLabels\"},{\"attributes\":{\"bottom\":62,\"coordinates\":null,\"fill_alpha\":0.15,\"fill_color\":\"gray\",\"group\":null,\"level\":\"underlay\",\"line_color\":\"black\",\"top\":63},\"id\":\"1506\",\"type\":\"BoxAnnotation\"},{\"attributes\":{\"coordinates\":null,\"group\":null,\"render_mode\":\"css\",\"text\":\"61\",\"text_font_size\":\"10px\",\"x\":-18,\"x_units\":\"screen\",\"y\":61.1},\"id\":\"1505\",\"type\":\"Label\"},{\"attributes\":{\"coordinates\":null,\"group\":null,\"render_mode\":\"css\",\"text\":\"64\",\"text_font_size\":\"10px\",\"x\":-18,\"x_units\":\"screen\",\"y\":64.1},\"id\":\"1511\",\"type\":\"Label\"},{\"attributes\":{\"bottom\":66,\"coordinates\":null,\"fill_alpha\":0.15,\"fill_color\":\"gray\",\"group\":null,\"level\":\"underlay\",\"line_color\":\"black\",\"top\":67},\"id\":\"1514\",\"type\":\"BoxAnnotation\"},{\"attributes\":{\"coordinates\":null,\"group\":null,\"render_mode\":\"css\",\"text\":\"63\",\"text_font_size\":\"10px\",\"x\":-18,\"x_units\":\"screen\",\"y\":63.1},\"id\":\"1509\",\"type\":\"Label\"},{\"attributes\":{\"bottom\":65,\"coordinates\":null,\"fill_alpha\":0.0,\"fill_color\":\"gray\",\"group\":null,\"level\":\"underlay\",\"line_color\":\"black\",\"top\":66},\"id\":\"1512\",\"type\":\"BoxAnnotation\"},{\"attributes\":{\"coordinates\":null,\"group\":null,\"render_mode\":\"css\",\"text\":\"66\",\"text_font_size\":\"10px\",\"x\":-18,\"x_units\":\"screen\",\"y\":66.1},\"id\":\"1515\",\"type\":\"Label\"},{\"attributes\":{\"bottom\":68,\"coordinates\":null,\"fill_alpha\":0.15,\"fill_color\":\"gray\",\"group\":null,\"level\":\"underlay\",\"line_color\":\"black\",\"top\":69},\"id\":\"1518\",\"type\":\"BoxAnnotation\"},{\"attributes\":{\"coordinates\":null,\"group\":null,\"render_mode\":\"css\",\"text\":\"65\",\"text_font_size\":\"10px\",\"x\":-18,\"x_units\":\"screen\",\"y\":65.1},\"id\":\"1513\",\"type\":\"Label\"},{\"attributes\":{\"bottom\":67,\"coordinates\":null,\"fill_alpha\":0.0,\"fill_color\":\"gray\",\"group\":null,\"level\":\"underlay\",\"line_color\":\"black\",\"top\":68},\"id\":\"1516\",\"type\":\"BoxAnnotation\"},{\"attributes\":{\"coordinates\":null,\"group\":null,\"render_mode\":\"css\",\"text\":\"68\",\"text_font_size\":\"10px\",\"x\":-18,\"x_units\":\"screen\",\"y\":68.1},\"id\":\"1519\",\"type\":\"Label\"},{\"attributes\":{\"coordinates\":null,\"group\":null,\"render_mode\":\"css\",\"text\":\"67\",\"text_font_size\":\"10px\",\"x\":-18,\"x_units\":\"screen\",\"y\":67.1},\"id\":\"1517\",\"type\":\"Label\"},{\"attributes\":{\"bottom\":69,\"coordinates\":null,\"fill_alpha\":0.0,\"fill_color\":\"gray\",\"group\":null,\"level\":\"underlay\",\"line_color\":\"black\",\"top\":70},\"id\":\"1520\",\"type\":\"BoxAnnotation\"},{\"attributes\":{\"coordinates\":null,\"fill_alpha\":0.25,\"fill_color\":\"gray\",\"group\":null,\"left\":4.0,\"level\":\"underlay\",\"line_alpha\":0.5,\"line_color\":\"black\",\"line_width\":2,\"right\":6.0},\"id\":\"1524\",\"type\":\"BoxAnnotation\"},{\"attributes\":{\"coordinates\":null,\"fill_alpha\":0.25,\"fill_color\":\"gray\",\"group\":null,\"left\":8.0,\"level\":\"underlay\",\"line_alpha\":0.5,\"line_color\":\"black\",\"line_width\":2,\"right\":10.0},\"id\":\"1526\",\"type\":\"BoxAnnotation\"},{\"attributes\":{\"coordinates\":null,\"group\":null,\"render_mode\":\"css\",\"text\":\"69\",\"text_font_size\":\"10px\",\"x\":-18,\"x_units\":\"screen\",\"y\":69.1},\"id\":\"1521\",\"type\":\"Label\"},{\"attributes\":{\"coordinates\":null,\"fill_color\":null,\"group\":null,\"left\":2.5,\"level\":\"underlay\",\"line_alpha\":0.4,\"line_color\":\"black\",\"right\":3.0},\"id\":\"1532\",\"type\":\"BoxAnnotation\"},{\"attributes\":{\"coordinates\":null,\"fill_color\":null,\"group\":null,\"left\":0.5,\"level\":\"underlay\",\"line_alpha\":0.4,\"line_color\":\"black\",\"right\":1.0},\"id\":\"1528\",\"type\":\"BoxAnnotation\"},{\"attributes\":{\"coordinates\":null,\"fill_color\":null,\"group\":null,\"left\":1.0,\"level\":\"underlay\",\"line_alpha\":0.4,\"line_color\":\"black\",\"right\":1.5},\"id\":\"1529\",\"type\":\"BoxAnnotation\"},{\"attributes\":{\"coordinates\":null,\"fill_color\":null,\"group\":null,\"left\":1.5,\"level\":\"underlay\",\"line_alpha\":0.4,\"line_color\":\"black\",\"right\":2.0},\"id\":\"1530\",\"type\":\"BoxAnnotation\"},{\"attributes\":{\"coordinates\":null,\"fill_alpha\":0.05,\"fill_color\":\"gray\",\"group\":null,\"left\":2.0,\"level\":\"underlay\",\"line_alpha\":0.5,\"line_color\":\"black\",\"line_width\":2,\"right\":4.0},\"id\":\"1523\",\"type\":\"BoxAnnotation\"},{\"attributes\":{\"coordinates\":null,\"fill_color\":null,\"group\":null,\"left\":3.0,\"level\":\"underlay\",\"line_alpha\":0.4,\"line_color\":\"black\",\"right\":3.5},\"id\":\"1533\",\"type\":\"BoxAnnotation\"},{\"attributes\":{\"coordinates\":null,\"fill_color\":null,\"group\":null,\"left\":3.5,\"level\":\"underlay\",\"line_alpha\":0.4,\"line_color\":\"black\",\"right\":4.0},\"id\":\"1534\",\"type\":\"BoxAnnotation\"},{\"attributes\":{\"coordinates\":null,\"fill_color\":null,\"group\":null,\"left\":0.0,\"level\":\"underlay\",\"line_alpha\":0.4,\"line_color\":\"black\",\"right\":0.5},\"id\":\"1527\",\"type\":\"BoxAnnotation\"},{\"attributes\":{\"coordinates\":null,\"fill_color\":null,\"group\":null,\"left\":2.0,\"level\":\"underlay\",\"line_alpha\":0.4,\"line_color\":\"black\",\"right\":2.5},\"id\":\"1531\",\"type\":\"BoxAnnotation\"},{\"attributes\":{},\"id\":\"1466\",\"type\":\"BasicTickFormatter\"},{\"attributes\":{\"coordinates\":null,\"fill_color\":null,\"group\":null,\"left\":5.0,\"level\":\"underlay\",\"line_alpha\":0.4,\"line_color\":\"black\",\"right\":5.5},\"id\":\"1537\",\"type\":\"BoxAnnotation\"},{\"attributes\":{\"coordinates\":null,\"fill_color\":null,\"group\":null,\"left\":5.5,\"level\":\"underlay\",\"line_alpha\":0.4,\"line_color\":\"black\",\"right\":6.0},\"id\":\"1538\",\"type\":\"BoxAnnotation\"},{\"attributes\":{\"coordinates\":null,\"fill_color\":null,\"group\":null,\"left\":4.0,\"level\":\"underlay\",\"line_alpha\":0.4,\"line_color\":\"black\",\"right\":4.5},\"id\":\"1535\",\"type\":\"BoxAnnotation\"},{\"attributes\":{\"coordinates\":null,\"fill_color\":null,\"group\":null,\"left\":4.5,\"level\":\"underlay\",\"line_alpha\":0.4,\"line_color\":\"black\",\"right\":5.0},\"id\":\"1536\",\"type\":\"BoxAnnotation\"},{\"attributes\":{\"coordinates\":null,\"fill_color\":null,\"group\":null,\"left\":7.0,\"level\":\"underlay\",\"line_alpha\":0.4,\"line_color\":\"black\",\"right\":7.5},\"id\":\"1541\",\"type\":\"BoxAnnotation\"},{\"attributes\":{\"coordinates\":null,\"fill_color\":null,\"group\":null,\"left\":7.5,\"level\":\"underlay\",\"line_alpha\":0.4,\"line_color\":\"black\",\"right\":8.0},\"id\":\"1542\",\"type\":\"BoxAnnotation\"},{\"attributes\":{\"coordinates\":null,\"fill_color\":null,\"group\":null,\"left\":6.0,\"level\":\"underlay\",\"line_alpha\":0.4,\"line_color\":\"black\",\"right\":6.5},\"id\":\"1539\",\"type\":\"BoxAnnotation\"},{\"attributes\":{\"coordinates\":null,\"fill_color\":null,\"group\":null,\"left\":6.5,\"level\":\"underlay\",\"line_alpha\":0.4,\"line_color\":\"black\",\"right\":7.0},\"id\":\"1540\",\"type\":\"BoxAnnotation\"},{\"attributes\":{\"coordinates\":null,\"fill_color\":null,\"group\":null,\"left\":9.0,\"level\":\"underlay\",\"line_alpha\":0.4,\"line_color\":\"black\",\"right\":9.5},\"id\":\"1545\",\"type\":\"BoxAnnotation\"},{\"attributes\":{},\"id\":\"1469\",\"type\":\"BasicTickFormatter\"},{\"attributes\":{\"coordinates\":null,\"fill_color\":null,\"group\":null,\"left\":9.5,\"level\":\"underlay\",\"line_alpha\":0.4,\"line_color\":\"black\",\"right\":10.0},\"id\":\"1546\",\"type\":\"BoxAnnotation\"},{\"attributes\":{\"coordinates\":null,\"fill_color\":null,\"group\":null,\"left\":8.0,\"level\":\"underlay\",\"line_alpha\":0.4,\"line_color\":\"black\",\"right\":8.5},\"id\":\"1543\",\"type\":\"BoxAnnotation\"},{\"attributes\":{\"coordinates\":null,\"fill_color\":null,\"group\":null,\"left\":8.5,\"level\":\"underlay\",\"line_alpha\":0.4,\"line_color\":\"black\",\"right\":9.0},\"id\":\"1544\",\"type\":\"BoxAnnotation\"},{\"attributes\":{\"coordinates\":null,\"group\":null,\"text\":\"Visual MIDI (120 QPM, 4/4)\",\"text_font_size\":\"14px\"},\"id\":\"1551\",\"type\":\"Title\"},{\"attributes\":{\"end\":10.0},\"id\":\"1553\",\"type\":\"Range1d\"},{\"attributes\":{},\"id\":\"1470\",\"type\":\"AllLabels\"},{\"attributes\":{\"interval\":1},\"id\":\"1549\",\"type\":\"SingleIntervalTicker\"},{\"attributes\":{\"bottom\":55,\"coordinates\":null,\"fill_alpha\":0.0,\"fill_color\":\"gray\",\"group\":null,\"level\":\"underlay\",\"line_color\":\"black\",\"top\":56},\"id\":\"1492\",\"type\":\"BoxAnnotation\"},{\"attributes\":{\"bottom\":63,\"coordinates\":null,\"fill_alpha\":0.0,\"fill_color\":\"gray\",\"group\":null,\"level\":\"underlay\",\"line_color\":\"black\",\"top\":64},\"id\":\"1508\",\"type\":\"BoxAnnotation\"},{\"attributes\":{\"below\":[{\"id\":\"1444\"}],\"center\":[{\"id\":\"1447\"},{\"id\":\"1451\"},{\"id\":\"1478\"},{\"id\":\"1479\"},{\"id\":\"1480\"},{\"id\":\"1481\"},{\"id\":\"1482\"},{\"id\":\"1483\"},{\"id\":\"1484\"},{\"id\":\"1485\"},{\"id\":\"1486\"},{\"id\":\"1487\"},{\"id\":\"1488\"},{\"id\":\"1489\"},{\"id\":\"1490\"},{\"id\":\"1491\"},{\"id\":\"1492\"},{\"id\":\"1493\"},{\"id\":\"1494\"},{\"id\":\"1495\"},{\"id\":\"1496\"},{\"id\":\"1497\"},{\"id\":\"1498\"},{\"id\":\"1499\"},{\"id\":\"1500\"},{\"id\":\"1501\"},{\"id\":\"1502\"},{\"id\":\"1503\"},{\"id\":\"1504\"},{\"id\":\"1505\"},{\"id\":\"1506\"},{\"id\":\"1507\"},{\"id\":\"1508\"},{\"id\":\"1509\"},{\"id\":\"1510\"},{\"id\":\"1511\"},{\"id\":\"1512\"},{\"id\":\"1513\"},{\"id\":\"1514\"},{\"id\":\"1515\"},{\"id\":\"1516\"},{\"id\":\"1517\"},{\"id\":\"1518\"},{\"id\":\"1519\"},{\"id\":\"1520\"},{\"id\":\"1521\"},{\"id\":\"1522\"},{\"id\":\"1523\"},{\"id\":\"1524\"},{\"id\":\"1525\"},{\"id\":\"1526\"},{\"id\":\"1527\"},{\"id\":\"1528\"},{\"id\":\"1529\"},{\"id\":\"1530\"},{\"id\":\"1531\"},{\"id\":\"1532\"},{\"id\":\"1533\"},{\"id\":\"1534\"},{\"id\":\"1535\"},{\"id\":\"1536\"},{\"id\":\"1537\"},{\"id\":\"1538\"},{\"id\":\"1539\"},{\"id\":\"1540\"},{\"id\":\"1541\"},{\"id\":\"1542\"},{\"id\":\"1543\"},{\"id\":\"1544\"},{\"id\":\"1545\"},{\"id\":\"1546\"}],\"height\":400,\"left\":[{\"id\":\"1448\"}],\"min_border_right\":50,\"outline_line_color\":\"black\",\"renderers\":[{\"id\":\"1476\"}],\"title\":{\"id\":\"1551\"},\"toolbar\":{\"id\":\"1457\"},\"width\":1200,\"x_range\":{\"id\":\"1553\"},\"x_scale\":{\"id\":\"1440\"},\"y_range\":{\"id\":\"1554\"},\"y_scale\":{\"id\":\"1442\"}},\"id\":\"1435\",\"subtype\":\"Figure\",\"type\":\"Plot\"},{\"attributes\":{\"end\":70,\"start\":48},\"id\":\"1554\",\"type\":\"Range1d\"},{\"attributes\":{},\"id\":\"1583\",\"type\":\"UnionRenderers\"},{\"attributes\":{},\"id\":\"1584\",\"type\":\"Selection\"},{\"attributes\":{},\"id\":\"1442\",\"type\":\"LinearScale\"},{\"attributes\":{},\"id\":\"1440\",\"type\":\"LinearScale\"},{\"attributes\":{\"bottom\":{\"field\":\"bottom\"},\"fill_color\":{\"field\":\"color\"},\"hatch_color\":{\"field\":\"color\"},\"left\":{\"field\":\"left\"},\"right\":{\"field\":\"right\"},\"top\":{\"field\":\"top\"}},\"id\":\"1473\",\"type\":\"Quad\"},{\"attributes\":{\"axis\":{\"id\":\"1444\"},\"coordinates\":null,\"grid_line_color\":null,\"group\":null,\"ticker\":null},\"id\":\"1447\",\"type\":\"Grid\"},{\"attributes\":{\"axis_label\":\"time (SEC)\",\"axis_label_text_font_size\":\"12px\",\"bounds\":[0.0,10.0],\"coordinates\":null,\"formatter\":{\"id\":\"1469\"},\"group\":null,\"major_label_policy\":{\"id\":\"1470\"},\"major_label_text_font_size\":\"10px\",\"major_tick_line_alpha\":0.9,\"major_tick_out\":5,\"minor_tick_line_alpha\":0,\"ticker\":{\"id\":\"1547\"}},\"id\":\"1444\",\"type\":\"LinearAxis\"},{\"attributes\":{\"axis_label\":\"pitch (MIDI)\",\"axis_label_standoff\":0,\"axis_label_text_font_size\":\"12px\",\"bounds\":[48,70],\"coordinates\":null,\"formatter\":{\"id\":\"1466\"},\"group\":null,\"major_label_policy\":{\"id\":\"1467\"},\"major_label_text_alpha\":0,\"major_tick_line_alpha\":0.9,\"major_tick_out\":25,\"minor_tick_line_alpha\":0,\"ticker\":{\"id\":\"1549\"}},\"id\":\"1448\",\"type\":\"LinearAxis\"},{\"attributes\":{\"axis\":{\"id\":\"1448\"},\"coordinates\":null,\"dimension\":1,\"grid_line_color\":null,\"group\":null,\"ticker\":null},\"id\":\"1451\",\"type\":\"Grid\"},{\"attributes\":{},\"id\":\"1454\",\"type\":\"SaveTool\"},{\"attributes\":{\"callback\":null,\"tooltips\":[[\"program\",\"@program\"],[\"pitch\",\"@top\"],[\"velocity\",\"@velocity\"],[\"duration\",\"@duration\"],[\"start_time\",\"@left\"],[\"end_time\",\"@right\"]]},\"id\":\"1453\",\"type\":\"HoverTool\"},{\"attributes\":{\"data\":{\"bottom\":[66,61,64,68,59,63,66,70,56,61,64,68,49,59,62,66,61,54,66,68],\"color\":[\"rgb(255, 51, 255)\",\"rgb(255, 51, 255)\",\"rgb(255, 51, 255)\",\"rgb(255, 51, 255)\",\"rgb(255, 51, 255)\",\"rgb(255, 51, 255)\",\"rgb(255, 51, 255)\",\"rgb(255, 51, 255)\",\"rgb(255, 51, 255)\",\"rgb(255, 51, 255)\",\"rgb(255, 51, 255)\",\"rgb(255, 51, 255)\",\"rgb(255, 51, 255)\",\"rgb(255, 51, 255)\",\"rgb(255, 51, 255)\",\"rgb(255, 51, 255)\",\"rgb(255, 51, 255)\",\"rgb(255, 51, 255)\",\"rgb(255, 51, 255)\",\"rgb(255, 51, 255)\"],\"duration\":[0.1,2.0,2.0,2.0,1.6800000000000002,2.0,2.0,2.0,0.8199999999999994,2.0,2.0,2.0,0.7600000000000007,2.0,1.9800000000000004,2.0,0.6399999999999997,0.9199999999999999,0.1800000000000015,0.08000000000000007],\"left\":[0.0,0.0,0.0,0.0,0.48,2.0,2.0,2.0,4.78,4.0,4.0,4.0,6.68,6.0,6.02,6.0,7.72,8.36,9.28,9.74],\"program\":[0,0,0,0,0,0,0,0,0,0,0,0,0,0,0,0,0,0,0,0],\"right\":[0.1,2.0,2.0,2.0,2.16,4.0,4.0,4.0,5.6,6.0,6.0,6.0,7.44,8.0,8.0,8.0,8.36,9.28,9.46,9.82],\"top\":[65,60,63,67,58,62,65,69,55,60,63,67,48,58,61,65,60,53,65,67],\"velocity\":[105,100,100,100,101,100,100,100,78,100,100,100,89,100,100,100,86,86,86,83]},\"selected\":{\"id\":\"1584\"},\"selection_policy\":{\"id\":\"1583\"}},\"id\":\"1471\",\"type\":\"ColumnDataSource\"},{\"attributes\":{},\"id\":\"1455\",\"type\":\"WheelZoomTool\"},{\"attributes\":{},\"id\":\"1452\",\"type\":\"ResetTool\"},{\"attributes\":{},\"id\":\"1456\",\"type\":\"PanTool\"},{\"attributes\":{\"coordinates\":null,\"group\":null,\"render_mode\":\"css\",\"text\":\"51\",\"text_font_size\":\"10px\",\"x\":-18,\"x_units\":\"screen\",\"y\":51.1},\"id\":\"1485\",\"type\":\"Label\"},{\"attributes\":{\"coordinates\":null,\"group\":null,\"render_mode\":\"css\",\"text\":\"49\",\"text_font_size\":\"10px\",\"x\":-18,\"x_units\":\"screen\",\"y\":49.1},\"id\":\"1481\",\"type\":\"Label\"},{\"attributes\":{\"bottom\":53,\"coordinates\":null,\"fill_alpha\":0.0,\"fill_color\":\"gray\",\"group\":null,\"level\":\"underlay\",\"line_color\":\"black\",\"top\":54},\"id\":\"1488\",\"type\":\"BoxAnnotation\"},{\"attributes\":{\"bottom\":{\"field\":\"bottom\"},\"fill_alpha\":{\"value\":0.1},\"fill_color\":{\"field\":\"color\"},\"hatch_alpha\":{\"value\":0.1},\"hatch_color\":{\"field\":\"color\"},\"left\":{\"field\":\"left\"},\"line_alpha\":{\"value\":0.1},\"right\":{\"field\":\"right\"},\"top\":{\"field\":\"top\"}},\"id\":\"1474\",\"type\":\"Quad\"},{\"attributes\":{\"coordinates\":null,\"group\":null,\"render_mode\":\"css\",\"text\":\"50\",\"text_font_size\":\"10px\",\"x\":-18,\"x_units\":\"screen\",\"y\":50.1},\"id\":\"1483\",\"type\":\"Label\"},{\"attributes\":{\"coordinates\":null,\"group\":null,\"render_mode\":\"css\",\"text\":\"53\",\"text_font_size\":\"10px\",\"x\":-18,\"x_units\":\"screen\",\"y\":53.1},\"id\":\"1489\",\"type\":\"Label\"},{\"attributes\":{\"bottom\":49,\"coordinates\":null,\"fill_alpha\":0.0,\"fill_color\":\"gray\",\"group\":null,\"level\":\"underlay\",\"line_color\":\"black\",\"top\":50},\"id\":\"1480\",\"type\":\"BoxAnnotation\"},{\"attributes\":{\"coordinates\":null,\"group\":null,\"render_mode\":\"css\",\"text\":\"48\",\"text_font_size\":\"10px\",\"x\":-18,\"x_units\":\"screen\",\"y\":48.1},\"id\":\"1479\",\"type\":\"Label\"},{\"attributes\":{\"source\":{\"id\":\"1471\"}},\"id\":\"1477\",\"type\":\"CDSView\"},{\"attributes\":{\"bottom\":{\"field\":\"bottom\"},\"fill_alpha\":{\"value\":0.2},\"fill_color\":{\"field\":\"color\"},\"hatch_alpha\":{\"value\":0.2},\"hatch_color\":{\"field\":\"color\"},\"left\":{\"field\":\"left\"},\"line_alpha\":{\"value\":0.2},\"right\":{\"field\":\"right\"},\"top\":{\"field\":\"top\"}},\"id\":\"1475\",\"type\":\"Quad\"},{\"attributes\":{\"coordinates\":null,\"group\":null,\"render_mode\":\"css\",\"text\":\"52\",\"text_font_size\":\"10px\",\"x\":-18,\"x_units\":\"screen\",\"y\":52.1},\"id\":\"1487\",\"type\":\"Label\"},{\"attributes\":{\"bottom\":48,\"coordinates\":null,\"fill_alpha\":0.15,\"fill_color\":\"gray\",\"group\":null,\"level\":\"underlay\",\"line_color\":\"black\",\"top\":49},\"id\":\"1478\",\"type\":\"BoxAnnotation\"},{\"attributes\":{\"bottom\":54,\"coordinates\":null,\"fill_alpha\":0.15,\"fill_color\":\"gray\",\"group\":null,\"level\":\"underlay\",\"line_color\":\"black\",\"top\":55},\"id\":\"1490\",\"type\":\"BoxAnnotation\"},{\"attributes\":{\"bottom\":52,\"coordinates\":null,\"fill_alpha\":0.15,\"fill_color\":\"gray\",\"group\":null,\"level\":\"underlay\",\"line_color\":\"black\",\"top\":53},\"id\":\"1486\",\"type\":\"BoxAnnotation\"},{\"attributes\":{\"coordinates\":null,\"group\":null,\"render_mode\":\"css\",\"text\":\"54\",\"text_font_size\":\"10px\",\"x\":-18,\"x_units\":\"screen\",\"y\":54.1},\"id\":\"1491\",\"type\":\"Label\"},{\"attributes\":{\"bottom\":50,\"coordinates\":null,\"fill_alpha\":0.15,\"fill_color\":\"gray\",\"group\":null,\"level\":\"underlay\",\"line_color\":\"black\",\"top\":51},\"id\":\"1482\",\"type\":\"BoxAnnotation\"},{\"attributes\":{\"bottom\":51,\"coordinates\":null,\"fill_alpha\":0.0,\"fill_color\":\"gray\",\"group\":null,\"level\":\"underlay\",\"line_color\":\"black\",\"top\":52},\"id\":\"1484\",\"type\":\"BoxAnnotation\"}],\"root_ids\":[\"1555\"]},\"title\":\"Bokeh Application\",\"version\":\"2.4.2\"}};\n",
       "  const render_items = [{\"docid\":\"c90a58db-48ca-4df1-92af-f06fe9341699\",\"root_ids\":[\"1555\"],\"roots\":{\"1555\":\"7c73c19a-5bde-4de0-8f5c-33d9fefbcd9b\"}}];\n",
       "  root.Bokeh.embed.embed_items_notebook(docs_json, render_items);\n",
       "\n",
       "  }\n",
       "  if (root.Bokeh !== undefined) {\n",
       "    embed_document(root);\n",
       "  } else {\n",
       "    let attempts = 0;\n",
       "    const timer = setInterval(function(root) {\n",
       "      if (root.Bokeh !== undefined) {\n",
       "        clearInterval(timer);\n",
       "        embed_document(root);\n",
       "      } else {\n",
       "        attempts++;\n",
       "        if (attempts > 100) {\n",
       "          clearInterval(timer);\n",
       "          console.log(\"Bokeh: ERROR: Unable to run BokehJS code because BokehJS library is missing\");\n",
       "        }\n",
       "      }\n",
       "    }, 10, root)\n",
       "  }\n",
       "})(window);"
      ],
      "application/vnd.bokehjs_exec.v0+json": ""
     },
     "metadata": {
      "application/vnd.bokehjs_exec.v0+json": {
       "id": "1555"
      }
     },
     "output_type": "display_data"
    },
    {
     "data": {
      "text/html": [
       "<div style=\"display: table;\"><div style=\"display: table-row;\"><div style=\"display: table-cell;\"><b title=\"bokeh.models.layouts.Column\">Column</b>(</div><div style=\"display: table-cell;\">id&nbsp;=&nbsp;'1555', <span id=\"1621\" style=\"cursor: pointer;\">&hellip;)</span></div></div><div class=\"1620\" style=\"display: none;\"><div style=\"display: table-cell;\"></div><div style=\"display: table-cell;\">align&nbsp;=&nbsp;'start',</div></div><div class=\"1620\" style=\"display: none;\"><div style=\"display: table-cell;\"></div><div style=\"display: table-cell;\">aspect_ratio&nbsp;=&nbsp;None,</div></div><div class=\"1620\" style=\"display: none;\"><div style=\"display: table-cell;\"></div><div style=\"display: table-cell;\">background&nbsp;=&nbsp;None,</div></div><div class=\"1620\" style=\"display: none;\"><div style=\"display: table-cell;\"></div><div style=\"display: table-cell;\">children&nbsp;=&nbsp;[Figure(id='1435', ...)],</div></div><div class=\"1620\" style=\"display: none;\"><div style=\"display: table-cell;\"></div><div style=\"display: table-cell;\">css_classes&nbsp;=&nbsp;[],</div></div><div class=\"1620\" style=\"display: none;\"><div style=\"display: table-cell;\"></div><div style=\"display: table-cell;\">disabled&nbsp;=&nbsp;False,</div></div><div class=\"1620\" style=\"display: none;\"><div style=\"display: table-cell;\"></div><div style=\"display: table-cell;\">height&nbsp;=&nbsp;None,</div></div><div class=\"1620\" style=\"display: none;\"><div style=\"display: table-cell;\"></div><div style=\"display: table-cell;\">height_policy&nbsp;=&nbsp;'auto',</div></div><div class=\"1620\" style=\"display: none;\"><div style=\"display: table-cell;\"></div><div style=\"display: table-cell;\">js_event_callbacks&nbsp;=&nbsp;{},</div></div><div class=\"1620\" style=\"display: none;\"><div style=\"display: table-cell;\"></div><div style=\"display: table-cell;\">js_property_callbacks&nbsp;=&nbsp;{},</div></div><div class=\"1620\" style=\"display: none;\"><div style=\"display: table-cell;\"></div><div style=\"display: table-cell;\">margin&nbsp;=&nbsp;(0, 0, 0, 0),</div></div><div class=\"1620\" style=\"display: none;\"><div style=\"display: table-cell;\"></div><div style=\"display: table-cell;\">max_height&nbsp;=&nbsp;None,</div></div><div class=\"1620\" style=\"display: none;\"><div style=\"display: table-cell;\"></div><div style=\"display: table-cell;\">max_width&nbsp;=&nbsp;None,</div></div><div class=\"1620\" style=\"display: none;\"><div style=\"display: table-cell;\"></div><div style=\"display: table-cell;\">min_height&nbsp;=&nbsp;None,</div></div><div class=\"1620\" style=\"display: none;\"><div style=\"display: table-cell;\"></div><div style=\"display: table-cell;\">min_width&nbsp;=&nbsp;None,</div></div><div class=\"1620\" style=\"display: none;\"><div style=\"display: table-cell;\"></div><div style=\"display: table-cell;\">name&nbsp;=&nbsp;None,</div></div><div class=\"1620\" style=\"display: none;\"><div style=\"display: table-cell;\"></div><div style=\"display: table-cell;\">rows&nbsp;=&nbsp;'auto',</div></div><div class=\"1620\" style=\"display: none;\"><div style=\"display: table-cell;\"></div><div style=\"display: table-cell;\">sizing_mode&nbsp;=&nbsp;None,</div></div><div class=\"1620\" style=\"display: none;\"><div style=\"display: table-cell;\"></div><div style=\"display: table-cell;\">spacing&nbsp;=&nbsp;0,</div></div><div class=\"1620\" style=\"display: none;\"><div style=\"display: table-cell;\"></div><div style=\"display: table-cell;\">subscribed_events&nbsp;=&nbsp;[],</div></div><div class=\"1620\" style=\"display: none;\"><div style=\"display: table-cell;\"></div><div style=\"display: table-cell;\">syncable&nbsp;=&nbsp;True,</div></div><div class=\"1620\" style=\"display: none;\"><div style=\"display: table-cell;\"></div><div style=\"display: table-cell;\">tags&nbsp;=&nbsp;[],</div></div><div class=\"1620\" style=\"display: none;\"><div style=\"display: table-cell;\"></div><div style=\"display: table-cell;\">visible&nbsp;=&nbsp;True,</div></div><div class=\"1620\" style=\"display: none;\"><div style=\"display: table-cell;\"></div><div style=\"display: table-cell;\">width&nbsp;=&nbsp;None,</div></div><div class=\"1620\" style=\"display: none;\"><div style=\"display: table-cell;\"></div><div style=\"display: table-cell;\">width_policy&nbsp;=&nbsp;'auto')</div></div></div>\n",
       "<script>\n",
       "(function() {\n",
       "  let expanded = false;\n",
       "  const ellipsis = document.getElementById(\"1621\");\n",
       "  ellipsis.addEventListener(\"click\", function() {\n",
       "    const rows = document.getElementsByClassName(\"1620\");\n",
       "    for (let i = 0; i < rows.length; i++) {\n",
       "      const el = rows[i];\n",
       "      el.style.display = expanded ? \"none\" : \"table-row\";\n",
       "    }\n",
       "    ellipsis.innerHTML = expanded ? \"&hellip;)\" : \"&lsaquo;&lsaquo;&lsaquo;\";\n",
       "    expanded = !expanded;\n",
       "  });\n",
       "})();\n",
       "</script>\n"
      ],
      "text/plain": [
       "Column(id='1555', ...)"
      ]
     },
     "execution_count": 30,
     "metadata": {},
     "output_type": "execute_result"
    }
   ],
   "source": [
    "%%capture --no-display\n",
    "\n",
    "# Plot a piano roll visulasiation of the file\n",
    "coloring = visual_midi.presets.Coloring.INSTRUMENT\n",
    "plotter = visual_midi.Plotter(coloring=coloring)\n",
    "plotter.show_notebook(piano_roll_to_pretty_midi(full_music, fs=50))"
   ]
  },
  {
   "cell_type": "code",
   "execution_count": 5,
   "id": "af235fe5-df06-4dae-a71f-851bd82f31fa",
   "metadata": {
    "jupyter": {
     "source_hidden": true
    },
    "tags": []
   },
   "outputs": [],
   "source": [
    "def extract_accompaniment_melody(pretty_midi_file, fs=50, sample_length=10, sample_set=0):\n",
    "    \"\"\"\n",
    "    Extract melody from a pretty_midi file.\n",
    "    \n",
    "    Args :\n",
    "        pretty_midi_file : a pretty_midi.Pretty_midi() file\n",
    "        fs : number of frame per second, use to create the piano roll from the pretty_midi file\n",
    "        ratio : the ratio above wich we won't accept a note to be extract, it prevents from having jerky melodies\n",
    "        sample_lentgh : integer, the length in seconds of the sample we wan't to extract the melody from.\n",
    "        sample_set : integer, it allows you to choose where in the piece you want to extract the melody\n",
    "                      \n",
    "    Return : a tuple of pretty_midi.piano_roll variables : (accompaniment, melody)\n",
    "    \"\"\"\n",
    "    # and (abs(last_played_note - piano_roll[j][i])/nb_instant > ratio)\n",
    "\n",
    "    sample_size = sample_length * fs\n",
    "    \n",
    "    piano_roll = pretty_midi_file.get_piano_roll(fs=fs)[:, sample_size*sample_set:sample_size*(sample_set+1)]\n",
    "    empty_piano_roll = np.zeros(piano_roll.shape)\n",
    "\n",
    "    liste = []\n",
    "    # nb_instant = 0\n",
    "    for i in range(sample_size):\n",
    "        # nb_instant += 1\n",
    "        for j in range(127, 0, -1):\n",
    "            try:\n",
    "                if piano_roll[j][i] > 0:\n",
    "                    last_played_note = piano_roll[j][i]\n",
    "                    # We want our values to be between 0 and 127\n",
    "                    # if last_played_note <= 127:\n",
    "                    empty_piano_roll[j][i] = last_played_note\n",
    "                    # else:\n",
    "                    #     empty_piano_roll[j][i] = 127\n",
    "                    piano_roll[j][i] = 0\n",
    "                    liste.append([[j],[i]])\n",
    "                    # nb_instant = 0\n",
    "                    break\n",
    "            except:\n",
    "                if piano_roll[j][i] > 0:\n",
    "                    last_played_note = piano_roll[j][i]\n",
    "                    if last_played_note <= 127:\n",
    "                        empty_piano_roll[j][i] = last_played_note\n",
    "                    else:\n",
    "                        empty_piano_roll[j][i] = 127\n",
    "                    piano_roll[j][i] = 0\n",
    "                    nb_instant = 0\n",
    "                    break\n",
    "    return (piano_roll, empty_piano_roll)\n",
    "\n",
    "def separate_pitch_velocity(target):\n",
    "    \"\"\"\n",
    "    Separate pitch and velocity within the target\n",
    "    \"\"\"\n",
    "    # Lists of each velocities and pitches for each sample\n",
    "    sample_velocities = []\n",
    "    sample_pitches = []\n",
    "    \n",
    "    for sample in target:\n",
    "        # Lists of velocities and pitches within the sample\n",
    "        velocities = []\n",
    "        pitches = []\n",
    "        \n",
    "        for frame in sample.T:\n",
    "            frame = list(frame)\n",
    "            velocity = np.sum(frame)\n",
    "            velocities.append(velocity)\n",
    "            pitches.append(frame.index(velocity))\n",
    "        sample_velocities.append(velocities)\n",
    "        sample_pitches.append(pitches)\n",
    "    \n",
    "    return (sample_pitches, sample_velocities)\n",
    "\n",
    "def create_sample(pretty_midi_file, fs):\n",
    "    \"\"\"\n",
    "    Return a sample of the file\n",
    "    \"\"\"\n",
    "    piano_roll = pretty_midi_file.piano_roll(fs=fs)\n",
    "    \n",
    "\n",
    "def create_simple_dataset(file, mode=None):\n",
    "    \"\"\"\n",
    "    Create a simple dataset for ML/DL\n",
    "\n",
    "    Args :\n",
    "        file : A pretty_midi file\n",
    "\n",
    "    Return : A tuple with X = accompaniment, y = melody\n",
    "    \"\"\"\n",
    "    X = []\n",
    "    y = []\n",
    "    i = 0\n",
    "    while True:\n",
    "        try:\n",
    "            accompaniment, melody = extract_accompaniment_melody(file, sample_set=i)\n",
    "            X.append(accompaniment)\n",
    "            y.append(melody)\n",
    "            i += 1\n",
    "        except:\n",
    "            break\n",
    "\n",
    "    return np.array(X), np.array(y)\n",
    "\n",
    "def create_nparray_dataset(file, directory ,name, store=True):\n",
    "    \"\"\"\n",
    "    Create a nparray dataset\n",
    "    \"\"\"\n",
    "    X, y = create_simple_dataset(file)\n",
    "    \n",
    "    pitches, velocities = separate_pitch_velocity(y)\n",
    "    \n",
    "    i = 0\n",
    "\n",
    "    y_melody = np.array(\n",
    "                [(pitch, velocity) for pitch, velocity in zip(pitches, velocities)]\n",
    "            )\n",
    "\n",
    "    # X_accompaniment = np.array([accompaniment.T for accompaniment in X])\n",
    "        \n",
    "    # Then we add the two target to the dataframe\n",
    "    # y_pitch = np.array([np.array(pitch) for pitch in pitches])\n",
    "    # y_velocity = np.array([np.array(velocity) for velocity in velocities])\n",
    "\n",
    "    dataset = (X, y_melody)\n",
    "    \n",
    "    if store:\n",
    "        joblib.dump(dataset, f'../raw_data/pandas_dataframes/{directory}/{name}')\n",
    "    else:\n",
    "        return dataset\n",
    "    \n",
    "    # In the end we need to delete the variables in order to save some RAM\n",
    "    del([X, y, y_melody, pitches, velocities, dataset])\n",
    "\n",
    "def create_tuple_target_dataset(file):\n",
    "    \"\"\"\n",
    "    Create a dataset with a target being a list of tuples (pitch, velocity)\n",
    "    Args:\n",
    "        file : a pretty_midi object/file\n",
    "    \"\"\"\n",
    "    X, y = create_simple_dataset(file)\n",
    "\n",
    "    new_target = []\n",
    "\n",
    "    for sample in y:\n",
    "\n",
    "        frames = []\n",
    "\n",
    "        for frame in sample.T:\n",
    "\n",
    "            list_of_tuples = [(note, velocity) if velocity > 0 else (0, 0) for note, velocity in enumerate(frame)]\n",
    "            frames.append(list_of_tuples)\n",
    "\n",
    "        new_target.append(frames)\n",
    "        \n",
    "    return X, np.array(new_target)\n",
    "\n",
    "def create_classified_melody(melody, to_list=True):\n",
    "    \"\"\"\n",
    "    Return a classified melody (0 if no note is played, 1 if a note is played)\n",
    "    \"\"\"\n",
    "    classified_melody = [1 if note > 0 else 0 for note in melody]\n",
    "\n",
    "    if not to_list:\n",
    "        return np.array(classified_melody)\n",
    "    \n",
    "    return classified_melody\n"
   ]
  }
 ],
 "metadata": {
  "kernelspec": {
   "display_name": "Python 3 (ipykernel)",
   "language": "python",
   "name": "python3"
  },
  "language_info": {
   "codemirror_mode": {
    "name": "ipython",
    "version": 3
   },
   "file_extension": ".py",
   "mimetype": "text/x-python",
   "name": "python",
   "nbconvert_exporter": "python",
   "pygments_lexer": "ipython3",
   "version": "3.8.12"
  }
 },
 "nbformat": 4,
 "nbformat_minor": 5
}
