{
 "cells": [
  {
   "cell_type": "markdown",
   "id": "d236046a-6871-40a7-bbfa-8e963608b574",
   "metadata": {},
   "source": [
    "# Creating the dataset for DL"
   ]
  },
  {
   "cell_type": "code",
   "execution_count": 1,
   "id": "7e63f841-e900-4860-8224-d0981bbe8569",
   "metadata": {},
   "outputs": [
    {
     "name": "stderr",
     "output_type": "stream",
     "text": [
      "2021-12-01 10:45:12.640597: W tensorflow/stream_executor/platform/default/dso_loader.cc:64] Could not load dynamic library 'libcudart.so.11.0'; dlerror: libcudart.so.11.0: cannot open shared object file: No such file or directory\n",
      "2021-12-01 10:45:12.640700: I tensorflow/stream_executor/cuda/cudart_stub.cc:29] Ignore above cudart dlerror if you do not have a GPU set up on your machine.\n"
     ]
    }
   ],
   "source": [
    "import joblib\n",
    "import pretty_midi\n",
    "import visual_midi\n",
    "import pandas as pd\n",
    "import numpy as np\n",
    "from os import listdir\n",
    "from os.path import getsize\n",
    "from MIDIComposingAI.utils import piano_roll_to_pretty_midi\n",
    "from MIDIComposingAI.create_csv_dataset import create_simple_dataset\n",
    "from scipy.sparse import csr_matrix\n",
    "from tensorflow import convert_to_tensor"
   ]
  },
  {
   "cell_type": "code",
   "execution_count": 2,
   "id": "fdc21240-49cd-4457-8f2b-4b65900d5915",
   "metadata": {},
   "outputs": [],
   "source": [
    "def separate_pitch_velocity(target):\n",
    "    \"\"\"\n",
    "    Separate pitch and velocity within the target\n",
    "    \"\"\"\n",
    "    # Lists of each velocities and pitches for each sample\n",
    "    sample_velocities = []\n",
    "    sample_pitches = []\n",
    "    \n",
    "    for sample in target:\n",
    "        # Lists of velocities and pitches within the sample\n",
    "        velocities = []\n",
    "        pitches = []\n",
    "        \n",
    "        for frame in sample.T:\n",
    "            frame = list(frame)\n",
    "            velocity = np.sum(frame)\n",
    "            velocities.append(velocity)\n",
    "            pitches.append(frame.index(velocity))\n",
    "        sample_velocities.append(velocities)\n",
    "        sample_pitches.append(pitches)\n",
    "    \n",
    "    return (sample_pitches, sample_velocities)\n",
    "\n",
    "def create_data_file(file, name, mode='separate'):\n",
    "    \"\"\"\n",
    "    Save a dataset within a directory\n",
    "    Args:\n",
    "        file: a pretty_midi file\n",
    "    \"\"\"\n",
    "    # First we create a dataset\n",
    "    X, y = create_simple_dataset(file)\n",
    "    \n",
    "    # We create an empty dataframe\n",
    "    df = pd.DataFrame(columns=['accompaniment', 'melody_pitches', 'melody_velocities'])\n",
    "    \n",
    "    # We add the feature, accompaniment\n",
    "    df['accompaniment'] = [csr_matrix(accompaniment) for accompaniment in X]\n",
    "    \n",
    "    # We separate pitches and velocities from the melody\n",
    "    pitches, velocities = separate_pitch_velocity(y)\n",
    "    \n",
    "    # Then we add the two target to the dataframe\n",
    "    df['melody_pitches'] = [csr_matrix(pitch) for pitch in pitches]\n",
    "    df['melody_velocities'] = [csr_matrix(velocity) for velocity in velocities]\n",
    "    \n",
    "    # Then \n",
    "    joblib.dump(df, f'../raw_data/pandas_dataframes/simple_dataset/{name}')\n",
    "\n",
    "    \n",
    "    # We have to delete the local variables in order to make loops without overloading the RAM\n",
    "    del([X, y, pitches, velocities, df])"
   ]
  },
  {
   "cell_type": "code",
   "execution_count": 3,
   "id": "76b2af7c-7646-434a-bd0e-df6caebcc4ba",
   "metadata": {},
   "outputs": [],
   "source": [
    "# Let's take some examples\n",
    "examples_files = []\n",
    "path = '../raw_data/pretty_midi'\n",
    "directory = listdir(path)\n",
    "\n",
    "for file in directory:\n",
    "    if getsize(f'{path}/{file}') < 300000: # We don't want too big files\n",
    "        examples_files.append(joblib.load(f'{path}/{file}'))\n",
    "    if len(examples_files) >= 10:\n",
    "        break"
   ]
  },
  {
   "cell_type": "code",
   "execution_count": 4,
   "id": "29bbf46f-243a-4c95-ab2c-7ecdf05c2aa5",
   "metadata": {},
   "outputs": [],
   "source": [
    "# for i, file in enumerate(examples_files):\n",
    "#     create_data_file(file, f'dataframe_{i}')"
   ]
  },
  {
   "cell_type": "code",
   "execution_count": 10,
   "id": "d30b2f4f-cabc-4d07-8dd3-6c1d5ffe3c36",
   "metadata": {},
   "outputs": [],
   "source": [
    "data = pd.DataFrame(columns=['accompaniment', 'melody_pitches', 'melody_velocities'])\n",
    "for i in range(10):\n",
    "    loaded = joblib.load(f'../raw_data/pandas_dataframes/simple_dataset/dataframe_{i}')\n",
    "    data = pd.concat((data, loaded))\n",
    "data.reset_index(drop=True, inplace=True)"
   ]
  },
  {
   "cell_type": "code",
   "execution_count": 11,
   "id": "30a8adc9-f872-452a-b7f5-3945bd0de3c9",
   "metadata": {},
   "outputs": [
    {
     "data": {
      "text/plain": [
       "((128, 10000), (1, 10000))"
      ]
     },
     "execution_count": 11,
     "metadata": {},
     "output_type": "execute_result"
    }
   ],
   "source": [
    "data.accompaniment[0].shape, data.melody_pitches[0].shape"
   ]
  },
  {
   "cell_type": "code",
   "execution_count": 13,
   "id": "84adb360-af73-419b-8225-918c9f99e696",
   "metadata": {},
   "outputs": [],
   "source": [
    "for column in data:\n",
    "    for i in range(len(data[column])):\n",
    "        data[column][i] = convert_to_tensor(data[column][i].todense(), dtype='float32')"
   ]
  },
  {
   "cell_type": "code",
   "execution_count": 15,
   "id": "037d70c7-7069-46d0-955d-0b751f83b431",
   "metadata": {},
   "outputs": [
    {
     "data": {
      "text/plain": [
       "tensorflow.python.framework.ops.EagerTensor"
      ]
     },
     "execution_count": 15,
     "metadata": {},
     "output_type": "execute_result"
    }
   ],
   "source": [
    "type(data.accompaniment[0])"
   ]
  },
  {
   "cell_type": "code",
   "execution_count": null,
   "id": "09f17226-531d-41de-bb43-f14df4edaf4a",
   "metadata": {},
   "outputs": [],
   "source": []
  }
 ],
 "metadata": {
  "kernelspec": {
   "display_name": "Python 3 (ipykernel)",
   "language": "python",
   "name": "python3"
  },
  "language_info": {
   "codemirror_mode": {
    "name": "ipython",
    "version": 3
   },
   "file_extension": ".py",
   "mimetype": "text/x-python",
   "name": "python",
   "nbconvert_exporter": "python",
   "pygments_lexer": "ipython3",
   "version": "3.8.12"
  }
 },
 "nbformat": 4,
 "nbformat_minor": 5
}
