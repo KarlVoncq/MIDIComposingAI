{
 "cells": [
  {
   "cell_type": "markdown",
   "id": "d236046a-6871-40a7-bbfa-8e963608b574",
   "metadata": {},
   "source": [
    "# Creating the dataset for our models"
   ]
  },
  {
   "cell_type": "code",
   "execution_count": 1,
   "id": "9f5368b8-aa31-46ef-8b1c-721f492c7576",
   "metadata": {},
   "outputs": [],
   "source": [
    "%load_ext autoreload\n",
    "%autoreload 2"
   ]
  },
  {
   "cell_type": "code",
   "execution_count": 2,
   "id": "7e63f841-e900-4860-8224-d0981bbe8569",
   "metadata": {},
   "outputs": [
    {
     "name": "stderr",
     "output_type": "stream",
     "text": [
      "2021-12-02 22:28:50.544115: W tensorflow/stream_executor/platform/default/dso_loader.cc:64] Could not load dynamic library 'libcudart.so.11.0'; dlerror: libcudart.so.11.0: cannot open shared object file: No such file or directory\n",
      "2021-12-02 22:28:50.544254: I tensorflow/stream_executor/cuda/cudart_stub.cc:29] Ignore above cudart dlerror if you do not have a GPU set up on your machine.\n"
     ]
    }
   ],
   "source": [
    "import joblib\n",
    "import pretty_midi\n",
    "import visual_midi\n",
    "import pandas as pd\n",
    "import numpy as np\n",
    "from os import listdir\n",
    "from os.path import getsize\n",
    "from MIDIComposingAI.utils import piano_roll_to_pretty_midi\n",
    "from MIDIComposingAI.create_dataset import *\n",
    "from MIDIComposingAI.get_back_data import *\n",
    "from scipy.sparse import csr_matrix\n",
    "from tensorflow import convert_to_tensor"
   ]
  },
  {
   "cell_type": "code",
   "execution_count": 11,
   "id": "fdc21240-49cd-4457-8f2b-4b65900d5915",
   "metadata": {
    "jupyter": {
     "source_hidden": true
    },
    "tags": []
   },
   "outputs": [],
   "source": [
    "def separate_pitch_velocity(target):\n",
    "    \"\"\"\n",
    "    Separate pitch and velocity within the target\n",
    "    \"\"\"\n",
    "    # Lists of each velocities and pitches for each sample\n",
    "    sample_velocities = []\n",
    "    sample_pitches = []\n",
    "    \n",
    "    for sample in target:\n",
    "        # Lists of velocities and pitches within the sample\n",
    "        velocities = []\n",
    "        pitches = []\n",
    "        \n",
    "        for frame in sample.T:\n",
    "            frame = list(frame)\n",
    "            velocity = np.sum(frame)\n",
    "            velocities.append(velocity)\n",
    "            pitches.append(frame.index(int(velocity)))\n",
    "        sample_velocities.append(velocities)\n",
    "        sample_pitches.append(pitches)\n",
    "    \n",
    "    return (sample_pitches, sample_velocities)\n",
    "\n",
    "def create_dataframe_file(file, name, dataset_type='matrix', store=True):\n",
    "    \"\"\"\n",
    "    Save a dataset within a directory\n",
    "    Args:\n",
    "        file: a pretty_midi file\n",
    "    \"\"\"\n",
    "    # First we create a dataset\n",
    "    X, y = create_simple_dataset(file)\n",
    "    \n",
    "    # We create an empty dataframe\n",
    "    df = pd.DataFrame(columns=['accompaniment', 'melody_pitches', 'melody_velocities'])\n",
    "    \n",
    "    # We separate pitches and velocities from the melody\n",
    "    pitches, velocities = separate_pitch_velocity(y)\n",
    "    \n",
    "    if dataset_type == 'matrix':\n",
    "        # We add the feature, accompaniment\n",
    "        df['accompaniment'] = [csr_matrix(accompaniment) for accompaniment in X]\n",
    "        \n",
    "        # Then we add the two target to the dataframe\n",
    "        df['melody_pitches'] = [csr_matrix(pitch) for pitch in pitches]\n",
    "        df['melody_velocities'] = [csr_matrix(velocity) for velocity in velocities]\n",
    "    \n",
    "    if dataset_type == 'array':\n",
    "        # We add the feature, accompaniment\n",
    "        df['accompaniment'] = [accompaniment for accompaniment in X]\n",
    "        \n",
    "        # Then we add the two target to the dataframe\n",
    "        df['melody_pitches'] = [np.array(pitch) for pitch in pitches]\n",
    "        df['melody_velocities'] = [np.array(velocity) for velocity in velocities]\n",
    "        \n",
    "    # Then we store the data\n",
    "    if store:\n",
    "        joblib.dump(df, f'../raw_data/pandas_dataframes/simple_dataset/{name}')\n",
    "    else:\n",
    "        return df\n",
    "\n",
    "    # We have to delete the local variables in order to make loops without overloading the RAM\n",
    "    del([X, y, pitches, velocities, df])\n",
    "\n",
    "def create_nparray_dataset(file, directory ,name, store=True):\n",
    "    \"\"\"\n",
    "    Create a nparray dataset\n",
    "    \"\"\"\n",
    "    X, y = create_simple_dataset(file)\n",
    "    \n",
    "    pitches, velocities = separate_pitch_velocity(y)\n",
    "    \n",
    "    X_accompaniment = np.array([accompaniment.T for accompaniment in X])\n",
    "        \n",
    "    # Then we add the two target to the dataframe/\n",
    "    y_pitch = np.array([np.array(pitch) for pitch in pitches])\n",
    "    y_velocity = np.array([np.array(velocity) for velocity in velocities])\n",
    "    \n",
    "    dataset = (X_accompaniment, y_pitch, y_velocity)\n",
    "    \n",
    "    if store:\n",
    "        joblib.dump(dataset, f'../raw_data/pandas_dataframes/{directory}/{name}')\n",
    "    else:\n",
    "        return dataset\n",
    "    del([X, y, pitches, velocities, X_accompaniment, y_pitch, y_velocity, dataset])"
   ]
  },
  {
   "cell_type": "code",
   "execution_count": 3,
   "id": "76b2af7c-7646-434a-bd0e-df6caebcc4ba",
   "metadata": {},
   "outputs": [],
   "source": [
    "# # Let's take some examples\n",
    "# examples_files = []\n",
    "# path = '../raw_data/pretty_midi'\n",
    "# directory = listdir(path)\n",
    "\n",
    "# for file in directory:\n",
    "#     if getsize(f'{path}/{file}') < 300000: # We don't want too big files\n",
    "#         examples_files.append(joblib.load(f'{path}/{file}'))\n",
    "#     if len(examples_files) >= 10:\n",
    "#         break"
   ]
  },
  {
   "cell_type": "code",
   "execution_count": 4,
   "id": "512357e1-ea5d-4678-9408-267dd3b56809",
   "metadata": {},
   "outputs": [],
   "source": [
    "# for i, file in enumerate(examples_files):\n",
    "#     create_nparray_dataset(file, f'nparray{i}')"
   ]
  },
  {
   "cell_type": "code",
   "execution_count": 3,
   "id": "a65f60dd-add6-4a5c-8cfa-cb83ff361a0a",
   "metadata": {},
   "outputs": [],
   "source": [
    "bigger_examples_files = []\n",
    "path = '../raw_data/pretty_midi'\n",
    "directory = listdir(path)\n",
    "\n",
    "for file in directory:\n",
    "    if 100_000 < getsize(f'{path}/{file}') and getsize(f'{path}/{file}') < 200_000: # We don't want too big or too little files\n",
    "        bigger_examples_files.append(joblib.load(f'{path}/{file}'))\n",
    "    if len(bigger_examples_files) >= 50:\n",
    "        break"
   ]
  },
  {
   "cell_type": "code",
   "execution_count": 4,
   "id": "c414b213-97ff-478f-9926-cade9e37f14f",
   "metadata": {},
   "outputs": [],
   "source": [
    "# Iterations over iterations ...\n",
    "for i in range(50):\n",
    "    joblib.dump(create_dataset(bigger_examples_files[i]), f'../raw_data/pandas_dataframes/dataset_one_target/sample{i}')"
   ]
  },
  {
   "cell_type": "code",
   "execution_count": 3,
   "id": "f16a4e0d-ff57-4d82-8af5-aaa783191df7",
   "metadata": {},
   "outputs": [],
   "source": [
    "sample = joblib.load('../raw_data/pandas_dataframes/dataset_one_target/sample0')"
   ]
  },
  {
   "cell_type": "code",
   "execution_count": 4,
   "id": "63226e03-d59d-4ff3-a673-7d618d2119f6",
   "metadata": {},
   "outputs": [
    {
     "data": {
      "text/plain": [
       "(14, 128, 500)"
      ]
     },
     "execution_count": 4,
     "metadata": {},
     "output_type": "execute_result"
    }
   ],
   "source": [
    "sample[1].shape"
   ]
  },
  {
   "cell_type": "markdown",
   "id": "3361fe10-3113-4286-b9a1-f66385ea48da",
   "metadata": {
    "tags": []
   },
   "source": [
    "## Let's try another target shape"
   ]
  },
  {
   "cell_type": "code",
   "execution_count": 13,
   "id": "92c285bc-e039-44ec-b20f-412b823cad65",
   "metadata": {},
   "outputs": [],
   "source": [
    "def create_tuple_target_dataset(file):\n",
    "    \"\"\"\n",
    "    Create a dataset with a target being a list of tuples (pitch, velocity)\n",
    "    \"\"\"\n",
    "\n",
    "    X, y = create_simple_dataset(file)\n",
    "    print(y.shape)\n",
    "\n",
    "    new_target = []\n",
    "\n",
    "    for sample in y:\n",
    "\n",
    "        frames = []\n",
    "\n",
    "        for frame in sample.T:\n",
    "            list_of_tuples = [(note, velocity) if velocity > 0 else (0, 0) for note, velocity in enumerate(frame)]\n",
    "            frames.append(list_of_tuples)\n",
    "        new_target.append(frames)\n",
    "    return X, np.array(new_target)"
   ]
  },
  {
   "cell_type": "code",
   "execution_count": 4,
   "id": "dc65e1d5-ed4b-46a6-af76-4d61847664de",
   "metadata": {
    "tags": []
   },
   "outputs": [],
   "source": [
    "X, y = create_tuple_target_dataset(bigger_examples_files[0])"
   ]
  },
  {
   "cell_type": "code",
   "execution_count": 6,
   "id": "9540d23b-7a41-45d0-8080-78ea90adcbc6",
   "metadata": {},
   "outputs": [
    {
     "data": {
      "text/plain": [
       "(500, 128)"
      ]
     },
     "execution_count": 6,
     "metadata": {},
     "output_type": "execute_result"
    }
   ],
   "source": [
    "target_to_melody(y[0]).shape"
   ]
  },
  {
   "cell_type": "code",
   "execution_count": 40,
   "id": "10ff40f8-dd19-4239-ad57-7669026a1fd8",
   "metadata": {},
   "outputs": [
    {
     "data": {
      "text/plain": [
       "(128, 500)"
      ]
     },
     "execution_count": 40,
     "metadata": {},
     "output_type": "execute_result"
    }
   ],
   "source": [
    "y[8].shape"
   ]
  },
  {
   "cell_type": "code",
   "execution_count": 42,
   "id": "fa0d0846-1f5b-4ff1-b9cc-3fdc5ad5cdb5",
   "metadata": {},
   "outputs": [],
   "source": [
    "melody = piano_roll_to_pretty_midi(y[8], fs=50)"
   ]
  },
  {
   "cell_type": "code",
   "execution_count": 44,
   "id": "4c06e43f-25b0-4327-aa59-c3bc970546e6",
   "metadata": {
    "collapsed": true,
    "jupyter": {
     "outputs_hidden": true
    },
    "tags": []
   },
   "outputs": [
    {
     "data": {
      "text/html": [
       "\n",
       "    <div class=\"bk-root\">\n",
       "        <a href=\"https://bokeh.org\" target=\"_blank\" class=\"bk-logo bk-logo-small bk-logo-notebook\"></a>\n",
       "        <span id=\"1453\">Loading BokehJS ...</span>\n",
       "    </div>"
      ]
     },
     "metadata": {},
     "output_type": "display_data"
    },
    {
     "data": {
      "application/javascript": [
       "\n",
       "(function(root) {\n",
       "  function now() {\n",
       "    return new Date();\n",
       "  }\n",
       "\n",
       "  const force = true;\n",
       "\n",
       "  if (typeof root._bokeh_onload_callbacks === \"undefined\" || force === true) {\n",
       "    root._bokeh_onload_callbacks = [];\n",
       "    root._bokeh_is_loading = undefined;\n",
       "  }\n",
       "\n",
       "  const JS_MIME_TYPE = 'application/javascript';\n",
       "  const HTML_MIME_TYPE = 'text/html';\n",
       "  const EXEC_MIME_TYPE = 'application/vnd.bokehjs_exec.v0+json';\n",
       "  const CLASS_NAME = 'output_bokeh rendered_html';\n",
       "\n",
       "  /**\n",
       "   * Render data to the DOM node\n",
       "   */\n",
       "  function render(props, node) {\n",
       "    const script = document.createElement(\"script\");\n",
       "    node.appendChild(script);\n",
       "  }\n",
       "\n",
       "  /**\n",
       "   * Handle when an output is cleared or removed\n",
       "   */\n",
       "  function handleClearOutput(event, handle) {\n",
       "    const cell = handle.cell;\n",
       "\n",
       "    const id = cell.output_area._bokeh_element_id;\n",
       "    const server_id = cell.output_area._bokeh_server_id;\n",
       "    // Clean up Bokeh references\n",
       "    if (id != null && id in Bokeh.index) {\n",
       "      Bokeh.index[id].model.document.clear();\n",
       "      delete Bokeh.index[id];\n",
       "    }\n",
       "\n",
       "    if (server_id !== undefined) {\n",
       "      // Clean up Bokeh references\n",
       "      const cmd_clean = \"from bokeh.io.state import curstate; print(curstate().uuid_to_server['\" + server_id + \"'].get_sessions()[0].document.roots[0]._id)\";\n",
       "      cell.notebook.kernel.execute(cmd_clean, {\n",
       "        iopub: {\n",
       "          output: function(msg) {\n",
       "            const id = msg.content.text.trim();\n",
       "            if (id in Bokeh.index) {\n",
       "              Bokeh.index[id].model.document.clear();\n",
       "              delete Bokeh.index[id];\n",
       "            }\n",
       "          }\n",
       "        }\n",
       "      });\n",
       "      // Destroy server and session\n",
       "      const cmd_destroy = \"import bokeh.io.notebook as ion; ion.destroy_server('\" + server_id + \"')\";\n",
       "      cell.notebook.kernel.execute(cmd_destroy);\n",
       "    }\n",
       "  }\n",
       "\n",
       "  /**\n",
       "   * Handle when a new output is added\n",
       "   */\n",
       "  function handleAddOutput(event, handle) {\n",
       "    const output_area = handle.output_area;\n",
       "    const output = handle.output;\n",
       "\n",
       "    // limit handleAddOutput to display_data with EXEC_MIME_TYPE content only\n",
       "    if ((output.output_type != \"display_data\") || (!Object.prototype.hasOwnProperty.call(output.data, EXEC_MIME_TYPE))) {\n",
       "      return\n",
       "    }\n",
       "\n",
       "    const toinsert = output_area.element.find(\".\" + CLASS_NAME.split(' ')[0]);\n",
       "\n",
       "    if (output.metadata[EXEC_MIME_TYPE][\"id\"] !== undefined) {\n",
       "      toinsert[toinsert.length - 1].firstChild.textContent = output.data[JS_MIME_TYPE];\n",
       "      // store reference to embed id on output_area\n",
       "      output_area._bokeh_element_id = output.metadata[EXEC_MIME_TYPE][\"id\"];\n",
       "    }\n",
       "    if (output.metadata[EXEC_MIME_TYPE][\"server_id\"] !== undefined) {\n",
       "      const bk_div = document.createElement(\"div\");\n",
       "      bk_div.innerHTML = output.data[HTML_MIME_TYPE];\n",
       "      const script_attrs = bk_div.children[0].attributes;\n",
       "      for (let i = 0; i < script_attrs.length; i++) {\n",
       "        toinsert[toinsert.length - 1].firstChild.setAttribute(script_attrs[i].name, script_attrs[i].value);\n",
       "        toinsert[toinsert.length - 1].firstChild.textContent = bk_div.children[0].textContent\n",
       "      }\n",
       "      // store reference to server id on output_area\n",
       "      output_area._bokeh_server_id = output.metadata[EXEC_MIME_TYPE][\"server_id\"];\n",
       "    }\n",
       "  }\n",
       "\n",
       "  function register_renderer(events, OutputArea) {\n",
       "\n",
       "    function append_mime(data, metadata, element) {\n",
       "      // create a DOM node to render to\n",
       "      const toinsert = this.create_output_subarea(\n",
       "        metadata,\n",
       "        CLASS_NAME,\n",
       "        EXEC_MIME_TYPE\n",
       "      );\n",
       "      this.keyboard_manager.register_events(toinsert);\n",
       "      // Render to node\n",
       "      const props = {data: data, metadata: metadata[EXEC_MIME_TYPE]};\n",
       "      render(props, toinsert[toinsert.length - 1]);\n",
       "      element.append(toinsert);\n",
       "      return toinsert\n",
       "    }\n",
       "\n",
       "    /* Handle when an output is cleared or removed */\n",
       "    events.on('clear_output.CodeCell', handleClearOutput);\n",
       "    events.on('delete.Cell', handleClearOutput);\n",
       "\n",
       "    /* Handle when a new output is added */\n",
       "    events.on('output_added.OutputArea', handleAddOutput);\n",
       "\n",
       "    /**\n",
       "     * Register the mime type and append_mime function with output_area\n",
       "     */\n",
       "    OutputArea.prototype.register_mime_type(EXEC_MIME_TYPE, append_mime, {\n",
       "      /* Is output safe? */\n",
       "      safe: true,\n",
       "      /* Index of renderer in `output_area.display_order` */\n",
       "      index: 0\n",
       "    });\n",
       "  }\n",
       "\n",
       "  // register the mime type if in Jupyter Notebook environment and previously unregistered\n",
       "  if (root.Jupyter !== undefined) {\n",
       "    const events = require('base/js/events');\n",
       "    const OutputArea = require('notebook/js/outputarea').OutputArea;\n",
       "\n",
       "    if (OutputArea.prototype.mime_types().indexOf(EXEC_MIME_TYPE) == -1) {\n",
       "      register_renderer(events, OutputArea);\n",
       "    }\n",
       "  }\n",
       "\n",
       "  \n",
       "  if (typeof (root._bokeh_timeout) === \"undefined\" || force === true) {\n",
       "    root._bokeh_timeout = Date.now() + 5000;\n",
       "    root._bokeh_failed_load = false;\n",
       "  }\n",
       "\n",
       "  const NB_LOAD_WARNING = {'data': {'text/html':\n",
       "     \"<div style='background-color: #fdd'>\\n\"+\n",
       "     \"<p>\\n\"+\n",
       "     \"BokehJS does not appear to have successfully loaded. If loading BokehJS from CDN, this \\n\"+\n",
       "     \"may be due to a slow or bad network connection. Possible fixes:\\n\"+\n",
       "     \"</p>\\n\"+\n",
       "     \"<ul>\\n\"+\n",
       "     \"<li>re-rerun `output_notebook()` to attempt to load from CDN again, or</li>\\n\"+\n",
       "     \"<li>use INLINE resources instead, as so:</li>\\n\"+\n",
       "     \"</ul>\\n\"+\n",
       "     \"<code>\\n\"+\n",
       "     \"from bokeh.resources import INLINE\\n\"+\n",
       "     \"output_notebook(resources=INLINE)\\n\"+\n",
       "     \"</code>\\n\"+\n",
       "     \"</div>\"}};\n",
       "\n",
       "  function display_loaded() {\n",
       "    const el = document.getElementById(\"1453\");\n",
       "    if (el != null) {\n",
       "      el.textContent = \"BokehJS is loading...\";\n",
       "    }\n",
       "    if (root.Bokeh !== undefined) {\n",
       "      if (el != null) {\n",
       "        el.textContent = \"BokehJS \" + root.Bokeh.version + \" successfully loaded.\";\n",
       "      }\n",
       "    } else if (Date.now() < root._bokeh_timeout) {\n",
       "      setTimeout(display_loaded, 100)\n",
       "    }\n",
       "  }\n",
       "\n",
       "\n",
       "  function run_callbacks() {\n",
       "    try {\n",
       "      root._bokeh_onload_callbacks.forEach(function(callback) {\n",
       "        if (callback != null)\n",
       "          callback();\n",
       "      });\n",
       "    } finally {\n",
       "      delete root._bokeh_onload_callbacks\n",
       "    }\n",
       "    console.debug(\"Bokeh: all callbacks have finished\");\n",
       "  }\n",
       "\n",
       "  function load_libs(css_urls, js_urls, callback) {\n",
       "    if (css_urls == null) css_urls = [];\n",
       "    if (js_urls == null) js_urls = [];\n",
       "\n",
       "    root._bokeh_onload_callbacks.push(callback);\n",
       "    if (root._bokeh_is_loading > 0) {\n",
       "      console.debug(\"Bokeh: BokehJS is being loaded, scheduling callback at\", now());\n",
       "      return null;\n",
       "    }\n",
       "    if (js_urls == null || js_urls.length === 0) {\n",
       "      run_callbacks();\n",
       "      return null;\n",
       "    }\n",
       "    console.debug(\"Bokeh: BokehJS not loaded, scheduling load and callback at\", now());\n",
       "    root._bokeh_is_loading = css_urls.length + js_urls.length;\n",
       "\n",
       "    function on_load() {\n",
       "      root._bokeh_is_loading--;\n",
       "      if (root._bokeh_is_loading === 0) {\n",
       "        console.debug(\"Bokeh: all BokehJS libraries/stylesheets loaded\");\n",
       "        run_callbacks()\n",
       "      }\n",
       "    }\n",
       "\n",
       "    function on_error(url) {\n",
       "      console.error(\"failed to load \" + url);\n",
       "    }\n",
       "\n",
       "    for (let i = 0; i < css_urls.length; i++) {\n",
       "      const url = css_urls[i];\n",
       "      const element = document.createElement(\"link\");\n",
       "      element.onload = on_load;\n",
       "      element.onerror = on_error.bind(null, url);\n",
       "      element.rel = \"stylesheet\";\n",
       "      element.type = \"text/css\";\n",
       "      element.href = url;\n",
       "      console.debug(\"Bokeh: injecting link tag for BokehJS stylesheet: \", url);\n",
       "      document.body.appendChild(element);\n",
       "    }\n",
       "\n",
       "    for (let i = 0; i < js_urls.length; i++) {\n",
       "      const url = js_urls[i];\n",
       "      const element = document.createElement('script');\n",
       "      element.onload = on_load;\n",
       "      element.onerror = on_error.bind(null, url);\n",
       "      element.async = false;\n",
       "      element.src = url;\n",
       "      console.debug(\"Bokeh: injecting script tag for BokehJS library: \", url);\n",
       "      document.head.appendChild(element);\n",
       "    }\n",
       "  };\n",
       "\n",
       "  function inject_raw_css(css) {\n",
       "    const element = document.createElement(\"style\");\n",
       "    element.appendChild(document.createTextNode(css));\n",
       "    document.body.appendChild(element);\n",
       "  }\n",
       "\n",
       "  \n",
       "  const js_urls = [\"https://cdn.bokeh.org/bokeh/release/bokeh-2.4.2.min.js\", \"https://cdn.bokeh.org/bokeh/release/bokeh-gl-2.4.2.min.js\", \"https://cdn.bokeh.org/bokeh/release/bokeh-widgets-2.4.2.min.js\", \"https://cdn.bokeh.org/bokeh/release/bokeh-tables-2.4.2.min.js\", \"https://cdn.bokeh.org/bokeh/release/bokeh-mathjax-2.4.2.min.js\"];\n",
       "  const css_urls = [];\n",
       "  \n",
       "\n",
       "  const inline_js = [\n",
       "    function(Bokeh) {\n",
       "      Bokeh.set_log_level(\"info\");\n",
       "    },\n",
       "    function(Bokeh) {\n",
       "    \n",
       "    \n",
       "    }\n",
       "  ];\n",
       "\n",
       "  function run_inline_js() {\n",
       "    \n",
       "    if (root.Bokeh !== undefined || force === true) {\n",
       "      \n",
       "    for (let i = 0; i < inline_js.length; i++) {\n",
       "      inline_js[i].call(root, root.Bokeh);\n",
       "    }\n",
       "    if (force === true) {\n",
       "        display_loaded();\n",
       "      }} else if (Date.now() < root._bokeh_timeout) {\n",
       "      setTimeout(run_inline_js, 100);\n",
       "    } else if (!root._bokeh_failed_load) {\n",
       "      console.log(\"Bokeh: BokehJS failed to load within specified timeout.\");\n",
       "      root._bokeh_failed_load = true;\n",
       "    } else if (force !== true) {\n",
       "      const cell = $(document.getElementById(\"1453\")).parents('.cell').data().cell;\n",
       "      cell.output_area.append_execute_result(NB_LOAD_WARNING)\n",
       "    }\n",
       "\n",
       "  }\n",
       "\n",
       "  if (root._bokeh_is_loading === 0) {\n",
       "    console.debug(\"Bokeh: BokehJS loaded, going straight to plotting\");\n",
       "    run_inline_js();\n",
       "  } else {\n",
       "    load_libs(css_urls, js_urls, function() {\n",
       "      console.debug(\"Bokeh: BokehJS plotting callback run at\", now());\n",
       "      run_inline_js();\n",
       "    });\n",
       "  }\n",
       "}(window));"
      ],
      "application/vnd.bokehjs_load.v0+json": "\n(function(root) {\n  function now() {\n    return new Date();\n  }\n\n  const force = true;\n\n  if (typeof root._bokeh_onload_callbacks === \"undefined\" || force === true) {\n    root._bokeh_onload_callbacks = [];\n    root._bokeh_is_loading = undefined;\n  }\n\n  \n\n  \n  if (typeof (root._bokeh_timeout) === \"undefined\" || force === true) {\n    root._bokeh_timeout = Date.now() + 5000;\n    root._bokeh_failed_load = false;\n  }\n\n  const NB_LOAD_WARNING = {'data': {'text/html':\n     \"<div style='background-color: #fdd'>\\n\"+\n     \"<p>\\n\"+\n     \"BokehJS does not appear to have successfully loaded. If loading BokehJS from CDN, this \\n\"+\n     \"may be due to a slow or bad network connection. Possible fixes:\\n\"+\n     \"</p>\\n\"+\n     \"<ul>\\n\"+\n     \"<li>re-rerun `output_notebook()` to attempt to load from CDN again, or</li>\\n\"+\n     \"<li>use INLINE resources instead, as so:</li>\\n\"+\n     \"</ul>\\n\"+\n     \"<code>\\n\"+\n     \"from bokeh.resources import INLINE\\n\"+\n     \"output_notebook(resources=INLINE)\\n\"+\n     \"</code>\\n\"+\n     \"</div>\"}};\n\n  function display_loaded() {\n    const el = document.getElementById(\"1453\");\n    if (el != null) {\n      el.textContent = \"BokehJS is loading...\";\n    }\n    if (root.Bokeh !== undefined) {\n      if (el != null) {\n        el.textContent = \"BokehJS \" + root.Bokeh.version + \" successfully loaded.\";\n      }\n    } else if (Date.now() < root._bokeh_timeout) {\n      setTimeout(display_loaded, 100)\n    }\n  }\n\n\n  function run_callbacks() {\n    try {\n      root._bokeh_onload_callbacks.forEach(function(callback) {\n        if (callback != null)\n          callback();\n      });\n    } finally {\n      delete root._bokeh_onload_callbacks\n    }\n    console.debug(\"Bokeh: all callbacks have finished\");\n  }\n\n  function load_libs(css_urls, js_urls, callback) {\n    if (css_urls == null) css_urls = [];\n    if (js_urls == null) js_urls = [];\n\n    root._bokeh_onload_callbacks.push(callback);\n    if (root._bokeh_is_loading > 0) {\n      console.debug(\"Bokeh: BokehJS is being loaded, scheduling callback at\", now());\n      return null;\n    }\n    if (js_urls == null || js_urls.length === 0) {\n      run_callbacks();\n      return null;\n    }\n    console.debug(\"Bokeh: BokehJS not loaded, scheduling load and callback at\", now());\n    root._bokeh_is_loading = css_urls.length + js_urls.length;\n\n    function on_load() {\n      root._bokeh_is_loading--;\n      if (root._bokeh_is_loading === 0) {\n        console.debug(\"Bokeh: all BokehJS libraries/stylesheets loaded\");\n        run_callbacks()\n      }\n    }\n\n    function on_error(url) {\n      console.error(\"failed to load \" + url);\n    }\n\n    for (let i = 0; i < css_urls.length; i++) {\n      const url = css_urls[i];\n      const element = document.createElement(\"link\");\n      element.onload = on_load;\n      element.onerror = on_error.bind(null, url);\n      element.rel = \"stylesheet\";\n      element.type = \"text/css\";\n      element.href = url;\n      console.debug(\"Bokeh: injecting link tag for BokehJS stylesheet: \", url);\n      document.body.appendChild(element);\n    }\n\n    for (let i = 0; i < js_urls.length; i++) {\n      const url = js_urls[i];\n      const element = document.createElement('script');\n      element.onload = on_load;\n      element.onerror = on_error.bind(null, url);\n      element.async = false;\n      element.src = url;\n      console.debug(\"Bokeh: injecting script tag for BokehJS library: \", url);\n      document.head.appendChild(element);\n    }\n  };\n\n  function inject_raw_css(css) {\n    const element = document.createElement(\"style\");\n    element.appendChild(document.createTextNode(css));\n    document.body.appendChild(element);\n  }\n\n  \n  const js_urls = [\"https://cdn.bokeh.org/bokeh/release/bokeh-2.4.2.min.js\", \"https://cdn.bokeh.org/bokeh/release/bokeh-gl-2.4.2.min.js\", \"https://cdn.bokeh.org/bokeh/release/bokeh-widgets-2.4.2.min.js\", \"https://cdn.bokeh.org/bokeh/release/bokeh-tables-2.4.2.min.js\", \"https://cdn.bokeh.org/bokeh/release/bokeh-mathjax-2.4.2.min.js\"];\n  const css_urls = [];\n  \n\n  const inline_js = [\n    function(Bokeh) {\n      Bokeh.set_log_level(\"info\");\n    },\n    function(Bokeh) {\n    \n    \n    }\n  ];\n\n  function run_inline_js() {\n    \n    if (root.Bokeh !== undefined || force === true) {\n      \n    for (let i = 0; i < inline_js.length; i++) {\n      inline_js[i].call(root, root.Bokeh);\n    }\n    if (force === true) {\n        display_loaded();\n      }} else if (Date.now() < root._bokeh_timeout) {\n      setTimeout(run_inline_js, 100);\n    } else if (!root._bokeh_failed_load) {\n      console.log(\"Bokeh: BokehJS failed to load within specified timeout.\");\n      root._bokeh_failed_load = true;\n    } else if (force !== true) {\n      const cell = $(document.getElementById(\"1453\")).parents('.cell').data().cell;\n      cell.output_area.append_execute_result(NB_LOAD_WARNING)\n    }\n\n  }\n\n  if (root._bokeh_is_loading === 0) {\n    console.debug(\"Bokeh: BokehJS loaded, going straight to plotting\");\n    run_inline_js();\n  } else {\n    load_libs(css_urls, js_urls, function() {\n      console.debug(\"Bokeh: BokehJS plotting callback run at\", now());\n      run_inline_js();\n    });\n  }\n}(window));"
     },
     "metadata": {},
     "output_type": "display_data"
    },
    {
     "data": {
      "text/html": [
       "\n",
       "\n",
       "\n",
       "\n",
       "\n",
       "\n",
       "  <div class=\"bk-root\" id=\"93e6d7b9-09b3-46bc-8b2a-d424a94cca11\" data-root-id=\"1452\"></div>\n"
      ]
     },
     "metadata": {},
     "output_type": "display_data"
    },
    {
     "data": {
      "application/javascript": [
       "(function(root) {\n",
       "  function embed_document(root) {\n",
       "    \n",
       "  const docs_json = {\"7bf4eb41-5b2f-4aaa-9445-f1db10de22d7\":{\"defs\":[],\"roots\":{\"references\":[{\"attributes\":{\"children\":[{\"id\":\"1367\"}]},\"id\":\"1452\",\"type\":\"Column\"},{\"attributes\":{},\"id\":\"1386\",\"type\":\"SaveTool\"},{\"attributes\":{\"coordinates\":null,\"group\":null,\"render_mode\":\"css\",\"text\":\"71\",\"text_font_size\":\"10px\",\"x\":-18,\"x_units\":\"screen\",\"y\":71.1},\"id\":\"1421\",\"type\":\"Label\"},{\"attributes\":{\"bottom\":66,\"coordinates\":null,\"fill_alpha\":0.15,\"fill_color\":\"gray\",\"group\":null,\"level\":\"underlay\",\"line_color\":\"black\",\"top\":67},\"id\":\"1410\",\"type\":\"BoxAnnotation\"},{\"attributes\":{\"callback\":null,\"tooltips\":[[\"program\",\"@program\"],[\"pitch\",\"@top\"],[\"velocity\",\"@velocity\"],[\"duration\",\"@duration\"],[\"start_time\",\"@left\"],[\"end_time\",\"@right\"]]},\"id\":\"1385\",\"type\":\"HoverTool\"},{\"attributes\":{\"axis\":{\"id\":\"1380\"},\"coordinates\":null,\"dimension\":1,\"grid_line_color\":null,\"group\":null,\"ticker\":null},\"id\":\"1383\",\"type\":\"Grid\"},{\"attributes\":{\"bottom\":72,\"coordinates\":null,\"fill_alpha\":0.15,\"fill_color\":\"gray\",\"group\":null,\"level\":\"underlay\",\"line_color\":\"black\",\"top\":73},\"id\":\"1422\",\"type\":\"BoxAnnotation\"},{\"attributes\":{\"data\":{\"bottom\":[73,67],\"color\":[\"rgb(255, 51, 255)\",\"rgb(255, 51, 255)\"],\"duration\":[0.3,1.1399999999999997],\"left\":[0.0,6.7],\"program\":[0,0],\"right\":[0.3,7.84],\"top\":[72,66],\"velocity\":[73,74]},\"selected\":{\"id\":\"1481\"},\"selection_policy\":{\"id\":\"1480\"}},\"id\":\"1403\",\"type\":\"ColumnDataSource\"},{\"attributes\":{\"coordinates\":null,\"fill_alpha\":0.25,\"fill_color\":\"gray\",\"group\":null,\"left\":4.0,\"level\":\"underlay\",\"line_alpha\":0.5,\"line_color\":\"black\",\"line_width\":2,\"right\":6.0},\"id\":\"1426\",\"type\":\"BoxAnnotation\"},{\"attributes\":{\"coordinates\":null,\"fill_color\":null,\"group\":null,\"left\":7.0,\"level\":\"underlay\",\"line_alpha\":0.4,\"line_color\":\"black\",\"right\":7.5},\"id\":\"1442\",\"type\":\"BoxAnnotation\"},{\"attributes\":{},\"id\":\"1481\",\"type\":\"Selection\"},{\"attributes\":{\"coordinates\":null,\"group\":null,\"text\":\"Visual MIDI (120 QPM, 4/4)\",\"text_font_size\":\"14px\"},\"id\":\"1448\",\"type\":\"Title\"},{\"attributes\":{},\"id\":\"1480\",\"type\":\"UnionRenderers\"},{\"attributes\":{\"coordinates\":null,\"fill_color\":null,\"group\":null,\"left\":1.0,\"level\":\"underlay\",\"line_alpha\":0.4,\"line_color\":\"black\",\"right\":1.5},\"id\":\"1430\",\"type\":\"BoxAnnotation\"},{\"attributes\":{},\"id\":\"1387\",\"type\":\"WheelZoomTool\"},{\"attributes\":{\"coordinates\":null,\"fill_alpha\":0.05,\"fill_color\":\"gray\",\"group\":null,\"left\":6.0,\"level\":\"underlay\",\"line_alpha\":0.5,\"line_color\":\"black\",\"line_width\":2,\"right\":8.0},\"id\":\"1427\",\"type\":\"BoxAnnotation\"},{\"attributes\":{\"interval\":1},\"id\":\"1446\",\"type\":\"SingleIntervalTicker\"},{\"attributes\":{},\"id\":\"1384\",\"type\":\"ResetTool\"},{\"attributes\":{\"coordinates\":null,\"group\":null,\"render_mode\":\"css\",\"text\":\"69\",\"text_font_size\":\"10px\",\"x\":-18,\"x_units\":\"screen\",\"y\":69.1},\"id\":\"1417\",\"type\":\"Label\"},{\"attributes\":{\"coordinates\":null,\"fill_color\":null,\"group\":null,\"left\":2.5,\"level\":\"underlay\",\"line_alpha\":0.4,\"line_color\":\"black\",\"right\":3.0},\"id\":\"1433\",\"type\":\"BoxAnnotation\"},{\"attributes\":{},\"id\":\"1388\",\"type\":\"PanTool\"},{\"attributes\":{\"bottom\":71,\"coordinates\":null,\"fill_alpha\":0.0,\"fill_color\":\"gray\",\"group\":null,\"level\":\"underlay\",\"line_color\":\"black\",\"top\":72},\"id\":\"1420\",\"type\":\"BoxAnnotation\"},{\"attributes\":{\"coordinates\":null,\"fill_color\":null,\"group\":null,\"left\":6.5,\"level\":\"underlay\",\"line_alpha\":0.4,\"line_color\":\"black\",\"right\":7.0},\"id\":\"1441\",\"type\":\"BoxAnnotation\"},{\"attributes\":{},\"id\":\"1372\",\"type\":\"LinearScale\"},{\"attributes\":{},\"id\":\"1374\",\"type\":\"LinearScale\"},{\"attributes\":{\"coordinates\":null,\"fill_color\":null,\"group\":null,\"left\":1.5,\"level\":\"underlay\",\"line_alpha\":0.4,\"line_color\":\"black\",\"right\":2.0},\"id\":\"1431\",\"type\":\"BoxAnnotation\"},{\"attributes\":{\"bottom\":70,\"coordinates\":null,\"fill_alpha\":0.15,\"fill_color\":\"gray\",\"group\":null,\"level\":\"underlay\",\"line_color\":\"black\",\"top\":71},\"id\":\"1418\",\"type\":\"BoxAnnotation\"},{\"attributes\":{\"coordinates\":null,\"fill_color\":null,\"group\":null,\"left\":4.0,\"level\":\"underlay\",\"line_alpha\":0.4,\"line_color\":\"black\",\"right\":4.5},\"id\":\"1436\",\"type\":\"BoxAnnotation\"},{\"attributes\":{\"coordinates\":null,\"fill_color\":null,\"group\":null,\"left\":5.0,\"level\":\"underlay\",\"line_alpha\":0.4,\"line_color\":\"black\",\"right\":5.5},\"id\":\"1438\",\"type\":\"BoxAnnotation\"},{\"attributes\":{\"coordinates\":null,\"group\":null,\"render_mode\":\"css\",\"text\":\"67\",\"text_font_size\":\"10px\",\"x\":-18,\"x_units\":\"screen\",\"y\":67.1},\"id\":\"1413\",\"type\":\"Label\"},{\"attributes\":{\"axis_label\":\"pitch (MIDI)\",\"axis_label_standoff\":0,\"axis_label_text_font_size\":\"12px\",\"bounds\":[66,73],\"coordinates\":null,\"formatter\":{\"id\":\"1398\"},\"group\":null,\"major_label_policy\":{\"id\":\"1399\"},\"major_label_text_alpha\":0,\"major_tick_line_alpha\":0.9,\"major_tick_out\":25,\"minor_tick_line_alpha\":0,\"ticker\":{\"id\":\"1446\"}},\"id\":\"1380\",\"type\":\"LinearAxis\"},{\"attributes\":{\"coordinates\":null,\"fill_color\":null,\"group\":null,\"left\":3.0,\"level\":\"underlay\",\"line_alpha\":0.4,\"line_color\":\"black\",\"right\":3.5},\"id\":\"1434\",\"type\":\"BoxAnnotation\"},{\"attributes\":{\"coordinates\":null,\"fill_color\":null,\"group\":null,\"left\":5.5,\"level\":\"underlay\",\"line_alpha\":0.4,\"line_color\":\"black\",\"right\":6.0},\"id\":\"1439\",\"type\":\"BoxAnnotation\"},{\"attributes\":{\"axis\":{\"id\":\"1376\"},\"coordinates\":null,\"grid_line_color\":null,\"group\":null,\"ticker\":null},\"id\":\"1379\",\"type\":\"Grid\"},{\"attributes\":{\"coordinates\":null,\"fill_color\":null,\"group\":null,\"left\":4.5,\"level\":\"underlay\",\"line_alpha\":0.4,\"line_color\":\"black\",\"right\":5.0},\"id\":\"1437\",\"type\":\"BoxAnnotation\"},{\"attributes\":{\"coordinates\":null,\"fill_color\":null,\"group\":null,\"left\":6.0,\"level\":\"underlay\",\"line_alpha\":0.4,\"line_color\":\"black\",\"right\":6.5},\"id\":\"1440\",\"type\":\"BoxAnnotation\"},{\"attributes\":{\"coordinates\":null,\"fill_color\":null,\"group\":null,\"left\":3.5,\"level\":\"underlay\",\"line_alpha\":0.4,\"line_color\":\"black\",\"right\":4.0},\"id\":\"1435\",\"type\":\"BoxAnnotation\"},{\"attributes\":{\"coordinates\":null,\"group\":null,\"render_mode\":\"css\",\"text\":\"68\",\"text_font_size\":\"10px\",\"x\":-18,\"x_units\":\"screen\",\"y\":68.1},\"id\":\"1415\",\"type\":\"Label\"},{\"attributes\":{\"axis_label\":\"time (SEC)\",\"axis_label_text_font_size\":\"12px\",\"bounds\":[6.0,8.0],\"coordinates\":null,\"formatter\":{\"id\":\"1401\"},\"group\":null,\"major_label_policy\":{\"id\":\"1402\"},\"major_label_text_font_size\":\"10px\",\"major_tick_line_alpha\":0.9,\"major_tick_out\":5,\"minor_tick_line_alpha\":0,\"ticker\":{\"id\":\"1444\"}},\"id\":\"1376\",\"type\":\"LinearAxis\"},{\"attributes\":{\"coordinates\":null,\"group\":null,\"render_mode\":\"css\",\"text\":\"70\",\"text_font_size\":\"10px\",\"x\":-18,\"x_units\":\"screen\",\"y\":70.1},\"id\":\"1419\",\"type\":\"Label\"},{\"attributes\":{},\"id\":\"1402\",\"type\":\"AllLabels\"},{\"attributes\":{\"coordinates\":null,\"fill_alpha\":0.25,\"fill_color\":\"gray\",\"group\":null,\"left\":0.0,\"level\":\"underlay\",\"line_alpha\":0.5,\"line_color\":\"black\",\"line_width\":2,\"right\":2.0},\"id\":\"1424\",\"type\":\"BoxAnnotation\"},{\"attributes\":{\"coordinates\":null,\"fill_color\":null,\"group\":null,\"left\":0.0,\"level\":\"underlay\",\"line_alpha\":0.4,\"line_color\":\"black\",\"right\":0.5},\"id\":\"1428\",\"type\":\"BoxAnnotation\"},{\"attributes\":{\"bottom\":{\"field\":\"bottom\"},\"fill_alpha\":{\"value\":0.1},\"fill_color\":{\"field\":\"color\"},\"hatch_alpha\":{\"value\":0.1},\"hatch_color\":{\"field\":\"color\"},\"left\":{\"field\":\"left\"},\"line_alpha\":{\"value\":0.1},\"right\":{\"field\":\"right\"},\"top\":{\"field\":\"top\"}},\"id\":\"1406\",\"type\":\"Quad\"},{\"attributes\":{},\"id\":\"1401\",\"type\":\"BasicTickFormatter\"},{\"attributes\":{\"coordinates\":null,\"fill_alpha\":0.05,\"fill_color\":\"gray\",\"group\":null,\"left\":2.0,\"level\":\"underlay\",\"line_alpha\":0.5,\"line_color\":\"black\",\"line_width\":2,\"right\":4.0},\"id\":\"1425\",\"type\":\"BoxAnnotation\"},{\"attributes\":{\"bottom\":{\"field\":\"bottom\"},\"fill_color\":{\"field\":\"color\"},\"hatch_color\":{\"field\":\"color\"},\"left\":{\"field\":\"left\"},\"right\":{\"field\":\"right\"},\"top\":{\"field\":\"top\"}},\"id\":\"1405\",\"type\":\"Quad\"},{\"attributes\":{\"coordinates\":null,\"fill_color\":null,\"group\":null,\"left\":2.0,\"level\":\"underlay\",\"line_alpha\":0.4,\"line_color\":\"black\",\"right\":2.5},\"id\":\"1432\",\"type\":\"BoxAnnotation\"},{\"attributes\":{\"bottom\":{\"field\":\"bottom\"},\"fill_alpha\":{\"value\":0.2},\"fill_color\":{\"field\":\"color\"},\"hatch_alpha\":{\"value\":0.2},\"hatch_color\":{\"field\":\"color\"},\"left\":{\"field\":\"left\"},\"line_alpha\":{\"value\":0.2},\"right\":{\"field\":\"right\"},\"top\":{\"field\":\"top\"}},\"id\":\"1407\",\"type\":\"Quad\"},{\"attributes\":{\"end\":73,\"start\":66},\"id\":\"1451\",\"type\":\"Range1d\"},{\"attributes\":{\"bottom\":69,\"coordinates\":null,\"fill_alpha\":0.0,\"fill_color\":\"gray\",\"group\":null,\"level\":\"underlay\",\"line_color\":\"black\",\"top\":70},\"id\":\"1416\",\"type\":\"BoxAnnotation\"},{\"attributes\":{\"bottom\":68,\"coordinates\":null,\"fill_alpha\":0.15,\"fill_color\":\"gray\",\"group\":null,\"level\":\"underlay\",\"line_color\":\"black\",\"top\":69},\"id\":\"1414\",\"type\":\"BoxAnnotation\"},{\"attributes\":{\"coordinates\":null,\"group\":null,\"render_mode\":\"css\",\"text\":\"66\",\"text_font_size\":\"10px\",\"x\":-18,\"x_units\":\"screen\",\"y\":66.1},\"id\":\"1411\",\"type\":\"Label\"},{\"attributes\":{\"coordinates\":null,\"fill_color\":null,\"group\":null,\"left\":7.5,\"level\":\"underlay\",\"line_alpha\":0.4,\"line_color\":\"black\",\"right\":8.0},\"id\":\"1443\",\"type\":\"BoxAnnotation\"},{\"attributes\":{\"coordinates\":null,\"fill_color\":null,\"group\":null,\"left\":0.5,\"level\":\"underlay\",\"line_alpha\":0.4,\"line_color\":\"black\",\"right\":1.0},\"id\":\"1429\",\"type\":\"BoxAnnotation\"},{\"attributes\":{\"below\":[{\"id\":\"1376\"}],\"center\":[{\"id\":\"1379\"},{\"id\":\"1383\"},{\"id\":\"1410\"},{\"id\":\"1411\"},{\"id\":\"1412\"},{\"id\":\"1413\"},{\"id\":\"1414\"},{\"id\":\"1415\"},{\"id\":\"1416\"},{\"id\":\"1417\"},{\"id\":\"1418\"},{\"id\":\"1419\"},{\"id\":\"1420\"},{\"id\":\"1421\"},{\"id\":\"1422\"},{\"id\":\"1423\"},{\"id\":\"1424\"},{\"id\":\"1425\"},{\"id\":\"1426\"},{\"id\":\"1427\"},{\"id\":\"1428\"},{\"id\":\"1429\"},{\"id\":\"1430\"},{\"id\":\"1431\"},{\"id\":\"1432\"},{\"id\":\"1433\"},{\"id\":\"1434\"},{\"id\":\"1435\"},{\"id\":\"1436\"},{\"id\":\"1437\"},{\"id\":\"1438\"},{\"id\":\"1439\"},{\"id\":\"1440\"},{\"id\":\"1441\"},{\"id\":\"1442\"},{\"id\":\"1443\"}],\"height\":400,\"left\":[{\"id\":\"1380\"}],\"min_border_right\":50,\"outline_line_color\":\"black\",\"renderers\":[{\"id\":\"1408\"}],\"title\":{\"id\":\"1448\"},\"toolbar\":{\"id\":\"1389\"},\"width\":1200,\"x_range\":{\"id\":\"1450\"},\"x_scale\":{\"id\":\"1372\"},\"y_range\":{\"id\":\"1451\"},\"y_scale\":{\"id\":\"1374\"}},\"id\":\"1367\",\"subtype\":\"Figure\",\"type\":\"Plot\"},{\"attributes\":{\"coordinates\":null,\"data_source\":{\"id\":\"1403\"},\"glyph\":{\"id\":\"1405\"},\"group\":null,\"hover_glyph\":null,\"muted_glyph\":{\"id\":\"1407\"},\"nonselection_glyph\":{\"id\":\"1406\"},\"view\":{\"id\":\"1409\"}},\"id\":\"1408\",\"type\":\"GlyphRenderer\"},{\"attributes\":{},\"id\":\"1399\",\"type\":\"AllLabels\"},{\"attributes\":{\"source\":{\"id\":\"1403\"}},\"id\":\"1409\",\"type\":\"CDSView\"},{\"attributes\":{\"bottom\":67,\"coordinates\":null,\"fill_alpha\":0.0,\"fill_color\":\"gray\",\"group\":null,\"level\":\"underlay\",\"line_color\":\"black\",\"top\":68},\"id\":\"1412\",\"type\":\"BoxAnnotation\"},{\"attributes\":{\"tools\":[{\"id\":\"1384\"},{\"id\":\"1385\"},{\"id\":\"1386\"},{\"id\":\"1387\"},{\"id\":\"1388\"}]},\"id\":\"1389\",\"type\":\"Toolbar\"},{\"attributes\":{\"coordinates\":null,\"group\":null,\"render_mode\":\"css\",\"text\":\"72\",\"text_font_size\":\"10px\",\"x\":-18,\"x_units\":\"screen\",\"y\":72.1},\"id\":\"1423\",\"type\":\"Label\"},{\"attributes\":{\"end\":8.0,\"start\":6.0},\"id\":\"1450\",\"type\":\"Range1d\"},{\"attributes\":{\"interval\":1},\"id\":\"1444\",\"type\":\"SingleIntervalTicker\"},{\"attributes\":{},\"id\":\"1398\",\"type\":\"BasicTickFormatter\"}],\"root_ids\":[\"1452\"]},\"title\":\"Bokeh Application\",\"version\":\"2.4.2\"}};\n",
       "  const render_items = [{\"docid\":\"7bf4eb41-5b2f-4aaa-9445-f1db10de22d7\",\"root_ids\":[\"1452\"],\"roots\":{\"1452\":\"93e6d7b9-09b3-46bc-8b2a-d424a94cca11\"}}];\n",
       "  root.Bokeh.embed.embed_items_notebook(docs_json, render_items);\n",
       "\n",
       "  }\n",
       "  if (root.Bokeh !== undefined) {\n",
       "    embed_document(root);\n",
       "  } else {\n",
       "    let attempts = 0;\n",
       "    const timer = setInterval(function(root) {\n",
       "      if (root.Bokeh !== undefined) {\n",
       "        clearInterval(timer);\n",
       "        embed_document(root);\n",
       "      } else {\n",
       "        attempts++;\n",
       "        if (attempts > 100) {\n",
       "          clearInterval(timer);\n",
       "          console.log(\"Bokeh: ERROR: Unable to run BokehJS code because BokehJS library is missing\");\n",
       "        }\n",
       "      }\n",
       "    }, 10, root)\n",
       "  }\n",
       "})(window);"
      ],
      "application/vnd.bokehjs_exec.v0+json": ""
     },
     "metadata": {
      "application/vnd.bokehjs_exec.v0+json": {
       "id": "1452"
      }
     },
     "output_type": "display_data"
    },
    {
     "data": {
      "text/html": [
       "<div style=\"display: table;\"><div style=\"display: table-row;\"><div style=\"display: table-cell;\"><b title=\"bokeh.models.layouts.Column\">Column</b>(</div><div style=\"display: table-cell;\">id&nbsp;=&nbsp;'1452', <span id=\"1518\" style=\"cursor: pointer;\">&hellip;)</span></div></div><div class=\"1517\" style=\"display: none;\"><div style=\"display: table-cell;\"></div><div style=\"display: table-cell;\">align&nbsp;=&nbsp;'start',</div></div><div class=\"1517\" style=\"display: none;\"><div style=\"display: table-cell;\"></div><div style=\"display: table-cell;\">aspect_ratio&nbsp;=&nbsp;None,</div></div><div class=\"1517\" style=\"display: none;\"><div style=\"display: table-cell;\"></div><div style=\"display: table-cell;\">background&nbsp;=&nbsp;None,</div></div><div class=\"1517\" style=\"display: none;\"><div style=\"display: table-cell;\"></div><div style=\"display: table-cell;\">children&nbsp;=&nbsp;[Figure(id='1367', ...)],</div></div><div class=\"1517\" style=\"display: none;\"><div style=\"display: table-cell;\"></div><div style=\"display: table-cell;\">css_classes&nbsp;=&nbsp;[],</div></div><div class=\"1517\" style=\"display: none;\"><div style=\"display: table-cell;\"></div><div style=\"display: table-cell;\">disabled&nbsp;=&nbsp;False,</div></div><div class=\"1517\" style=\"display: none;\"><div style=\"display: table-cell;\"></div><div style=\"display: table-cell;\">height&nbsp;=&nbsp;None,</div></div><div class=\"1517\" style=\"display: none;\"><div style=\"display: table-cell;\"></div><div style=\"display: table-cell;\">height_policy&nbsp;=&nbsp;'auto',</div></div><div class=\"1517\" style=\"display: none;\"><div style=\"display: table-cell;\"></div><div style=\"display: table-cell;\">js_event_callbacks&nbsp;=&nbsp;{},</div></div><div class=\"1517\" style=\"display: none;\"><div style=\"display: table-cell;\"></div><div style=\"display: table-cell;\">js_property_callbacks&nbsp;=&nbsp;{},</div></div><div class=\"1517\" style=\"display: none;\"><div style=\"display: table-cell;\"></div><div style=\"display: table-cell;\">margin&nbsp;=&nbsp;(0, 0, 0, 0),</div></div><div class=\"1517\" style=\"display: none;\"><div style=\"display: table-cell;\"></div><div style=\"display: table-cell;\">max_height&nbsp;=&nbsp;None,</div></div><div class=\"1517\" style=\"display: none;\"><div style=\"display: table-cell;\"></div><div style=\"display: table-cell;\">max_width&nbsp;=&nbsp;None,</div></div><div class=\"1517\" style=\"display: none;\"><div style=\"display: table-cell;\"></div><div style=\"display: table-cell;\">min_height&nbsp;=&nbsp;None,</div></div><div class=\"1517\" style=\"display: none;\"><div style=\"display: table-cell;\"></div><div style=\"display: table-cell;\">min_width&nbsp;=&nbsp;None,</div></div><div class=\"1517\" style=\"display: none;\"><div style=\"display: table-cell;\"></div><div style=\"display: table-cell;\">name&nbsp;=&nbsp;None,</div></div><div class=\"1517\" style=\"display: none;\"><div style=\"display: table-cell;\"></div><div style=\"display: table-cell;\">rows&nbsp;=&nbsp;'auto',</div></div><div class=\"1517\" style=\"display: none;\"><div style=\"display: table-cell;\"></div><div style=\"display: table-cell;\">sizing_mode&nbsp;=&nbsp;None,</div></div><div class=\"1517\" style=\"display: none;\"><div style=\"display: table-cell;\"></div><div style=\"display: table-cell;\">spacing&nbsp;=&nbsp;0,</div></div><div class=\"1517\" style=\"display: none;\"><div style=\"display: table-cell;\"></div><div style=\"display: table-cell;\">subscribed_events&nbsp;=&nbsp;[],</div></div><div class=\"1517\" style=\"display: none;\"><div style=\"display: table-cell;\"></div><div style=\"display: table-cell;\">syncable&nbsp;=&nbsp;True,</div></div><div class=\"1517\" style=\"display: none;\"><div style=\"display: table-cell;\"></div><div style=\"display: table-cell;\">tags&nbsp;=&nbsp;[],</div></div><div class=\"1517\" style=\"display: none;\"><div style=\"display: table-cell;\"></div><div style=\"display: table-cell;\">visible&nbsp;=&nbsp;True,</div></div><div class=\"1517\" style=\"display: none;\"><div style=\"display: table-cell;\"></div><div style=\"display: table-cell;\">width&nbsp;=&nbsp;None,</div></div><div class=\"1517\" style=\"display: none;\"><div style=\"display: table-cell;\"></div><div style=\"display: table-cell;\">width_policy&nbsp;=&nbsp;'auto')</div></div></div>\n",
       "<script>\n",
       "(function() {\n",
       "  let expanded = false;\n",
       "  const ellipsis = document.getElementById(\"1518\");\n",
       "  ellipsis.addEventListener(\"click\", function() {\n",
       "    const rows = document.getElementsByClassName(\"1517\");\n",
       "    for (let i = 0; i < rows.length; i++) {\n",
       "      const el = rows[i];\n",
       "      el.style.display = expanded ? \"none\" : \"table-row\";\n",
       "    }\n",
       "    ellipsis.innerHTML = expanded ? \"&hellip;)\" : \"&lsaquo;&lsaquo;&lsaquo;\";\n",
       "    expanded = !expanded;\n",
       "  });\n",
       "})();\n",
       "</script>\n"
      ],
      "text/plain": [
       "Column(id='1452', ...)"
      ]
     },
     "execution_count": 44,
     "metadata": {},
     "output_type": "execute_result"
    }
   ],
   "source": [
    "%%capture --no-display\n",
    "\n",
    "coloring = visual_midi.presets.Coloring.INSTRUMENT\n",
    "plotter = visual_midi.Plotter(coloring=coloring)\n",
    "plotter.show_notebook(melody)"
   ]
  },
  {
   "cell_type": "code",
   "execution_count": 4,
   "id": "82470614-0f34-491b-bf0e-5168749afb17",
   "metadata": {},
   "outputs": [],
   "source": [
    "directory = 'bigger_dataset'\n",
    "for i, file in enumerate(bigger_examples_files):\n",
    "    create_nparray_dataset(file, directory, name=f'nparray{i}')"
   ]
  },
  {
   "cell_type": "markdown",
   "id": "eb777da0-09d2-4920-b58d-d171d3201c3d",
   "metadata": {
    "jp-MarkdownHeadingCollapsed": true,
    "tags": []
   },
   "source": [
    "## Let's add another feature\n",
    "Is a note played ? (0 or 1)"
   ]
  },
  {
   "cell_type": "code",
   "execution_count": 7,
   "id": "21bbf2fa-c322-4933-a2b6-b74606b66cfb",
   "metadata": {},
   "outputs": [],
   "source": [
    "test_file = joblib.load('../raw_data/pandas_dataframes/bigger_dataset/nparray4')"
   ]
  },
  {
   "cell_type": "code",
   "execution_count": 8,
   "id": "198b3a1d-15e0-46e0-aaa5-64149bf1ca66",
   "metadata": {},
   "outputs": [
    {
     "data": {
      "text/plain": [
       "(500,)"
      ]
     },
     "execution_count": 8,
     "metadata": {},
     "output_type": "execute_result"
    }
   ],
   "source": [
    "test_file[1][0].shape"
   ]
  },
  {
   "cell_type": "code",
   "execution_count": 9,
   "id": "fcfad8e6-0761-4f13-9911-b706e560343b",
   "metadata": {},
   "outputs": [],
   "source": [
    "def is_there_a_note(array):\n",
    "    \"\"\"\n",
    "    Return an array of 0 and 1, 0 when no note is played, 1 when a note is played\n",
    "    Args:\n",
    "        array : an array of dim 2\n",
    "    \"\"\"\n",
    "    \n",
    "    # We instanciate a flattened empty array from the input array's shape\n",
    "    output = np.zeros(array.shape).reshape(-1, 1)\n",
    "    \n",
    "    for i, note in enumerate(array.reshape(-1, 1)): # We want to iterate over all the array at once\n",
    "        if int(note[0]) != 0:\n",
    "            output[i][0] = 1\n",
    "    \n",
    "    return output.reshape(array.shape)"
   ]
  }
 ],
 "metadata": {
  "kernelspec": {
   "display_name": "Python 3 (ipykernel)",
   "language": "python",
   "name": "python3"
  },
  "language_info": {
   "codemirror_mode": {
    "name": "ipython",
    "version": 3
   },
   "file_extension": ".py",
   "mimetype": "text/x-python",
   "name": "python",
   "nbconvert_exporter": "python",
   "pygments_lexer": "ipython3",
   "version": "3.8.12"
  }
 },
 "nbformat": 4,
 "nbformat_minor": 5
}
