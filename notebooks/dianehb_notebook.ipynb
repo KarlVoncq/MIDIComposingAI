{
 "cells": [
  {
   "cell_type": "code",
   "execution_count": 4,
   "id": "f28eecc9",
   "metadata": {},
   "outputs": [],
   "source": [
    "import glob\n",
    "import pretty_midi\n",
    "import joblib\n",
    "import pandas as pd\n",
    "import numpy as np\n",
    "from sklearn.model_selection import train_test_split\n",
    "from tensorflow.keras import models\n",
    "from tensorflow.keras import layers\n",
    "import os\n",
    "from keras_self_attention import SeqSelfAttention\n"
   ]
  },
  {
   "cell_type": "markdown",
   "id": "7b700e5f",
   "metadata": {
    "heading_collapsed": true
   },
   "source": [
    "## Transform MIDI files to PrettyMIDI\n"
   ]
  },
  {
   "cell_type": "code",
   "execution_count": 1,
   "id": "baa3047a",
   "metadata": {
    "hidden": true
   },
   "outputs": [],
   "source": [
    "# targetPattern = r\"../raw_data/*/*/*/*/*.mid\"\n",
    "\n",
    "# midi_files_paths = glob.glob(targetPattern)\n",
    "\n",
    "# for file in midi_files_paths:\n",
    "#     try:\n",
    "#         joblib.dump(pretty_midi.PrettyMIDI(file), f'../raw_data/pretty_midi/{file.split(\"/\")[-1][:-4]}')\n",
    "        \n",
    "        \n",
    "#     except:\n",
    "        \n",
    "        \n",
    "#         pass"
   ]
  },
  {
   "cell_type": "markdown",
   "id": "51abf311",
   "metadata": {},
   "source": [
    "## Visualize PrettyMIDI files\n"
   ]
  },
  {
   "cell_type": "markdown",
   "id": "5eae055e",
   "metadata": {
    "heading_collapsed": true
   },
   "source": [
    "### Test on 1 random file\n"
   ]
  },
  {
   "cell_type": "code",
   "execution_count": 2,
   "id": "10941053",
   "metadata": {
    "hidden": true,
    "scrolled": false
   },
   "outputs": [
    {
     "data": {
      "text/html": [
       "\n",
       "    <div class=\"bk-root\">\n",
       "        <a href=\"https://bokeh.org\" target=\"_blank\" class=\"bk-logo bk-logo-small bk-logo-notebook\"></a>\n",
       "        <span id=\"1536\">Loading BokehJS ...</span>\n",
       "    </div>"
      ]
     },
     "metadata": {},
     "output_type": "display_data"
    },
    {
     "data": {
      "application/javascript": [
       "\n",
       "(function(root) {\n",
       "  function now() {\n",
       "    return new Date();\n",
       "  }\n",
       "\n",
       "  const force = true;\n",
       "\n",
       "  if (typeof root._bokeh_onload_callbacks === \"undefined\" || force === true) {\n",
       "    root._bokeh_onload_callbacks = [];\n",
       "    root._bokeh_is_loading = undefined;\n",
       "  }\n",
       "\n",
       "  const JS_MIME_TYPE = 'application/javascript';\n",
       "  const HTML_MIME_TYPE = 'text/html';\n",
       "  const EXEC_MIME_TYPE = 'application/vnd.bokehjs_exec.v0+json';\n",
       "  const CLASS_NAME = 'output_bokeh rendered_html';\n",
       "\n",
       "  /**\n",
       "   * Render data to the DOM node\n",
       "   */\n",
       "  function render(props, node) {\n",
       "    const script = document.createElement(\"script\");\n",
       "    node.appendChild(script);\n",
       "  }\n",
       "\n",
       "  /**\n",
       "   * Handle when an output is cleared or removed\n",
       "   */\n",
       "  function handleClearOutput(event, handle) {\n",
       "    const cell = handle.cell;\n",
       "\n",
       "    const id = cell.output_area._bokeh_element_id;\n",
       "    const server_id = cell.output_area._bokeh_server_id;\n",
       "    // Clean up Bokeh references\n",
       "    if (id != null && id in Bokeh.index) {\n",
       "      Bokeh.index[id].model.document.clear();\n",
       "      delete Bokeh.index[id];\n",
       "    }\n",
       "\n",
       "    if (server_id !== undefined) {\n",
       "      // Clean up Bokeh references\n",
       "      const cmd_clean = \"from bokeh.io.state import curstate; print(curstate().uuid_to_server['\" + server_id + \"'].get_sessions()[0].document.roots[0]._id)\";\n",
       "      cell.notebook.kernel.execute(cmd_clean, {\n",
       "        iopub: {\n",
       "          output: function(msg) {\n",
       "            const id = msg.content.text.trim();\n",
       "            if (id in Bokeh.index) {\n",
       "              Bokeh.index[id].model.document.clear();\n",
       "              delete Bokeh.index[id];\n",
       "            }\n",
       "          }\n",
       "        }\n",
       "      });\n",
       "      // Destroy server and session\n",
       "      const cmd_destroy = \"import bokeh.io.notebook as ion; ion.destroy_server('\" + server_id + \"')\";\n",
       "      cell.notebook.kernel.execute(cmd_destroy);\n",
       "    }\n",
       "  }\n",
       "\n",
       "  /**\n",
       "   * Handle when a new output is added\n",
       "   */\n",
       "  function handleAddOutput(event, handle) {\n",
       "    const output_area = handle.output_area;\n",
       "    const output = handle.output;\n",
       "\n",
       "    // limit handleAddOutput to display_data with EXEC_MIME_TYPE content only\n",
       "    if ((output.output_type != \"display_data\") || (!Object.prototype.hasOwnProperty.call(output.data, EXEC_MIME_TYPE))) {\n",
       "      return\n",
       "    }\n",
       "\n",
       "    const toinsert = output_area.element.find(\".\" + CLASS_NAME.split(' ')[0]);\n",
       "\n",
       "    if (output.metadata[EXEC_MIME_TYPE][\"id\"] !== undefined) {\n",
       "      toinsert[toinsert.length - 1].firstChild.textContent = output.data[JS_MIME_TYPE];\n",
       "      // store reference to embed id on output_area\n",
       "      output_area._bokeh_element_id = output.metadata[EXEC_MIME_TYPE][\"id\"];\n",
       "    }\n",
       "    if (output.metadata[EXEC_MIME_TYPE][\"server_id\"] !== undefined) {\n",
       "      const bk_div = document.createElement(\"div\");\n",
       "      bk_div.innerHTML = output.data[HTML_MIME_TYPE];\n",
       "      const script_attrs = bk_div.children[0].attributes;\n",
       "      for (let i = 0; i < script_attrs.length; i++) {\n",
       "        toinsert[toinsert.length - 1].firstChild.setAttribute(script_attrs[i].name, script_attrs[i].value);\n",
       "        toinsert[toinsert.length - 1].firstChild.textContent = bk_div.children[0].textContent\n",
       "      }\n",
       "      // store reference to server id on output_area\n",
       "      output_area._bokeh_server_id = output.metadata[EXEC_MIME_TYPE][\"server_id\"];\n",
       "    }\n",
       "  }\n",
       "\n",
       "  function register_renderer(events, OutputArea) {\n",
       "\n",
       "    function append_mime(data, metadata, element) {\n",
       "      // create a DOM node to render to\n",
       "      const toinsert = this.create_output_subarea(\n",
       "        metadata,\n",
       "        CLASS_NAME,\n",
       "        EXEC_MIME_TYPE\n",
       "      );\n",
       "      this.keyboard_manager.register_events(toinsert);\n",
       "      // Render to node\n",
       "      const props = {data: data, metadata: metadata[EXEC_MIME_TYPE]};\n",
       "      render(props, toinsert[toinsert.length - 1]);\n",
       "      element.append(toinsert);\n",
       "      return toinsert\n",
       "    }\n",
       "\n",
       "    /* Handle when an output is cleared or removed */\n",
       "    events.on('clear_output.CodeCell', handleClearOutput);\n",
       "    events.on('delete.Cell', handleClearOutput);\n",
       "\n",
       "    /* Handle when a new output is added */\n",
       "    events.on('output_added.OutputArea', handleAddOutput);\n",
       "\n",
       "    /**\n",
       "     * Register the mime type and append_mime function with output_area\n",
       "     */\n",
       "    OutputArea.prototype.register_mime_type(EXEC_MIME_TYPE, append_mime, {\n",
       "      /* Is output safe? */\n",
       "      safe: true,\n",
       "      /* Index of renderer in `output_area.display_order` */\n",
       "      index: 0\n",
       "    });\n",
       "  }\n",
       "\n",
       "  // register the mime type if in Jupyter Notebook environment and previously unregistered\n",
       "  if (root.Jupyter !== undefined) {\n",
       "    const events = require('base/js/events');\n",
       "    const OutputArea = require('notebook/js/outputarea').OutputArea;\n",
       "\n",
       "    if (OutputArea.prototype.mime_types().indexOf(EXEC_MIME_TYPE) == -1) {\n",
       "      register_renderer(events, OutputArea);\n",
       "    }\n",
       "  }\n",
       "\n",
       "  \n",
       "  if (typeof (root._bokeh_timeout) === \"undefined\" || force === true) {\n",
       "    root._bokeh_timeout = Date.now() + 5000;\n",
       "    root._bokeh_failed_load = false;\n",
       "  }\n",
       "\n",
       "  const NB_LOAD_WARNING = {'data': {'text/html':\n",
       "     \"<div style='background-color: #fdd'>\\n\"+\n",
       "     \"<p>\\n\"+\n",
       "     \"BokehJS does not appear to have successfully loaded. If loading BokehJS from CDN, this \\n\"+\n",
       "     \"may be due to a slow or bad network connection. Possible fixes:\\n\"+\n",
       "     \"</p>\\n\"+\n",
       "     \"<ul>\\n\"+\n",
       "     \"<li>re-rerun `output_notebook()` to attempt to load from CDN again, or</li>\\n\"+\n",
       "     \"<li>use INLINE resources instead, as so:</li>\\n\"+\n",
       "     \"</ul>\\n\"+\n",
       "     \"<code>\\n\"+\n",
       "     \"from bokeh.resources import INLINE\\n\"+\n",
       "     \"output_notebook(resources=INLINE)\\n\"+\n",
       "     \"</code>\\n\"+\n",
       "     \"</div>\"}};\n",
       "\n",
       "  function display_loaded() {\n",
       "    const el = document.getElementById(\"1536\");\n",
       "    if (el != null) {\n",
       "      el.textContent = \"BokehJS is loading...\";\n",
       "    }\n",
       "    if (root.Bokeh !== undefined) {\n",
       "      if (el != null) {\n",
       "        el.textContent = \"BokehJS \" + root.Bokeh.version + \" successfully loaded.\";\n",
       "      }\n",
       "    } else if (Date.now() < root._bokeh_timeout) {\n",
       "      setTimeout(display_loaded, 100)\n",
       "    }\n",
       "  }\n",
       "\n",
       "\n",
       "  function run_callbacks() {\n",
       "    try {\n",
       "      root._bokeh_onload_callbacks.forEach(function(callback) {\n",
       "        if (callback != null)\n",
       "          callback();\n",
       "      });\n",
       "    } finally {\n",
       "      delete root._bokeh_onload_callbacks\n",
       "    }\n",
       "    console.debug(\"Bokeh: all callbacks have finished\");\n",
       "  }\n",
       "\n",
       "  function load_libs(css_urls, js_urls, callback) {\n",
       "    if (css_urls == null) css_urls = [];\n",
       "    if (js_urls == null) js_urls = [];\n",
       "\n",
       "    root._bokeh_onload_callbacks.push(callback);\n",
       "    if (root._bokeh_is_loading > 0) {\n",
       "      console.debug(\"Bokeh: BokehJS is being loaded, scheduling callback at\", now());\n",
       "      return null;\n",
       "    }\n",
       "    if (js_urls == null || js_urls.length === 0) {\n",
       "      run_callbacks();\n",
       "      return null;\n",
       "    }\n",
       "    console.debug(\"Bokeh: BokehJS not loaded, scheduling load and callback at\", now());\n",
       "    root._bokeh_is_loading = css_urls.length + js_urls.length;\n",
       "\n",
       "    function on_load() {\n",
       "      root._bokeh_is_loading--;\n",
       "      if (root._bokeh_is_loading === 0) {\n",
       "        console.debug(\"Bokeh: all BokehJS libraries/stylesheets loaded\");\n",
       "        run_callbacks()\n",
       "      }\n",
       "    }\n",
       "\n",
       "    function on_error(url) {\n",
       "      console.error(\"failed to load \" + url);\n",
       "    }\n",
       "\n",
       "    for (let i = 0; i < css_urls.length; i++) {\n",
       "      const url = css_urls[i];\n",
       "      const element = document.createElement(\"link\");\n",
       "      element.onload = on_load;\n",
       "      element.onerror = on_error.bind(null, url);\n",
       "      element.rel = \"stylesheet\";\n",
       "      element.type = \"text/css\";\n",
       "      element.href = url;\n",
       "      console.debug(\"Bokeh: injecting link tag for BokehJS stylesheet: \", url);\n",
       "      document.body.appendChild(element);\n",
       "    }\n",
       "\n",
       "    for (let i = 0; i < js_urls.length; i++) {\n",
       "      const url = js_urls[i];\n",
       "      const element = document.createElement('script');\n",
       "      element.onload = on_load;\n",
       "      element.onerror = on_error.bind(null, url);\n",
       "      element.async = false;\n",
       "      element.src = url;\n",
       "      console.debug(\"Bokeh: injecting script tag for BokehJS library: \", url);\n",
       "      document.head.appendChild(element);\n",
       "    }\n",
       "  };\n",
       "\n",
       "  function inject_raw_css(css) {\n",
       "    const element = document.createElement(\"style\");\n",
       "    element.appendChild(document.createTextNode(css));\n",
       "    document.body.appendChild(element);\n",
       "  }\n",
       "\n",
       "  \n",
       "  const js_urls = [\"https://cdn.bokeh.org/bokeh/release/bokeh-2.4.2.min.js\", \"https://cdn.bokeh.org/bokeh/release/bokeh-gl-2.4.2.min.js\", \"https://cdn.bokeh.org/bokeh/release/bokeh-widgets-2.4.2.min.js\", \"https://cdn.bokeh.org/bokeh/release/bokeh-tables-2.4.2.min.js\", \"https://cdn.bokeh.org/bokeh/release/bokeh-mathjax-2.4.2.min.js\"];\n",
       "  const css_urls = [];\n",
       "  \n",
       "\n",
       "  const inline_js = [\n",
       "    function(Bokeh) {\n",
       "      Bokeh.set_log_level(\"info\");\n",
       "    },\n",
       "    function(Bokeh) {\n",
       "    \n",
       "    \n",
       "    }\n",
       "  ];\n",
       "\n",
       "  function run_inline_js() {\n",
       "    \n",
       "    if (root.Bokeh !== undefined || force === true) {\n",
       "      \n",
       "    for (let i = 0; i < inline_js.length; i++) {\n",
       "      inline_js[i].call(root, root.Bokeh);\n",
       "    }\n",
       "    if (force === true) {\n",
       "        display_loaded();\n",
       "      }} else if (Date.now() < root._bokeh_timeout) {\n",
       "      setTimeout(run_inline_js, 100);\n",
       "    } else if (!root._bokeh_failed_load) {\n",
       "      console.log(\"Bokeh: BokehJS failed to load within specified timeout.\");\n",
       "      root._bokeh_failed_load = true;\n",
       "    } else if (force !== true) {\n",
       "      const cell = $(document.getElementById(\"1536\")).parents('.cell').data().cell;\n",
       "      cell.output_area.append_execute_result(NB_LOAD_WARNING)\n",
       "    }\n",
       "\n",
       "  }\n",
       "\n",
       "  if (root._bokeh_is_loading === 0) {\n",
       "    console.debug(\"Bokeh: BokehJS loaded, going straight to plotting\");\n",
       "    run_inline_js();\n",
       "  } else {\n",
       "    load_libs(css_urls, js_urls, function() {\n",
       "      console.debug(\"Bokeh: BokehJS plotting callback run at\", now());\n",
       "      run_inline_js();\n",
       "    });\n",
       "  }\n",
       "}(window));"
      ],
      "application/vnd.bokehjs_load.v0+json": "\n(function(root) {\n  function now() {\n    return new Date();\n  }\n\n  const force = true;\n\n  if (typeof root._bokeh_onload_callbacks === \"undefined\" || force === true) {\n    root._bokeh_onload_callbacks = [];\n    root._bokeh_is_loading = undefined;\n  }\n\n  \n\n  \n  if (typeof (root._bokeh_timeout) === \"undefined\" || force === true) {\n    root._bokeh_timeout = Date.now() + 5000;\n    root._bokeh_failed_load = false;\n  }\n\n  const NB_LOAD_WARNING = {'data': {'text/html':\n     \"<div style='background-color: #fdd'>\\n\"+\n     \"<p>\\n\"+\n     \"BokehJS does not appear to have successfully loaded. If loading BokehJS from CDN, this \\n\"+\n     \"may be due to a slow or bad network connection. Possible fixes:\\n\"+\n     \"</p>\\n\"+\n     \"<ul>\\n\"+\n     \"<li>re-rerun `output_notebook()` to attempt to load from CDN again, or</li>\\n\"+\n     \"<li>use INLINE resources instead, as so:</li>\\n\"+\n     \"</ul>\\n\"+\n     \"<code>\\n\"+\n     \"from bokeh.resources import INLINE\\n\"+\n     \"output_notebook(resources=INLINE)\\n\"+\n     \"</code>\\n\"+\n     \"</div>\"}};\n\n  function display_loaded() {\n    const el = document.getElementById(\"1536\");\n    if (el != null) {\n      el.textContent = \"BokehJS is loading...\";\n    }\n    if (root.Bokeh !== undefined) {\n      if (el != null) {\n        el.textContent = \"BokehJS \" + root.Bokeh.version + \" successfully loaded.\";\n      }\n    } else if (Date.now() < root._bokeh_timeout) {\n      setTimeout(display_loaded, 100)\n    }\n  }\n\n\n  function run_callbacks() {\n    try {\n      root._bokeh_onload_callbacks.forEach(function(callback) {\n        if (callback != null)\n          callback();\n      });\n    } finally {\n      delete root._bokeh_onload_callbacks\n    }\n    console.debug(\"Bokeh: all callbacks have finished\");\n  }\n\n  function load_libs(css_urls, js_urls, callback) {\n    if (css_urls == null) css_urls = [];\n    if (js_urls == null) js_urls = [];\n\n    root._bokeh_onload_callbacks.push(callback);\n    if (root._bokeh_is_loading > 0) {\n      console.debug(\"Bokeh: BokehJS is being loaded, scheduling callback at\", now());\n      return null;\n    }\n    if (js_urls == null || js_urls.length === 0) {\n      run_callbacks();\n      return null;\n    }\n    console.debug(\"Bokeh: BokehJS not loaded, scheduling load and callback at\", now());\n    root._bokeh_is_loading = css_urls.length + js_urls.length;\n\n    function on_load() {\n      root._bokeh_is_loading--;\n      if (root._bokeh_is_loading === 0) {\n        console.debug(\"Bokeh: all BokehJS libraries/stylesheets loaded\");\n        run_callbacks()\n      }\n    }\n\n    function on_error(url) {\n      console.error(\"failed to load \" + url);\n    }\n\n    for (let i = 0; i < css_urls.length; i++) {\n      const url = css_urls[i];\n      const element = document.createElement(\"link\");\n      element.onload = on_load;\n      element.onerror = on_error.bind(null, url);\n      element.rel = \"stylesheet\";\n      element.type = \"text/css\";\n      element.href = url;\n      console.debug(\"Bokeh: injecting link tag for BokehJS stylesheet: \", url);\n      document.body.appendChild(element);\n    }\n\n    for (let i = 0; i < js_urls.length; i++) {\n      const url = js_urls[i];\n      const element = document.createElement('script');\n      element.onload = on_load;\n      element.onerror = on_error.bind(null, url);\n      element.async = false;\n      element.src = url;\n      console.debug(\"Bokeh: injecting script tag for BokehJS library: \", url);\n      document.head.appendChild(element);\n    }\n  };\n\n  function inject_raw_css(css) {\n    const element = document.createElement(\"style\");\n    element.appendChild(document.createTextNode(css));\n    document.body.appendChild(element);\n  }\n\n  \n  const js_urls = [\"https://cdn.bokeh.org/bokeh/release/bokeh-2.4.2.min.js\", \"https://cdn.bokeh.org/bokeh/release/bokeh-gl-2.4.2.min.js\", \"https://cdn.bokeh.org/bokeh/release/bokeh-widgets-2.4.2.min.js\", \"https://cdn.bokeh.org/bokeh/release/bokeh-tables-2.4.2.min.js\", \"https://cdn.bokeh.org/bokeh/release/bokeh-mathjax-2.4.2.min.js\"];\n  const css_urls = [];\n  \n\n  const inline_js = [\n    function(Bokeh) {\n      Bokeh.set_log_level(\"info\");\n    },\n    function(Bokeh) {\n    \n    \n    }\n  ];\n\n  function run_inline_js() {\n    \n    if (root.Bokeh !== undefined || force === true) {\n      \n    for (let i = 0; i < inline_js.length; i++) {\n      inline_js[i].call(root, root.Bokeh);\n    }\n    if (force === true) {\n        display_loaded();\n      }} else if (Date.now() < root._bokeh_timeout) {\n      setTimeout(run_inline_js, 100);\n    } else if (!root._bokeh_failed_load) {\n      console.log(\"Bokeh: BokehJS failed to load within specified timeout.\");\n      root._bokeh_failed_load = true;\n    } else if (force !== true) {\n      const cell = $(document.getElementById(\"1536\")).parents('.cell').data().cell;\n      cell.output_area.append_execute_result(NB_LOAD_WARNING)\n    }\n\n  }\n\n  if (root._bokeh_is_loading === 0) {\n    console.debug(\"Bokeh: BokehJS loaded, going straight to plotting\");\n    run_inline_js();\n  } else {\n    load_libs(css_urls, js_urls, function() {\n      console.debug(\"Bokeh: BokehJS plotting callback run at\", now());\n      run_inline_js();\n    });\n  }\n}(window));"
     },
     "metadata": {},
     "output_type": "display_data"
    },
    {
     "data": {
      "text/html": [
       "\n",
       "\n",
       "\n",
       "\n",
       "\n",
       "\n",
       "  <div class=\"bk-root\" id=\"403b72af-ac78-4cc2-9e49-d630b7166bcf\" data-root-id=\"1535\"></div>\n"
      ]
     },
     "metadata": {},
     "output_type": "display_data"
    },
    {
     "data": {
      "application/javascript": [
       "(function(root) {\n",
       "  function embed_document(root) {\n",
       "    \n",
       "  const docs_json = {\"e83eec55-e79c-49dd-9d1f-75fe44c582df\":{\"defs\":[],\"roots\":{\"references\":[{\"attributes\":{\"children\":[{\"id\":\"1002\"}]},\"id\":\"1535\",\"type\":\"Column\"},{\"attributes\":{\"bottom\":47,\"coordinates\":null,\"fill_alpha\":0.0,\"fill_color\":\"gray\",\"group\":null,\"level\":\"underlay\",\"line_color\":\"black\",\"top\":48},\"id\":\"1047\",\"type\":\"BoxAnnotation\"},{\"attributes\":{\"coordinates\":null,\"group\":null,\"render_mode\":\"css\",\"text\":\"59\",\"text_font_size\":\"10px\",\"x\":-18,\"x_units\":\"screen\",\"y\":59.1},\"id\":\"1072\",\"type\":\"Label\"},{\"attributes\":{\"source\":{\"id\":\"1038\"}},\"id\":\"1044\",\"type\":\"CDSView\"},{\"attributes\":{\"bottom\":46,\"coordinates\":null,\"fill_alpha\":0.15,\"fill_color\":\"gray\",\"group\":null,\"level\":\"underlay\",\"line_color\":\"black\",\"top\":47},\"id\":\"1045\",\"type\":\"BoxAnnotation\"},{\"attributes\":{\"interval\":1},\"id\":\"1527\",\"type\":\"SingleIntervalTicker\"},{\"attributes\":{\"bottom\":{\"field\":\"bottom\"},\"fill_alpha\":{\"value\":0.2},\"fill_color\":{\"field\":\"color\"},\"hatch_alpha\":{\"value\":0.2},\"hatch_color\":{\"field\":\"color\"},\"left\":{\"field\":\"left\"},\"line_alpha\":{\"value\":0.2},\"right\":{\"field\":\"right\"},\"top\":{\"field\":\"top\"}},\"id\":\"1042\",\"type\":\"Quad\"},{\"attributes\":{\"coordinates\":null,\"data_source\":{\"id\":\"1038\"},\"glyph\":{\"id\":\"1040\"},\"group\":null,\"hover_glyph\":null,\"muted_glyph\":{\"id\":\"1042\"},\"nonselection_glyph\":{\"id\":\"1041\"},\"view\":{\"id\":\"1044\"}},\"id\":\"1043\",\"type\":\"GlyphRenderer\"},{\"attributes\":{\"coordinates\":null,\"group\":null,\"render_mode\":\"css\",\"text\":\"48\",\"text_font_size\":\"10px\",\"x\":-18,\"x_units\":\"screen\",\"y\":48.1},\"id\":\"1050\",\"type\":\"Label\"},{\"attributes\":{\"bottom\":48,\"coordinates\":null,\"fill_alpha\":0.15,\"fill_color\":\"gray\",\"group\":null,\"level\":\"underlay\",\"line_color\":\"black\",\"top\":49},\"id\":\"1049\",\"type\":\"BoxAnnotation\"},{\"attributes\":{\"coordinates\":null,\"group\":null,\"render_mode\":\"css\",\"text\":\"61\",\"text_font_size\":\"10px\",\"x\":-18,\"x_units\":\"screen\",\"y\":61.1},\"id\":\"1076\",\"type\":\"Label\"},{\"attributes\":{\"coordinates\":null,\"group\":null,\"render_mode\":\"css\",\"text\":\"46\",\"text_font_size\":\"10px\",\"x\":-18,\"x_units\":\"screen\",\"y\":46.1},\"id\":\"1046\",\"type\":\"Label\"},{\"attributes\":{\"bottom\":49,\"coordinates\":null,\"fill_alpha\":0.0,\"fill_color\":\"gray\",\"group\":null,\"level\":\"underlay\",\"line_color\":\"black\",\"top\":50},\"id\":\"1051\",\"type\":\"BoxAnnotation\"},{\"attributes\":{\"coordinates\":null,\"group\":null,\"render_mode\":\"css\",\"text\":\"47\",\"text_font_size\":\"10px\",\"x\":-18,\"x_units\":\"screen\",\"y\":47.1},\"id\":\"1048\",\"type\":\"Label\"},{\"attributes\":{\"bottom\":61,\"coordinates\":null,\"fill_alpha\":0.0,\"fill_color\":\"gray\",\"group\":null,\"level\":\"underlay\",\"line_color\":\"black\",\"top\":62},\"id\":\"1075\",\"type\":\"BoxAnnotation\"},{\"attributes\":{\"bottom\":50,\"coordinates\":null,\"fill_alpha\":0.15,\"fill_color\":\"gray\",\"group\":null,\"level\":\"underlay\",\"line_color\":\"black\",\"top\":51},\"id\":\"1053\",\"type\":\"BoxAnnotation\"},{\"attributes\":{\"coordinates\":null,\"group\":null,\"render_mode\":\"css\",\"text\":\"60\",\"text_font_size\":\"10px\",\"x\":-18,\"x_units\":\"screen\",\"y\":60.1},\"id\":\"1074\",\"type\":\"Label\"},{\"attributes\":{\"coordinates\":null,\"group\":null,\"render_mode\":\"css\",\"text\":\"49\",\"text_font_size\":\"10px\",\"x\":-18,\"x_units\":\"screen\",\"y\":49.1},\"id\":\"1052\",\"type\":\"Label\"},{\"attributes\":{\"bottom\":51,\"coordinates\":null,\"fill_alpha\":0.0,\"fill_color\":\"gray\",\"group\":null,\"level\":\"underlay\",\"line_color\":\"black\",\"top\":52},\"id\":\"1055\",\"type\":\"BoxAnnotation\"},{\"attributes\":{\"coordinates\":null,\"group\":null,\"render_mode\":\"css\",\"text\":\"50\",\"text_font_size\":\"10px\",\"x\":-18,\"x_units\":\"screen\",\"y\":50.1},\"id\":\"1054\",\"type\":\"Label\"},{\"attributes\":{\"bottom\":52,\"coordinates\":null,\"fill_alpha\":0.15,\"fill_color\":\"gray\",\"group\":null,\"level\":\"underlay\",\"line_color\":\"black\",\"top\":53},\"id\":\"1057\",\"type\":\"BoxAnnotation\"},{\"attributes\":{\"coordinates\":null,\"group\":null,\"render_mode\":\"css\",\"text\":\"51\",\"text_font_size\":\"10px\",\"x\":-18,\"x_units\":\"screen\",\"y\":51.1},\"id\":\"1056\",\"type\":\"Label\"},{\"attributes\":{\"bottom\":53,\"coordinates\":null,\"fill_alpha\":0.0,\"fill_color\":\"gray\",\"group\":null,\"level\":\"underlay\",\"line_color\":\"black\",\"top\":54},\"id\":\"1059\",\"type\":\"BoxAnnotation\"},{\"attributes\":{\"coordinates\":null,\"group\":null,\"render_mode\":\"css\",\"text\":\"52\",\"text_font_size\":\"10px\",\"x\":-18,\"x_units\":\"screen\",\"y\":52.1},\"id\":\"1058\",\"type\":\"Label\"},{\"attributes\":{\"bottom\":54,\"coordinates\":null,\"fill_alpha\":0.15,\"fill_color\":\"gray\",\"group\":null,\"level\":\"underlay\",\"line_color\":\"black\",\"top\":55},\"id\":\"1061\",\"type\":\"BoxAnnotation\"},{\"attributes\":{\"coordinates\":null,\"group\":null,\"render_mode\":\"css\",\"text\":\"53\",\"text_font_size\":\"10px\",\"x\":-18,\"x_units\":\"screen\",\"y\":53.1},\"id\":\"1060\",\"type\":\"Label\"},{\"attributes\":{\"bottom\":55,\"coordinates\":null,\"fill_alpha\":0.0,\"fill_color\":\"gray\",\"group\":null,\"level\":\"underlay\",\"line_color\":\"black\",\"top\":56},\"id\":\"1063\",\"type\":\"BoxAnnotation\"},{\"attributes\":{\"coordinates\":null,\"group\":null,\"render_mode\":\"css\",\"text\":\"54\",\"text_font_size\":\"10px\",\"x\":-18,\"x_units\":\"screen\",\"y\":54.1},\"id\":\"1062\",\"type\":\"Label\"},{\"attributes\":{\"bottom\":56,\"coordinates\":null,\"fill_alpha\":0.15,\"fill_color\":\"gray\",\"group\":null,\"level\":\"underlay\",\"line_color\":\"black\",\"top\":57},\"id\":\"1065\",\"type\":\"BoxAnnotation\"},{\"attributes\":{\"coordinates\":null,\"group\":null,\"render_mode\":\"css\",\"text\":\"55\",\"text_font_size\":\"10px\",\"x\":-18,\"x_units\":\"screen\",\"y\":55.1},\"id\":\"1064\",\"type\":\"Label\"},{\"attributes\":{\"bottom\":57,\"coordinates\":null,\"fill_alpha\":0.0,\"fill_color\":\"gray\",\"group\":null,\"level\":\"underlay\",\"line_color\":\"black\",\"top\":58},\"id\":\"1067\",\"type\":\"BoxAnnotation\"},{\"attributes\":{\"coordinates\":null,\"group\":null,\"render_mode\":\"css\",\"text\":\"56\",\"text_font_size\":\"10px\",\"x\":-18,\"x_units\":\"screen\",\"y\":56.1},\"id\":\"1066\",\"type\":\"Label\"},{\"attributes\":{\"bottom\":58,\"coordinates\":null,\"fill_alpha\":0.15,\"fill_color\":\"gray\",\"group\":null,\"level\":\"underlay\",\"line_color\":\"black\",\"top\":59},\"id\":\"1069\",\"type\":\"BoxAnnotation\"},{\"attributes\":{\"coordinates\":null,\"group\":null,\"render_mode\":\"css\",\"text\":\"57\",\"text_font_size\":\"10px\",\"x\":-18,\"x_units\":\"screen\",\"y\":57.1},\"id\":\"1068\",\"type\":\"Label\"},{\"attributes\":{\"bottom\":59,\"coordinates\":null,\"fill_alpha\":0.0,\"fill_color\":\"gray\",\"group\":null,\"level\":\"underlay\",\"line_color\":\"black\",\"top\":60},\"id\":\"1071\",\"type\":\"BoxAnnotation\"},{\"attributes\":{\"coordinates\":null,\"group\":null,\"render_mode\":\"css\",\"text\":\"58\",\"text_font_size\":\"10px\",\"x\":-18,\"x_units\":\"screen\",\"y\":58.1},\"id\":\"1070\",\"type\":\"Label\"},{\"attributes\":{\"bottom\":60,\"coordinates\":null,\"fill_alpha\":0.15,\"fill_color\":\"gray\",\"group\":null,\"level\":\"underlay\",\"line_color\":\"black\",\"top\":61},\"id\":\"1073\",\"type\":\"BoxAnnotation\"},{\"attributes\":{\"coordinates\":null,\"fill_color\":null,\"group\":null,\"left\":42.0,\"level\":\"underlay\",\"line_alpha\":0.4,\"line_color\":\"black\",\"right\":42.75},\"id\":\"1241\",\"type\":\"BoxAnnotation\"},{\"attributes\":{\"coordinates\":null,\"fill_color\":null,\"group\":null,\"left\":226.5,\"level\":\"underlay\",\"line_alpha\":0.4,\"line_color\":\"black\",\"right\":227.25},\"id\":\"1487\",\"type\":\"BoxAnnotation\"},{\"attributes\":{\"coordinates\":null,\"fill_color\":null,\"group\":null,\"left\":39.0,\"level\":\"underlay\",\"line_alpha\":0.4,\"line_color\":\"black\",\"right\":39.75},\"id\":\"1237\",\"type\":\"BoxAnnotation\"},{\"attributes\":{\"coordinates\":null,\"fill_color\":null,\"group\":null,\"left\":228.0,\"level\":\"underlay\",\"line_alpha\":0.4,\"line_color\":\"black\",\"right\":228.75},\"id\":\"1489\",\"type\":\"BoxAnnotation\"},{\"attributes\":{\"coordinates\":null,\"fill_color\":null,\"group\":null,\"left\":40.5,\"level\":\"underlay\",\"line_alpha\":0.4,\"line_color\":\"black\",\"right\":41.25},\"id\":\"1239\",\"type\":\"BoxAnnotation\"},{\"attributes\":{\"coordinates\":null,\"fill_color\":null,\"group\":null,\"left\":225.75,\"level\":\"underlay\",\"line_alpha\":0.4,\"line_color\":\"black\",\"right\":226.5},\"id\":\"1486\",\"type\":\"BoxAnnotation\"},{\"attributes\":{\"coordinates\":null,\"fill_color\":null,\"group\":null,\"left\":41.25,\"level\":\"underlay\",\"line_alpha\":0.4,\"line_color\":\"black\",\"right\":42.0},\"id\":\"1240\",\"type\":\"BoxAnnotation\"},{\"attributes\":{\"coordinates\":null,\"fill_color\":null,\"group\":null,\"left\":227.25,\"level\":\"underlay\",\"line_alpha\":0.4,\"line_color\":\"black\",\"right\":228.0},\"id\":\"1488\",\"type\":\"BoxAnnotation\"},{\"attributes\":{\"coordinates\":null,\"fill_color\":null,\"group\":null,\"left\":228.75,\"level\":\"underlay\",\"line_alpha\":0.4,\"line_color\":\"black\",\"right\":229.5},\"id\":\"1490\",\"type\":\"BoxAnnotation\"},{\"attributes\":{},\"id\":\"1034\",\"type\":\"AllLabels\"},{\"attributes\":{\"coordinates\":null,\"fill_color\":null,\"group\":null,\"left\":39.75,\"level\":\"underlay\",\"line_alpha\":0.4,\"line_color\":\"black\",\"right\":40.5},\"id\":\"1238\",\"type\":\"BoxAnnotation\"},{\"attributes\":{\"coordinates\":null,\"fill_color\":null,\"group\":null,\"left\":225.0,\"level\":\"underlay\",\"line_alpha\":0.4,\"line_color\":\"black\",\"right\":225.75},\"id\":\"1485\",\"type\":\"BoxAnnotation\"},{\"attributes\":{\"coordinates\":null,\"fill_color\":null,\"group\":null,\"left\":38.25,\"level\":\"underlay\",\"line_alpha\":0.4,\"line_color\":\"black\",\"right\":39.0},\"id\":\"1236\",\"type\":\"BoxAnnotation\"},{\"attributes\":{\"coordinates\":null,\"fill_color\":null,\"group\":null,\"left\":229.5,\"level\":\"underlay\",\"line_alpha\":0.4,\"line_color\":\"black\",\"right\":230.25},\"id\":\"1491\",\"type\":\"BoxAnnotation\"},{\"attributes\":{\"coordinates\":null,\"fill_color\":null,\"group\":null,\"left\":42.75,\"level\":\"underlay\",\"line_alpha\":0.4,\"line_color\":\"black\",\"right\":43.5},\"id\":\"1242\",\"type\":\"BoxAnnotation\"},{\"attributes\":{\"coordinates\":null,\"fill_color\":null,\"group\":null,\"left\":230.25,\"level\":\"underlay\",\"line_alpha\":0.4,\"line_color\":\"black\",\"right\":231.0},\"id\":\"1492\",\"type\":\"BoxAnnotation\"},{\"attributes\":{\"coordinates\":null,\"fill_color\":null,\"group\":null,\"left\":43.5,\"level\":\"underlay\",\"line_alpha\":0.4,\"line_color\":\"black\",\"right\":44.25},\"id\":\"1243\",\"type\":\"BoxAnnotation\"},{\"attributes\":{\"coordinates\":null,\"fill_color\":null,\"group\":null,\"left\":231.0,\"level\":\"underlay\",\"line_alpha\":0.4,\"line_color\":\"black\",\"right\":231.75},\"id\":\"1493\",\"type\":\"BoxAnnotation\"},{\"attributes\":{\"coordinates\":null,\"fill_color\":null,\"group\":null,\"left\":44.25,\"level\":\"underlay\",\"line_alpha\":0.4,\"line_color\":\"black\",\"right\":45.0},\"id\":\"1244\",\"type\":\"BoxAnnotation\"},{\"attributes\":{\"coordinates\":null,\"fill_color\":null,\"group\":null,\"left\":231.75,\"level\":\"underlay\",\"line_alpha\":0.4,\"line_color\":\"black\",\"right\":232.5},\"id\":\"1494\",\"type\":\"BoxAnnotation\"},{\"attributes\":{\"coordinates\":null,\"fill_color\":null,\"group\":null,\"left\":45.0,\"level\":\"underlay\",\"line_alpha\":0.4,\"line_color\":\"black\",\"right\":45.75},\"id\":\"1245\",\"type\":\"BoxAnnotation\"},{\"attributes\":{\"coordinates\":null,\"fill_color\":null,\"group\":null,\"left\":232.5,\"level\":\"underlay\",\"line_alpha\":0.4,\"line_color\":\"black\",\"right\":233.25},\"id\":\"1495\",\"type\":\"BoxAnnotation\"},{\"attributes\":{\"coordinates\":null,\"fill_color\":null,\"group\":null,\"left\":45.75,\"level\":\"underlay\",\"line_alpha\":0.4,\"line_color\":\"black\",\"right\":46.5},\"id\":\"1246\",\"type\":\"BoxAnnotation\"},{\"attributes\":{\"coordinates\":null,\"fill_color\":null,\"group\":null,\"left\":233.25,\"level\":\"underlay\",\"line_alpha\":0.4,\"line_color\":\"black\",\"right\":234.0},\"id\":\"1496\",\"type\":\"BoxAnnotation\"},{\"attributes\":{\"coordinates\":null,\"fill_color\":null,\"group\":null,\"left\":46.5,\"level\":\"underlay\",\"line_alpha\":0.4,\"line_color\":\"black\",\"right\":47.25},\"id\":\"1247\",\"type\":\"BoxAnnotation\"},{\"attributes\":{\"coordinates\":null,\"fill_color\":null,\"group\":null,\"left\":237.75,\"level\":\"underlay\",\"line_alpha\":0.4,\"line_color\":\"black\",\"right\":238.5},\"id\":\"1502\",\"type\":\"BoxAnnotation\"},{\"attributes\":{\"coordinates\":null,\"fill_color\":null,\"group\":null,\"left\":47.25,\"level\":\"underlay\",\"line_alpha\":0.4,\"line_color\":\"black\",\"right\":48.0},\"id\":\"1248\",\"type\":\"BoxAnnotation\"},{\"attributes\":{\"coordinates\":null,\"fill_color\":null,\"group\":null,\"left\":237.0,\"level\":\"underlay\",\"line_alpha\":0.4,\"line_color\":\"black\",\"right\":237.75},\"id\":\"1501\",\"type\":\"BoxAnnotation\"},{\"attributes\":{\"coordinates\":null,\"fill_color\":null,\"group\":null,\"left\":48.0,\"level\":\"underlay\",\"line_alpha\":0.4,\"line_color\":\"black\",\"right\":48.75},\"id\":\"1249\",\"type\":\"BoxAnnotation\"},{\"attributes\":{\"coordinates\":null,\"fill_color\":null,\"group\":null,\"left\":48.75,\"level\":\"underlay\",\"line_alpha\":0.4,\"line_color\":\"black\",\"right\":49.5},\"id\":\"1250\",\"type\":\"BoxAnnotation\"},{\"attributes\":{\"coordinates\":null,\"fill_color\":null,\"group\":null,\"left\":234.75,\"level\":\"underlay\",\"line_alpha\":0.4,\"line_color\":\"black\",\"right\":235.5},\"id\":\"1498\",\"type\":\"BoxAnnotation\"},{\"attributes\":{\"coordinates\":null,\"fill_color\":null,\"group\":null,\"left\":49.5,\"level\":\"underlay\",\"line_alpha\":0.4,\"line_color\":\"black\",\"right\":50.25},\"id\":\"1251\",\"type\":\"BoxAnnotation\"},{\"attributes\":{\"coordinates\":null,\"fill_color\":null,\"group\":null,\"left\":235.5,\"level\":\"underlay\",\"line_alpha\":0.4,\"line_color\":\"black\",\"right\":236.25},\"id\":\"1499\",\"type\":\"BoxAnnotation\"},{\"attributes\":{\"coordinates\":null,\"fill_color\":null,\"group\":null,\"left\":50.25,\"level\":\"underlay\",\"line_alpha\":0.4,\"line_color\":\"black\",\"right\":51.0},\"id\":\"1252\",\"type\":\"BoxAnnotation\"},{\"attributes\":{\"coordinates\":null,\"fill_color\":null,\"group\":null,\"left\":236.25,\"level\":\"underlay\",\"line_alpha\":0.4,\"line_color\":\"black\",\"right\":237.0},\"id\":\"1500\",\"type\":\"BoxAnnotation\"},{\"attributes\":{\"coordinates\":null,\"fill_color\":null,\"group\":null,\"left\":51.0,\"level\":\"underlay\",\"line_alpha\":0.4,\"line_color\":\"black\",\"right\":51.75},\"id\":\"1253\",\"type\":\"BoxAnnotation\"},{\"attributes\":{\"coordinates\":null,\"fill_color\":null,\"group\":null,\"left\":234.0,\"level\":\"underlay\",\"line_alpha\":0.4,\"line_color\":\"black\",\"right\":234.75},\"id\":\"1497\",\"type\":\"BoxAnnotation\"},{\"attributes\":{\"coordinates\":null,\"fill_color\":null,\"group\":null,\"left\":51.75,\"level\":\"underlay\",\"line_alpha\":0.4,\"line_color\":\"black\",\"right\":52.5},\"id\":\"1254\",\"type\":\"BoxAnnotation\"},{\"attributes\":{\"coordinates\":null,\"fill_color\":null,\"group\":null,\"left\":238.5,\"level\":\"underlay\",\"line_alpha\":0.4,\"line_color\":\"black\",\"right\":239.25},\"id\":\"1503\",\"type\":\"BoxAnnotation\"},{\"attributes\":{\"coordinates\":null,\"fill_color\":null,\"group\":null,\"left\":52.5,\"level\":\"underlay\",\"line_alpha\":0.4,\"line_color\":\"black\",\"right\":53.25},\"id\":\"1255\",\"type\":\"BoxAnnotation\"},{\"attributes\":{\"coordinates\":null,\"fill_color\":null,\"group\":null,\"left\":239.25,\"level\":\"underlay\",\"line_alpha\":0.4,\"line_color\":\"black\",\"right\":240.0},\"id\":\"1504\",\"type\":\"BoxAnnotation\"},{\"attributes\":{\"coordinates\":null,\"fill_color\":null,\"group\":null,\"left\":53.25,\"level\":\"underlay\",\"line_alpha\":0.4,\"line_color\":\"black\",\"right\":54.0},\"id\":\"1256\",\"type\":\"BoxAnnotation\"},{\"attributes\":{\"coordinates\":null,\"fill_color\":null,\"group\":null,\"left\":240.0,\"level\":\"underlay\",\"line_alpha\":0.4,\"line_color\":\"black\",\"right\":240.75},\"id\":\"1505\",\"type\":\"BoxAnnotation\"},{\"attributes\":{\"coordinates\":null,\"fill_color\":null,\"group\":null,\"left\":54.0,\"level\":\"underlay\",\"line_alpha\":0.4,\"line_color\":\"black\",\"right\":54.75},\"id\":\"1257\",\"type\":\"BoxAnnotation\"},{\"attributes\":{\"coordinates\":null,\"fill_color\":null,\"group\":null,\"left\":240.75,\"level\":\"underlay\",\"line_alpha\":0.4,\"line_color\":\"black\",\"right\":241.5},\"id\":\"1506\",\"type\":\"BoxAnnotation\"},{\"attributes\":{\"coordinates\":null,\"fill_color\":null,\"group\":null,\"left\":54.75,\"level\":\"underlay\",\"line_alpha\":0.4,\"line_color\":\"black\",\"right\":55.5},\"id\":\"1258\",\"type\":\"BoxAnnotation\"},{\"attributes\":{\"coordinates\":null,\"fill_color\":null,\"group\":null,\"left\":241.5,\"level\":\"underlay\",\"line_alpha\":0.4,\"line_color\":\"black\",\"right\":242.25},\"id\":\"1507\",\"type\":\"BoxAnnotation\"},{\"attributes\":{\"coordinates\":null,\"fill_color\":null,\"group\":null,\"left\":55.5,\"level\":\"underlay\",\"line_alpha\":0.4,\"line_color\":\"black\",\"right\":56.25},\"id\":\"1259\",\"type\":\"BoxAnnotation\"},{\"attributes\":{\"coordinates\":null,\"fill_color\":null,\"group\":null,\"left\":242.25,\"level\":\"underlay\",\"line_alpha\":0.4,\"line_color\":\"black\",\"right\":243.0},\"id\":\"1508\",\"type\":\"BoxAnnotation\"},{\"attributes\":{\"coordinates\":null,\"fill_color\":null,\"group\":null,\"left\":56.25,\"level\":\"underlay\",\"line_alpha\":0.4,\"line_color\":\"black\",\"right\":57.0},\"id\":\"1260\",\"type\":\"BoxAnnotation\"},{\"attributes\":{\"coordinates\":null,\"fill_color\":null,\"group\":null,\"left\":243.0,\"level\":\"underlay\",\"line_alpha\":0.4,\"line_color\":\"black\",\"right\":243.75},\"id\":\"1509\",\"type\":\"BoxAnnotation\"},{\"attributes\":{\"coordinates\":null,\"fill_color\":null,\"group\":null,\"left\":57.0,\"level\":\"underlay\",\"line_alpha\":0.4,\"line_color\":\"black\",\"right\":57.75},\"id\":\"1261\",\"type\":\"BoxAnnotation\"},{\"attributes\":{\"coordinates\":null,\"fill_color\":null,\"group\":null,\"left\":243.75,\"level\":\"underlay\",\"line_alpha\":0.4,\"line_color\":\"black\",\"right\":244.5},\"id\":\"1510\",\"type\":\"BoxAnnotation\"},{\"attributes\":{\"coordinates\":null,\"fill_color\":null,\"group\":null,\"left\":57.75,\"level\":\"underlay\",\"line_alpha\":0.4,\"line_color\":\"black\",\"right\":58.5},\"id\":\"1262\",\"type\":\"BoxAnnotation\"},{\"attributes\":{\"coordinates\":null,\"fill_color\":null,\"group\":null,\"left\":244.5,\"level\":\"underlay\",\"line_alpha\":0.4,\"line_color\":\"black\",\"right\":245.25},\"id\":\"1511\",\"type\":\"BoxAnnotation\"},{\"attributes\":{\"coordinates\":null,\"fill_color\":null,\"group\":null,\"left\":58.5,\"level\":\"underlay\",\"line_alpha\":0.4,\"line_color\":\"black\",\"right\":59.25},\"id\":\"1263\",\"type\":\"BoxAnnotation\"},{\"attributes\":{\"coordinates\":null,\"fill_color\":null,\"group\":null,\"left\":245.25,\"level\":\"underlay\",\"line_alpha\":0.4,\"line_color\":\"black\",\"right\":246.0},\"id\":\"1512\",\"type\":\"BoxAnnotation\"},{\"attributes\":{\"coordinates\":null,\"fill_color\":null,\"group\":null,\"left\":59.25,\"level\":\"underlay\",\"line_alpha\":0.4,\"line_color\":\"black\",\"right\":60.0},\"id\":\"1264\",\"type\":\"BoxAnnotation\"},{\"attributes\":{\"coordinates\":null,\"fill_color\":null,\"group\":null,\"left\":246.0,\"level\":\"underlay\",\"line_alpha\":0.4,\"line_color\":\"black\",\"right\":246.75},\"id\":\"1513\",\"type\":\"BoxAnnotation\"},{\"attributes\":{\"coordinates\":null,\"fill_color\":null,\"group\":null,\"left\":60.0,\"level\":\"underlay\",\"line_alpha\":0.4,\"line_color\":\"black\",\"right\":60.75},\"id\":\"1265\",\"type\":\"BoxAnnotation\"},{\"attributes\":{\"coordinates\":null,\"fill_color\":null,\"group\":null,\"left\":246.75,\"level\":\"underlay\",\"line_alpha\":0.4,\"line_color\":\"black\",\"right\":247.5},\"id\":\"1514\",\"type\":\"BoxAnnotation\"},{\"attributes\":{\"coordinates\":null,\"fill_color\":null,\"group\":null,\"left\":60.75,\"level\":\"underlay\",\"line_alpha\":0.4,\"line_color\":\"black\",\"right\":61.5},\"id\":\"1266\",\"type\":\"BoxAnnotation\"},{\"attributes\":{\"coordinates\":null,\"fill_color\":null,\"group\":null,\"left\":247.5,\"level\":\"underlay\",\"line_alpha\":0.4,\"line_color\":\"black\",\"right\":248.25},\"id\":\"1515\",\"type\":\"BoxAnnotation\"},{\"attributes\":{\"coordinates\":null,\"fill_color\":null,\"group\":null,\"left\":61.5,\"level\":\"underlay\",\"line_alpha\":0.4,\"line_color\":\"black\",\"right\":62.25},\"id\":\"1267\",\"type\":\"BoxAnnotation\"},{\"attributes\":{\"coordinates\":null,\"fill_color\":null,\"group\":null,\"left\":248.25,\"level\":\"underlay\",\"line_alpha\":0.4,\"line_color\":\"black\",\"right\":249.0},\"id\":\"1516\",\"type\":\"BoxAnnotation\"},{\"attributes\":{\"coordinates\":null,\"fill_color\":null,\"group\":null,\"left\":62.25,\"level\":\"underlay\",\"line_alpha\":0.4,\"line_color\":\"black\",\"right\":63.0},\"id\":\"1268\",\"type\":\"BoxAnnotation\"},{\"attributes\":{\"coordinates\":null,\"fill_color\":null,\"group\":null,\"left\":249.0,\"level\":\"underlay\",\"line_alpha\":0.4,\"line_color\":\"black\",\"right\":249.75},\"id\":\"1517\",\"type\":\"BoxAnnotation\"},{\"attributes\":{\"coordinates\":null,\"fill_color\":null,\"group\":null,\"left\":63.0,\"level\":\"underlay\",\"line_alpha\":0.4,\"line_color\":\"black\",\"right\":63.75},\"id\":\"1269\",\"type\":\"BoxAnnotation\"},{\"attributes\":{\"coordinates\":null,\"fill_color\":null,\"group\":null,\"left\":249.75,\"level\":\"underlay\",\"line_alpha\":0.4,\"line_color\":\"black\",\"right\":250.5},\"id\":\"1518\",\"type\":\"BoxAnnotation\"},{\"attributes\":{\"coordinates\":null,\"fill_color\":null,\"group\":null,\"left\":63.75,\"level\":\"underlay\",\"line_alpha\":0.4,\"line_color\":\"black\",\"right\":64.5},\"id\":\"1270\",\"type\":\"BoxAnnotation\"},{\"attributes\":{\"coordinates\":null,\"fill_color\":null,\"group\":null,\"left\":250.5,\"level\":\"underlay\",\"line_alpha\":0.4,\"line_color\":\"black\",\"right\":251.25},\"id\":\"1519\",\"type\":\"BoxAnnotation\"},{\"attributes\":{\"coordinates\":null,\"fill_color\":null,\"group\":null,\"left\":64.5,\"level\":\"underlay\",\"line_alpha\":0.4,\"line_color\":\"black\",\"right\":65.25},\"id\":\"1271\",\"type\":\"BoxAnnotation\"},{\"attributes\":{\"coordinates\":null,\"fill_color\":null,\"group\":null,\"left\":251.25,\"level\":\"underlay\",\"line_alpha\":0.4,\"line_color\":\"black\",\"right\":252.0},\"id\":\"1520\",\"type\":\"BoxAnnotation\"},{\"attributes\":{\"coordinates\":null,\"fill_color\":null,\"group\":null,\"left\":65.25,\"level\":\"underlay\",\"line_alpha\":0.4,\"line_color\":\"black\",\"right\":66.0},\"id\":\"1272\",\"type\":\"BoxAnnotation\"},{\"attributes\":{\"coordinates\":null,\"fill_color\":null,\"group\":null,\"left\":252.0,\"level\":\"underlay\",\"line_alpha\":0.4,\"line_color\":\"black\",\"right\":252.75},\"id\":\"1521\",\"type\":\"BoxAnnotation\"},{\"attributes\":{\"coordinates\":null,\"fill_color\":null,\"group\":null,\"left\":66.0,\"level\":\"underlay\",\"line_alpha\":0.4,\"line_color\":\"black\",\"right\":66.75},\"id\":\"1273\",\"type\":\"BoxAnnotation\"},{\"attributes\":{\"coordinates\":null,\"fill_color\":null,\"group\":null,\"left\":252.75,\"level\":\"underlay\",\"line_alpha\":0.4,\"line_color\":\"black\",\"right\":253.5},\"id\":\"1522\",\"type\":\"BoxAnnotation\"},{\"attributes\":{\"coordinates\":null,\"fill_color\":null,\"group\":null,\"left\":66.75,\"level\":\"underlay\",\"line_alpha\":0.4,\"line_color\":\"black\",\"right\":67.5},\"id\":\"1274\",\"type\":\"BoxAnnotation\"},{\"attributes\":{\"coordinates\":null,\"fill_color\":null,\"group\":null,\"left\":253.5,\"level\":\"underlay\",\"line_alpha\":0.4,\"line_color\":\"black\",\"right\":254.25},\"id\":\"1523\",\"type\":\"BoxAnnotation\"},{\"attributes\":{\"coordinates\":null,\"fill_color\":null,\"group\":null,\"left\":67.5,\"level\":\"underlay\",\"line_alpha\":0.4,\"line_color\":\"black\",\"right\":68.25},\"id\":\"1275\",\"type\":\"BoxAnnotation\"},{\"attributes\":{\"coordinates\":null,\"fill_color\":null,\"group\":null,\"left\":254.25,\"level\":\"underlay\",\"line_alpha\":0.4,\"line_color\":\"black\",\"right\":255.0},\"id\":\"1524\",\"type\":\"BoxAnnotation\"},{\"attributes\":{\"coordinates\":null,\"fill_color\":null,\"group\":null,\"left\":68.25,\"level\":\"underlay\",\"line_alpha\":0.4,\"line_color\":\"black\",\"right\":69.0},\"id\":\"1276\",\"type\":\"BoxAnnotation\"},{\"attributes\":{\"coordinates\":null,\"fill_color\":null,\"group\":null,\"left\":255.0,\"level\":\"underlay\",\"line_alpha\":0.4,\"line_color\":\"black\",\"right\":255.75},\"id\":\"1525\",\"type\":\"BoxAnnotation\"},{\"attributes\":{\"coordinates\":null,\"fill_color\":null,\"group\":null,\"left\":69.0,\"level\":\"underlay\",\"line_alpha\":0.4,\"line_color\":\"black\",\"right\":69.75},\"id\":\"1277\",\"type\":\"BoxAnnotation\"},{\"attributes\":{\"coordinates\":null,\"fill_color\":null,\"group\":null,\"left\":255.75,\"level\":\"underlay\",\"line_alpha\":0.4,\"line_color\":\"black\",\"right\":256.5},\"id\":\"1526\",\"type\":\"BoxAnnotation\"},{\"attributes\":{\"coordinates\":null,\"fill_color\":null,\"group\":null,\"left\":69.75,\"level\":\"underlay\",\"line_alpha\":0.4,\"line_color\":\"black\",\"right\":70.5},\"id\":\"1278\",\"type\":\"BoxAnnotation\"},{\"attributes\":{\"interval\":1},\"id\":\"1529\",\"type\":\"SingleIntervalTicker\"},{\"attributes\":{\"coordinates\":null,\"fill_color\":null,\"group\":null,\"left\":70.5,\"level\":\"underlay\",\"line_alpha\":0.4,\"line_color\":\"black\",\"right\":71.25},\"id\":\"1279\",\"type\":\"BoxAnnotation\"},{\"attributes\":{\"coordinates\":null,\"group\":null,\"text\":\"Visual MIDI (80 QPM, 4/4)\",\"text_font_size\":\"14px\"},\"id\":\"1531\",\"type\":\"Title\"},{\"attributes\":{\"coordinates\":null,\"fill_color\":null,\"group\":null,\"left\":71.25,\"level\":\"underlay\",\"line_alpha\":0.4,\"line_color\":\"black\",\"right\":72.0},\"id\":\"1280\",\"type\":\"BoxAnnotation\"},{\"attributes\":{\"end\":237.0,\"start\":213.0},\"id\":\"1533\",\"type\":\"Range1d\"},{\"attributes\":{\"coordinates\":null,\"fill_color\":null,\"group\":null,\"left\":72.0,\"level\":\"underlay\",\"line_alpha\":0.4,\"line_color\":\"black\",\"right\":72.75},\"id\":\"1281\",\"type\":\"BoxAnnotation\"},{\"attributes\":{\"coordinates\":null,\"fill_color\":null,\"group\":null,\"left\":72.75,\"level\":\"underlay\",\"line_alpha\":0.4,\"line_color\":\"black\",\"right\":73.5},\"id\":\"1282\",\"type\":\"BoxAnnotation\"},{\"attributes\":{\"coordinates\":null,\"fill_color\":null,\"group\":null,\"left\":73.5,\"level\":\"underlay\",\"line_alpha\":0.4,\"line_color\":\"black\",\"right\":74.25},\"id\":\"1283\",\"type\":\"BoxAnnotation\"},{\"attributes\":{\"coordinates\":null,\"fill_color\":null,\"group\":null,\"left\":74.25,\"level\":\"underlay\",\"line_alpha\":0.4,\"line_color\":\"black\",\"right\":75.0},\"id\":\"1284\",\"type\":\"BoxAnnotation\"},{\"attributes\":{\"end\":73,\"start\":46},\"id\":\"1534\",\"type\":\"Range1d\"},{\"attributes\":{\"coordinates\":null,\"fill_color\":null,\"group\":null,\"left\":75.0,\"level\":\"underlay\",\"line_alpha\":0.4,\"line_color\":\"black\",\"right\":75.75},\"id\":\"1285\",\"type\":\"BoxAnnotation\"},{\"attributes\":{\"coordinates\":null,\"fill_color\":null,\"group\":null,\"left\":75.75,\"level\":\"underlay\",\"line_alpha\":0.4,\"line_color\":\"black\",\"right\":76.5},\"id\":\"1286\",\"type\":\"BoxAnnotation\"},{\"attributes\":{\"coordinates\":null,\"fill_color\":null,\"group\":null,\"left\":76.5,\"level\":\"underlay\",\"line_alpha\":0.4,\"line_color\":\"black\",\"right\":77.25},\"id\":\"1287\",\"type\":\"BoxAnnotation\"},{\"attributes\":{\"coordinates\":null,\"fill_color\":null,\"group\":null,\"left\":77.25,\"level\":\"underlay\",\"line_alpha\":0.4,\"line_color\":\"black\",\"right\":78.0},\"id\":\"1288\",\"type\":\"BoxAnnotation\"},{\"attributes\":{\"coordinates\":null,\"fill_color\":null,\"group\":null,\"left\":78.0,\"level\":\"underlay\",\"line_alpha\":0.4,\"line_color\":\"black\",\"right\":78.75},\"id\":\"1289\",\"type\":\"BoxAnnotation\"},{\"attributes\":{\"coordinates\":null,\"fill_color\":null,\"group\":null,\"left\":82.5,\"level\":\"underlay\",\"line_alpha\":0.4,\"line_color\":\"black\",\"right\":83.25},\"id\":\"1295\",\"type\":\"BoxAnnotation\"},{\"attributes\":{\"coordinates\":null,\"fill_color\":null,\"group\":null,\"left\":78.75,\"level\":\"underlay\",\"line_alpha\":0.4,\"line_color\":\"black\",\"right\":79.5},\"id\":\"1290\",\"type\":\"BoxAnnotation\"},{\"attributes\":{\"coordinates\":null,\"fill_color\":null,\"group\":null,\"left\":80.25,\"level\":\"underlay\",\"line_alpha\":0.4,\"line_color\":\"black\",\"right\":81.0},\"id\":\"1292\",\"type\":\"BoxAnnotation\"},{\"attributes\":{\"coordinates\":null,\"fill_color\":null,\"group\":null,\"left\":83.25,\"level\":\"underlay\",\"line_alpha\":0.4,\"line_color\":\"black\",\"right\":84.0},\"id\":\"1296\",\"type\":\"BoxAnnotation\"},{\"attributes\":{\"tools\":[{\"id\":\"1019\"},{\"id\":\"1020\"},{\"id\":\"1021\"},{\"id\":\"1022\"},{\"id\":\"1023\"}]},\"id\":\"1024\",\"type\":\"Toolbar\"},{\"attributes\":{\"coordinates\":null,\"fill_color\":null,\"group\":null,\"left\":81.0,\"level\":\"underlay\",\"line_alpha\":0.4,\"line_color\":\"black\",\"right\":81.75},\"id\":\"1293\",\"type\":\"BoxAnnotation\"},{\"attributes\":{\"coordinates\":null,\"fill_color\":null,\"group\":null,\"left\":81.75,\"level\":\"underlay\",\"line_alpha\":0.4,\"line_color\":\"black\",\"right\":82.5},\"id\":\"1294\",\"type\":\"BoxAnnotation\"},{\"attributes\":{\"coordinates\":null,\"fill_color\":null,\"group\":null,\"left\":79.5,\"level\":\"underlay\",\"line_alpha\":0.4,\"line_color\":\"black\",\"right\":80.25},\"id\":\"1291\",\"type\":\"BoxAnnotation\"},{\"attributes\":{\"coordinates\":null,\"fill_color\":null,\"group\":null,\"left\":84.0,\"level\":\"underlay\",\"line_alpha\":0.4,\"line_color\":\"black\",\"right\":84.75},\"id\":\"1297\",\"type\":\"BoxAnnotation\"},{\"attributes\":{\"coordinates\":null,\"fill_color\":null,\"group\":null,\"left\":84.75,\"level\":\"underlay\",\"line_alpha\":0.4,\"line_color\":\"black\",\"right\":85.5},\"id\":\"1298\",\"type\":\"BoxAnnotation\"},{\"attributes\":{\"coordinates\":null,\"fill_color\":null,\"group\":null,\"left\":85.5,\"level\":\"underlay\",\"line_alpha\":0.4,\"line_color\":\"black\",\"right\":86.25},\"id\":\"1299\",\"type\":\"BoxAnnotation\"},{\"attributes\":{\"coordinates\":null,\"fill_color\":null,\"group\":null,\"left\":86.25,\"level\":\"underlay\",\"line_alpha\":0.4,\"line_color\":\"black\",\"right\":87.0},\"id\":\"1300\",\"type\":\"BoxAnnotation\"},{\"attributes\":{\"coordinates\":null,\"fill_color\":null,\"group\":null,\"left\":87.0,\"level\":\"underlay\",\"line_alpha\":0.4,\"line_color\":\"black\",\"right\":87.75},\"id\":\"1301\",\"type\":\"BoxAnnotation\"},{\"attributes\":{\"coordinates\":null,\"fill_color\":null,\"group\":null,\"left\":87.75,\"level\":\"underlay\",\"line_alpha\":0.4,\"line_color\":\"black\",\"right\":88.5},\"id\":\"1302\",\"type\":\"BoxAnnotation\"},{\"attributes\":{\"coordinates\":null,\"fill_color\":null,\"group\":null,\"left\":88.5,\"level\":\"underlay\",\"line_alpha\":0.4,\"line_color\":\"black\",\"right\":89.25},\"id\":\"1303\",\"type\":\"BoxAnnotation\"},{\"attributes\":{\"coordinates\":null,\"fill_color\":null,\"group\":null,\"left\":89.25,\"level\":\"underlay\",\"line_alpha\":0.4,\"line_color\":\"black\",\"right\":90.0},\"id\":\"1304\",\"type\":\"BoxAnnotation\"},{\"attributes\":{\"coordinates\":null,\"fill_color\":null,\"group\":null,\"left\":90.0,\"level\":\"underlay\",\"line_alpha\":0.4,\"line_color\":\"black\",\"right\":90.75},\"id\":\"1305\",\"type\":\"BoxAnnotation\"},{\"attributes\":{\"coordinates\":null,\"fill_color\":null,\"group\":null,\"left\":90.75,\"level\":\"underlay\",\"line_alpha\":0.4,\"line_color\":\"black\",\"right\":91.5},\"id\":\"1306\",\"type\":\"BoxAnnotation\"},{\"attributes\":{\"coordinates\":null,\"fill_color\":null,\"group\":null,\"left\":91.5,\"level\":\"underlay\",\"line_alpha\":0.4,\"line_color\":\"black\",\"right\":92.25},\"id\":\"1307\",\"type\":\"BoxAnnotation\"},{\"attributes\":{},\"id\":\"1542\",\"type\":\"UnionRenderers\"},{\"attributes\":{\"coordinates\":null,\"fill_color\":null,\"group\":null,\"left\":92.25,\"level\":\"underlay\",\"line_alpha\":0.4,\"line_color\":\"black\",\"right\":93.0},\"id\":\"1308\",\"type\":\"BoxAnnotation\"},{\"attributes\":{\"coordinates\":null,\"fill_color\":null,\"group\":null,\"left\":93.0,\"level\":\"underlay\",\"line_alpha\":0.4,\"line_color\":\"black\",\"right\":93.75},\"id\":\"1309\",\"type\":\"BoxAnnotation\"},{\"attributes\":{\"coordinates\":null,\"fill_color\":null,\"group\":null,\"left\":93.75,\"level\":\"underlay\",\"line_alpha\":0.4,\"line_color\":\"black\",\"right\":94.5},\"id\":\"1310\",\"type\":\"BoxAnnotation\"},{\"attributes\":{},\"id\":\"1543\",\"type\":\"Selection\"},{\"attributes\":{\"coordinates\":null,\"fill_color\":null,\"group\":null,\"left\":94.5,\"level\":\"underlay\",\"line_alpha\":0.4,\"line_color\":\"black\",\"right\":95.25},\"id\":\"1311\",\"type\":\"BoxAnnotation\"},{\"attributes\":{\"coordinates\":null,\"fill_color\":null,\"group\":null,\"left\":97.5,\"level\":\"underlay\",\"line_alpha\":0.4,\"line_color\":\"black\",\"right\":98.25},\"id\":\"1315\",\"type\":\"BoxAnnotation\"},{\"attributes\":{\"coordinates\":null,\"fill_color\":null,\"group\":null,\"left\":95.25,\"level\":\"underlay\",\"line_alpha\":0.4,\"line_color\":\"black\",\"right\":96.0},\"id\":\"1312\",\"type\":\"BoxAnnotation\"},{\"attributes\":{},\"id\":\"1033\",\"type\":\"BasicTickFormatter\"},{\"attributes\":{\"coordinates\":null,\"fill_color\":null,\"group\":null,\"left\":96.0,\"level\":\"underlay\",\"line_alpha\":0.4,\"line_color\":\"black\",\"right\":96.75},\"id\":\"1313\",\"type\":\"BoxAnnotation\"},{\"attributes\":{\"coordinates\":null,\"fill_color\":null,\"group\":null,\"left\":99.0,\"level\":\"underlay\",\"line_alpha\":0.4,\"line_color\":\"black\",\"right\":99.75},\"id\":\"1317\",\"type\":\"BoxAnnotation\"},{\"attributes\":{\"coordinates\":null,\"fill_color\":null,\"group\":null,\"left\":96.75,\"level\":\"underlay\",\"line_alpha\":0.4,\"line_color\":\"black\",\"right\":97.5},\"id\":\"1314\",\"type\":\"BoxAnnotation\"},{\"attributes\":{\"coordinates\":null,\"fill_color\":null,\"group\":null,\"left\":98.25,\"level\":\"underlay\",\"line_alpha\":0.4,\"line_color\":\"black\",\"right\":99.0},\"id\":\"1316\",\"type\":\"BoxAnnotation\"},{\"attributes\":{\"bottom\":62,\"coordinates\":null,\"fill_alpha\":0.15,\"fill_color\":\"gray\",\"group\":null,\"level\":\"underlay\",\"line_color\":\"black\",\"top\":63},\"id\":\"1077\",\"type\":\"BoxAnnotation\"},{\"attributes\":{\"coordinates\":null,\"fill_alpha\":0.25,\"fill_color\":\"gray\",\"group\":null,\"left\":12.0,\"level\":\"underlay\",\"line_alpha\":0.5,\"line_color\":\"black\",\"line_width\":2,\"right\":15.0},\"id\":\"1103\",\"type\":\"BoxAnnotation\"},{\"attributes\":{\"bottom\":68,\"coordinates\":null,\"fill_alpha\":0.15,\"fill_color\":\"gray\",\"group\":null,\"level\":\"underlay\",\"line_color\":\"black\",\"top\":69},\"id\":\"1089\",\"type\":\"BoxAnnotation\"},{\"attributes\":{\"bottom\":67,\"coordinates\":null,\"fill_alpha\":0.0,\"fill_color\":\"gray\",\"group\":null,\"level\":\"underlay\",\"line_color\":\"black\",\"top\":68},\"id\":\"1087\",\"type\":\"BoxAnnotation\"},{\"attributes\":{\"bottom\":63,\"coordinates\":null,\"fill_alpha\":0.0,\"fill_color\":\"gray\",\"group\":null,\"level\":\"underlay\",\"line_color\":\"black\",\"top\":64},\"id\":\"1079\",\"type\":\"BoxAnnotation\"},{\"attributes\":{\"coordinates\":null,\"group\":null,\"render_mode\":\"css\",\"text\":\"62\",\"text_font_size\":\"10px\",\"x\":-18,\"x_units\":\"screen\",\"y\":62.1},\"id\":\"1078\",\"type\":\"Label\"},{\"attributes\":{\"bottom\":64,\"coordinates\":null,\"fill_alpha\":0.15,\"fill_color\":\"gray\",\"group\":null,\"level\":\"underlay\",\"line_color\":\"black\",\"top\":65},\"id\":\"1081\",\"type\":\"BoxAnnotation\"},{\"attributes\":{\"coordinates\":null,\"group\":null,\"render_mode\":\"css\",\"text\":\"63\",\"text_font_size\":\"10px\",\"x\":-18,\"x_units\":\"screen\",\"y\":63.1},\"id\":\"1080\",\"type\":\"Label\"},{\"attributes\":{\"bottom\":65,\"coordinates\":null,\"fill_alpha\":0.0,\"fill_color\":\"gray\",\"group\":null,\"level\":\"underlay\",\"line_color\":\"black\",\"top\":66},\"id\":\"1083\",\"type\":\"BoxAnnotation\"},{\"attributes\":{\"coordinates\":null,\"group\":null,\"render_mode\":\"css\",\"text\":\"64\",\"text_font_size\":\"10px\",\"x\":-18,\"x_units\":\"screen\",\"y\":64.1},\"id\":\"1082\",\"type\":\"Label\"},{\"attributes\":{\"bottom\":66,\"coordinates\":null,\"fill_alpha\":0.15,\"fill_color\":\"gray\",\"group\":null,\"level\":\"underlay\",\"line_color\":\"black\",\"top\":67},\"id\":\"1085\",\"type\":\"BoxAnnotation\"},{\"attributes\":{\"coordinates\":null,\"group\":null,\"render_mode\":\"css\",\"text\":\"65\",\"text_font_size\":\"10px\",\"x\":-18,\"x_units\":\"screen\",\"y\":65.1},\"id\":\"1084\",\"type\":\"Label\"},{\"attributes\":{\"coordinates\":null,\"group\":null,\"render_mode\":\"css\",\"text\":\"66\",\"text_font_size\":\"10px\",\"x\":-18,\"x_units\":\"screen\",\"y\":66.1},\"id\":\"1086\",\"type\":\"Label\"},{\"attributes\":{\"coordinates\":null,\"group\":null,\"render_mode\":\"css\",\"text\":\"67\",\"text_font_size\":\"10px\",\"x\":-18,\"x_units\":\"screen\",\"y\":67.1},\"id\":\"1088\",\"type\":\"Label\"},{\"attributes\":{\"bottom\":69,\"coordinates\":null,\"fill_alpha\":0.0,\"fill_color\":\"gray\",\"group\":null,\"level\":\"underlay\",\"line_color\":\"black\",\"top\":70},\"id\":\"1091\",\"type\":\"BoxAnnotation\"},{\"attributes\":{\"coordinates\":null,\"group\":null,\"render_mode\":\"css\",\"text\":\"68\",\"text_font_size\":\"10px\",\"x\":-18,\"x_units\":\"screen\",\"y\":68.1},\"id\":\"1090\",\"type\":\"Label\"},{\"attributes\":{\"bottom\":70,\"coordinates\":null,\"fill_alpha\":0.15,\"fill_color\":\"gray\",\"group\":null,\"level\":\"underlay\",\"line_color\":\"black\",\"top\":71},\"id\":\"1093\",\"type\":\"BoxAnnotation\"},{\"attributes\":{\"coordinates\":null,\"group\":null,\"render_mode\":\"css\",\"text\":\"69\",\"text_font_size\":\"10px\",\"x\":-18,\"x_units\":\"screen\",\"y\":69.1},\"id\":\"1092\",\"type\":\"Label\"},{\"attributes\":{\"bottom\":71,\"coordinates\":null,\"fill_alpha\":0.0,\"fill_color\":\"gray\",\"group\":null,\"level\":\"underlay\",\"line_color\":\"black\",\"top\":72},\"id\":\"1095\",\"type\":\"BoxAnnotation\"},{\"attributes\":{\"coordinates\":null,\"group\":null,\"render_mode\":\"css\",\"text\":\"70\",\"text_font_size\":\"10px\",\"x\":-18,\"x_units\":\"screen\",\"y\":70.1},\"id\":\"1094\",\"type\":\"Label\"},{\"attributes\":{\"bottom\":72,\"coordinates\":null,\"fill_alpha\":0.15,\"fill_color\":\"gray\",\"group\":null,\"level\":\"underlay\",\"line_color\":\"black\",\"top\":73},\"id\":\"1097\",\"type\":\"BoxAnnotation\"},{\"attributes\":{\"coordinates\":null,\"group\":null,\"render_mode\":\"css\",\"text\":\"71\",\"text_font_size\":\"10px\",\"x\":-18,\"x_units\":\"screen\",\"y\":71.1},\"id\":\"1096\",\"type\":\"Label\"},{\"attributes\":{\"coordinates\":null,\"fill_alpha\":0.25,\"fill_color\":\"gray\",\"group\":null,\"left\":72.0,\"level\":\"underlay\",\"line_alpha\":0.5,\"line_color\":\"black\",\"line_width\":2,\"right\":75.0},\"id\":\"1123\",\"type\":\"BoxAnnotation\"},{\"attributes\":{\"coordinates\":null,\"group\":null,\"render_mode\":\"css\",\"text\":\"72\",\"text_font_size\":\"10px\",\"x\":-18,\"x_units\":\"screen\",\"y\":72.1},\"id\":\"1098\",\"type\":\"Label\"},{\"attributes\":{\"coordinates\":null,\"fill_alpha\":0.25,\"fill_color\":\"gray\",\"group\":null,\"left\":0.0,\"level\":\"underlay\",\"line_alpha\":0.5,\"line_color\":\"black\",\"line_width\":2,\"right\":3.0},\"id\":\"1099\",\"type\":\"BoxAnnotation\"},{\"attributes\":{\"coordinates\":null,\"fill_alpha\":0.25,\"fill_color\":\"gray\",\"group\":null,\"left\":6.0,\"level\":\"underlay\",\"line_alpha\":0.5,\"line_color\":\"black\",\"line_width\":2,\"right\":9.0},\"id\":\"1101\",\"type\":\"BoxAnnotation\"},{\"attributes\":{\"coordinates\":null,\"fill_alpha\":0.05,\"fill_color\":\"gray\",\"group\":null,\"left\":9.0,\"level\":\"underlay\",\"line_alpha\":0.5,\"line_color\":\"black\",\"line_width\":2,\"right\":12.0},\"id\":\"1102\",\"type\":\"BoxAnnotation\"},{\"attributes\":{\"coordinates\":null,\"fill_alpha\":0.05,\"fill_color\":\"gray\",\"group\":null,\"left\":15.0,\"level\":\"underlay\",\"line_alpha\":0.5,\"line_color\":\"black\",\"line_width\":2,\"right\":18.0},\"id\":\"1104\",\"type\":\"BoxAnnotation\"},{\"attributes\":{\"coordinates\":null,\"fill_alpha\":0.05,\"fill_color\":\"gray\",\"group\":null,\"left\":3.0,\"level\":\"underlay\",\"line_alpha\":0.5,\"line_color\":\"black\",\"line_width\":2,\"right\":6.0},\"id\":\"1100\",\"type\":\"BoxAnnotation\"},{\"attributes\":{\"coordinates\":null,\"fill_alpha\":0.25,\"fill_color\":\"gray\",\"group\":null,\"left\":18.0,\"level\":\"underlay\",\"line_alpha\":0.5,\"line_color\":\"black\",\"line_width\":2,\"right\":21.0},\"id\":\"1105\",\"type\":\"BoxAnnotation\"},{\"attributes\":{\"coordinates\":null,\"fill_alpha\":0.05,\"fill_color\":\"gray\",\"group\":null,\"left\":21.0,\"level\":\"underlay\",\"line_alpha\":0.5,\"line_color\":\"black\",\"line_width\":2,\"right\":24.0},\"id\":\"1106\",\"type\":\"BoxAnnotation\"},{\"attributes\":{\"coordinates\":null,\"fill_alpha\":0.25,\"fill_color\":\"gray\",\"group\":null,\"left\":24.0,\"level\":\"underlay\",\"line_alpha\":0.5,\"line_color\":\"black\",\"line_width\":2,\"right\":27.0},\"id\":\"1107\",\"type\":\"BoxAnnotation\"},{\"attributes\":{\"coordinates\":null,\"fill_alpha\":0.05,\"fill_color\":\"gray\",\"group\":null,\"left\":27.0,\"level\":\"underlay\",\"line_alpha\":0.5,\"line_color\":\"black\",\"line_width\":2,\"right\":30.0},\"id\":\"1108\",\"type\":\"BoxAnnotation\"},{\"attributes\":{\"coordinates\":null,\"fill_alpha\":0.25,\"fill_color\":\"gray\",\"group\":null,\"left\":30.0,\"level\":\"underlay\",\"line_alpha\":0.5,\"line_color\":\"black\",\"line_width\":2,\"right\":33.0},\"id\":\"1109\",\"type\":\"BoxAnnotation\"},{\"attributes\":{\"coordinates\":null,\"fill_alpha\":0.05,\"fill_color\":\"gray\",\"group\":null,\"left\":33.0,\"level\":\"underlay\",\"line_alpha\":0.5,\"line_color\":\"black\",\"line_width\":2,\"right\":36.0},\"id\":\"1110\",\"type\":\"BoxAnnotation\"},{\"attributes\":{\"coordinates\":null,\"fill_alpha\":0.25,\"fill_color\":\"gray\",\"group\":null,\"left\":36.0,\"level\":\"underlay\",\"line_alpha\":0.5,\"line_color\":\"black\",\"line_width\":2,\"right\":39.0},\"id\":\"1111\",\"type\":\"BoxAnnotation\"},{\"attributes\":{\"coordinates\":null,\"fill_alpha\":0.05,\"fill_color\":\"gray\",\"group\":null,\"left\":39.0,\"level\":\"underlay\",\"line_alpha\":0.5,\"line_color\":\"black\",\"line_width\":2,\"right\":42.0},\"id\":\"1112\",\"type\":\"BoxAnnotation\"},{\"attributes\":{\"coordinates\":null,\"fill_alpha\":0.25,\"fill_color\":\"gray\",\"group\":null,\"left\":42.0,\"level\":\"underlay\",\"line_alpha\":0.5,\"line_color\":\"black\",\"line_width\":2,\"right\":45.0},\"id\":\"1113\",\"type\":\"BoxAnnotation\"},{\"attributes\":{\"coordinates\":null,\"fill_alpha\":0.05,\"fill_color\":\"gray\",\"group\":null,\"left\":45.0,\"level\":\"underlay\",\"line_alpha\":0.5,\"line_color\":\"black\",\"line_width\":2,\"right\":48.0},\"id\":\"1114\",\"type\":\"BoxAnnotation\"},{\"attributes\":{},\"id\":\"1022\",\"type\":\"WheelZoomTool\"},{\"attributes\":{\"coordinates\":null,\"fill_alpha\":0.25,\"fill_color\":\"gray\",\"group\":null,\"left\":48.0,\"level\":\"underlay\",\"line_alpha\":0.5,\"line_color\":\"black\",\"line_width\":2,\"right\":51.0},\"id\":\"1115\",\"type\":\"BoxAnnotation\"},{\"attributes\":{},\"id\":\"1023\",\"type\":\"PanTool\"},{\"attributes\":{\"coordinates\":null,\"fill_alpha\":0.05,\"fill_color\":\"gray\",\"group\":null,\"left\":51.0,\"level\":\"underlay\",\"line_alpha\":0.5,\"line_color\":\"black\",\"line_width\":2,\"right\":54.0},\"id\":\"1116\",\"type\":\"BoxAnnotation\"},{\"attributes\":{\"coordinates\":null,\"fill_alpha\":0.25,\"fill_color\":\"gray\",\"group\":null,\"left\":54.0,\"level\":\"underlay\",\"line_alpha\":0.5,\"line_color\":\"black\",\"line_width\":2,\"right\":57.0},\"id\":\"1117\",\"type\":\"BoxAnnotation\"},{\"attributes\":{\"coordinates\":null,\"fill_alpha\":0.05,\"fill_color\":\"gray\",\"group\":null,\"left\":57.0,\"level\":\"underlay\",\"line_alpha\":0.5,\"line_color\":\"black\",\"line_width\":2,\"right\":60.0},\"id\":\"1118\",\"type\":\"BoxAnnotation\"},{\"attributes\":{},\"id\":\"1019\",\"type\":\"ResetTool\"},{\"attributes\":{\"coordinates\":null,\"fill_alpha\":0.05,\"fill_color\":\"gray\",\"group\":null,\"left\":69.0,\"level\":\"underlay\",\"line_alpha\":0.5,\"line_color\":\"black\",\"line_width\":2,\"right\":72.0},\"id\":\"1122\",\"type\":\"BoxAnnotation\"},{\"attributes\":{\"callback\":null,\"tooltips\":[[\"program\",\"@program\"],[\"pitch\",\"@top\"],[\"velocity\",\"@velocity\"],[\"duration\",\"@duration\"],[\"start_time\",\"@left\"],[\"end_time\",\"@right\"]]},\"id\":\"1020\",\"type\":\"HoverTool\"},{\"attributes\":{\"coordinates\":null,\"fill_alpha\":0.05,\"fill_color\":\"gray\",\"group\":null,\"left\":75.0,\"level\":\"underlay\",\"line_alpha\":0.5,\"line_color\":\"black\",\"line_width\":2,\"right\":78.0},\"id\":\"1124\",\"type\":\"BoxAnnotation\"},{\"attributes\":{\"coordinates\":null,\"fill_alpha\":0.25,\"fill_color\":\"gray\",\"group\":null,\"left\":66.0,\"level\":\"underlay\",\"line_alpha\":0.5,\"line_color\":\"black\",\"line_width\":2,\"right\":69.0},\"id\":\"1121\",\"type\":\"BoxAnnotation\"},{\"attributes\":{},\"id\":\"1021\",\"type\":\"SaveTool\"},{\"attributes\":{\"coordinates\":null,\"fill_alpha\":0.25,\"fill_color\":\"gray\",\"group\":null,\"left\":60.0,\"level\":\"underlay\",\"line_alpha\":0.5,\"line_color\":\"black\",\"line_width\":2,\"right\":63.0},\"id\":\"1119\",\"type\":\"BoxAnnotation\"},{\"attributes\":{\"data\":{\"bottom\":[61,65,68,61,56,68,49,65,59,63,68,59,63,68,56,51,61,73,66,68,61,66,68,54,49,61,68,73,61,65,49,56,68,61,65,68,61,56,68,49,65,59,63,68,59,63,68,56,51,61,73,66,68,61,66,68,54,49,61,68,73,61,65,49,56,68,61,68,63,61,65,68,56,49,61,63,68,49,56,61,65,68,59,63,68,56,61,58,68,54,61,56,63,68,49,65,61,56,49,68,61,49,56,63,68,49,65,61,56,68,63,59,68,56,61,58,54,68,63,68,58,53,58,53,68,58,61,60,63,58,54,61,68,63,61,65,53,58,68,61,61,54,68,73,61,65,68,61,56,68,49,65,59,63,68,59,63,68,56,51,61,73,66,68,61,66,68,54,49,61,68,73,61,65,49,56,68,61,65,68,61,56,68,49,65,59,63,68,59,63,68,56,51,61,73,66,68,61,66,68,54,49,61,68,73,61,65,49,56,68,59,63,47,58,61,66,54,61,65,56,68,49,63,47,54,66,54,49,61,66,73,61,68,73,56,49,61,65,68,61,56,68,49,65,59,63,68,59,63,68,56,51,61,73,66,68,61,66,68,54,49,61,68,73,61,65,49,56,68,61,65,68,61,56,68,49,65,59,63,68,59,63,68,56,51,61,73,66,68,61,66,68,54,49,61,68,73,61,65,49,56,68,61,65,68,61,56,68,49,65,59,63,68,59,63,68,56,51,61,73,66,68,61,66,68,54,49,61,68,73,61,65,49,56,68,61,65,68,61,56,68,49,65,59,63,68,59,63,68,56,51,61,73,66,68,61,66,68,54,49,61,68,73,61,65,49,56,68],\"color\":[\"rgb(255, 51, 255)\",\"rgb(181, 7, 255)\",\"rgb(179, 0, 179)\",\"rgb(255, 51, 255)\",\"rgb(235, 223, 235)\",\"rgb(179, 0, 179)\",\"rgb(190, 0, 190)\",\"rgb(181, 7, 255)\",\"rgb(228, 153, 226)\",\"rgb(178, 153, 229)\",\"rgb(179, 0, 179)\",\"rgb(228, 153, 226)\",\"rgb(178, 153, 229)\",\"rgb(179, 0, 179)\",\"rgb(235, 223, 235)\",\"rgb(106, 0, 181)\",\"rgb(255, 51, 255)\",\"rgb(255, 255, 255)\",\"rgb(173, 90, 215)\",\"rgb(179, 0, 179)\",\"rgb(255, 51, 255)\",\"rgb(173, 90, 215)\",\"rgb(179, 0, 179)\",\"rgb(164, 150, 243)\",\"rgb(190, 0, 190)\",\"rgb(255, 51, 255)\",\"rgb(179, 0, 179)\",\"rgb(255, 255, 255)\",\"rgb(255, 51, 255)\",\"rgb(181, 7, 255)\",\"rgb(190, 0, 190)\",\"rgb(235, 223, 235)\",\"rgb(179, 0, 179)\",\"rgb(255, 51, 255)\",\"rgb(181, 7, 255)\",\"rgb(179, 0, 179)\",\"rgb(255, 51, 255)\",\"rgb(235, 223, 235)\",\"rgb(179, 0, 179)\",\"rgb(190, 0, 190)\",\"rgb(181, 7, 255)\",\"rgb(228, 153, 226)\",\"rgb(178, 153, 229)\",\"rgb(179, 0, 179)\",\"rgb(228, 153, 226)\",\"rgb(178, 153, 229)\",\"rgb(179, 0, 179)\",\"rgb(235, 223, 235)\",\"rgb(106, 0, 181)\",\"rgb(255, 51, 255)\",\"rgb(255, 255, 255)\",\"rgb(173, 90, 215)\",\"rgb(179, 0, 179)\",\"rgb(255, 51, 255)\",\"rgb(173, 90, 215)\",\"rgb(179, 0, 179)\",\"rgb(164, 150, 243)\",\"rgb(190, 0, 190)\",\"rgb(255, 51, 255)\",\"rgb(179, 0, 179)\",\"rgb(255, 255, 255)\",\"rgb(255, 51, 255)\",\"rgb(181, 7, 255)\",\"rgb(190, 0, 190)\",\"rgb(235, 223, 235)\",\"rgb(179, 0, 179)\",\"rgb(255, 51, 255)\",\"rgb(179, 0, 179)\",\"rgb(178, 153, 229)\",\"rgb(255, 51, 255)\",\"rgb(181, 7, 255)\",\"rgb(179, 0, 179)\",\"rgb(235, 223, 235)\",\"rgb(190, 0, 190)\",\"rgb(255, 51, 255)\",\"rgb(178, 153, 229)\",\"rgb(179, 0, 179)\",\"rgb(190, 0, 190)\",\"rgb(235, 223, 235)\",\"rgb(255, 51, 255)\",\"rgb(181, 7, 255)\",\"rgb(179, 0, 179)\",\"rgb(228, 153, 226)\",\"rgb(178, 153, 229)\",\"rgb(179, 0, 179)\",\"rgb(235, 223, 235)\",\"rgb(255, 51, 255)\",\"rgb(244, 175, 244)\",\"rgb(179, 0, 179)\",\"rgb(164, 150, 243)\",\"rgb(255, 51, 255)\",\"rgb(235, 223, 235)\",\"rgb(178, 153, 229)\",\"rgb(179, 0, 179)\",\"rgb(190, 0, 190)\",\"rgb(181, 7, 255)\",\"rgb(255, 51, 255)\",\"rgb(235, 223, 235)\",\"rgb(190, 0, 190)\",\"rgb(179, 0, 179)\",\"rgb(255, 51, 255)\",\"rgb(190, 0, 190)\",\"rgb(235, 223, 235)\",\"rgb(178, 153, 229)\",\"rgb(179, 0, 179)\",\"rgb(190, 0, 190)\",\"rgb(181, 7, 255)\",\"rgb(255, 51, 255)\",\"rgb(235, 223, 235)\",\"rgb(179, 0, 179)\",\"rgb(178, 153, 229)\",\"rgb(228, 153, 226)\",\"rgb(179, 0, 179)\",\"rgb(235, 223, 235)\",\"rgb(255, 51, 255)\",\"rgb(244, 175, 244)\",\"rgb(164, 150, 243)\",\"rgb(179, 0, 179)\",\"rgb(178, 153, 229)\",\"rgb(179, 0, 179)\",\"rgb(244, 175, 244)\",\"rgb(141, 129, 217)\",\"rgb(244, 175, 244)\",\"rgb(141, 129, 217)\",\"rgb(179, 0, 179)\",\"rgb(244, 175, 244)\",\"rgb(255, 51, 255)\",\"rgb(255, 51, 255)\",\"rgb(178, 153, 229)\",\"rgb(244, 175, 244)\",\"rgb(164, 150, 243)\",\"rgb(255, 51, 255)\",\"rgb(179, 0, 179)\",\"rgb(178, 153, 229)\",\"rgb(255, 51, 255)\",\"rgb(181, 7, 255)\",\"rgb(141, 129, 217)\",\"rgb(244, 175, 244)\",\"rgb(179, 0, 179)\",\"rgb(255, 51, 255)\",\"rgb(255, 51, 255)\",\"rgb(164, 150, 243)\",\"rgb(179, 0, 179)\",\"rgb(255, 255, 255)\",\"rgb(255, 51, 255)\",\"rgb(181, 7, 255)\",\"rgb(179, 0, 179)\",\"rgb(255, 51, 255)\",\"rgb(235, 223, 235)\",\"rgb(179, 0, 179)\",\"rgb(190, 0, 190)\",\"rgb(181, 7, 255)\",\"rgb(228, 153, 226)\",\"rgb(178, 153, 229)\",\"rgb(179, 0, 179)\",\"rgb(228, 153, 226)\",\"rgb(178, 153, 229)\",\"rgb(179, 0, 179)\",\"rgb(235, 223, 235)\",\"rgb(106, 0, 181)\",\"rgb(255, 51, 255)\",\"rgb(255, 255, 255)\",\"rgb(173, 90, 215)\",\"rgb(179, 0, 179)\",\"rgb(255, 51, 255)\",\"rgb(173, 90, 215)\",\"rgb(179, 0, 179)\",\"rgb(164, 150, 243)\",\"rgb(190, 0, 190)\",\"rgb(255, 51, 255)\",\"rgb(179, 0, 179)\",\"rgb(255, 255, 255)\",\"rgb(255, 51, 255)\",\"rgb(181, 7, 255)\",\"rgb(190, 0, 190)\",\"rgb(235, 223, 235)\",\"rgb(179, 0, 179)\",\"rgb(255, 51, 255)\",\"rgb(181, 7, 255)\",\"rgb(179, 0, 179)\",\"rgb(255, 51, 255)\",\"rgb(235, 223, 235)\",\"rgb(179, 0, 179)\",\"rgb(190, 0, 190)\",\"rgb(181, 7, 255)\",\"rgb(228, 153, 226)\",\"rgb(178, 153, 229)\",\"rgb(179, 0, 179)\",\"rgb(228, 153, 226)\",\"rgb(178, 153, 229)\",\"rgb(179, 0, 179)\",\"rgb(235, 223, 235)\",\"rgb(106, 0, 181)\",\"rgb(255, 51, 255)\",\"rgb(255, 255, 255)\",\"rgb(173, 90, 215)\",\"rgb(179, 0, 179)\",\"rgb(255, 51, 255)\",\"rgb(173, 90, 215)\",\"rgb(179, 0, 179)\",\"rgb(164, 150, 243)\",\"rgb(190, 0, 190)\",\"rgb(255, 51, 255)\",\"rgb(179, 0, 179)\",\"rgb(255, 255, 255)\",\"rgb(255, 51, 255)\",\"rgb(181, 7, 255)\",\"rgb(190, 0, 190)\",\"rgb(235, 223, 235)\",\"rgb(179, 0, 179)\",\"rgb(228, 153, 226)\",\"rgb(178, 153, 229)\",\"rgb(181, 7, 255)\",\"rgb(244, 175, 244)\",\"rgb(255, 51, 255)\",\"rgb(173, 90, 215)\",\"rgb(164, 150, 243)\",\"rgb(255, 51, 255)\",\"rgb(181, 7, 255)\",\"rgb(235, 223, 235)\",\"rgb(179, 0, 179)\",\"rgb(190, 0, 190)\",\"rgb(178, 153, 229)\",\"rgb(181, 7, 255)\",\"rgb(164, 150, 243)\",\"rgb(173, 90, 215)\",\"rgb(164, 150, 243)\",\"rgb(190, 0, 190)\",\"rgb(255, 51, 255)\",\"rgb(173, 90, 215)\",\"rgb(255, 255, 255)\",\"rgb(255, 51, 255)\",\"rgb(179, 0, 179)\",\"rgb(255, 255, 255)\",\"rgb(235, 223, 235)\",\"rgb(190, 0, 190)\",\"rgb(255, 51, 255)\",\"rgb(181, 7, 255)\",\"rgb(179, 0, 179)\",\"rgb(255, 51, 255)\",\"rgb(235, 223, 235)\",\"rgb(179, 0, 179)\",\"rgb(190, 0, 190)\",\"rgb(181, 7, 255)\",\"rgb(228, 153, 226)\",\"rgb(178, 153, 229)\",\"rgb(179, 0, 179)\",\"rgb(228, 153, 226)\",\"rgb(178, 153, 229)\",\"rgb(179, 0, 179)\",\"rgb(235, 223, 235)\",\"rgb(106, 0, 181)\",\"rgb(255, 51, 255)\",\"rgb(255, 255, 255)\",\"rgb(173, 90, 215)\",\"rgb(179, 0, 179)\",\"rgb(255, 51, 255)\",\"rgb(173, 90, 215)\",\"rgb(179, 0, 179)\",\"rgb(164, 150, 243)\",\"rgb(190, 0, 190)\",\"rgb(255, 51, 255)\",\"rgb(179, 0, 179)\",\"rgb(255, 255, 255)\",\"rgb(255, 51, 255)\",\"rgb(181, 7, 255)\",\"rgb(190, 0, 190)\",\"rgb(235, 223, 235)\",\"rgb(179, 0, 179)\",\"rgb(255, 51, 255)\",\"rgb(181, 7, 255)\",\"rgb(179, 0, 179)\",\"rgb(255, 51, 255)\",\"rgb(235, 223, 235)\",\"rgb(179, 0, 179)\",\"rgb(190, 0, 190)\",\"rgb(181, 7, 255)\",\"rgb(228, 153, 226)\",\"rgb(178, 153, 229)\",\"rgb(179, 0, 179)\",\"rgb(228, 153, 226)\",\"rgb(178, 153, 229)\",\"rgb(179, 0, 179)\",\"rgb(235, 223, 235)\",\"rgb(106, 0, 181)\",\"rgb(255, 51, 255)\",\"rgb(255, 255, 255)\",\"rgb(173, 90, 215)\",\"rgb(179, 0, 179)\",\"rgb(255, 51, 255)\",\"rgb(173, 90, 215)\",\"rgb(179, 0, 179)\",\"rgb(164, 150, 243)\",\"rgb(190, 0, 190)\",\"rgb(255, 51, 255)\",\"rgb(179, 0, 179)\",\"rgb(255, 255, 255)\",\"rgb(255, 51, 255)\",\"rgb(181, 7, 255)\",\"rgb(190, 0, 190)\",\"rgb(235, 223, 235)\",\"rgb(179, 0, 179)\",\"rgb(255, 51, 255)\",\"rgb(181, 7, 255)\",\"rgb(179, 0, 179)\",\"rgb(255, 51, 255)\",\"rgb(235, 223, 235)\",\"rgb(179, 0, 179)\",\"rgb(190, 0, 190)\",\"rgb(181, 7, 255)\",\"rgb(228, 153, 226)\",\"rgb(178, 153, 229)\",\"rgb(179, 0, 179)\",\"rgb(228, 153, 226)\",\"rgb(178, 153, 229)\",\"rgb(179, 0, 179)\",\"rgb(235, 223, 235)\",\"rgb(106, 0, 181)\",\"rgb(255, 51, 255)\",\"rgb(255, 255, 255)\",\"rgb(173, 90, 215)\",\"rgb(179, 0, 179)\",\"rgb(255, 51, 255)\",\"rgb(173, 90, 215)\",\"rgb(179, 0, 179)\",\"rgb(164, 150, 243)\",\"rgb(190, 0, 190)\",\"rgb(255, 51, 255)\",\"rgb(179, 0, 179)\",\"rgb(255, 255, 255)\",\"rgb(255, 51, 255)\",\"rgb(181, 7, 255)\",\"rgb(190, 0, 190)\",\"rgb(235, 223, 235)\",\"rgb(179, 0, 179)\",\"rgb(255, 51, 255)\",\"rgb(181, 7, 255)\",\"rgb(179, 0, 179)\",\"rgb(255, 51, 255)\",\"rgb(235, 223, 235)\",\"rgb(179, 0, 179)\",\"rgb(190, 0, 190)\",\"rgb(181, 7, 255)\",\"rgb(228, 153, 226)\",\"rgb(178, 153, 229)\",\"rgb(179, 0, 179)\",\"rgb(228, 153, 226)\",\"rgb(178, 153, 229)\",\"rgb(179, 0, 179)\",\"rgb(235, 223, 235)\",\"rgb(106, 0, 181)\",\"rgb(255, 51, 255)\",\"rgb(255, 255, 255)\",\"rgb(173, 90, 215)\",\"rgb(179, 0, 179)\",\"rgb(255, 51, 255)\",\"rgb(173, 90, 215)\",\"rgb(179, 0, 179)\",\"rgb(164, 150, 243)\",\"rgb(190, 0, 190)\",\"rgb(255, 51, 255)\",\"rgb(179, 0, 179)\",\"rgb(255, 255, 255)\",\"rgb(255, 51, 255)\",\"rgb(181, 7, 255)\",\"rgb(190, 0, 190)\",\"rgb(235, 223, 235)\",\"rgb(179, 0, 179)\"],\"duration\":[0.9625000000000057,0.9750000000000014,0.9937500000000057,1.6375000000000028,2.8062500000000057,1.6812500000000057,2.825000000000003,1.7062500000000043,1.0,1.0187500000000043,1.0187500000000043,1.2750000000000057,1.3312500000000043,1.3500000000000014,2.575000000000003,2.5875000000000057,1.03125,1.03125,1.0562500000000057,1.0562500000000057,1.6500000000000057,1.6937500000000014,1.7125000000000057,2.8687500000000057,2.8937500000000043,1.0,1.0062500000000014,1.0250000000000057,1.4500000000000028,1.46875,2.6187500000000057,2.6187500000000057,1.4937500000000057,0.9625000000000057,0.9750000000000014,0.9937500000000057,1.6375000000000028,2.8062500000000057,1.6812500000000057,2.825000000000003,1.7062499999999972,1.0,1.0187499999999972,1.0187499999999972,1.2750000000000057,1.3312499999999972,1.3500000000000085,2.575000000000003,2.5875000000000057,1.03125,1.03125,1.0562500000000057,1.0562500000000057,1.6500000000000057,1.6937500000000085,1.7125000000000057,2.8687500000000057,2.893749999999997,1.0,1.0062500000000085,1.0250000000000057,1.4500000000000028,1.46875,2.6187500000000057,2.6187500000000057,1.4937500000000057,0.96875,0.9875000000000114,0.9937500000000057,1.5750000000000028,1.6000000000000085,1.6062500000000028,2.7375000000000114,2.7437500000000057,0.9875000000000114,1.0062500000000085,1.0125000000000028,2.6625000000000085,2.7125000000000057,1.5875000000000057,1.5875000000000057,1.6312500000000085,2.65625,2.8000000000000114,2.8187500000000085,2.8312500000000114,2.7562500000000085,2.8000000000000114,2.8000000000000114,2.825000000000003,0.9125000000000085,0.9250000000000114,0.9437500000000085,0.9437500000000085,0.9625000000000057,1.5250000000000057,1.53125,1.5375000000000085,1.5500000000000114,1.5500000000000114,0.9625000000000057,0.9750000000000085,0.9875000000000114,0.9875000000000114,0.9937500000000057,1.5875000000000057,1.625,1.6312500000000085,1.6437500000000114,1.6437500000000114,2.8312500000000114,2.8375000000000057,2.8375000000000057,2.84375,2.7250000000000085,2.731250000000003,2.7437500000000057,2.7875000000000085,0.9750000000000085,1.0,1.0250000000000057,1.0750000000000028,1.6000000000000085,1.6500000000000057,2.918750000000003,1.0687500000000085,2.981250000000003,0.6187500000000057,0.6750000000000114,0.9250000000000114,2.84375,0.96875,0.9625000000000057,0.96875,1.40625,1.4312500000000057,2.575000000000003,2.575000000000003,1.4562500000000114,1.0437500000000028,1.6312500000000085,2.8062500000000057,2.0562500000000057,2.450000000000003,0.9625000000000057,0.9750000000000085,0.9937500000000057,1.6375000000000028,2.8062500000000057,1.6812500000000057,2.825000000000003,1.7062500000000114,1.0,1.0187500000000114,1.0187500000000114,1.2750000000000057,1.3312500000000114,1.3499999999999943,2.575000000000017,2.5875000000000057,1.03125,1.03125,1.0562500000000057,1.0562500000000057,1.6500000000000057,1.6937499999999943,1.7125000000000057,2.8687500000000057,2.8937500000000114,1.0,1.0062499999999943,1.0250000000000057,1.450000000000017,1.46875,2.6187500000000057,2.6187500000000057,1.4937500000000057,0.9625000000000057,0.9749999999999943,0.9937500000000057,1.637500000000017,2.8062500000000057,1.6812500000000057,2.825000000000017,1.7062500000000114,1.0,1.0187500000000114,1.0187500000000114,1.2750000000000057,1.3312500000000114,1.3499999999999943,2.575000000000017,2.5875000000000057,1.03125,1.03125,1.0562500000000057,1.0562500000000057,1.6500000000000057,1.6937499999999943,1.7125000000000057,2.8687500000000057,2.8937500000000114,1.0,1.0062499999999943,1.0250000000000057,1.450000000000017,1.46875,2.6187500000000057,2.6187500000000057,1.4937500000000057,2.793750000000017,2.8812499999999943,2.9000000000000057,2.5,2.5187500000000114,2.5562500000000057,2.5625,5.5,5.525000000000006,5.537500000000023,5.556250000000006,5.581250000000011,2.6437500000000114,2.6500000000000057,2.6500000000000057,2.6625000000000227,2.6937500000000227,2.7750000000000057,2.793750000000017,2.8125,2.8312500000000114,2.3500000000000227,2.3625000000000114,2.375,2.3812500000000227,2.387500000000017,0.9625000000000057,0.9750000000000227,0.9937500000000057,1.637500000000017,2.8062500000000057,1.6812500000000057,2.825000000000017,1.7062500000000114,1.0,1.0187500000000114,1.0187500000000114,1.2750000000000057,1.3312500000000114,1.3500000000000227,2.575000000000017,2.5875000000000057,1.03125,1.03125,1.0562500000000057,1.0562500000000057,1.6500000000000057,1.6937500000000227,1.7125000000000057,2.8687500000000057,2.8937500000000114,1.0,1.0062500000000227,1.0250000000000057,1.450000000000017,1.46875,2.6187500000000057,2.6187500000000057,1.4937500000000057,0.9625000000000057,0.9750000000000227,0.9937500000000057,1.637500000000017,2.8062500000000057,1.6812500000000057,2.825000000000017,1.7062500000000114,1.0,1.0187500000000114,1.0187500000000114,1.2750000000000057,1.3312500000000114,1.3500000000000227,2.575000000000017,2.5875000000000057,1.03125,1.03125,1.0562500000000057,1.0562500000000057,1.6500000000000057,1.6937500000000227,1.7125000000000057,2.8687500000000057,2.8937500000000114,1.0,1.0062500000000227,1.0250000000000057,1.450000000000017,1.46875,2.6187500000000057,2.6187500000000057,1.4937500000000057,0.9625000000000057,0.9750000000000227,0.9937500000000057,1.637500000000017,2.8062500000000057,1.6812500000000057,2.825000000000017,1.7062500000000114,1.0,1.0187500000000114,1.0187500000000114,1.2750000000000057,1.3312500000000114,1.3500000000000227,2.575000000000017,2.5875000000000057,1.03125,1.03125,1.0562500000000057,1.0562500000000057,1.6500000000000057,1.6937500000000227,1.7125000000000057,2.8687500000000057,2.8937500000000114,1.0,1.0062500000000227,1.0250000000000057,1.450000000000017,1.46875,2.6187500000000057,2.6187500000000057,1.4937500000000057,0.9625000000000057,0.9750000000000227,0.9937500000000057,1.637500000000017,2.8062500000000057,1.6812500000000057,2.825000000000017,1.7062500000000114,1.0,1.0187500000000114,1.0187500000000114,1.2750000000000057,1.3312500000000114,1.3500000000000227,2.575000000000017,2.5875000000000057,1.03125,1.03125,1.0562500000000057,1.0562500000000057,1.6500000000000057,1.6937500000000227,1.7125000000000057,2.8687500000000057,2.8937500000000114,1.0,1.0062500000000227,1.0250000000000057,1.450000000000017,1.46875,2.6187500000000057,2.6187500000000057,1.4937500000000057],\"left\":[51.0,51.0,51.0,52.125,51.0,52.125,51.0,52.125,54.0,54.0,54.0,55.125,55.125,55.125,54.0,54.0,57.0,57.0,57.0,57.0,58.125,58.125,58.125,57.0,57.0,60.0,60.0,60.0,61.125,61.125,60.0,60.0,61.125,63.0,63.0,63.0,64.125,63.0,64.125,63.0,64.125,66.0,66.0,66.0,67.125,67.125,67.125,66.0,66.0,69.0,69.0,69.0,69.0,70.125,70.125,70.125,69.0,69.0,72.0,72.0,72.0,73.125,73.125,72.0,72.0,73.125,87.0,87.0,87.0,88.125,88.125,88.125,87.0,87.0,90.0,90.0,90.0,90.0,90.0,91.125,91.125,91.125,93.0,93.0,93.0,93.0,96.0,96.0,96.0,96.0,99.0,99.0,99.0,99.0,99.0,100.125,100.125,100.125,100.125,100.125,102.0,102.0,102.0,102.0,102.0,103.125,103.125,103.125,103.125,103.125,105.0,105.0,105.0,105.0,108.0,108.0,108.0,108.0,111.0,111.0,111.0,111.0,112.125,112.125,112.125,114.0,112.125,115.125,115.125,115.875,114.0,115.875,117.0,117.0,118.125,118.125,117.0,117.0,118.125,120.0,121.125,120.0,120.75,120.375,123.0,123.0,123.0,124.125,123.0,124.125,123.0,124.125,126.0,126.0,126.0,127.125,127.125,127.125,126.0,126.0,129.0,129.0,129.0,129.0,130.125,130.125,130.125,129.0,129.0,132.0,132.0,132.0,133.125,133.125,132.0,132.0,133.125,135.0,135.0,135.0,136.125,135.0,136.125,135.0,136.125,138.0,138.0,138.0,139.125,139.125,139.125,138.0,138.0,141.0,141.0,141.0,141.0,142.125,142.125,142.125,141.0,141.0,144.0,144.0,144.0,145.125,145.125,144.0,144.0,145.125,147.0,147.0,147.0,150.0,150.0,150.0,150.0,153.0,153.0,153.0,153.0,153.0,159.0,159.0,159.0,159.0,162.0,162.0,162.0,162.0,162.0,165.0,165.0,165.0,165.0,165.0,189.0,189.0,189.0,190.125,189.0,190.125,189.0,190.125,192.0,192.0,192.0,193.125,193.125,193.125,192.0,192.0,195.0,195.0,195.0,195.0,196.125,196.125,196.125,195.0,195.0,198.0,198.0,198.0,199.125,199.125,198.0,198.0,199.125,201.0,201.0,201.0,202.125,201.0,202.125,201.0,202.125,204.0,204.0,204.0,205.125,205.125,205.125,204.0,204.0,207.0,207.0,207.0,207.0,208.125,208.125,208.125,207.0,207.0,210.0,210.0,210.0,211.125,211.125,210.0,210.0,211.125,213.0,213.0,213.0,214.125,213.0,214.125,213.0,214.125,216.0,216.0,216.0,217.125,217.125,217.125,216.0,216.0,219.0,219.0,219.0,219.0,220.125,220.125,220.125,219.0,219.0,222.0,222.0,222.0,223.125,223.125,222.0,222.0,223.125,225.0,225.0,225.0,226.125,225.0,226.125,225.0,226.125,228.0,228.0,228.0,229.125,229.125,229.125,228.0,228.0,231.0,231.0,231.0,231.0,232.125,232.125,232.125,231.0,231.0,234.0,234.0,234.0,235.125,235.125,234.0,234.0,235.125],\"program\":[4,4,4,4,4,4,4,4,4,4,4,4,4,4,4,4,4,4,4,4,4,4,4,4,4,4,4,4,4,4,4,4,4,4,4,4,4,4,4,4,4,4,4,4,4,4,4,4,4,4,4,4,4,4,4,4,4,4,4,4,4,4,4,4,4,4,4,4,4,4,4,4,4,4,4,4,4,4,4,4,4,4,4,4,4,4,4,4,4,4,4,4,4,4,4,4,4,4,4,4,4,4,4,4,4,4,4,4,4,4,4,4,4,4,4,4,4,4,4,4,4,4,4,4,4,4,4,4,4,4,4,4,4,4,4,4,4,4,4,4,4,4,4,4,4,4,4,4,4,4,4,4,4,4,4,4,4,4,4,4,4,4,4,4,4,4,4,4,4,4,4,4,4,4,4,4,4,4,4,4,4,4,4,4,4,4,4,4,4,4,4,4,4,4,4,4,4,4,4,4,4,4,4,4,4,4,4,4,4,4,4,4,4,4,4,4,4,4,4,4,4,4,4,4,4,4,4,4,4,4,4,4,4,4,4,4,4,4,4,4,4,4,4,4,4,4,4,4,4,4,4,4,4,4,4,4,4,4,4,4,4,4,4,4,4,4,4,4,4,4,4,4,4,4,4,4,4,4,4,4,4,4,4,4,4,4,4,4,4,4,4,4,4,4,4,4,4,4,4,4,4,4,4,4,4,4,4,4,4,4,4,4,4,4,4,4,4,4,4,4,4,4,4,4,4,4,4,4,4,4,4,4,4,4,4,4,4,4,4,4,4,4,4,4,4,4,4,4,4,4,4,4,4,4,4,4,4,4,4,4,4,4,4,4,4,4,4,4],\"right\":[51.962500000000006,51.975,51.993750000000006,53.7625,53.806250000000006,53.806250000000006,53.825,53.831250000000004,55.0,55.018750000000004,55.018750000000004,56.400000000000006,56.456250000000004,56.475,56.575,56.587500000000006,58.03125,58.03125,58.056250000000006,58.056250000000006,59.775000000000006,59.81875,59.837500000000006,59.868750000000006,59.893750000000004,61.0,61.00625,61.025000000000006,62.575,62.59375,62.618750000000006,62.618750000000006,62.618750000000006,63.962500000000006,63.975,63.993750000000006,65.7625,65.80625,65.80625,65.825,65.83125,67.0,67.01875,67.01875,68.4,68.45625,68.47500000000001,68.575,68.5875,70.03125,70.03125,70.05625,70.05625,71.775,71.81875000000001,71.8375,71.86875,71.89375,73.0,73.00625000000001,73.025,74.575,74.59375,74.61875,74.61875,74.61875,87.96875,87.98750000000001,87.99375,89.7,89.72500000000001,89.73125,89.73750000000001,89.74375,90.98750000000001,91.00625000000001,91.0125,92.66250000000001,92.7125,92.7125,92.7125,92.75625000000001,95.65625,95.80000000000001,95.81875000000001,95.83125000000001,98.75625000000001,98.80000000000001,98.80000000000001,98.825,99.91250000000001,99.92500000000001,99.94375000000001,99.94375000000001,99.9625,101.65,101.65625,101.66250000000001,101.67500000000001,101.67500000000001,102.9625,102.97500000000001,102.98750000000001,102.98750000000001,102.99375,104.7125,104.75,104.75625000000001,104.76875000000001,104.76875000000001,107.83125000000001,107.8375,107.8375,107.84375,110.72500000000001,110.73125,110.74375,110.78750000000001,111.97500000000001,112.0,112.025,112.075,113.72500000000001,113.775,115.04375,115.06875000000001,115.10625,115.74375,115.80000000000001,116.80000000000001,116.84375,116.84375,117.9625,117.96875,119.53125,119.55625,119.575,119.575,119.58125000000001,121.04375,122.75625000000001,122.80625,122.80625,122.825,123.9625,123.97500000000001,123.99375,125.7625,125.80625,125.80625,125.825,125.83125000000001,127.0,127.01875000000001,127.01875000000001,128.4,128.45625,128.475,128.57500000000002,128.5875,130.03125,130.03125,130.05625,130.05625,131.775,131.81875,131.8375,131.86875,131.89375,133.0,133.00625,133.025,134.57500000000002,134.59375,134.61875,134.61875,134.61875,135.9625,135.975,135.99375,137.76250000000002,137.80625,137.80625,137.82500000000002,137.83125,139.0,139.01875,139.01875,140.4,140.45625,140.475,140.57500000000002,140.5875,142.03125,142.03125,142.05625,142.05625,143.775,143.81875,143.8375,143.86875,143.89375,145.0,145.00625,145.025,146.57500000000002,146.59375,146.61875,146.61875,146.61875,149.79375000000002,149.88125,149.9,152.5,152.51875,152.55625,152.5625,158.5,158.525,158.53750000000002,158.55625,158.58125,161.64375,161.65,161.65,161.66250000000002,164.69375000000002,164.775,164.79375000000002,164.8125,164.83125,167.35000000000002,167.3625,167.375,167.38125000000002,167.38750000000002,189.9625,189.97500000000002,189.99375,191.76250000000002,191.80625,191.80625,191.82500000000002,191.83125,193.0,193.01875,193.01875,194.4,194.45625,194.47500000000002,194.57500000000002,194.5875,196.03125,196.03125,196.05625,196.05625,197.775,197.81875000000002,197.8375,197.86875,197.89375,199.0,199.00625000000002,199.025,200.57500000000002,200.59375,200.61875,200.61875,200.61875,201.9625,201.97500000000002,201.99375,203.76250000000002,203.80625,203.80625,203.82500000000002,203.83125,205.0,205.01875,205.01875,206.4,206.45625,206.47500000000002,206.57500000000002,206.5875,208.03125,208.03125,208.05625,208.05625,209.775,209.81875000000002,209.8375,209.86875,209.89375,211.0,211.00625000000002,211.025,212.57500000000002,212.59375,212.61875,212.61875,212.61875,213.9625,213.97500000000002,213.99375,215.76250000000002,215.80625,215.80625,215.82500000000002,215.83125,217.0,217.01875,217.01875,218.4,218.45625,218.47500000000002,218.57500000000002,218.5875,220.03125,220.03125,220.05625,220.05625,221.775,221.81875000000002,221.8375,221.86875,221.89375,223.0,223.00625000000002,223.025,224.57500000000002,224.59375,224.61875,224.61875,224.61875,225.9625,225.97500000000002,225.99375,227.76250000000002,227.80625,227.80625,227.82500000000002,227.83125,229.0,229.01875,229.01875,230.4,230.45625,230.47500000000002,230.57500000000002,230.5875,232.03125,232.03125,232.05625,232.05625,233.775,233.81875000000002,233.8375,233.86875,233.89375,235.0,235.00625000000002,235.025,236.57500000000002,236.59375,236.61875,236.61875,236.61875],\"top\":[60,64,67,60,55,67,48,64,58,62,67,58,62,67,55,50,60,72,65,67,60,65,67,53,48,60,67,72,60,64,48,55,67,60,64,67,60,55,67,48,64,58,62,67,58,62,67,55,50,60,72,65,67,60,65,67,53,48,60,67,72,60,64,48,55,67,60,67,62,60,64,67,55,48,60,62,67,48,55,60,64,67,58,62,67,55,60,57,67,53,60,55,62,67,48,64,60,55,48,67,60,48,55,62,67,48,64,60,55,67,62,58,67,55,60,57,53,67,62,67,57,52,57,52,67,57,60,59,62,57,53,60,67,62,60,64,52,57,67,60,60,53,67,72,60,64,67,60,55,67,48,64,58,62,67,58,62,67,55,50,60,72,65,67,60,65,67,53,48,60,67,72,60,64,48,55,67,60,64,67,60,55,67,48,64,58,62,67,58,62,67,55,50,60,72,65,67,60,65,67,53,48,60,67,72,60,64,48,55,67,58,62,46,57,60,65,53,60,64,55,67,48,62,46,53,65,53,48,60,65,72,60,67,72,55,48,60,64,67,60,55,67,48,64,58,62,67,58,62,67,55,50,60,72,65,67,60,65,67,53,48,60,67,72,60,64,48,55,67,60,64,67,60,55,67,48,64,58,62,67,58,62,67,55,50,60,72,65,67,60,65,67,53,48,60,67,72,60,64,48,55,67,60,64,67,60,55,67,48,64,58,62,67,58,62,67,55,50,60,72,65,67,60,65,67,53,48,60,67,72,60,64,48,55,67,60,64,67,60,55,67,48,64,58,62,67,58,62,67,55,50,60,72,65,67,60,65,67,53,48,60,67,72,60,64,48,55,67],\"velocity\":[90,89,88,92,82,89,91,98,92,81,73,98,97,77,81,94,87,88,83,79,82,83,79,79,60,92,90,88,81,88,88,87,81,90,89,88,92,82,89,91,98,92,81,73,98,97,77,81,94,87,88,83,79,82,83,79,79,60,92,90,88,81,88,88,87,81,75,82,82,82,81,78,66,57,75,82,81,61,72,85,88,80,82,94,86,75,89,80,90,83,79,85,91,89,75,80,85,77,71,79,75,69,83,86,80,60,79,83,72,75,92,81,87,71,89,79,81,90,87,81,60,70,52,15,79,63,85,85,88,72,74,75,79,83,85,75,79,72,69,89,63,104,80,98,90,89,88,92,82,89,91,98,92,81,73,98,97,77,81,94,87,88,83,79,82,83,79,79,60,92,90,88,81,88,88,87,81,90,89,88,92,82,89,91,98,92,81,73,98,97,77,81,94,87,88,83,79,82,83,79,79,60,92,90,88,81,88,88,87,81,90,78,89,81,73,77,96,81,71,81,66,83,89,89,81,74,57,71,77,77,85,75,80,79,72,78,90,89,88,92,82,89,91,98,92,81,73,98,97,77,81,94,87,88,83,79,82,83,79,79,60,92,90,88,81,88,88,87,81,90,89,88,92,82,89,91,98,92,81,73,98,97,77,81,94,87,88,83,79,82,83,79,79,60,92,90,88,81,88,88,87,81,90,89,88,92,82,89,91,98,92,81,73,98,97,77,81,94,87,88,83,79,82,83,79,79,60,92,90,88,81,88,88,87,81,90,89,88,92,82,89,91,98,92,81,73,98,97,77,81,94,87,88,83,79,82,83,79,79,60,92,90,88,81,88,88,87,81]},\"selected\":{\"id\":\"1543\"},\"selection_policy\":{\"id\":\"1542\"}},\"id\":\"1038\",\"type\":\"ColumnDataSource\"},{\"attributes\":{\"coordinates\":null,\"fill_alpha\":0.25,\"fill_color\":\"gray\",\"group\":null,\"left\":126.0,\"level\":\"underlay\",\"line_alpha\":0.5,\"line_color\":\"black\",\"line_width\":2,\"right\":129.0},\"id\":\"1141\",\"type\":\"BoxAnnotation\"},{\"attributes\":{\"coordinates\":null,\"fill_alpha\":0.05,\"fill_color\":\"gray\",\"group\":null,\"left\":63.0,\"level\":\"underlay\",\"line_alpha\":0.5,\"line_color\":\"black\",\"line_width\":2,\"right\":66.0},\"id\":\"1120\",\"type\":\"BoxAnnotation\"},{\"attributes\":{\"coordinates\":null,\"fill_alpha\":0.25,\"fill_color\":\"gray\",\"group\":null,\"left\":78.0,\"level\":\"underlay\",\"line_alpha\":0.5,\"line_color\":\"black\",\"line_width\":2,\"right\":81.0},\"id\":\"1125\",\"type\":\"BoxAnnotation\"},{\"attributes\":{\"axis\":{\"id\":\"1015\"},\"coordinates\":null,\"dimension\":1,\"grid_line_color\":null,\"group\":null,\"ticker\":null},\"id\":\"1018\",\"type\":\"Grid\"},{\"attributes\":{\"coordinates\":null,\"fill_alpha\":0.05,\"fill_color\":\"gray\",\"group\":null,\"left\":81.0,\"level\":\"underlay\",\"line_alpha\":0.5,\"line_color\":\"black\",\"line_width\":2,\"right\":84.0},\"id\":\"1126\",\"type\":\"BoxAnnotation\"},{\"attributes\":{\"coordinates\":null,\"fill_alpha\":0.25,\"fill_color\":\"gray\",\"group\":null,\"left\":84.0,\"level\":\"underlay\",\"line_alpha\":0.5,\"line_color\":\"black\",\"line_width\":2,\"right\":87.0},\"id\":\"1127\",\"type\":\"BoxAnnotation\"},{\"attributes\":{\"coordinates\":null,\"fill_alpha\":0.05,\"fill_color\":\"gray\",\"group\":null,\"left\":87.0,\"level\":\"underlay\",\"line_alpha\":0.5,\"line_color\":\"black\",\"line_width\":2,\"right\":90.0},\"id\":\"1128\",\"type\":\"BoxAnnotation\"},{\"attributes\":{\"coordinates\":null,\"fill_alpha\":0.25,\"fill_color\":\"gray\",\"group\":null,\"left\":90.0,\"level\":\"underlay\",\"line_alpha\":0.5,\"line_color\":\"black\",\"line_width\":2,\"right\":93.0},\"id\":\"1129\",\"type\":\"BoxAnnotation\"},{\"attributes\":{\"coordinates\":null,\"fill_alpha\":0.05,\"fill_color\":\"gray\",\"group\":null,\"left\":93.0,\"level\":\"underlay\",\"line_alpha\":0.5,\"line_color\":\"black\",\"line_width\":2,\"right\":96.0},\"id\":\"1130\",\"type\":\"BoxAnnotation\"},{\"attributes\":{\"coordinates\":null,\"fill_alpha\":0.25,\"fill_color\":\"gray\",\"group\":null,\"left\":96.0,\"level\":\"underlay\",\"line_alpha\":0.5,\"line_color\":\"black\",\"line_width\":2,\"right\":99.0},\"id\":\"1131\",\"type\":\"BoxAnnotation\"},{\"attributes\":{\"coordinates\":null,\"fill_alpha\":0.05,\"fill_color\":\"gray\",\"group\":null,\"left\":99.0,\"level\":\"underlay\",\"line_alpha\":0.5,\"line_color\":\"black\",\"line_width\":2,\"right\":102.0},\"id\":\"1132\",\"type\":\"BoxAnnotation\"},{\"attributes\":{\"coordinates\":null,\"fill_alpha\":0.25,\"fill_color\":\"gray\",\"group\":null,\"left\":102.0,\"level\":\"underlay\",\"line_alpha\":0.5,\"line_color\":\"black\",\"line_width\":2,\"right\":105.0},\"id\":\"1133\",\"type\":\"BoxAnnotation\"},{\"attributes\":{\"axis\":{\"id\":\"1011\"},\"coordinates\":null,\"grid_line_color\":null,\"group\":null,\"ticker\":null},\"id\":\"1014\",\"type\":\"Grid\"},{\"attributes\":{\"coordinates\":null,\"fill_alpha\":0.05,\"fill_color\":\"gray\",\"group\":null,\"left\":105.0,\"level\":\"underlay\",\"line_alpha\":0.5,\"line_color\":\"black\",\"line_width\":2,\"right\":108.0},\"id\":\"1134\",\"type\":\"BoxAnnotation\"},{\"attributes\":{\"coordinates\":null,\"fill_alpha\":0.25,\"fill_color\":\"gray\",\"group\":null,\"left\":108.0,\"level\":\"underlay\",\"line_alpha\":0.5,\"line_color\":\"black\",\"line_width\":2,\"right\":111.0},\"id\":\"1135\",\"type\":\"BoxAnnotation\"},{\"attributes\":{\"coordinates\":null,\"fill_alpha\":0.05,\"fill_color\":\"gray\",\"group\":null,\"left\":111.0,\"level\":\"underlay\",\"line_alpha\":0.5,\"line_color\":\"black\",\"line_width\":2,\"right\":114.0},\"id\":\"1136\",\"type\":\"BoxAnnotation\"},{\"attributes\":{\"coordinates\":null,\"fill_alpha\":0.05,\"fill_color\":\"gray\",\"group\":null,\"left\":117.0,\"level\":\"underlay\",\"line_alpha\":0.5,\"line_color\":\"black\",\"line_width\":2,\"right\":120.0},\"id\":\"1138\",\"type\":\"BoxAnnotation\"},{\"attributes\":{\"coordinates\":null,\"fill_alpha\":0.05,\"fill_color\":\"gray\",\"group\":null,\"left\":153.0,\"level\":\"underlay\",\"line_alpha\":0.5,\"line_color\":\"black\",\"line_width\":2,\"right\":156.0},\"id\":\"1150\",\"type\":\"BoxAnnotation\"},{\"attributes\":{\"coordinates\":null,\"fill_alpha\":0.25,\"fill_color\":\"gray\",\"group\":null,\"left\":120.0,\"level\":\"underlay\",\"line_alpha\":0.5,\"line_color\":\"black\",\"line_width\":2,\"right\":123.0},\"id\":\"1139\",\"type\":\"BoxAnnotation\"},{\"attributes\":{\"coordinates\":null,\"fill_alpha\":0.05,\"fill_color\":\"gray\",\"group\":null,\"left\":123.0,\"level\":\"underlay\",\"line_alpha\":0.5,\"line_color\":\"black\",\"line_width\":2,\"right\":126.0},\"id\":\"1140\",\"type\":\"BoxAnnotation\"},{\"attributes\":{},\"id\":\"1009\",\"type\":\"LinearScale\"},{\"attributes\":{},\"id\":\"1007\",\"type\":\"LinearScale\"},{\"attributes\":{\"coordinates\":null,\"fill_alpha\":0.05,\"fill_color\":\"gray\",\"group\":null,\"left\":129.0,\"level\":\"underlay\",\"line_alpha\":0.5,\"line_color\":\"black\",\"line_width\":2,\"right\":132.0},\"id\":\"1142\",\"type\":\"BoxAnnotation\"},{\"attributes\":{\"coordinates\":null,\"fill_alpha\":0.25,\"fill_color\":\"gray\",\"group\":null,\"left\":114.0,\"level\":\"underlay\",\"line_alpha\":0.5,\"line_color\":\"black\",\"line_width\":2,\"right\":117.0},\"id\":\"1137\",\"type\":\"BoxAnnotation\"},{\"attributes\":{\"coordinates\":null,\"fill_alpha\":0.25,\"fill_color\":\"gray\",\"group\":null,\"left\":132.0,\"level\":\"underlay\",\"line_alpha\":0.5,\"line_color\":\"black\",\"line_width\":2,\"right\":135.0},\"id\":\"1143\",\"type\":\"BoxAnnotation\"},{\"attributes\":{\"coordinates\":null,\"fill_alpha\":0.05,\"fill_color\":\"gray\",\"group\":null,\"left\":135.0,\"level\":\"underlay\",\"line_alpha\":0.5,\"line_color\":\"black\",\"line_width\":2,\"right\":138.0},\"id\":\"1144\",\"type\":\"BoxAnnotation\"},{\"attributes\":{\"axis_label\":\"pitch (MIDI)\",\"axis_label_standoff\":0,\"axis_label_text_font_size\":\"12px\",\"bounds\":[46,73],\"coordinates\":null,\"formatter\":{\"id\":\"1033\"},\"group\":null,\"major_label_policy\":{\"id\":\"1034\"},\"major_label_text_alpha\":0,\"major_tick_line_alpha\":0.9,\"major_tick_out\":25,\"minor_tick_line_alpha\":0,\"ticker\":{\"id\":\"1529\"}},\"id\":\"1015\",\"type\":\"LinearAxis\"},{\"attributes\":{\"coordinates\":null,\"fill_alpha\":0.25,\"fill_color\":\"gray\",\"group\":null,\"left\":138.0,\"level\":\"underlay\",\"line_alpha\":0.5,\"line_color\":\"black\",\"line_width\":2,\"right\":141.0},\"id\":\"1145\",\"type\":\"BoxAnnotation\"},{\"attributes\":{\"coordinates\":null,\"fill_alpha\":0.05,\"fill_color\":\"gray\",\"group\":null,\"left\":141.0,\"level\":\"underlay\",\"line_alpha\":0.5,\"line_color\":\"black\",\"line_width\":2,\"right\":144.0},\"id\":\"1146\",\"type\":\"BoxAnnotation\"},{\"attributes\":{\"coordinates\":null,\"fill_alpha\":0.25,\"fill_color\":\"gray\",\"group\":null,\"left\":144.0,\"level\":\"underlay\",\"line_alpha\":0.5,\"line_color\":\"black\",\"line_width\":2,\"right\":147.0},\"id\":\"1147\",\"type\":\"BoxAnnotation\"},{\"attributes\":{\"below\":[{\"id\":\"1011\"}],\"center\":[{\"id\":\"1014\"},{\"id\":\"1018\"},{\"id\":\"1045\"},{\"id\":\"1046\"},{\"id\":\"1047\"},{\"id\":\"1048\"},{\"id\":\"1049\"},{\"id\":\"1050\"},{\"id\":\"1051\"},{\"id\":\"1052\"},{\"id\":\"1053\"},{\"id\":\"1054\"},{\"id\":\"1055\"},{\"id\":\"1056\"},{\"id\":\"1057\"},{\"id\":\"1058\"},{\"id\":\"1059\"},{\"id\":\"1060\"},{\"id\":\"1061\"},{\"id\":\"1062\"},{\"id\":\"1063\"},{\"id\":\"1064\"},{\"id\":\"1065\"},{\"id\":\"1066\"},{\"id\":\"1067\"},{\"id\":\"1068\"},{\"id\":\"1069\"},{\"id\":\"1070\"},{\"id\":\"1071\"},{\"id\":\"1072\"},{\"id\":\"1073\"},{\"id\":\"1074\"},{\"id\":\"1075\"},{\"id\":\"1076\"},{\"id\":\"1077\"},{\"id\":\"1078\"},{\"id\":\"1079\"},{\"id\":\"1080\"},{\"id\":\"1081\"},{\"id\":\"1082\"},{\"id\":\"1083\"},{\"id\":\"1084\"},{\"id\":\"1085\"},{\"id\":\"1086\"},{\"id\":\"1087\"},{\"id\":\"1088\"},{\"id\":\"1089\"},{\"id\":\"1090\"},{\"id\":\"1091\"},{\"id\":\"1092\"},{\"id\":\"1093\"},{\"id\":\"1094\"},{\"id\":\"1095\"},{\"id\":\"1096\"},{\"id\":\"1097\"},{\"id\":\"1098\"},{\"id\":\"1099\"},{\"id\":\"1100\"},{\"id\":\"1101\"},{\"id\":\"1102\"},{\"id\":\"1103\"},{\"id\":\"1104\"},{\"id\":\"1105\"},{\"id\":\"1106\"},{\"id\":\"1107\"},{\"id\":\"1108\"},{\"id\":\"1109\"},{\"id\":\"1110\"},{\"id\":\"1111\"},{\"id\":\"1112\"},{\"id\":\"1113\"},{\"id\":\"1114\"},{\"id\":\"1115\"},{\"id\":\"1116\"},{\"id\":\"1117\"},{\"id\":\"1118\"},{\"id\":\"1119\"},{\"id\":\"1120\"},{\"id\":\"1121\"},{\"id\":\"1122\"},{\"id\":\"1123\"},{\"id\":\"1124\"},{\"id\":\"1125\"},{\"id\":\"1126\"},{\"id\":\"1127\"},{\"id\":\"1128\"},{\"id\":\"1129\"},{\"id\":\"1130\"},{\"id\":\"1131\"},{\"id\":\"1132\"},{\"id\":\"1133\"},{\"id\":\"1134\"},{\"id\":\"1135\"},{\"id\":\"1136\"},{\"id\":\"1137\"},{\"id\":\"1138\"},{\"id\":\"1139\"},{\"id\":\"1140\"},{\"id\":\"1141\"},{\"id\":\"1142\"},{\"id\":\"1143\"},{\"id\":\"1144\"},{\"id\":\"1145\"},{\"id\":\"1146\"},{\"id\":\"1147\"},{\"id\":\"1148\"},{\"id\":\"1149\"},{\"id\":\"1150\"},{\"id\":\"1151\"},{\"id\":\"1152\"},{\"id\":\"1153\"},{\"id\":\"1154\"},{\"id\":\"1155\"},{\"id\":\"1156\"},{\"id\":\"1157\"},{\"id\":\"1158\"},{\"id\":\"1159\"},{\"id\":\"1160\"},{\"id\":\"1161\"},{\"id\":\"1162\"},{\"id\":\"1163\"},{\"id\":\"1164\"},{\"id\":\"1165\"},{\"id\":\"1166\"},{\"id\":\"1167\"},{\"id\":\"1168\"},{\"id\":\"1169\"},{\"id\":\"1170\"},{\"id\":\"1171\"},{\"id\":\"1172\"},{\"id\":\"1173\"},{\"id\":\"1174\"},{\"id\":\"1175\"},{\"id\":\"1176\"},{\"id\":\"1177\"},{\"id\":\"1178\"},{\"id\":\"1179\"},{\"id\":\"1180\"},{\"id\":\"1181\"},{\"id\":\"1182\"},{\"id\":\"1183\"},{\"id\":\"1184\"},{\"id\":\"1185\"},{\"id\":\"1186\"},{\"id\":\"1187\"},{\"id\":\"1188\"},{\"id\":\"1189\"},{\"id\":\"1190\"},{\"id\":\"1191\"},{\"id\":\"1192\"},{\"id\":\"1193\"},{\"id\":\"1194\"},{\"id\":\"1195\"},{\"id\":\"1196\"},{\"id\":\"1197\"},{\"id\":\"1198\"},{\"id\":\"1199\"},{\"id\":\"1200\"},{\"id\":\"1201\"},{\"id\":\"1202\"},{\"id\":\"1203\"},{\"id\":\"1204\"},{\"id\":\"1205\"},{\"id\":\"1206\"},{\"id\":\"1207\"},{\"id\":\"1208\"},{\"id\":\"1209\"},{\"id\":\"1210\"},{\"id\":\"1211\"},{\"id\":\"1212\"},{\"id\":\"1213\"},{\"id\":\"1214\"},{\"id\":\"1215\"},{\"id\":\"1216\"},{\"id\":\"1217\"},{\"id\":\"1218\"},{\"id\":\"1219\"},{\"id\":\"1220\"},{\"id\":\"1221\"},{\"id\":\"1222\"},{\"id\":\"1223\"},{\"id\":\"1224\"},{\"id\":\"1225\"},{\"id\":\"1226\"},{\"id\":\"1227\"},{\"id\":\"1228\"},{\"id\":\"1229\"},{\"id\":\"1230\"},{\"id\":\"1231\"},{\"id\":\"1232\"},{\"id\":\"1233\"},{\"id\":\"1234\"},{\"id\":\"1235\"},{\"id\":\"1236\"},{\"id\":\"1237\"},{\"id\":\"1238\"},{\"id\":\"1239\"},{\"id\":\"1240\"},{\"id\":\"1241\"},{\"id\":\"1242\"},{\"id\":\"1243\"},{\"id\":\"1244\"},{\"id\":\"1245\"},{\"id\":\"1246\"},{\"id\":\"1247\"},{\"id\":\"1248\"},{\"id\":\"1249\"},{\"id\":\"1250\"},{\"id\":\"1251\"},{\"id\":\"1252\"},{\"id\":\"1253\"},{\"id\":\"1254\"},{\"id\":\"1255\"},{\"id\":\"1256\"},{\"id\":\"1257\"},{\"id\":\"1258\"},{\"id\":\"1259\"},{\"id\":\"1260\"},{\"id\":\"1261\"},{\"id\":\"1262\"},{\"id\":\"1263\"},{\"id\":\"1264\"},{\"id\":\"1265\"},{\"id\":\"1266\"},{\"id\":\"1267\"},{\"id\":\"1268\"},{\"id\":\"1269\"},{\"id\":\"1270\"},{\"id\":\"1271\"},{\"id\":\"1272\"},{\"id\":\"1273\"},{\"id\":\"1274\"},{\"id\":\"1275\"},{\"id\":\"1276\"},{\"id\":\"1277\"},{\"id\":\"1278\"},{\"id\":\"1279\"},{\"id\":\"1280\"},{\"id\":\"1281\"},{\"id\":\"1282\"},{\"id\":\"1283\"},{\"id\":\"1284\"},{\"id\":\"1285\"},{\"id\":\"1286\"},{\"id\":\"1287\"},{\"id\":\"1288\"},{\"id\":\"1289\"},{\"id\":\"1290\"},{\"id\":\"1291\"},{\"id\":\"1292\"},{\"id\":\"1293\"},{\"id\":\"1294\"},{\"id\":\"1295\"},{\"id\":\"1296\"},{\"id\":\"1297\"},{\"id\":\"1298\"},{\"id\":\"1299\"},{\"id\":\"1300\"},{\"id\":\"1301\"},{\"id\":\"1302\"},{\"id\":\"1303\"},{\"id\":\"1304\"},{\"id\":\"1305\"},{\"id\":\"1306\"},{\"id\":\"1307\"},{\"id\":\"1308\"},{\"id\":\"1309\"},{\"id\":\"1310\"},{\"id\":\"1311\"},{\"id\":\"1312\"},{\"id\":\"1313\"},{\"id\":\"1314\"},{\"id\":\"1315\"},{\"id\":\"1316\"},{\"id\":\"1317\"},{\"id\":\"1318\"},{\"id\":\"1319\"},{\"id\":\"1320\"},{\"id\":\"1321\"},{\"id\":\"1322\"},{\"id\":\"1323\"},{\"id\":\"1324\"},{\"id\":\"1325\"},{\"id\":\"1326\"},{\"id\":\"1327\"},{\"id\":\"1328\"},{\"id\":\"1329\"},{\"id\":\"1330\"},{\"id\":\"1331\"},{\"id\":\"1332\"},{\"id\":\"1333\"},{\"id\":\"1334\"},{\"id\":\"1335\"},{\"id\":\"1336\"},{\"id\":\"1337\"},{\"id\":\"1338\"},{\"id\":\"1339\"},{\"id\":\"1340\"},{\"id\":\"1341\"},{\"id\":\"1342\"},{\"id\":\"1343\"},{\"id\":\"1344\"},{\"id\":\"1345\"},{\"id\":\"1346\"},{\"id\":\"1347\"},{\"id\":\"1348\"},{\"id\":\"1349\"},{\"id\":\"1350\"},{\"id\":\"1351\"},{\"id\":\"1352\"},{\"id\":\"1353\"},{\"id\":\"1354\"},{\"id\":\"1355\"},{\"id\":\"1356\"},{\"id\":\"1357\"},{\"id\":\"1358\"},{\"id\":\"1359\"},{\"id\":\"1360\"},{\"id\":\"1361\"},{\"id\":\"1362\"},{\"id\":\"1363\"},{\"id\":\"1364\"},{\"id\":\"1365\"},{\"id\":\"1366\"},{\"id\":\"1367\"},{\"id\":\"1368\"},{\"id\":\"1369\"},{\"id\":\"1370\"},{\"id\":\"1371\"},{\"id\":\"1372\"},{\"id\":\"1373\"},{\"id\":\"1374\"},{\"id\":\"1375\"},{\"id\":\"1376\"},{\"id\":\"1377\"},{\"id\":\"1378\"},{\"id\":\"1379\"},{\"id\":\"1380\"},{\"id\":\"1381\"},{\"id\":\"1382\"},{\"id\":\"1383\"},{\"id\":\"1384\"},{\"id\":\"1385\"},{\"id\":\"1386\"},{\"id\":\"1387\"},{\"id\":\"1388\"},{\"id\":\"1389\"},{\"id\":\"1390\"},{\"id\":\"1391\"},{\"id\":\"1392\"},{\"id\":\"1393\"},{\"id\":\"1394\"},{\"id\":\"1395\"},{\"id\":\"1396\"},{\"id\":\"1397\"},{\"id\":\"1398\"},{\"id\":\"1399\"},{\"id\":\"1400\"},{\"id\":\"1401\"},{\"id\":\"1402\"},{\"id\":\"1403\"},{\"id\":\"1404\"},{\"id\":\"1405\"},{\"id\":\"1406\"},{\"id\":\"1407\"},{\"id\":\"1408\"},{\"id\":\"1409\"},{\"id\":\"1410\"},{\"id\":\"1411\"},{\"id\":\"1412\"},{\"id\":\"1413\"},{\"id\":\"1414\"},{\"id\":\"1415\"},{\"id\":\"1416\"},{\"id\":\"1417\"},{\"id\":\"1418\"},{\"id\":\"1419\"},{\"id\":\"1420\"},{\"id\":\"1421\"},{\"id\":\"1422\"},{\"id\":\"1423\"},{\"id\":\"1424\"},{\"id\":\"1425\"},{\"id\":\"1426\"},{\"id\":\"1427\"},{\"id\":\"1428\"},{\"id\":\"1429\"},{\"id\":\"1430\"},{\"id\":\"1431\"},{\"id\":\"1432\"},{\"id\":\"1433\"},{\"id\":\"1434\"},{\"id\":\"1435\"},{\"id\":\"1436\"},{\"id\":\"1437\"},{\"id\":\"1438\"},{\"id\":\"1439\"},{\"id\":\"1440\"},{\"id\":\"1441\"},{\"id\":\"1442\"},{\"id\":\"1443\"},{\"id\":\"1444\"},{\"id\":\"1445\"},{\"id\":\"1446\"},{\"id\":\"1447\"},{\"id\":\"1448\"},{\"id\":\"1449\"},{\"id\":\"1450\"},{\"id\":\"1451\"},{\"id\":\"1452\"},{\"id\":\"1453\"},{\"id\":\"1454\"},{\"id\":\"1455\"},{\"id\":\"1456\"},{\"id\":\"1457\"},{\"id\":\"1458\"},{\"id\":\"1459\"},{\"id\":\"1460\"},{\"id\":\"1461\"},{\"id\":\"1462\"},{\"id\":\"1463\"},{\"id\":\"1464\"},{\"id\":\"1465\"},{\"id\":\"1466\"},{\"id\":\"1467\"},{\"id\":\"1468\"},{\"id\":\"1469\"},{\"id\":\"1470\"},{\"id\":\"1471\"},{\"id\":\"1472\"},{\"id\":\"1473\"},{\"id\":\"1474\"},{\"id\":\"1475\"},{\"id\":\"1476\"},{\"id\":\"1477\"},{\"id\":\"1478\"},{\"id\":\"1479\"},{\"id\":\"1480\"},{\"id\":\"1481\"},{\"id\":\"1482\"},{\"id\":\"1483\"},{\"id\":\"1484\"},{\"id\":\"1485\"},{\"id\":\"1486\"},{\"id\":\"1487\"},{\"id\":\"1488\"},{\"id\":\"1489\"},{\"id\":\"1490\"},{\"id\":\"1491\"},{\"id\":\"1492\"},{\"id\":\"1493\"},{\"id\":\"1494\"},{\"id\":\"1495\"},{\"id\":\"1496\"},{\"id\":\"1497\"},{\"id\":\"1498\"},{\"id\":\"1499\"},{\"id\":\"1500\"},{\"id\":\"1501\"},{\"id\":\"1502\"},{\"id\":\"1503\"},{\"id\":\"1504\"},{\"id\":\"1505\"},{\"id\":\"1506\"},{\"id\":\"1507\"},{\"id\":\"1508\"},{\"id\":\"1509\"},{\"id\":\"1510\"},{\"id\":\"1511\"},{\"id\":\"1512\"},{\"id\":\"1513\"},{\"id\":\"1514\"},{\"id\":\"1515\"},{\"id\":\"1516\"},{\"id\":\"1517\"},{\"id\":\"1518\"},{\"id\":\"1519\"},{\"id\":\"1520\"},{\"id\":\"1521\"},{\"id\":\"1522\"},{\"id\":\"1523\"},{\"id\":\"1524\"},{\"id\":\"1525\"},{\"id\":\"1526\"}],\"height\":400,\"left\":[{\"id\":\"1015\"}],\"min_border_right\":50,\"outline_line_color\":\"black\",\"renderers\":[{\"id\":\"1043\"}],\"title\":{\"id\":\"1531\"},\"toolbar\":{\"id\":\"1024\"},\"width\":850,\"x_range\":{\"id\":\"1533\"},\"x_scale\":{\"id\":\"1007\"},\"y_range\":{\"id\":\"1534\"},\"y_scale\":{\"id\":\"1009\"}},\"id\":\"1002\",\"subtype\":\"Figure\",\"type\":\"Plot\"},{\"attributes\":{\"coordinates\":null,\"fill_alpha\":0.05,\"fill_color\":\"gray\",\"group\":null,\"left\":159.0,\"level\":\"underlay\",\"line_alpha\":0.5,\"line_color\":\"black\",\"line_width\":2,\"right\":162.0},\"id\":\"1152\",\"type\":\"BoxAnnotation\"},{\"attributes\":{\"axis_label\":\"time (SEC)\",\"axis_label_text_font_size\":\"12px\",\"bounds\":[213.0,237.0],\"coordinates\":null,\"formatter\":{\"id\":\"1036\"},\"group\":null,\"major_label_policy\":{\"id\":\"1037\"},\"major_label_text_font_size\":\"10px\",\"major_tick_line_alpha\":0.9,\"major_tick_out\":5,\"minor_tick_line_alpha\":0,\"ticker\":{\"id\":\"1527\"}},\"id\":\"1011\",\"type\":\"LinearAxis\"},{\"attributes\":{\"coordinates\":null,\"fill_alpha\":0.05,\"fill_color\":\"gray\",\"group\":null,\"left\":147.0,\"level\":\"underlay\",\"line_alpha\":0.5,\"line_color\":\"black\",\"line_width\":2,\"right\":150.0},\"id\":\"1148\",\"type\":\"BoxAnnotation\"},{\"attributes\":{\"coordinates\":null,\"fill_alpha\":0.25,\"fill_color\":\"gray\",\"group\":null,\"left\":150.0,\"level\":\"underlay\",\"line_alpha\":0.5,\"line_color\":\"black\",\"line_width\":2,\"right\":153.0},\"id\":\"1149\",\"type\":\"BoxAnnotation\"},{\"attributes\":{\"coordinates\":null,\"fill_alpha\":0.25,\"fill_color\":\"gray\",\"group\":null,\"left\":156.0,\"level\":\"underlay\",\"line_alpha\":0.5,\"line_color\":\"black\",\"line_width\":2,\"right\":159.0},\"id\":\"1151\",\"type\":\"BoxAnnotation\"},{\"attributes\":{\"coordinates\":null,\"fill_alpha\":0.25,\"fill_color\":\"gray\",\"group\":null,\"left\":162.0,\"level\":\"underlay\",\"line_alpha\":0.5,\"line_color\":\"black\",\"line_width\":2,\"right\":165.0},\"id\":\"1153\",\"type\":\"BoxAnnotation\"},{\"attributes\":{\"bottom\":{\"field\":\"bottom\"},\"fill_color\":{\"field\":\"color\"},\"hatch_color\":{\"field\":\"color\"},\"left\":{\"field\":\"left\"},\"right\":{\"field\":\"right\"},\"top\":{\"field\":\"top\"}},\"id\":\"1040\",\"type\":\"Quad\"},{\"attributes\":{\"coordinates\":null,\"fill_color\":null,\"group\":null,\"left\":101.25,\"level\":\"underlay\",\"line_alpha\":0.4,\"line_color\":\"black\",\"right\":102.0},\"id\":\"1320\",\"type\":\"BoxAnnotation\"},{\"attributes\":{\"coordinates\":null,\"fill_color\":null,\"group\":null,\"left\":99.75,\"level\":\"underlay\",\"line_alpha\":0.4,\"line_color\":\"black\",\"right\":100.5},\"id\":\"1318\",\"type\":\"BoxAnnotation\"},{\"attributes\":{\"coordinates\":null,\"fill_color\":null,\"group\":null,\"left\":102.0,\"level\":\"underlay\",\"line_alpha\":0.4,\"line_color\":\"black\",\"right\":102.75},\"id\":\"1321\",\"type\":\"BoxAnnotation\"},{\"attributes\":{\"coordinates\":null,\"fill_color\":null,\"group\":null,\"left\":102.75,\"level\":\"underlay\",\"line_alpha\":0.4,\"line_color\":\"black\",\"right\":103.5},\"id\":\"1322\",\"type\":\"BoxAnnotation\"},{\"attributes\":{\"coordinates\":null,\"fill_color\":null,\"group\":null,\"left\":100.5,\"level\":\"underlay\",\"line_alpha\":0.4,\"line_color\":\"black\",\"right\":101.25},\"id\":\"1319\",\"type\":\"BoxAnnotation\"},{\"attributes\":{\"coordinates\":null,\"fill_color\":null,\"group\":null,\"left\":103.5,\"level\":\"underlay\",\"line_alpha\":0.4,\"line_color\":\"black\",\"right\":104.25},\"id\":\"1323\",\"type\":\"BoxAnnotation\"},{\"attributes\":{\"coordinates\":null,\"fill_color\":null,\"group\":null,\"left\":104.25,\"level\":\"underlay\",\"line_alpha\":0.4,\"line_color\":\"black\",\"right\":105.0},\"id\":\"1324\",\"type\":\"BoxAnnotation\"},{\"attributes\":{\"coordinates\":null,\"fill_color\":null,\"group\":null,\"left\":105.0,\"level\":\"underlay\",\"line_alpha\":0.4,\"line_color\":\"black\",\"right\":105.75},\"id\":\"1325\",\"type\":\"BoxAnnotation\"},{\"attributes\":{\"coordinates\":null,\"fill_color\":null,\"group\":null,\"left\":105.75,\"level\":\"underlay\",\"line_alpha\":0.4,\"line_color\":\"black\",\"right\":106.5},\"id\":\"1326\",\"type\":\"BoxAnnotation\"},{\"attributes\":{\"coordinates\":null,\"fill_color\":null,\"group\":null,\"left\":106.5,\"level\":\"underlay\",\"line_alpha\":0.4,\"line_color\":\"black\",\"right\":107.25},\"id\":\"1327\",\"type\":\"BoxAnnotation\"},{\"attributes\":{\"coordinates\":null,\"fill_color\":null,\"group\":null,\"left\":107.25,\"level\":\"underlay\",\"line_alpha\":0.4,\"line_color\":\"black\",\"right\":108.0},\"id\":\"1328\",\"type\":\"BoxAnnotation\"},{\"attributes\":{\"coordinates\":null,\"fill_color\":null,\"group\":null,\"left\":108.0,\"level\":\"underlay\",\"line_alpha\":0.4,\"line_color\":\"black\",\"right\":108.75},\"id\":\"1329\",\"type\":\"BoxAnnotation\"},{\"attributes\":{\"coordinates\":null,\"fill_color\":null,\"group\":null,\"left\":108.75,\"level\":\"underlay\",\"line_alpha\":0.4,\"line_color\":\"black\",\"right\":109.5},\"id\":\"1330\",\"type\":\"BoxAnnotation\"},{\"attributes\":{\"coordinates\":null,\"fill_color\":null,\"group\":null,\"left\":109.5,\"level\":\"underlay\",\"line_alpha\":0.4,\"line_color\":\"black\",\"right\":110.25},\"id\":\"1331\",\"type\":\"BoxAnnotation\"},{\"attributes\":{\"coordinates\":null,\"fill_color\":null,\"group\":null,\"left\":110.25,\"level\":\"underlay\",\"line_alpha\":0.4,\"line_color\":\"black\",\"right\":111.0},\"id\":\"1332\",\"type\":\"BoxAnnotation\"},{\"attributes\":{\"coordinates\":null,\"fill_color\":null,\"group\":null,\"left\":111.0,\"level\":\"underlay\",\"line_alpha\":0.4,\"line_color\":\"black\",\"right\":111.75},\"id\":\"1333\",\"type\":\"BoxAnnotation\"},{\"attributes\":{\"coordinates\":null,\"fill_color\":null,\"group\":null,\"left\":111.75,\"level\":\"underlay\",\"line_alpha\":0.4,\"line_color\":\"black\",\"right\":112.5},\"id\":\"1334\",\"type\":\"BoxAnnotation\"},{\"attributes\":{\"coordinates\":null,\"fill_color\":null,\"group\":null,\"left\":112.5,\"level\":\"underlay\",\"line_alpha\":0.4,\"line_color\":\"black\",\"right\":113.25},\"id\":\"1335\",\"type\":\"BoxAnnotation\"},{\"attributes\":{\"coordinates\":null,\"fill_color\":null,\"group\":null,\"left\":113.25,\"level\":\"underlay\",\"line_alpha\":0.4,\"line_color\":\"black\",\"right\":114.0},\"id\":\"1336\",\"type\":\"BoxAnnotation\"},{\"attributes\":{\"coordinates\":null,\"fill_color\":null,\"group\":null,\"left\":114.0,\"level\":\"underlay\",\"line_alpha\":0.4,\"line_color\":\"black\",\"right\":114.75},\"id\":\"1337\",\"type\":\"BoxAnnotation\"},{\"attributes\":{\"coordinates\":null,\"fill_color\":null,\"group\":null,\"left\":114.75,\"level\":\"underlay\",\"line_alpha\":0.4,\"line_color\":\"black\",\"right\":115.5},\"id\":\"1338\",\"type\":\"BoxAnnotation\"},{\"attributes\":{\"coordinates\":null,\"fill_color\":null,\"group\":null,\"left\":115.5,\"level\":\"underlay\",\"line_alpha\":0.4,\"line_color\":\"black\",\"right\":116.25},\"id\":\"1339\",\"type\":\"BoxAnnotation\"},{\"attributes\":{\"coordinates\":null,\"fill_color\":null,\"group\":null,\"left\":116.25,\"level\":\"underlay\",\"line_alpha\":0.4,\"line_color\":\"black\",\"right\":117.0},\"id\":\"1340\",\"type\":\"BoxAnnotation\"},{\"attributes\":{\"coordinates\":null,\"fill_color\":null,\"group\":null,\"left\":117.0,\"level\":\"underlay\",\"line_alpha\":0.4,\"line_color\":\"black\",\"right\":117.75},\"id\":\"1341\",\"type\":\"BoxAnnotation\"},{\"attributes\":{\"coordinates\":null,\"fill_color\":null,\"group\":null,\"left\":117.75,\"level\":\"underlay\",\"line_alpha\":0.4,\"line_color\":\"black\",\"right\":118.5},\"id\":\"1342\",\"type\":\"BoxAnnotation\"},{\"attributes\":{\"coordinates\":null,\"fill_color\":null,\"group\":null,\"left\":118.5,\"level\":\"underlay\",\"line_alpha\":0.4,\"line_color\":\"black\",\"right\":119.25},\"id\":\"1343\",\"type\":\"BoxAnnotation\"},{\"attributes\":{\"coordinates\":null,\"fill_color\":null,\"group\":null,\"left\":119.25,\"level\":\"underlay\",\"line_alpha\":0.4,\"line_color\":\"black\",\"right\":120.0},\"id\":\"1344\",\"type\":\"BoxAnnotation\"},{\"attributes\":{\"coordinates\":null,\"fill_color\":null,\"group\":null,\"left\":120.0,\"level\":\"underlay\",\"line_alpha\":0.4,\"line_color\":\"black\",\"right\":120.75},\"id\":\"1345\",\"type\":\"BoxAnnotation\"},{\"attributes\":{\"coordinates\":null,\"fill_color\":null,\"group\":null,\"left\":120.75,\"level\":\"underlay\",\"line_alpha\":0.4,\"line_color\":\"black\",\"right\":121.5},\"id\":\"1346\",\"type\":\"BoxAnnotation\"},{\"attributes\":{\"coordinates\":null,\"fill_color\":null,\"group\":null,\"left\":121.5,\"level\":\"underlay\",\"line_alpha\":0.4,\"line_color\":\"black\",\"right\":122.25},\"id\":\"1347\",\"type\":\"BoxAnnotation\"},{\"attributes\":{\"coordinates\":null,\"fill_color\":null,\"group\":null,\"left\":122.25,\"level\":\"underlay\",\"line_alpha\":0.4,\"line_color\":\"black\",\"right\":123.0},\"id\":\"1348\",\"type\":\"BoxAnnotation\"},{\"attributes\":{\"coordinates\":null,\"fill_color\":null,\"group\":null,\"left\":123.0,\"level\":\"underlay\",\"line_alpha\":0.4,\"line_color\":\"black\",\"right\":123.75},\"id\":\"1349\",\"type\":\"BoxAnnotation\"},{\"attributes\":{\"coordinates\":null,\"fill_color\":null,\"group\":null,\"left\":123.75,\"level\":\"underlay\",\"line_alpha\":0.4,\"line_color\":\"black\",\"right\":124.5},\"id\":\"1350\",\"type\":\"BoxAnnotation\"},{\"attributes\":{\"coordinates\":null,\"fill_color\":null,\"group\":null,\"left\":124.5,\"level\":\"underlay\",\"line_alpha\":0.4,\"line_color\":\"black\",\"right\":125.25},\"id\":\"1351\",\"type\":\"BoxAnnotation\"},{\"attributes\":{\"coordinates\":null,\"fill_color\":null,\"group\":null,\"left\":125.25,\"level\":\"underlay\",\"line_alpha\":0.4,\"line_color\":\"black\",\"right\":126.0},\"id\":\"1352\",\"type\":\"BoxAnnotation\"},{\"attributes\":{\"coordinates\":null,\"fill_color\":null,\"group\":null,\"left\":126.0,\"level\":\"underlay\",\"line_alpha\":0.4,\"line_color\":\"black\",\"right\":126.75},\"id\":\"1353\",\"type\":\"BoxAnnotation\"},{\"attributes\":{\"coordinates\":null,\"fill_color\":null,\"group\":null,\"left\":126.75,\"level\":\"underlay\",\"line_alpha\":0.4,\"line_color\":\"black\",\"right\":127.5},\"id\":\"1354\",\"type\":\"BoxAnnotation\"},{\"attributes\":{\"coordinates\":null,\"fill_color\":null,\"group\":null,\"left\":127.5,\"level\":\"underlay\",\"line_alpha\":0.4,\"line_color\":\"black\",\"right\":128.25},\"id\":\"1355\",\"type\":\"BoxAnnotation\"},{\"attributes\":{\"coordinates\":null,\"fill_color\":null,\"group\":null,\"left\":128.25,\"level\":\"underlay\",\"line_alpha\":0.4,\"line_color\":\"black\",\"right\":129.0},\"id\":\"1356\",\"type\":\"BoxAnnotation\"},{\"attributes\":{\"coordinates\":null,\"fill_color\":null,\"group\":null,\"left\":129.0,\"level\":\"underlay\",\"line_alpha\":0.4,\"line_color\":\"black\",\"right\":129.75},\"id\":\"1357\",\"type\":\"BoxAnnotation\"},{\"attributes\":{\"coordinates\":null,\"fill_color\":null,\"group\":null,\"left\":129.75,\"level\":\"underlay\",\"line_alpha\":0.4,\"line_color\":\"black\",\"right\":130.5},\"id\":\"1358\",\"type\":\"BoxAnnotation\"},{\"attributes\":{\"coordinates\":null,\"fill_color\":null,\"group\":null,\"left\":130.5,\"level\":\"underlay\",\"line_alpha\":0.4,\"line_color\":\"black\",\"right\":131.25},\"id\":\"1359\",\"type\":\"BoxAnnotation\"},{\"attributes\":{\"coordinates\":null,\"fill_color\":null,\"group\":null,\"left\":131.25,\"level\":\"underlay\",\"line_alpha\":0.4,\"line_color\":\"black\",\"right\":132.0},\"id\":\"1360\",\"type\":\"BoxAnnotation\"},{\"attributes\":{\"coordinates\":null,\"fill_color\":null,\"group\":null,\"left\":132.0,\"level\":\"underlay\",\"line_alpha\":0.4,\"line_color\":\"black\",\"right\":132.75},\"id\":\"1361\",\"type\":\"BoxAnnotation\"},{\"attributes\":{\"coordinates\":null,\"fill_color\":null,\"group\":null,\"left\":132.75,\"level\":\"underlay\",\"line_alpha\":0.4,\"line_color\":\"black\",\"right\":133.5},\"id\":\"1362\",\"type\":\"BoxAnnotation\"},{\"attributes\":{\"coordinates\":null,\"fill_color\":null,\"group\":null,\"left\":133.5,\"level\":\"underlay\",\"line_alpha\":0.4,\"line_color\":\"black\",\"right\":134.25},\"id\":\"1363\",\"type\":\"BoxAnnotation\"},{\"attributes\":{\"coordinates\":null,\"fill_color\":null,\"group\":null,\"left\":134.25,\"level\":\"underlay\",\"line_alpha\":0.4,\"line_color\":\"black\",\"right\":135.0},\"id\":\"1364\",\"type\":\"BoxAnnotation\"},{\"attributes\":{\"coordinates\":null,\"fill_color\":null,\"group\":null,\"left\":135.0,\"level\":\"underlay\",\"line_alpha\":0.4,\"line_color\":\"black\",\"right\":135.75},\"id\":\"1365\",\"type\":\"BoxAnnotation\"},{\"attributes\":{\"coordinates\":null,\"fill_color\":null,\"group\":null,\"left\":135.75,\"level\":\"underlay\",\"line_alpha\":0.4,\"line_color\":\"black\",\"right\":136.5},\"id\":\"1366\",\"type\":\"BoxAnnotation\"},{\"attributes\":{\"coordinates\":null,\"fill_color\":null,\"group\":null,\"left\":136.5,\"level\":\"underlay\",\"line_alpha\":0.4,\"line_color\":\"black\",\"right\":137.25},\"id\":\"1367\",\"type\":\"BoxAnnotation\"},{\"attributes\":{\"coordinates\":null,\"fill_color\":null,\"group\":null,\"left\":137.25,\"level\":\"underlay\",\"line_alpha\":0.4,\"line_color\":\"black\",\"right\":138.0},\"id\":\"1368\",\"type\":\"BoxAnnotation\"},{\"attributes\":{\"coordinates\":null,\"fill_color\":null,\"group\":null,\"left\":138.0,\"level\":\"underlay\",\"line_alpha\":0.4,\"line_color\":\"black\",\"right\":138.75},\"id\":\"1369\",\"type\":\"BoxAnnotation\"},{\"attributes\":{\"coordinates\":null,\"fill_color\":null,\"group\":null,\"left\":138.75,\"level\":\"underlay\",\"line_alpha\":0.4,\"line_color\":\"black\",\"right\":139.5},\"id\":\"1370\",\"type\":\"BoxAnnotation\"},{\"attributes\":{\"coordinates\":null,\"fill_color\":null,\"group\":null,\"left\":139.5,\"level\":\"underlay\",\"line_alpha\":0.4,\"line_color\":\"black\",\"right\":140.25},\"id\":\"1371\",\"type\":\"BoxAnnotation\"},{\"attributes\":{\"coordinates\":null,\"fill_color\":null,\"group\":null,\"left\":140.25,\"level\":\"underlay\",\"line_alpha\":0.4,\"line_color\":\"black\",\"right\":141.0},\"id\":\"1372\",\"type\":\"BoxAnnotation\"},{\"attributes\":{\"coordinates\":null,\"fill_color\":null,\"group\":null,\"left\":141.0,\"level\":\"underlay\",\"line_alpha\":0.4,\"line_color\":\"black\",\"right\":141.75},\"id\":\"1373\",\"type\":\"BoxAnnotation\"},{\"attributes\":{\"coordinates\":null,\"fill_color\":null,\"group\":null,\"left\":141.75,\"level\":\"underlay\",\"line_alpha\":0.4,\"line_color\":\"black\",\"right\":142.5},\"id\":\"1374\",\"type\":\"BoxAnnotation\"},{\"attributes\":{\"coordinates\":null,\"fill_color\":null,\"group\":null,\"left\":142.5,\"level\":\"underlay\",\"line_alpha\":0.4,\"line_color\":\"black\",\"right\":143.25},\"id\":\"1375\",\"type\":\"BoxAnnotation\"},{\"attributes\":{\"coordinates\":null,\"fill_color\":null,\"group\":null,\"left\":143.25,\"level\":\"underlay\",\"line_alpha\":0.4,\"line_color\":\"black\",\"right\":144.0},\"id\":\"1376\",\"type\":\"BoxAnnotation\"},{\"attributes\":{\"coordinates\":null,\"fill_color\":null,\"group\":null,\"left\":144.0,\"level\":\"underlay\",\"line_alpha\":0.4,\"line_color\":\"black\",\"right\":144.75},\"id\":\"1377\",\"type\":\"BoxAnnotation\"},{\"attributes\":{\"coordinates\":null,\"fill_color\":null,\"group\":null,\"left\":144.75,\"level\":\"underlay\",\"line_alpha\":0.4,\"line_color\":\"black\",\"right\":145.5},\"id\":\"1378\",\"type\":\"BoxAnnotation\"},{\"attributes\":{\"coordinates\":null,\"fill_color\":null,\"group\":null,\"left\":145.5,\"level\":\"underlay\",\"line_alpha\":0.4,\"line_color\":\"black\",\"right\":146.25},\"id\":\"1379\",\"type\":\"BoxAnnotation\"},{\"attributes\":{\"coordinates\":null,\"fill_color\":null,\"group\":null,\"left\":146.25,\"level\":\"underlay\",\"line_alpha\":0.4,\"line_color\":\"black\",\"right\":147.0},\"id\":\"1380\",\"type\":\"BoxAnnotation\"},{\"attributes\":{\"coordinates\":null,\"fill_color\":null,\"group\":null,\"left\":147.0,\"level\":\"underlay\",\"line_alpha\":0.4,\"line_color\":\"black\",\"right\":147.75},\"id\":\"1381\",\"type\":\"BoxAnnotation\"},{\"attributes\":{\"coordinates\":null,\"fill_color\":null,\"group\":null,\"left\":147.75,\"level\":\"underlay\",\"line_alpha\":0.4,\"line_color\":\"black\",\"right\":148.5},\"id\":\"1382\",\"type\":\"BoxAnnotation\"},{\"attributes\":{\"coordinates\":null,\"fill_color\":null,\"group\":null,\"left\":148.5,\"level\":\"underlay\",\"line_alpha\":0.4,\"line_color\":\"black\",\"right\":149.25},\"id\":\"1383\",\"type\":\"BoxAnnotation\"},{\"attributes\":{\"coordinates\":null,\"fill_color\":null,\"group\":null,\"left\":149.25,\"level\":\"underlay\",\"line_alpha\":0.4,\"line_color\":\"black\",\"right\":150.0},\"id\":\"1384\",\"type\":\"BoxAnnotation\"},{\"attributes\":{\"coordinates\":null,\"fill_color\":null,\"group\":null,\"left\":150.0,\"level\":\"underlay\",\"line_alpha\":0.4,\"line_color\":\"black\",\"right\":150.75},\"id\":\"1385\",\"type\":\"BoxAnnotation\"},{\"attributes\":{\"coordinates\":null,\"fill_color\":null,\"group\":null,\"left\":150.75,\"level\":\"underlay\",\"line_alpha\":0.4,\"line_color\":\"black\",\"right\":151.5},\"id\":\"1386\",\"type\":\"BoxAnnotation\"},{\"attributes\":{\"coordinates\":null,\"fill_color\":null,\"group\":null,\"left\":151.5,\"level\":\"underlay\",\"line_alpha\":0.4,\"line_color\":\"black\",\"right\":152.25},\"id\":\"1387\",\"type\":\"BoxAnnotation\"},{\"attributes\":{\"coordinates\":null,\"fill_color\":null,\"group\":null,\"left\":152.25,\"level\":\"underlay\",\"line_alpha\":0.4,\"line_color\":\"black\",\"right\":153.0},\"id\":\"1388\",\"type\":\"BoxAnnotation\"},{\"attributes\":{\"coordinates\":null,\"fill_color\":null,\"group\":null,\"left\":153.0,\"level\":\"underlay\",\"line_alpha\":0.4,\"line_color\":\"black\",\"right\":153.75},\"id\":\"1389\",\"type\":\"BoxAnnotation\"},{\"attributes\":{\"coordinates\":null,\"fill_color\":null,\"group\":null,\"left\":153.75,\"level\":\"underlay\",\"line_alpha\":0.4,\"line_color\":\"black\",\"right\":154.5},\"id\":\"1390\",\"type\":\"BoxAnnotation\"},{\"attributes\":{\"coordinates\":null,\"fill_color\":null,\"group\":null,\"left\":154.5,\"level\":\"underlay\",\"line_alpha\":0.4,\"line_color\":\"black\",\"right\":155.25},\"id\":\"1391\",\"type\":\"BoxAnnotation\"},{\"attributes\":{\"coordinates\":null,\"fill_color\":null,\"group\":null,\"left\":155.25,\"level\":\"underlay\",\"line_alpha\":0.4,\"line_color\":\"black\",\"right\":156.0},\"id\":\"1392\",\"type\":\"BoxAnnotation\"},{\"attributes\":{\"coordinates\":null,\"fill_color\":null,\"group\":null,\"left\":156.0,\"level\":\"underlay\",\"line_alpha\":0.4,\"line_color\":\"black\",\"right\":156.75},\"id\":\"1393\",\"type\":\"BoxAnnotation\"},{\"attributes\":{\"coordinates\":null,\"fill_color\":null,\"group\":null,\"left\":156.75,\"level\":\"underlay\",\"line_alpha\":0.4,\"line_color\":\"black\",\"right\":157.5},\"id\":\"1394\",\"type\":\"BoxAnnotation\"},{\"attributes\":{\"coordinates\":null,\"fill_color\":null,\"group\":null,\"left\":157.5,\"level\":\"underlay\",\"line_alpha\":0.4,\"line_color\":\"black\",\"right\":158.25},\"id\":\"1395\",\"type\":\"BoxAnnotation\"},{\"attributes\":{\"coordinates\":null,\"fill_color\":null,\"group\":null,\"left\":160.5,\"level\":\"underlay\",\"line_alpha\":0.4,\"line_color\":\"black\",\"right\":161.25},\"id\":\"1399\",\"type\":\"BoxAnnotation\"},{\"attributes\":{\"coordinates\":null,\"fill_color\":null,\"group\":null,\"left\":158.25,\"level\":\"underlay\",\"line_alpha\":0.4,\"line_color\":\"black\",\"right\":159.0},\"id\":\"1396\",\"type\":\"BoxAnnotation\"},{\"attributes\":{\"coordinates\":null,\"fill_color\":null,\"group\":null,\"left\":159.0,\"level\":\"underlay\",\"line_alpha\":0.4,\"line_color\":\"black\",\"right\":159.75},\"id\":\"1397\",\"type\":\"BoxAnnotation\"},{\"attributes\":{\"coordinates\":null,\"fill_color\":null,\"group\":null,\"left\":162.0,\"level\":\"underlay\",\"line_alpha\":0.4,\"line_color\":\"black\",\"right\":162.75},\"id\":\"1401\",\"type\":\"BoxAnnotation\"},{\"attributes\":{\"coordinates\":null,\"fill_color\":null,\"group\":null,\"left\":159.75,\"level\":\"underlay\",\"line_alpha\":0.4,\"line_color\":\"black\",\"right\":160.5},\"id\":\"1398\",\"type\":\"BoxAnnotation\"},{\"attributes\":{\"coordinates\":null,\"fill_color\":null,\"group\":null,\"left\":161.25,\"level\":\"underlay\",\"line_alpha\":0.4,\"line_color\":\"black\",\"right\":162.0},\"id\":\"1400\",\"type\":\"BoxAnnotation\"},{\"attributes\":{\"coordinates\":null,\"fill_color\":null,\"group\":null,\"left\":165.0,\"level\":\"underlay\",\"line_alpha\":0.4,\"line_color\":\"black\",\"right\":165.75},\"id\":\"1405\",\"type\":\"BoxAnnotation\"},{\"attributes\":{\"coordinates\":null,\"fill_color\":null,\"group\":null,\"left\":162.75,\"level\":\"underlay\",\"line_alpha\":0.4,\"line_color\":\"black\",\"right\":163.5},\"id\":\"1402\",\"type\":\"BoxAnnotation\"},{\"attributes\":{\"coordinates\":null,\"fill_color\":null,\"group\":null,\"left\":164.25,\"level\":\"underlay\",\"line_alpha\":0.4,\"line_color\":\"black\",\"right\":165.0},\"id\":\"1404\",\"type\":\"BoxAnnotation\"},{\"attributes\":{\"coordinates\":null,\"fill_color\":null,\"group\":null,\"left\":165.75,\"level\":\"underlay\",\"line_alpha\":0.4,\"line_color\":\"black\",\"right\":166.5},\"id\":\"1406\",\"type\":\"BoxAnnotation\"},{\"attributes\":{\"coordinates\":null,\"fill_color\":null,\"group\":null,\"left\":163.5,\"level\":\"underlay\",\"line_alpha\":0.4,\"line_color\":\"black\",\"right\":164.25},\"id\":\"1403\",\"type\":\"BoxAnnotation\"},{\"attributes\":{\"coordinates\":null,\"fill_color\":null,\"group\":null,\"left\":166.5,\"level\":\"underlay\",\"line_alpha\":0.4,\"line_color\":\"black\",\"right\":167.25},\"id\":\"1407\",\"type\":\"BoxAnnotation\"},{\"attributes\":{\"coordinates\":null,\"fill_color\":null,\"group\":null,\"left\":167.25,\"level\":\"underlay\",\"line_alpha\":0.4,\"line_color\":\"black\",\"right\":168.0},\"id\":\"1408\",\"type\":\"BoxAnnotation\"},{\"attributes\":{\"coordinates\":null,\"fill_color\":null,\"group\":null,\"left\":168.0,\"level\":\"underlay\",\"line_alpha\":0.4,\"line_color\":\"black\",\"right\":168.75},\"id\":\"1409\",\"type\":\"BoxAnnotation\"},{\"attributes\":{\"coordinates\":null,\"fill_color\":null,\"group\":null,\"left\":168.75,\"level\":\"underlay\",\"line_alpha\":0.4,\"line_color\":\"black\",\"right\":169.5},\"id\":\"1410\",\"type\":\"BoxAnnotation\"},{\"attributes\":{\"coordinates\":null,\"fill_color\":null,\"group\":null,\"left\":169.5,\"level\":\"underlay\",\"line_alpha\":0.4,\"line_color\":\"black\",\"right\":170.25},\"id\":\"1411\",\"type\":\"BoxAnnotation\"},{\"attributes\":{\"coordinates\":null,\"fill_color\":null,\"group\":null,\"left\":170.25,\"level\":\"underlay\",\"line_alpha\":0.4,\"line_color\":\"black\",\"right\":171.0},\"id\":\"1412\",\"type\":\"BoxAnnotation\"},{\"attributes\":{\"coordinates\":null,\"fill_color\":null,\"group\":null,\"left\":171.0,\"level\":\"underlay\",\"line_alpha\":0.4,\"line_color\":\"black\",\"right\":171.75},\"id\":\"1413\",\"type\":\"BoxAnnotation\"},{\"attributes\":{\"coordinates\":null,\"fill_color\":null,\"group\":null,\"left\":171.75,\"level\":\"underlay\",\"line_alpha\":0.4,\"line_color\":\"black\",\"right\":172.5},\"id\":\"1414\",\"type\":\"BoxAnnotation\"},{\"attributes\":{\"coordinates\":null,\"fill_color\":null,\"group\":null,\"left\":172.5,\"level\":\"underlay\",\"line_alpha\":0.4,\"line_color\":\"black\",\"right\":173.25},\"id\":\"1415\",\"type\":\"BoxAnnotation\"},{\"attributes\":{\"coordinates\":null,\"fill_color\":null,\"group\":null,\"left\":173.25,\"level\":\"underlay\",\"line_alpha\":0.4,\"line_color\":\"black\",\"right\":174.0},\"id\":\"1416\",\"type\":\"BoxAnnotation\"},{\"attributes\":{\"coordinates\":null,\"fill_color\":null,\"group\":null,\"left\":174.0,\"level\":\"underlay\",\"line_alpha\":0.4,\"line_color\":\"black\",\"right\":174.75},\"id\":\"1417\",\"type\":\"BoxAnnotation\"},{\"attributes\":{\"coordinates\":null,\"fill_color\":null,\"group\":null,\"left\":174.75,\"level\":\"underlay\",\"line_alpha\":0.4,\"line_color\":\"black\",\"right\":175.5},\"id\":\"1418\",\"type\":\"BoxAnnotation\"},{\"attributes\":{\"coordinates\":null,\"fill_color\":null,\"group\":null,\"left\":175.5,\"level\":\"underlay\",\"line_alpha\":0.4,\"line_color\":\"black\",\"right\":176.25},\"id\":\"1419\",\"type\":\"BoxAnnotation\"},{\"attributes\":{\"coordinates\":null,\"fill_color\":null,\"group\":null,\"left\":176.25,\"level\":\"underlay\",\"line_alpha\":0.4,\"line_color\":\"black\",\"right\":177.0},\"id\":\"1420\",\"type\":\"BoxAnnotation\"},{\"attributes\":{\"coordinates\":null,\"fill_color\":null,\"group\":null,\"left\":177.0,\"level\":\"underlay\",\"line_alpha\":0.4,\"line_color\":\"black\",\"right\":177.75},\"id\":\"1421\",\"type\":\"BoxAnnotation\"},{\"attributes\":{\"coordinates\":null,\"fill_color\":null,\"group\":null,\"left\":177.75,\"level\":\"underlay\",\"line_alpha\":0.4,\"line_color\":\"black\",\"right\":178.5},\"id\":\"1422\",\"type\":\"BoxAnnotation\"},{\"attributes\":{\"coordinates\":null,\"fill_color\":null,\"group\":null,\"left\":178.5,\"level\":\"underlay\",\"line_alpha\":0.4,\"line_color\":\"black\",\"right\":179.25},\"id\":\"1423\",\"type\":\"BoxAnnotation\"},{\"attributes\":{\"coordinates\":null,\"fill_color\":null,\"group\":null,\"left\":179.25,\"level\":\"underlay\",\"line_alpha\":0.4,\"line_color\":\"black\",\"right\":180.0},\"id\":\"1424\",\"type\":\"BoxAnnotation\"},{\"attributes\":{\"coordinates\":null,\"fill_color\":null,\"group\":null,\"left\":180.0,\"level\":\"underlay\",\"line_alpha\":0.4,\"line_color\":\"black\",\"right\":180.75},\"id\":\"1425\",\"type\":\"BoxAnnotation\"},{\"attributes\":{\"coordinates\":null,\"fill_color\":null,\"group\":null,\"left\":180.75,\"level\":\"underlay\",\"line_alpha\":0.4,\"line_color\":\"black\",\"right\":181.5},\"id\":\"1426\",\"type\":\"BoxAnnotation\"},{\"attributes\":{\"coordinates\":null,\"fill_color\":null,\"group\":null,\"left\":181.5,\"level\":\"underlay\",\"line_alpha\":0.4,\"line_color\":\"black\",\"right\":182.25},\"id\":\"1427\",\"type\":\"BoxAnnotation\"},{\"attributes\":{\"coordinates\":null,\"fill_color\":null,\"group\":null,\"left\":182.25,\"level\":\"underlay\",\"line_alpha\":0.4,\"line_color\":\"black\",\"right\":183.0},\"id\":\"1428\",\"type\":\"BoxAnnotation\"},{\"attributes\":{\"coordinates\":null,\"fill_color\":null,\"group\":null,\"left\":183.0,\"level\":\"underlay\",\"line_alpha\":0.4,\"line_color\":\"black\",\"right\":183.75},\"id\":\"1429\",\"type\":\"BoxAnnotation\"},{\"attributes\":{\"coordinates\":null,\"fill_color\":null,\"group\":null,\"left\":183.75,\"level\":\"underlay\",\"line_alpha\":0.4,\"line_color\":\"black\",\"right\":184.5},\"id\":\"1430\",\"type\":\"BoxAnnotation\"},{\"attributes\":{\"coordinates\":null,\"fill_color\":null,\"group\":null,\"left\":184.5,\"level\":\"underlay\",\"line_alpha\":0.4,\"line_color\":\"black\",\"right\":185.25},\"id\":\"1431\",\"type\":\"BoxAnnotation\"},{\"attributes\":{\"coordinates\":null,\"fill_color\":null,\"group\":null,\"left\":185.25,\"level\":\"underlay\",\"line_alpha\":0.4,\"line_color\":\"black\",\"right\":186.0},\"id\":\"1432\",\"type\":\"BoxAnnotation\"},{\"attributes\":{\"coordinates\":null,\"fill_color\":null,\"group\":null,\"left\":186.0,\"level\":\"underlay\",\"line_alpha\":0.4,\"line_color\":\"black\",\"right\":186.75},\"id\":\"1433\",\"type\":\"BoxAnnotation\"},{\"attributes\":{\"coordinates\":null,\"fill_color\":null,\"group\":null,\"left\":186.75,\"level\":\"underlay\",\"line_alpha\":0.4,\"line_color\":\"black\",\"right\":187.5},\"id\":\"1434\",\"type\":\"BoxAnnotation\"},{\"attributes\":{\"coordinates\":null,\"fill_color\":null,\"group\":null,\"left\":187.5,\"level\":\"underlay\",\"line_alpha\":0.4,\"line_color\":\"black\",\"right\":188.25},\"id\":\"1435\",\"type\":\"BoxAnnotation\"},{\"attributes\":{\"coordinates\":null,\"fill_color\":null,\"group\":null,\"left\":188.25,\"level\":\"underlay\",\"line_alpha\":0.4,\"line_color\":\"black\",\"right\":189.0},\"id\":\"1436\",\"type\":\"BoxAnnotation\"},{\"attributes\":{\"coordinates\":null,\"fill_color\":null,\"group\":null,\"left\":189.0,\"level\":\"underlay\",\"line_alpha\":0.4,\"line_color\":\"black\",\"right\":189.75},\"id\":\"1437\",\"type\":\"BoxAnnotation\"},{\"attributes\":{\"coordinates\":null,\"fill_color\":null,\"group\":null,\"left\":189.75,\"level\":\"underlay\",\"line_alpha\":0.4,\"line_color\":\"black\",\"right\":190.5},\"id\":\"1438\",\"type\":\"BoxAnnotation\"},{\"attributes\":{\"coordinates\":null,\"fill_color\":null,\"group\":null,\"left\":190.5,\"level\":\"underlay\",\"line_alpha\":0.4,\"line_color\":\"black\",\"right\":191.25},\"id\":\"1439\",\"type\":\"BoxAnnotation\"},{\"attributes\":{\"coordinates\":null,\"fill_color\":null,\"group\":null,\"left\":191.25,\"level\":\"underlay\",\"line_alpha\":0.4,\"line_color\":\"black\",\"right\":192.0},\"id\":\"1440\",\"type\":\"BoxAnnotation\"},{\"attributes\":{\"coordinates\":null,\"fill_color\":null,\"group\":null,\"left\":192.0,\"level\":\"underlay\",\"line_alpha\":0.4,\"line_color\":\"black\",\"right\":192.75},\"id\":\"1441\",\"type\":\"BoxAnnotation\"},{\"attributes\":{\"coordinates\":null,\"fill_color\":null,\"group\":null,\"left\":192.75,\"level\":\"underlay\",\"line_alpha\":0.4,\"line_color\":\"black\",\"right\":193.5},\"id\":\"1442\",\"type\":\"BoxAnnotation\"},{\"attributes\":{\"coordinates\":null,\"fill_color\":null,\"group\":null,\"left\":193.5,\"level\":\"underlay\",\"line_alpha\":0.4,\"line_color\":\"black\",\"right\":194.25},\"id\":\"1443\",\"type\":\"BoxAnnotation\"},{\"attributes\":{\"coordinates\":null,\"fill_color\":null,\"group\":null,\"left\":194.25,\"level\":\"underlay\",\"line_alpha\":0.4,\"line_color\":\"black\",\"right\":195.0},\"id\":\"1444\",\"type\":\"BoxAnnotation\"},{\"attributes\":{\"coordinates\":null,\"fill_color\":null,\"group\":null,\"left\":195.0,\"level\":\"underlay\",\"line_alpha\":0.4,\"line_color\":\"black\",\"right\":195.75},\"id\":\"1445\",\"type\":\"BoxAnnotation\"},{\"attributes\":{\"coordinates\":null,\"fill_color\":null,\"group\":null,\"left\":195.75,\"level\":\"underlay\",\"line_alpha\":0.4,\"line_color\":\"black\",\"right\":196.5},\"id\":\"1446\",\"type\":\"BoxAnnotation\"},{\"attributes\":{\"coordinates\":null,\"fill_color\":null,\"group\":null,\"left\":196.5,\"level\":\"underlay\",\"line_alpha\":0.4,\"line_color\":\"black\",\"right\":197.25},\"id\":\"1447\",\"type\":\"BoxAnnotation\"},{\"attributes\":{\"coordinates\":null,\"fill_color\":null,\"group\":null,\"left\":197.25,\"level\":\"underlay\",\"line_alpha\":0.4,\"line_color\":\"black\",\"right\":198.0},\"id\":\"1448\",\"type\":\"BoxAnnotation\"},{\"attributes\":{\"coordinates\":null,\"fill_color\":null,\"group\":null,\"left\":198.0,\"level\":\"underlay\",\"line_alpha\":0.4,\"line_color\":\"black\",\"right\":198.75},\"id\":\"1449\",\"type\":\"BoxAnnotation\"},{\"attributes\":{\"coordinates\":null,\"fill_color\":null,\"group\":null,\"left\":198.75,\"level\":\"underlay\",\"line_alpha\":0.4,\"line_color\":\"black\",\"right\":199.5},\"id\":\"1450\",\"type\":\"BoxAnnotation\"},{\"attributes\":{\"coordinates\":null,\"fill_color\":null,\"group\":null,\"left\":199.5,\"level\":\"underlay\",\"line_alpha\":0.4,\"line_color\":\"black\",\"right\":200.25},\"id\":\"1451\",\"type\":\"BoxAnnotation\"},{\"attributes\":{\"coordinates\":null,\"fill_color\":null,\"group\":null,\"left\":200.25,\"level\":\"underlay\",\"line_alpha\":0.4,\"line_color\":\"black\",\"right\":201.0},\"id\":\"1452\",\"type\":\"BoxAnnotation\"},{\"attributes\":{\"coordinates\":null,\"fill_color\":null,\"group\":null,\"left\":201.0,\"level\":\"underlay\",\"line_alpha\":0.4,\"line_color\":\"black\",\"right\":201.75},\"id\":\"1453\",\"type\":\"BoxAnnotation\"},{\"attributes\":{\"coordinates\":null,\"fill_color\":null,\"group\":null,\"left\":201.75,\"level\":\"underlay\",\"line_alpha\":0.4,\"line_color\":\"black\",\"right\":202.5},\"id\":\"1454\",\"type\":\"BoxAnnotation\"},{\"attributes\":{\"coordinates\":null,\"fill_color\":null,\"group\":null,\"left\":202.5,\"level\":\"underlay\",\"line_alpha\":0.4,\"line_color\":\"black\",\"right\":203.25},\"id\":\"1455\",\"type\":\"BoxAnnotation\"},{\"attributes\":{\"coordinates\":null,\"fill_color\":null,\"group\":null,\"left\":203.25,\"level\":\"underlay\",\"line_alpha\":0.4,\"line_color\":\"black\",\"right\":204.0},\"id\":\"1456\",\"type\":\"BoxAnnotation\"},{\"attributes\":{\"coordinates\":null,\"fill_color\":null,\"group\":null,\"left\":204.0,\"level\":\"underlay\",\"line_alpha\":0.4,\"line_color\":\"black\",\"right\":204.75},\"id\":\"1457\",\"type\":\"BoxAnnotation\"},{\"attributes\":{\"coordinates\":null,\"fill_color\":null,\"group\":null,\"left\":204.75,\"level\":\"underlay\",\"line_alpha\":0.4,\"line_color\":\"black\",\"right\":205.5},\"id\":\"1458\",\"type\":\"BoxAnnotation\"},{\"attributes\":{\"coordinates\":null,\"fill_color\":null,\"group\":null,\"left\":205.5,\"level\":\"underlay\",\"line_alpha\":0.4,\"line_color\":\"black\",\"right\":206.25},\"id\":\"1459\",\"type\":\"BoxAnnotation\"},{\"attributes\":{\"coordinates\":null,\"fill_color\":null,\"group\":null,\"left\":206.25,\"level\":\"underlay\",\"line_alpha\":0.4,\"line_color\":\"black\",\"right\":207.0},\"id\":\"1460\",\"type\":\"BoxAnnotation\"},{\"attributes\":{\"coordinates\":null,\"fill_color\":null,\"group\":null,\"left\":207.0,\"level\":\"underlay\",\"line_alpha\":0.4,\"line_color\":\"black\",\"right\":207.75},\"id\":\"1461\",\"type\":\"BoxAnnotation\"},{\"attributes\":{\"coordinates\":null,\"fill_color\":null,\"group\":null,\"left\":207.75,\"level\":\"underlay\",\"line_alpha\":0.4,\"line_color\":\"black\",\"right\":208.5},\"id\":\"1462\",\"type\":\"BoxAnnotation\"},{\"attributes\":{\"coordinates\":null,\"fill_color\":null,\"group\":null,\"left\":208.5,\"level\":\"underlay\",\"line_alpha\":0.4,\"line_color\":\"black\",\"right\":209.25},\"id\":\"1463\",\"type\":\"BoxAnnotation\"},{\"attributes\":{\"coordinates\":null,\"fill_color\":null,\"group\":null,\"left\":209.25,\"level\":\"underlay\",\"line_alpha\":0.4,\"line_color\":\"black\",\"right\":210.0},\"id\":\"1464\",\"type\":\"BoxAnnotation\"},{\"attributes\":{\"coordinates\":null,\"fill_color\":null,\"group\":null,\"left\":210.0,\"level\":\"underlay\",\"line_alpha\":0.4,\"line_color\":\"black\",\"right\":210.75},\"id\":\"1465\",\"type\":\"BoxAnnotation\"},{\"attributes\":{\"coordinates\":null,\"fill_color\":null,\"group\":null,\"left\":210.75,\"level\":\"underlay\",\"line_alpha\":0.4,\"line_color\":\"black\",\"right\":211.5},\"id\":\"1466\",\"type\":\"BoxAnnotation\"},{\"attributes\":{\"coordinates\":null,\"fill_color\":null,\"group\":null,\"left\":211.5,\"level\":\"underlay\",\"line_alpha\":0.4,\"line_color\":\"black\",\"right\":212.25},\"id\":\"1467\",\"type\":\"BoxAnnotation\"},{\"attributes\":{\"coordinates\":null,\"fill_color\":null,\"group\":null,\"left\":216.0,\"level\":\"underlay\",\"line_alpha\":0.4,\"line_color\":\"black\",\"right\":216.75},\"id\":\"1473\",\"type\":\"BoxAnnotation\"},{\"attributes\":{\"coordinates\":null,\"fill_color\":null,\"group\":null,\"left\":216.75,\"level\":\"underlay\",\"line_alpha\":0.4,\"line_color\":\"black\",\"right\":217.5},\"id\":\"1474\",\"type\":\"BoxAnnotation\"},{\"attributes\":{\"coordinates\":null,\"fill_color\":null,\"group\":null,\"left\":213.75,\"level\":\"underlay\",\"line_alpha\":0.4,\"line_color\":\"black\",\"right\":214.5},\"id\":\"1470\",\"type\":\"BoxAnnotation\"},{\"attributes\":{\"coordinates\":null,\"fill_color\":null,\"group\":null,\"left\":212.25,\"level\":\"underlay\",\"line_alpha\":0.4,\"line_color\":\"black\",\"right\":213.0},\"id\":\"1468\",\"type\":\"BoxAnnotation\"},{\"attributes\":{\"coordinates\":null,\"fill_color\":null,\"group\":null,\"left\":214.5,\"level\":\"underlay\",\"line_alpha\":0.4,\"line_color\":\"black\",\"right\":215.25},\"id\":\"1471\",\"type\":\"BoxAnnotation\"},{\"attributes\":{\"coordinates\":null,\"fill_color\":null,\"group\":null,\"left\":215.25,\"level\":\"underlay\",\"line_alpha\":0.4,\"line_color\":\"black\",\"right\":216.0},\"id\":\"1472\",\"type\":\"BoxAnnotation\"},{\"attributes\":{\"coordinates\":null,\"fill_color\":null,\"group\":null,\"left\":213.0,\"level\":\"underlay\",\"line_alpha\":0.4,\"line_color\":\"black\",\"right\":213.75},\"id\":\"1469\",\"type\":\"BoxAnnotation\"},{\"attributes\":{\"coordinates\":null,\"fill_color\":null,\"group\":null,\"left\":217.5,\"level\":\"underlay\",\"line_alpha\":0.4,\"line_color\":\"black\",\"right\":218.25},\"id\":\"1475\",\"type\":\"BoxAnnotation\"},{\"attributes\":{\"coordinates\":null,\"fill_color\":null,\"group\":null,\"left\":218.25,\"level\":\"underlay\",\"line_alpha\":0.4,\"line_color\":\"black\",\"right\":219.0},\"id\":\"1476\",\"type\":\"BoxAnnotation\"},{\"attributes\":{\"coordinates\":null,\"fill_color\":null,\"group\":null,\"left\":219.0,\"level\":\"underlay\",\"line_alpha\":0.4,\"line_color\":\"black\",\"right\":219.75},\"id\":\"1477\",\"type\":\"BoxAnnotation\"},{\"attributes\":{\"coordinates\":null,\"fill_color\":null,\"group\":null,\"left\":219.75,\"level\":\"underlay\",\"line_alpha\":0.4,\"line_color\":\"black\",\"right\":220.5},\"id\":\"1478\",\"type\":\"BoxAnnotation\"},{\"attributes\":{\"coordinates\":null,\"fill_color\":null,\"group\":null,\"left\":222.75,\"level\":\"underlay\",\"line_alpha\":0.4,\"line_color\":\"black\",\"right\":223.5},\"id\":\"1482\",\"type\":\"BoxAnnotation\"},{\"attributes\":{\"coordinates\":null,\"fill_color\":null,\"group\":null,\"left\":220.5,\"level\":\"underlay\",\"line_alpha\":0.4,\"line_color\":\"black\",\"right\":221.25},\"id\":\"1479\",\"type\":\"BoxAnnotation\"},{\"attributes\":{\"coordinates\":null,\"fill_color\":null,\"group\":null,\"left\":221.25,\"level\":\"underlay\",\"line_alpha\":0.4,\"line_color\":\"black\",\"right\":222.0},\"id\":\"1480\",\"type\":\"BoxAnnotation\"},{\"attributes\":{},\"id\":\"1037\",\"type\":\"AllLabels\"},{\"attributes\":{\"coordinates\":null,\"fill_color\":null,\"group\":null,\"left\":224.25,\"level\":\"underlay\",\"line_alpha\":0.4,\"line_color\":\"black\",\"right\":225.0},\"id\":\"1484\",\"type\":\"BoxAnnotation\"},{\"attributes\":{\"coordinates\":null,\"fill_color\":null,\"group\":null,\"left\":222.0,\"level\":\"underlay\",\"line_alpha\":0.4,\"line_color\":\"black\",\"right\":222.75},\"id\":\"1481\",\"type\":\"BoxAnnotation\"},{\"attributes\":{\"coordinates\":null,\"fill_color\":null,\"group\":null,\"left\":223.5,\"level\":\"underlay\",\"line_alpha\":0.4,\"line_color\":\"black\",\"right\":224.25},\"id\":\"1483\",\"type\":\"BoxAnnotation\"},{\"attributes\":{},\"id\":\"1036\",\"type\":\"BasicTickFormatter\"},{\"attributes\":{\"coordinates\":null,\"fill_alpha\":0.05,\"fill_color\":\"gray\",\"group\":null,\"left\":255.0,\"level\":\"underlay\",\"line_alpha\":0.5,\"line_color\":\"black\",\"line_width\":2,\"right\":258.0},\"id\":\"1184\",\"type\":\"BoxAnnotation\"},{\"attributes\":{\"coordinates\":null,\"fill_alpha\":0.05,\"fill_color\":\"gray\",\"group\":null,\"left\":165.0,\"level\":\"underlay\",\"line_alpha\":0.5,\"line_color\":\"black\",\"line_width\":2,\"right\":168.0},\"id\":\"1154\",\"type\":\"BoxAnnotation\"},{\"attributes\":{\"coordinates\":null,\"fill_alpha\":0.05,\"fill_color\":\"gray\",\"group\":null,\"left\":171.0,\"level\":\"underlay\",\"line_alpha\":0.5,\"line_color\":\"black\",\"line_width\":2,\"right\":174.0},\"id\":\"1156\",\"type\":\"BoxAnnotation\"},{\"attributes\":{\"coordinates\":null,\"fill_alpha\":0.25,\"fill_color\":\"gray\",\"group\":null,\"left\":168.0,\"level\":\"underlay\",\"line_alpha\":0.5,\"line_color\":\"black\",\"line_width\":2,\"right\":171.0},\"id\":\"1155\",\"type\":\"BoxAnnotation\"},{\"attributes\":{\"coordinates\":null,\"fill_alpha\":0.25,\"fill_color\":\"gray\",\"group\":null,\"left\":174.0,\"level\":\"underlay\",\"line_alpha\":0.5,\"line_color\":\"black\",\"line_width\":2,\"right\":177.0},\"id\":\"1157\",\"type\":\"BoxAnnotation\"},{\"attributes\":{\"coordinates\":null,\"fill_alpha\":0.05,\"fill_color\":\"gray\",\"group\":null,\"left\":177.0,\"level\":\"underlay\",\"line_alpha\":0.5,\"line_color\":\"black\",\"line_width\":2,\"right\":180.0},\"id\":\"1158\",\"type\":\"BoxAnnotation\"},{\"attributes\":{\"coordinates\":null,\"fill_alpha\":0.25,\"fill_color\":\"gray\",\"group\":null,\"left\":180.0,\"level\":\"underlay\",\"line_alpha\":0.5,\"line_color\":\"black\",\"line_width\":2,\"right\":183.0},\"id\":\"1159\",\"type\":\"BoxAnnotation\"},{\"attributes\":{\"coordinates\":null,\"fill_alpha\":0.05,\"fill_color\":\"gray\",\"group\":null,\"left\":183.0,\"level\":\"underlay\",\"line_alpha\":0.5,\"line_color\":\"black\",\"line_width\":2,\"right\":186.0},\"id\":\"1160\",\"type\":\"BoxAnnotation\"},{\"attributes\":{\"coordinates\":null,\"fill_alpha\":0.25,\"fill_color\":\"gray\",\"group\":null,\"left\":186.0,\"level\":\"underlay\",\"line_alpha\":0.5,\"line_color\":\"black\",\"line_width\":2,\"right\":189.0},\"id\":\"1161\",\"type\":\"BoxAnnotation\"},{\"attributes\":{\"coordinates\":null,\"fill_alpha\":0.05,\"fill_color\":\"gray\",\"group\":null,\"left\":189.0,\"level\":\"underlay\",\"line_alpha\":0.5,\"line_color\":\"black\",\"line_width\":2,\"right\":192.0},\"id\":\"1162\",\"type\":\"BoxAnnotation\"},{\"attributes\":{\"coordinates\":null,\"fill_alpha\":0.25,\"fill_color\":\"gray\",\"group\":null,\"left\":192.0,\"level\":\"underlay\",\"line_alpha\":0.5,\"line_color\":\"black\",\"line_width\":2,\"right\":195.0},\"id\":\"1163\",\"type\":\"BoxAnnotation\"},{\"attributes\":{\"coordinates\":null,\"fill_alpha\":0.05,\"fill_color\":\"gray\",\"group\":null,\"left\":195.0,\"level\":\"underlay\",\"line_alpha\":0.5,\"line_color\":\"black\",\"line_width\":2,\"right\":198.0},\"id\":\"1164\",\"type\":\"BoxAnnotation\"},{\"attributes\":{\"coordinates\":null,\"fill_alpha\":0.25,\"fill_color\":\"gray\",\"group\":null,\"left\":198.0,\"level\":\"underlay\",\"line_alpha\":0.5,\"line_color\":\"black\",\"line_width\":2,\"right\":201.0},\"id\":\"1165\",\"type\":\"BoxAnnotation\"},{\"attributes\":{\"coordinates\":null,\"fill_alpha\":0.25,\"fill_color\":\"gray\",\"group\":null,\"left\":204.0,\"level\":\"underlay\",\"line_alpha\":0.5,\"line_color\":\"black\",\"line_width\":2,\"right\":207.0},\"id\":\"1167\",\"type\":\"BoxAnnotation\"},{\"attributes\":{\"coordinates\":null,\"fill_alpha\":0.05,\"fill_color\":\"gray\",\"group\":null,\"left\":207.0,\"level\":\"underlay\",\"line_alpha\":0.5,\"line_color\":\"black\",\"line_width\":2,\"right\":210.0},\"id\":\"1168\",\"type\":\"BoxAnnotation\"},{\"attributes\":{\"coordinates\":null,\"fill_alpha\":0.25,\"fill_color\":\"gray\",\"group\":null,\"left\":210.0,\"level\":\"underlay\",\"line_alpha\":0.5,\"line_color\":\"black\",\"line_width\":2,\"right\":213.0},\"id\":\"1169\",\"type\":\"BoxAnnotation\"},{\"attributes\":{\"coordinates\":null,\"fill_alpha\":0.05,\"fill_color\":\"gray\",\"group\":null,\"left\":213.0,\"level\":\"underlay\",\"line_alpha\":0.5,\"line_color\":\"black\",\"line_width\":2,\"right\":216.0},\"id\":\"1170\",\"type\":\"BoxAnnotation\"},{\"attributes\":{\"coordinates\":null,\"fill_alpha\":0.25,\"fill_color\":\"gray\",\"group\":null,\"left\":216.0,\"level\":\"underlay\",\"line_alpha\":0.5,\"line_color\":\"black\",\"line_width\":2,\"right\":219.0},\"id\":\"1171\",\"type\":\"BoxAnnotation\"},{\"attributes\":{\"coordinates\":null,\"fill_alpha\":0.05,\"fill_color\":\"gray\",\"group\":null,\"left\":201.0,\"level\":\"underlay\",\"line_alpha\":0.5,\"line_color\":\"black\",\"line_width\":2,\"right\":204.0},\"id\":\"1166\",\"type\":\"BoxAnnotation\"},{\"attributes\":{\"coordinates\":null,\"fill_alpha\":0.05,\"fill_color\":\"gray\",\"group\":null,\"left\":219.0,\"level\":\"underlay\",\"line_alpha\":0.5,\"line_color\":\"black\",\"line_width\":2,\"right\":222.0},\"id\":\"1172\",\"type\":\"BoxAnnotation\"},{\"attributes\":{\"coordinates\":null,\"fill_alpha\":0.25,\"fill_color\":\"gray\",\"group\":null,\"left\":222.0,\"level\":\"underlay\",\"line_alpha\":0.5,\"line_color\":\"black\",\"line_width\":2,\"right\":225.0},\"id\":\"1173\",\"type\":\"BoxAnnotation\"},{\"attributes\":{\"coordinates\":null,\"fill_alpha\":0.05,\"fill_color\":\"gray\",\"group\":null,\"left\":225.0,\"level\":\"underlay\",\"line_alpha\":0.5,\"line_color\":\"black\",\"line_width\":2,\"right\":228.0},\"id\":\"1174\",\"type\":\"BoxAnnotation\"},{\"attributes\":{\"coordinates\":null,\"fill_alpha\":0.25,\"fill_color\":\"gray\",\"group\":null,\"left\":228.0,\"level\":\"underlay\",\"line_alpha\":0.5,\"line_color\":\"black\",\"line_width\":2,\"right\":231.0},\"id\":\"1175\",\"type\":\"BoxAnnotation\"},{\"attributes\":{\"coordinates\":null,\"fill_alpha\":0.05,\"fill_color\":\"gray\",\"group\":null,\"left\":231.0,\"level\":\"underlay\",\"line_alpha\":0.5,\"line_color\":\"black\",\"line_width\":2,\"right\":234.0},\"id\":\"1176\",\"type\":\"BoxAnnotation\"},{\"attributes\":{\"coordinates\":null,\"fill_alpha\":0.25,\"fill_color\":\"gray\",\"group\":null,\"left\":234.0,\"level\":\"underlay\",\"line_alpha\":0.5,\"line_color\":\"black\",\"line_width\":2,\"right\":237.0},\"id\":\"1177\",\"type\":\"BoxAnnotation\"},{\"attributes\":{\"coordinates\":null,\"fill_alpha\":0.05,\"fill_color\":\"gray\",\"group\":null,\"left\":237.0,\"level\":\"underlay\",\"line_alpha\":0.5,\"line_color\":\"black\",\"line_width\":2,\"right\":240.0},\"id\":\"1178\",\"type\":\"BoxAnnotation\"},{\"attributes\":{\"coordinates\":null,\"fill_alpha\":0.25,\"fill_color\":\"gray\",\"group\":null,\"left\":240.0,\"level\":\"underlay\",\"line_alpha\":0.5,\"line_color\":\"black\",\"line_width\":2,\"right\":243.0},\"id\":\"1179\",\"type\":\"BoxAnnotation\"},{\"attributes\":{\"coordinates\":null,\"fill_alpha\":0.05,\"fill_color\":\"gray\",\"group\":null,\"left\":243.0,\"level\":\"underlay\",\"line_alpha\":0.5,\"line_color\":\"black\",\"line_width\":2,\"right\":246.0},\"id\":\"1180\",\"type\":\"BoxAnnotation\"},{\"attributes\":{\"coordinates\":null,\"fill_color\":null,\"group\":null,\"left\":3.75,\"level\":\"underlay\",\"line_alpha\":0.4,\"line_color\":\"black\",\"right\":4.5},\"id\":\"1190\",\"type\":\"BoxAnnotation\"},{\"attributes\":{\"coordinates\":null,\"fill_color\":null,\"group\":null,\"left\":0.75,\"level\":\"underlay\",\"line_alpha\":0.4,\"line_color\":\"black\",\"right\":1.5},\"id\":\"1186\",\"type\":\"BoxAnnotation\"},{\"attributes\":{\"coordinates\":null,\"fill_alpha\":0.25,\"fill_color\":\"gray\",\"group\":null,\"left\":252.0,\"level\":\"underlay\",\"line_alpha\":0.5,\"line_color\":\"black\",\"line_width\":2,\"right\":255.0},\"id\":\"1183\",\"type\":\"BoxAnnotation\"},{\"attributes\":{\"coordinates\":null,\"fill_alpha\":0.25,\"fill_color\":\"gray\",\"group\":null,\"left\":246.0,\"level\":\"underlay\",\"line_alpha\":0.5,\"line_color\":\"black\",\"line_width\":2,\"right\":249.0},\"id\":\"1181\",\"type\":\"BoxAnnotation\"},{\"attributes\":{\"coordinates\":null,\"fill_color\":null,\"group\":null,\"left\":0.0,\"level\":\"underlay\",\"line_alpha\":0.4,\"line_color\":\"black\",\"right\":0.75},\"id\":\"1185\",\"type\":\"BoxAnnotation\"},{\"attributes\":{\"coordinates\":null,\"fill_alpha\":0.05,\"fill_color\":\"gray\",\"group\":null,\"left\":249.0,\"level\":\"underlay\",\"line_alpha\":0.5,\"line_color\":\"black\",\"line_width\":2,\"right\":252.0},\"id\":\"1182\",\"type\":\"BoxAnnotation\"},{\"attributes\":{\"coordinates\":null,\"fill_color\":null,\"group\":null,\"left\":1.5,\"level\":\"underlay\",\"line_alpha\":0.4,\"line_color\":\"black\",\"right\":2.25},\"id\":\"1187\",\"type\":\"BoxAnnotation\"},{\"attributes\":{\"coordinates\":null,\"fill_color\":null,\"group\":null,\"left\":2.25,\"level\":\"underlay\",\"line_alpha\":0.4,\"line_color\":\"black\",\"right\":3.0},\"id\":\"1188\",\"type\":\"BoxAnnotation\"},{\"attributes\":{\"coordinates\":null,\"fill_color\":null,\"group\":null,\"left\":3.0,\"level\":\"underlay\",\"line_alpha\":0.4,\"line_color\":\"black\",\"right\":3.75},\"id\":\"1189\",\"type\":\"BoxAnnotation\"},{\"attributes\":{\"coordinates\":null,\"fill_color\":null,\"group\":null,\"left\":4.5,\"level\":\"underlay\",\"line_alpha\":0.4,\"line_color\":\"black\",\"right\":5.25},\"id\":\"1191\",\"type\":\"BoxAnnotation\"},{\"attributes\":{\"coordinates\":null,\"fill_color\":null,\"group\":null,\"left\":5.25,\"level\":\"underlay\",\"line_alpha\":0.4,\"line_color\":\"black\",\"right\":6.0},\"id\":\"1192\",\"type\":\"BoxAnnotation\"},{\"attributes\":{\"coordinates\":null,\"fill_color\":null,\"group\":null,\"left\":6.0,\"level\":\"underlay\",\"line_alpha\":0.4,\"line_color\":\"black\",\"right\":6.75},\"id\":\"1193\",\"type\":\"BoxAnnotation\"},{\"attributes\":{\"coordinates\":null,\"fill_color\":null,\"group\":null,\"left\":6.75,\"level\":\"underlay\",\"line_alpha\":0.4,\"line_color\":\"black\",\"right\":7.5},\"id\":\"1194\",\"type\":\"BoxAnnotation\"},{\"attributes\":{\"coordinates\":null,\"fill_color\":null,\"group\":null,\"left\":7.5,\"level\":\"underlay\",\"line_alpha\":0.4,\"line_color\":\"black\",\"right\":8.25},\"id\":\"1195\",\"type\":\"BoxAnnotation\"},{\"attributes\":{\"coordinates\":null,\"fill_color\":null,\"group\":null,\"left\":8.25,\"level\":\"underlay\",\"line_alpha\":0.4,\"line_color\":\"black\",\"right\":9.0},\"id\":\"1196\",\"type\":\"BoxAnnotation\"},{\"attributes\":{\"coordinates\":null,\"fill_color\":null,\"group\":null,\"left\":9.0,\"level\":\"underlay\",\"line_alpha\":0.4,\"line_color\":\"black\",\"right\":9.75},\"id\":\"1197\",\"type\":\"BoxAnnotation\"},{\"attributes\":{\"coordinates\":null,\"fill_color\":null,\"group\":null,\"left\":9.75,\"level\":\"underlay\",\"line_alpha\":0.4,\"line_color\":\"black\",\"right\":10.5},\"id\":\"1198\",\"type\":\"BoxAnnotation\"},{\"attributes\":{\"coordinates\":null,\"fill_color\":null,\"group\":null,\"left\":10.5,\"level\":\"underlay\",\"line_alpha\":0.4,\"line_color\":\"black\",\"right\":11.25},\"id\":\"1199\",\"type\":\"BoxAnnotation\"},{\"attributes\":{\"coordinates\":null,\"fill_color\":null,\"group\":null,\"left\":11.25,\"level\":\"underlay\",\"line_alpha\":0.4,\"line_color\":\"black\",\"right\":12.0},\"id\":\"1200\",\"type\":\"BoxAnnotation\"},{\"attributes\":{\"coordinates\":null,\"fill_color\":null,\"group\":null,\"left\":12.0,\"level\":\"underlay\",\"line_alpha\":0.4,\"line_color\":\"black\",\"right\":12.75},\"id\":\"1201\",\"type\":\"BoxAnnotation\"},{\"attributes\":{\"coordinates\":null,\"fill_color\":null,\"group\":null,\"left\":12.75,\"level\":\"underlay\",\"line_alpha\":0.4,\"line_color\":\"black\",\"right\":13.5},\"id\":\"1202\",\"type\":\"BoxAnnotation\"},{\"attributes\":{\"coordinates\":null,\"fill_color\":null,\"group\":null,\"left\":13.5,\"level\":\"underlay\",\"line_alpha\":0.4,\"line_color\":\"black\",\"right\":14.25},\"id\":\"1203\",\"type\":\"BoxAnnotation\"},{\"attributes\":{\"coordinates\":null,\"fill_color\":null,\"group\":null,\"left\":14.25,\"level\":\"underlay\",\"line_alpha\":0.4,\"line_color\":\"black\",\"right\":15.0},\"id\":\"1204\",\"type\":\"BoxAnnotation\"},{\"attributes\":{\"coordinates\":null,\"fill_color\":null,\"group\":null,\"left\":15.0,\"level\":\"underlay\",\"line_alpha\":0.4,\"line_color\":\"black\",\"right\":15.75},\"id\":\"1205\",\"type\":\"BoxAnnotation\"},{\"attributes\":{\"coordinates\":null,\"fill_color\":null,\"group\":null,\"left\":15.75,\"level\":\"underlay\",\"line_alpha\":0.4,\"line_color\":\"black\",\"right\":16.5},\"id\":\"1206\",\"type\":\"BoxAnnotation\"},{\"attributes\":{\"coordinates\":null,\"fill_color\":null,\"group\":null,\"left\":16.5,\"level\":\"underlay\",\"line_alpha\":0.4,\"line_color\":\"black\",\"right\":17.25},\"id\":\"1207\",\"type\":\"BoxAnnotation\"},{\"attributes\":{\"coordinates\":null,\"fill_color\":null,\"group\":null,\"left\":17.25,\"level\":\"underlay\",\"line_alpha\":0.4,\"line_color\":\"black\",\"right\":18.0},\"id\":\"1208\",\"type\":\"BoxAnnotation\"},{\"attributes\":{\"coordinates\":null,\"fill_color\":null,\"group\":null,\"left\":18.0,\"level\":\"underlay\",\"line_alpha\":0.4,\"line_color\":\"black\",\"right\":18.75},\"id\":\"1209\",\"type\":\"BoxAnnotation\"},{\"attributes\":{\"coordinates\":null,\"fill_color\":null,\"group\":null,\"left\":18.75,\"level\":\"underlay\",\"line_alpha\":0.4,\"line_color\":\"black\",\"right\":19.5},\"id\":\"1210\",\"type\":\"BoxAnnotation\"},{\"attributes\":{\"coordinates\":null,\"fill_color\":null,\"group\":null,\"left\":19.5,\"level\":\"underlay\",\"line_alpha\":0.4,\"line_color\":\"black\",\"right\":20.25},\"id\":\"1211\",\"type\":\"BoxAnnotation\"},{\"attributes\":{\"coordinates\":null,\"fill_color\":null,\"group\":null,\"left\":20.25,\"level\":\"underlay\",\"line_alpha\":0.4,\"line_color\":\"black\",\"right\":21.0},\"id\":\"1212\",\"type\":\"BoxAnnotation\"},{\"attributes\":{\"coordinates\":null,\"fill_color\":null,\"group\":null,\"left\":21.0,\"level\":\"underlay\",\"line_alpha\":0.4,\"line_color\":\"black\",\"right\":21.75},\"id\":\"1213\",\"type\":\"BoxAnnotation\"},{\"attributes\":{\"coordinates\":null,\"fill_color\":null,\"group\":null,\"left\":21.75,\"level\":\"underlay\",\"line_alpha\":0.4,\"line_color\":\"black\",\"right\":22.5},\"id\":\"1214\",\"type\":\"BoxAnnotation\"},{\"attributes\":{\"coordinates\":null,\"fill_color\":null,\"group\":null,\"left\":22.5,\"level\":\"underlay\",\"line_alpha\":0.4,\"line_color\":\"black\",\"right\":23.25},\"id\":\"1215\",\"type\":\"BoxAnnotation\"},{\"attributes\":{\"coordinates\":null,\"fill_color\":null,\"group\":null,\"left\":23.25,\"level\":\"underlay\",\"line_alpha\":0.4,\"line_color\":\"black\",\"right\":24.0},\"id\":\"1216\",\"type\":\"BoxAnnotation\"},{\"attributes\":{\"coordinates\":null,\"fill_color\":null,\"group\":null,\"left\":24.0,\"level\":\"underlay\",\"line_alpha\":0.4,\"line_color\":\"black\",\"right\":24.75},\"id\":\"1217\",\"type\":\"BoxAnnotation\"},{\"attributes\":{\"coordinates\":null,\"fill_color\":null,\"group\":null,\"left\":24.75,\"level\":\"underlay\",\"line_alpha\":0.4,\"line_color\":\"black\",\"right\":25.5},\"id\":\"1218\",\"type\":\"BoxAnnotation\"},{\"attributes\":{\"coordinates\":null,\"fill_color\":null,\"group\":null,\"left\":25.5,\"level\":\"underlay\",\"line_alpha\":0.4,\"line_color\":\"black\",\"right\":26.25},\"id\":\"1219\",\"type\":\"BoxAnnotation\"},{\"attributes\":{\"coordinates\":null,\"fill_color\":null,\"group\":null,\"left\":26.25,\"level\":\"underlay\",\"line_alpha\":0.4,\"line_color\":\"black\",\"right\":27.0},\"id\":\"1220\",\"type\":\"BoxAnnotation\"},{\"attributes\":{\"coordinates\":null,\"fill_color\":null,\"group\":null,\"left\":27.0,\"level\":\"underlay\",\"line_alpha\":0.4,\"line_color\":\"black\",\"right\":27.75},\"id\":\"1221\",\"type\":\"BoxAnnotation\"},{\"attributes\":{\"coordinates\":null,\"fill_color\":null,\"group\":null,\"left\":27.75,\"level\":\"underlay\",\"line_alpha\":0.4,\"line_color\":\"black\",\"right\":28.5},\"id\":\"1222\",\"type\":\"BoxAnnotation\"},{\"attributes\":{\"coordinates\":null,\"fill_color\":null,\"group\":null,\"left\":28.5,\"level\":\"underlay\",\"line_alpha\":0.4,\"line_color\":\"black\",\"right\":29.25},\"id\":\"1223\",\"type\":\"BoxAnnotation\"},{\"attributes\":{\"coordinates\":null,\"fill_color\":null,\"group\":null,\"left\":29.25,\"level\":\"underlay\",\"line_alpha\":0.4,\"line_color\":\"black\",\"right\":30.0},\"id\":\"1224\",\"type\":\"BoxAnnotation\"},{\"attributes\":{\"coordinates\":null,\"fill_color\":null,\"group\":null,\"left\":30.0,\"level\":\"underlay\",\"line_alpha\":0.4,\"line_color\":\"black\",\"right\":30.75},\"id\":\"1225\",\"type\":\"BoxAnnotation\"},{\"attributes\":{\"coordinates\":null,\"fill_color\":null,\"group\":null,\"left\":30.75,\"level\":\"underlay\",\"line_alpha\":0.4,\"line_color\":\"black\",\"right\":31.5},\"id\":\"1226\",\"type\":\"BoxAnnotation\"},{\"attributes\":{\"coordinates\":null,\"fill_color\":null,\"group\":null,\"left\":31.5,\"level\":\"underlay\",\"line_alpha\":0.4,\"line_color\":\"black\",\"right\":32.25},\"id\":\"1227\",\"type\":\"BoxAnnotation\"},{\"attributes\":{\"coordinates\":null,\"fill_color\":null,\"group\":null,\"left\":32.25,\"level\":\"underlay\",\"line_alpha\":0.4,\"line_color\":\"black\",\"right\":33.0},\"id\":\"1228\",\"type\":\"BoxAnnotation\"},{\"attributes\":{\"coordinates\":null,\"fill_color\":null,\"group\":null,\"left\":33.0,\"level\":\"underlay\",\"line_alpha\":0.4,\"line_color\":\"black\",\"right\":33.75},\"id\":\"1229\",\"type\":\"BoxAnnotation\"},{\"attributes\":{\"coordinates\":null,\"fill_color\":null,\"group\":null,\"left\":36.0,\"level\":\"underlay\",\"line_alpha\":0.4,\"line_color\":\"black\",\"right\":36.75},\"id\":\"1233\",\"type\":\"BoxAnnotation\"},{\"attributes\":{\"coordinates\":null,\"fill_color\":null,\"group\":null,\"left\":33.75,\"level\":\"underlay\",\"line_alpha\":0.4,\"line_color\":\"black\",\"right\":34.5},\"id\":\"1230\",\"type\":\"BoxAnnotation\"},{\"attributes\":{\"bottom\":{\"field\":\"bottom\"},\"fill_alpha\":{\"value\":0.1},\"fill_color\":{\"field\":\"color\"},\"hatch_alpha\":{\"value\":0.1},\"hatch_color\":{\"field\":\"color\"},\"left\":{\"field\":\"left\"},\"line_alpha\":{\"value\":0.1},\"right\":{\"field\":\"right\"},\"top\":{\"field\":\"top\"}},\"id\":\"1041\",\"type\":\"Quad\"},{\"attributes\":{\"coordinates\":null,\"fill_color\":null,\"group\":null,\"left\":34.5,\"level\":\"underlay\",\"line_alpha\":0.4,\"line_color\":\"black\",\"right\":35.25},\"id\":\"1231\",\"type\":\"BoxAnnotation\"},{\"attributes\":{\"coordinates\":null,\"fill_color\":null,\"group\":null,\"left\":37.5,\"level\":\"underlay\",\"line_alpha\":0.4,\"line_color\":\"black\",\"right\":38.25},\"id\":\"1235\",\"type\":\"BoxAnnotation\"},{\"attributes\":{\"coordinates\":null,\"fill_color\":null,\"group\":null,\"left\":35.25,\"level\":\"underlay\",\"line_alpha\":0.4,\"line_color\":\"black\",\"right\":36.0},\"id\":\"1232\",\"type\":\"BoxAnnotation\"},{\"attributes\":{\"coordinates\":null,\"fill_color\":null,\"group\":null,\"left\":36.75,\"level\":\"underlay\",\"line_alpha\":0.4,\"line_color\":\"black\",\"right\":37.5},\"id\":\"1234\",\"type\":\"BoxAnnotation\"}],\"root_ids\":[\"1535\"]},\"title\":\"Bokeh Application\",\"version\":\"2.4.2\"}};\n",
       "  const render_items = [{\"docid\":\"e83eec55-e79c-49dd-9d1f-75fe44c582df\",\"root_ids\":[\"1535\"],\"roots\":{\"1535\":\"403b72af-ac78-4cc2-9e49-d630b7166bcf\"}}];\n",
       "  root.Bokeh.embed.embed_items_notebook(docs_json, render_items);\n",
       "\n",
       "  }\n",
       "  if (root.Bokeh !== undefined) {\n",
       "    embed_document(root);\n",
       "  } else {\n",
       "    let attempts = 0;\n",
       "    const timer = setInterval(function(root) {\n",
       "      if (root.Bokeh !== undefined) {\n",
       "        clearInterval(timer);\n",
       "        embed_document(root);\n",
       "      } else {\n",
       "        attempts++;\n",
       "        if (attempts > 100) {\n",
       "          clearInterval(timer);\n",
       "          console.log(\"Bokeh: ERROR: Unable to run BokehJS code because BokehJS library is missing\");\n",
       "        }\n",
       "      }\n",
       "    }, 10, root)\n",
       "  }\n",
       "})(window);"
      ],
      "application/vnd.bokehjs_exec.v0+json": ""
     },
     "metadata": {
      "application/vnd.bokehjs_exec.v0+json": {
       "id": "1535"
      }
     },
     "output_type": "display_data"
    },
    {
     "data": {
      "text/html": [
       "<div style=\"display: table;\"><div style=\"display: table-row;\"><div style=\"display: table-cell;\"><b title=\"bokeh.models.layouts.Column\">Column</b>(</div><div style=\"display: table-cell;\">id&nbsp;=&nbsp;'1535', <span id=\"1580\" style=\"cursor: pointer;\">&hellip;)</span></div></div><div class=\"1579\" style=\"display: none;\"><div style=\"display: table-cell;\"></div><div style=\"display: table-cell;\">align&nbsp;=&nbsp;'start',</div></div><div class=\"1579\" style=\"display: none;\"><div style=\"display: table-cell;\"></div><div style=\"display: table-cell;\">aspect_ratio&nbsp;=&nbsp;None,</div></div><div class=\"1579\" style=\"display: none;\"><div style=\"display: table-cell;\"></div><div style=\"display: table-cell;\">background&nbsp;=&nbsp;None,</div></div><div class=\"1579\" style=\"display: none;\"><div style=\"display: table-cell;\"></div><div style=\"display: table-cell;\">children&nbsp;=&nbsp;[Figure(id='1002', ...)],</div></div><div class=\"1579\" style=\"display: none;\"><div style=\"display: table-cell;\"></div><div style=\"display: table-cell;\">css_classes&nbsp;=&nbsp;[],</div></div><div class=\"1579\" style=\"display: none;\"><div style=\"display: table-cell;\"></div><div style=\"display: table-cell;\">disabled&nbsp;=&nbsp;False,</div></div><div class=\"1579\" style=\"display: none;\"><div style=\"display: table-cell;\"></div><div style=\"display: table-cell;\">height&nbsp;=&nbsp;None,</div></div><div class=\"1579\" style=\"display: none;\"><div style=\"display: table-cell;\"></div><div style=\"display: table-cell;\">height_policy&nbsp;=&nbsp;'auto',</div></div><div class=\"1579\" style=\"display: none;\"><div style=\"display: table-cell;\"></div><div style=\"display: table-cell;\">js_event_callbacks&nbsp;=&nbsp;{},</div></div><div class=\"1579\" style=\"display: none;\"><div style=\"display: table-cell;\"></div><div style=\"display: table-cell;\">js_property_callbacks&nbsp;=&nbsp;{},</div></div><div class=\"1579\" style=\"display: none;\"><div style=\"display: table-cell;\"></div><div style=\"display: table-cell;\">margin&nbsp;=&nbsp;(0, 0, 0, 0),</div></div><div class=\"1579\" style=\"display: none;\"><div style=\"display: table-cell;\"></div><div style=\"display: table-cell;\">max_height&nbsp;=&nbsp;None,</div></div><div class=\"1579\" style=\"display: none;\"><div style=\"display: table-cell;\"></div><div style=\"display: table-cell;\">max_width&nbsp;=&nbsp;None,</div></div><div class=\"1579\" style=\"display: none;\"><div style=\"display: table-cell;\"></div><div style=\"display: table-cell;\">min_height&nbsp;=&nbsp;None,</div></div><div class=\"1579\" style=\"display: none;\"><div style=\"display: table-cell;\"></div><div style=\"display: table-cell;\">min_width&nbsp;=&nbsp;None,</div></div><div class=\"1579\" style=\"display: none;\"><div style=\"display: table-cell;\"></div><div style=\"display: table-cell;\">name&nbsp;=&nbsp;None,</div></div><div class=\"1579\" style=\"display: none;\"><div style=\"display: table-cell;\"></div><div style=\"display: table-cell;\">rows&nbsp;=&nbsp;'auto',</div></div><div class=\"1579\" style=\"display: none;\"><div style=\"display: table-cell;\"></div><div style=\"display: table-cell;\">sizing_mode&nbsp;=&nbsp;None,</div></div><div class=\"1579\" style=\"display: none;\"><div style=\"display: table-cell;\"></div><div style=\"display: table-cell;\">spacing&nbsp;=&nbsp;0,</div></div><div class=\"1579\" style=\"display: none;\"><div style=\"display: table-cell;\"></div><div style=\"display: table-cell;\">subscribed_events&nbsp;=&nbsp;[],</div></div><div class=\"1579\" style=\"display: none;\"><div style=\"display: table-cell;\"></div><div style=\"display: table-cell;\">syncable&nbsp;=&nbsp;True,</div></div><div class=\"1579\" style=\"display: none;\"><div style=\"display: table-cell;\"></div><div style=\"display: table-cell;\">tags&nbsp;=&nbsp;[],</div></div><div class=\"1579\" style=\"display: none;\"><div style=\"display: table-cell;\"></div><div style=\"display: table-cell;\">visible&nbsp;=&nbsp;True,</div></div><div class=\"1579\" style=\"display: none;\"><div style=\"display: table-cell;\"></div><div style=\"display: table-cell;\">width&nbsp;=&nbsp;None,</div></div><div class=\"1579\" style=\"display: none;\"><div style=\"display: table-cell;\"></div><div style=\"display: table-cell;\">width_policy&nbsp;=&nbsp;'auto')</div></div></div>\n",
       "<script>\n",
       "(function() {\n",
       "  let expanded = false;\n",
       "  const ellipsis = document.getElementById(\"1580\");\n",
       "  ellipsis.addEventListener(\"click\", function() {\n",
       "    const rows = document.getElementsByClassName(\"1579\");\n",
       "    for (let i = 0; i < rows.length; i++) {\n",
       "      const el = rows[i];\n",
       "      el.style.display = expanded ? \"none\" : \"table-row\";\n",
       "    }\n",
       "    ellipsis.innerHTML = expanded ? \"&hellip;)\" : \"&lsaquo;&lsaquo;&lsaquo;\";\n",
       "    expanded = !expanded;\n",
       "  });\n",
       "})();\n",
       "</script>\n"
      ],
      "text/plain": [
       "Column(id='1535', ...)"
      ]
     },
     "execution_count": 2,
     "metadata": {},
     "output_type": "execute_result"
    }
   ],
   "source": [
    "%%capture --no-display\n",
    "\n",
    "from visual_midi import Plotter\n",
    "from visual_midi import Preset\n",
    "from pretty_midi import PrettyMIDI\n",
    "\n",
    "pm = joblib.load('../raw_data/pretty_midi/Addicted')\n",
    "\n",
    "preset = Preset(plot_width=850)\n",
    "plotter = Plotter(preset) #, plot_max_length_bar=4\n",
    "\n",
    "plotter.show_notebook(pm)"
   ]
  },
  {
   "cell_type": "code",
   "execution_count": 3,
   "id": "24ebb196",
   "metadata": {
    "hidden": true
   },
   "outputs": [],
   "source": [
    "pm_piano = pm.get_piano_roll()"
   ]
  },
  {
   "cell_type": "code",
   "execution_count": 4,
   "id": "b69466d8",
   "metadata": {
    "hidden": true,
    "scrolled": true
   },
   "outputs": [
    {
     "data": {
      "text/plain": [
       "['test']"
      ]
     },
     "execution_count": 4,
     "metadata": {},
     "output_type": "execute_result"
    }
   ],
   "source": [
    "joblib.dump(pm, 'test')"
   ]
  },
  {
   "cell_type": "code",
   "execution_count": 5,
   "id": "98a7c031",
   "metadata": {
    "hidden": true
   },
   "outputs": [],
   "source": [
    "test = joblib.load('test')"
   ]
  },
  {
   "cell_type": "code",
   "execution_count": 6,
   "id": "3d5cfb31",
   "metadata": {
    "hidden": true,
    "scrolled": true
   },
   "outputs": [
    {
     "data": {
      "text/plain": [
       "pretty_midi.pretty_midi.PrettyMIDI"
      ]
     },
     "execution_count": 6,
     "metadata": {},
     "output_type": "execute_result"
    }
   ],
   "source": [
    "type(test)"
   ]
  },
  {
   "cell_type": "code",
   "execution_count": 7,
   "id": "c6c465c7",
   "metadata": {
    "hidden": true,
    "scrolled": true
   },
   "outputs": [
    {
     "data": {
      "text/html": [
       "\n",
       "    <div class=\"bk-root\">\n",
       "        <a href=\"https://bokeh.org\" target=\"_blank\" class=\"bk-logo bk-logo-small bk-logo-notebook\"></a>\n",
       "        <span id=\"2115\">Loading BokehJS ...</span>\n",
       "    </div>"
      ]
     },
     "metadata": {},
     "output_type": "display_data"
    },
    {
     "data": {
      "application/javascript": [
       "\n",
       "(function(root) {\n",
       "  function now() {\n",
       "    return new Date();\n",
       "  }\n",
       "\n",
       "  const force = true;\n",
       "\n",
       "  if (typeof root._bokeh_onload_callbacks === \"undefined\" || force === true) {\n",
       "    root._bokeh_onload_callbacks = [];\n",
       "    root._bokeh_is_loading = undefined;\n",
       "  }\n",
       "\n",
       "  const JS_MIME_TYPE = 'application/javascript';\n",
       "  const HTML_MIME_TYPE = 'text/html';\n",
       "  const EXEC_MIME_TYPE = 'application/vnd.bokehjs_exec.v0+json';\n",
       "  const CLASS_NAME = 'output_bokeh rendered_html';\n",
       "\n",
       "  /**\n",
       "   * Render data to the DOM node\n",
       "   */\n",
       "  function render(props, node) {\n",
       "    const script = document.createElement(\"script\");\n",
       "    node.appendChild(script);\n",
       "  }\n",
       "\n",
       "  /**\n",
       "   * Handle when an output is cleared or removed\n",
       "   */\n",
       "  function handleClearOutput(event, handle) {\n",
       "    const cell = handle.cell;\n",
       "\n",
       "    const id = cell.output_area._bokeh_element_id;\n",
       "    const server_id = cell.output_area._bokeh_server_id;\n",
       "    // Clean up Bokeh references\n",
       "    if (id != null && id in Bokeh.index) {\n",
       "      Bokeh.index[id].model.document.clear();\n",
       "      delete Bokeh.index[id];\n",
       "    }\n",
       "\n",
       "    if (server_id !== undefined) {\n",
       "      // Clean up Bokeh references\n",
       "      const cmd_clean = \"from bokeh.io.state import curstate; print(curstate().uuid_to_server['\" + server_id + \"'].get_sessions()[0].document.roots[0]._id)\";\n",
       "      cell.notebook.kernel.execute(cmd_clean, {\n",
       "        iopub: {\n",
       "          output: function(msg) {\n",
       "            const id = msg.content.text.trim();\n",
       "            if (id in Bokeh.index) {\n",
       "              Bokeh.index[id].model.document.clear();\n",
       "              delete Bokeh.index[id];\n",
       "            }\n",
       "          }\n",
       "        }\n",
       "      });\n",
       "      // Destroy server and session\n",
       "      const cmd_destroy = \"import bokeh.io.notebook as ion; ion.destroy_server('\" + server_id + \"')\";\n",
       "      cell.notebook.kernel.execute(cmd_destroy);\n",
       "    }\n",
       "  }\n",
       "\n",
       "  /**\n",
       "   * Handle when a new output is added\n",
       "   */\n",
       "  function handleAddOutput(event, handle) {\n",
       "    const output_area = handle.output_area;\n",
       "    const output = handle.output;\n",
       "\n",
       "    // limit handleAddOutput to display_data with EXEC_MIME_TYPE content only\n",
       "    if ((output.output_type != \"display_data\") || (!Object.prototype.hasOwnProperty.call(output.data, EXEC_MIME_TYPE))) {\n",
       "      return\n",
       "    }\n",
       "\n",
       "    const toinsert = output_area.element.find(\".\" + CLASS_NAME.split(' ')[0]);\n",
       "\n",
       "    if (output.metadata[EXEC_MIME_TYPE][\"id\"] !== undefined) {\n",
       "      toinsert[toinsert.length - 1].firstChild.textContent = output.data[JS_MIME_TYPE];\n",
       "      // store reference to embed id on output_area\n",
       "      output_area._bokeh_element_id = output.metadata[EXEC_MIME_TYPE][\"id\"];\n",
       "    }\n",
       "    if (output.metadata[EXEC_MIME_TYPE][\"server_id\"] !== undefined) {\n",
       "      const bk_div = document.createElement(\"div\");\n",
       "      bk_div.innerHTML = output.data[HTML_MIME_TYPE];\n",
       "      const script_attrs = bk_div.children[0].attributes;\n",
       "      for (let i = 0; i < script_attrs.length; i++) {\n",
       "        toinsert[toinsert.length - 1].firstChild.setAttribute(script_attrs[i].name, script_attrs[i].value);\n",
       "        toinsert[toinsert.length - 1].firstChild.textContent = bk_div.children[0].textContent\n",
       "      }\n",
       "      // store reference to server id on output_area\n",
       "      output_area._bokeh_server_id = output.metadata[EXEC_MIME_TYPE][\"server_id\"];\n",
       "    }\n",
       "  }\n",
       "\n",
       "  function register_renderer(events, OutputArea) {\n",
       "\n",
       "    function append_mime(data, metadata, element) {\n",
       "      // create a DOM node to render to\n",
       "      const toinsert = this.create_output_subarea(\n",
       "        metadata,\n",
       "        CLASS_NAME,\n",
       "        EXEC_MIME_TYPE\n",
       "      );\n",
       "      this.keyboard_manager.register_events(toinsert);\n",
       "      // Render to node\n",
       "      const props = {data: data, metadata: metadata[EXEC_MIME_TYPE]};\n",
       "      render(props, toinsert[toinsert.length - 1]);\n",
       "      element.append(toinsert);\n",
       "      return toinsert\n",
       "    }\n",
       "\n",
       "    /* Handle when an output is cleared or removed */\n",
       "    events.on('clear_output.CodeCell', handleClearOutput);\n",
       "    events.on('delete.Cell', handleClearOutput);\n",
       "\n",
       "    /* Handle when a new output is added */\n",
       "    events.on('output_added.OutputArea', handleAddOutput);\n",
       "\n",
       "    /**\n",
       "     * Register the mime type and append_mime function with output_area\n",
       "     */\n",
       "    OutputArea.prototype.register_mime_type(EXEC_MIME_TYPE, append_mime, {\n",
       "      /* Is output safe? */\n",
       "      safe: true,\n",
       "      /* Index of renderer in `output_area.display_order` */\n",
       "      index: 0\n",
       "    });\n",
       "  }\n",
       "\n",
       "  // register the mime type if in Jupyter Notebook environment and previously unregistered\n",
       "  if (root.Jupyter !== undefined) {\n",
       "    const events = require('base/js/events');\n",
       "    const OutputArea = require('notebook/js/outputarea').OutputArea;\n",
       "\n",
       "    if (OutputArea.prototype.mime_types().indexOf(EXEC_MIME_TYPE) == -1) {\n",
       "      register_renderer(events, OutputArea);\n",
       "    }\n",
       "  }\n",
       "\n",
       "  \n",
       "  if (typeof (root._bokeh_timeout) === \"undefined\" || force === true) {\n",
       "    root._bokeh_timeout = Date.now() + 5000;\n",
       "    root._bokeh_failed_load = false;\n",
       "  }\n",
       "\n",
       "  const NB_LOAD_WARNING = {'data': {'text/html':\n",
       "     \"<div style='background-color: #fdd'>\\n\"+\n",
       "     \"<p>\\n\"+\n",
       "     \"BokehJS does not appear to have successfully loaded. If loading BokehJS from CDN, this \\n\"+\n",
       "     \"may be due to a slow or bad network connection. Possible fixes:\\n\"+\n",
       "     \"</p>\\n\"+\n",
       "     \"<ul>\\n\"+\n",
       "     \"<li>re-rerun `output_notebook()` to attempt to load from CDN again, or</li>\\n\"+\n",
       "     \"<li>use INLINE resources instead, as so:</li>\\n\"+\n",
       "     \"</ul>\\n\"+\n",
       "     \"<code>\\n\"+\n",
       "     \"from bokeh.resources import INLINE\\n\"+\n",
       "     \"output_notebook(resources=INLINE)\\n\"+\n",
       "     \"</code>\\n\"+\n",
       "     \"</div>\"}};\n",
       "\n",
       "  function display_loaded() {\n",
       "    const el = document.getElementById(\"2115\");\n",
       "    if (el != null) {\n",
       "      el.textContent = \"BokehJS is loading...\";\n",
       "    }\n",
       "    if (root.Bokeh !== undefined) {\n",
       "      if (el != null) {\n",
       "        el.textContent = \"BokehJS \" + root.Bokeh.version + \" successfully loaded.\";\n",
       "      }\n",
       "    } else if (Date.now() < root._bokeh_timeout) {\n",
       "      setTimeout(display_loaded, 100)\n",
       "    }\n",
       "  }\n",
       "\n",
       "\n",
       "  function run_callbacks() {\n",
       "    try {\n",
       "      root._bokeh_onload_callbacks.forEach(function(callback) {\n",
       "        if (callback != null)\n",
       "          callback();\n",
       "      });\n",
       "    } finally {\n",
       "      delete root._bokeh_onload_callbacks\n",
       "    }\n",
       "    console.debug(\"Bokeh: all callbacks have finished\");\n",
       "  }\n",
       "\n",
       "  function load_libs(css_urls, js_urls, callback) {\n",
       "    if (css_urls == null) css_urls = [];\n",
       "    if (js_urls == null) js_urls = [];\n",
       "\n",
       "    root._bokeh_onload_callbacks.push(callback);\n",
       "    if (root._bokeh_is_loading > 0) {\n",
       "      console.debug(\"Bokeh: BokehJS is being loaded, scheduling callback at\", now());\n",
       "      return null;\n",
       "    }\n",
       "    if (js_urls == null || js_urls.length === 0) {\n",
       "      run_callbacks();\n",
       "      return null;\n",
       "    }\n",
       "    console.debug(\"Bokeh: BokehJS not loaded, scheduling load and callback at\", now());\n",
       "    root._bokeh_is_loading = css_urls.length + js_urls.length;\n",
       "\n",
       "    function on_load() {\n",
       "      root._bokeh_is_loading--;\n",
       "      if (root._bokeh_is_loading === 0) {\n",
       "        console.debug(\"Bokeh: all BokehJS libraries/stylesheets loaded\");\n",
       "        run_callbacks()\n",
       "      }\n",
       "    }\n",
       "\n",
       "    function on_error(url) {\n",
       "      console.error(\"failed to load \" + url);\n",
       "    }\n",
       "\n",
       "    for (let i = 0; i < css_urls.length; i++) {\n",
       "      const url = css_urls[i];\n",
       "      const element = document.createElement(\"link\");\n",
       "      element.onload = on_load;\n",
       "      element.onerror = on_error.bind(null, url);\n",
       "      element.rel = \"stylesheet\";\n",
       "      element.type = \"text/css\";\n",
       "      element.href = url;\n",
       "      console.debug(\"Bokeh: injecting link tag for BokehJS stylesheet: \", url);\n",
       "      document.body.appendChild(element);\n",
       "    }\n",
       "\n",
       "    for (let i = 0; i < js_urls.length; i++) {\n",
       "      const url = js_urls[i];\n",
       "      const element = document.createElement('script');\n",
       "      element.onload = on_load;\n",
       "      element.onerror = on_error.bind(null, url);\n",
       "      element.async = false;\n",
       "      element.src = url;\n",
       "      console.debug(\"Bokeh: injecting script tag for BokehJS library: \", url);\n",
       "      document.head.appendChild(element);\n",
       "    }\n",
       "  };\n",
       "\n",
       "  function inject_raw_css(css) {\n",
       "    const element = document.createElement(\"style\");\n",
       "    element.appendChild(document.createTextNode(css));\n",
       "    document.body.appendChild(element);\n",
       "  }\n",
       "\n",
       "  \n",
       "  const js_urls = [\"https://cdn.bokeh.org/bokeh/release/bokeh-2.4.2.min.js\", \"https://cdn.bokeh.org/bokeh/release/bokeh-gl-2.4.2.min.js\", \"https://cdn.bokeh.org/bokeh/release/bokeh-widgets-2.4.2.min.js\", \"https://cdn.bokeh.org/bokeh/release/bokeh-tables-2.4.2.min.js\", \"https://cdn.bokeh.org/bokeh/release/bokeh-mathjax-2.4.2.min.js\"];\n",
       "  const css_urls = [];\n",
       "  \n",
       "\n",
       "  const inline_js = [\n",
       "    function(Bokeh) {\n",
       "      Bokeh.set_log_level(\"info\");\n",
       "    },\n",
       "    function(Bokeh) {\n",
       "    \n",
       "    \n",
       "    }\n",
       "  ];\n",
       "\n",
       "  function run_inline_js() {\n",
       "    \n",
       "    if (root.Bokeh !== undefined || force === true) {\n",
       "      \n",
       "    for (let i = 0; i < inline_js.length; i++) {\n",
       "      inline_js[i].call(root, root.Bokeh);\n",
       "    }\n",
       "    if (force === true) {\n",
       "        display_loaded();\n",
       "      }} else if (Date.now() < root._bokeh_timeout) {\n",
       "      setTimeout(run_inline_js, 100);\n",
       "    } else if (!root._bokeh_failed_load) {\n",
       "      console.log(\"Bokeh: BokehJS failed to load within specified timeout.\");\n",
       "      root._bokeh_failed_load = true;\n",
       "    } else if (force !== true) {\n",
       "      const cell = $(document.getElementById(\"2115\")).parents('.cell').data().cell;\n",
       "      cell.output_area.append_execute_result(NB_LOAD_WARNING)\n",
       "    }\n",
       "\n",
       "  }\n",
       "\n",
       "  if (root._bokeh_is_loading === 0) {\n",
       "    console.debug(\"Bokeh: BokehJS loaded, going straight to plotting\");\n",
       "    run_inline_js();\n",
       "  } else {\n",
       "    load_libs(css_urls, js_urls, function() {\n",
       "      console.debug(\"Bokeh: BokehJS plotting callback run at\", now());\n",
       "      run_inline_js();\n",
       "    });\n",
       "  }\n",
       "}(window));"
      ],
      "application/vnd.bokehjs_load.v0+json": "\n(function(root) {\n  function now() {\n    return new Date();\n  }\n\n  const force = true;\n\n  if (typeof root._bokeh_onload_callbacks === \"undefined\" || force === true) {\n    root._bokeh_onload_callbacks = [];\n    root._bokeh_is_loading = undefined;\n  }\n\n  \n\n  \n  if (typeof (root._bokeh_timeout) === \"undefined\" || force === true) {\n    root._bokeh_timeout = Date.now() + 5000;\n    root._bokeh_failed_load = false;\n  }\n\n  const NB_LOAD_WARNING = {'data': {'text/html':\n     \"<div style='background-color: #fdd'>\\n\"+\n     \"<p>\\n\"+\n     \"BokehJS does not appear to have successfully loaded. If loading BokehJS from CDN, this \\n\"+\n     \"may be due to a slow or bad network connection. Possible fixes:\\n\"+\n     \"</p>\\n\"+\n     \"<ul>\\n\"+\n     \"<li>re-rerun `output_notebook()` to attempt to load from CDN again, or</li>\\n\"+\n     \"<li>use INLINE resources instead, as so:</li>\\n\"+\n     \"</ul>\\n\"+\n     \"<code>\\n\"+\n     \"from bokeh.resources import INLINE\\n\"+\n     \"output_notebook(resources=INLINE)\\n\"+\n     \"</code>\\n\"+\n     \"</div>\"}};\n\n  function display_loaded() {\n    const el = document.getElementById(\"2115\");\n    if (el != null) {\n      el.textContent = \"BokehJS is loading...\";\n    }\n    if (root.Bokeh !== undefined) {\n      if (el != null) {\n        el.textContent = \"BokehJS \" + root.Bokeh.version + \" successfully loaded.\";\n      }\n    } else if (Date.now() < root._bokeh_timeout) {\n      setTimeout(display_loaded, 100)\n    }\n  }\n\n\n  function run_callbacks() {\n    try {\n      root._bokeh_onload_callbacks.forEach(function(callback) {\n        if (callback != null)\n          callback();\n      });\n    } finally {\n      delete root._bokeh_onload_callbacks\n    }\n    console.debug(\"Bokeh: all callbacks have finished\");\n  }\n\n  function load_libs(css_urls, js_urls, callback) {\n    if (css_urls == null) css_urls = [];\n    if (js_urls == null) js_urls = [];\n\n    root._bokeh_onload_callbacks.push(callback);\n    if (root._bokeh_is_loading > 0) {\n      console.debug(\"Bokeh: BokehJS is being loaded, scheduling callback at\", now());\n      return null;\n    }\n    if (js_urls == null || js_urls.length === 0) {\n      run_callbacks();\n      return null;\n    }\n    console.debug(\"Bokeh: BokehJS not loaded, scheduling load and callback at\", now());\n    root._bokeh_is_loading = css_urls.length + js_urls.length;\n\n    function on_load() {\n      root._bokeh_is_loading--;\n      if (root._bokeh_is_loading === 0) {\n        console.debug(\"Bokeh: all BokehJS libraries/stylesheets loaded\");\n        run_callbacks()\n      }\n    }\n\n    function on_error(url) {\n      console.error(\"failed to load \" + url);\n    }\n\n    for (let i = 0; i < css_urls.length; i++) {\n      const url = css_urls[i];\n      const element = document.createElement(\"link\");\n      element.onload = on_load;\n      element.onerror = on_error.bind(null, url);\n      element.rel = \"stylesheet\";\n      element.type = \"text/css\";\n      element.href = url;\n      console.debug(\"Bokeh: injecting link tag for BokehJS stylesheet: \", url);\n      document.body.appendChild(element);\n    }\n\n    for (let i = 0; i < js_urls.length; i++) {\n      const url = js_urls[i];\n      const element = document.createElement('script');\n      element.onload = on_load;\n      element.onerror = on_error.bind(null, url);\n      element.async = false;\n      element.src = url;\n      console.debug(\"Bokeh: injecting script tag for BokehJS library: \", url);\n      document.head.appendChild(element);\n    }\n  };\n\n  function inject_raw_css(css) {\n    const element = document.createElement(\"style\");\n    element.appendChild(document.createTextNode(css));\n    document.body.appendChild(element);\n  }\n\n  \n  const js_urls = [\"https://cdn.bokeh.org/bokeh/release/bokeh-2.4.2.min.js\", \"https://cdn.bokeh.org/bokeh/release/bokeh-gl-2.4.2.min.js\", \"https://cdn.bokeh.org/bokeh/release/bokeh-widgets-2.4.2.min.js\", \"https://cdn.bokeh.org/bokeh/release/bokeh-tables-2.4.2.min.js\", \"https://cdn.bokeh.org/bokeh/release/bokeh-mathjax-2.4.2.min.js\"];\n  const css_urls = [];\n  \n\n  const inline_js = [\n    function(Bokeh) {\n      Bokeh.set_log_level(\"info\");\n    },\n    function(Bokeh) {\n    \n    \n    }\n  ];\n\n  function run_inline_js() {\n    \n    if (root.Bokeh !== undefined || force === true) {\n      \n    for (let i = 0; i < inline_js.length; i++) {\n      inline_js[i].call(root, root.Bokeh);\n    }\n    if (force === true) {\n        display_loaded();\n      }} else if (Date.now() < root._bokeh_timeout) {\n      setTimeout(run_inline_js, 100);\n    } else if (!root._bokeh_failed_load) {\n      console.log(\"Bokeh: BokehJS failed to load within specified timeout.\");\n      root._bokeh_failed_load = true;\n    } else if (force !== true) {\n      const cell = $(document.getElementById(\"2115\")).parents('.cell').data().cell;\n      cell.output_area.append_execute_result(NB_LOAD_WARNING)\n    }\n\n  }\n\n  if (root._bokeh_is_loading === 0) {\n    console.debug(\"Bokeh: BokehJS loaded, going straight to plotting\");\n    run_inline_js();\n  } else {\n    load_libs(css_urls, js_urls, function() {\n      console.debug(\"Bokeh: BokehJS plotting callback run at\", now());\n      run_inline_js();\n    });\n  }\n}(window));"
     },
     "metadata": {},
     "output_type": "display_data"
    },
    {
     "data": {
      "text/html": [
       "\n",
       "\n",
       "\n",
       "\n",
       "\n",
       "\n",
       "  <div class=\"bk-root\" id=\"86fc366f-29d9-476f-b2ed-65579bcb38e0\" data-root-id=\"2114\"></div>\n"
      ]
     },
     "metadata": {},
     "output_type": "display_data"
    },
    {
     "data": {
      "application/javascript": [
       "(function(root) {\n",
       "  function embed_document(root) {\n",
       "    \n",
       "  const docs_json = {\"4fbc8fd3-2b99-4389-931e-6739457b0777\":{\"defs\":[],\"roots\":{\"references\":[{\"attributes\":{\"children\":[{\"id\":\"1581\"}]},\"id\":\"2114\",\"type\":\"Column\"},{\"attributes\":{\"coordinates\":null,\"fill_color\":null,\"group\":null,\"left\":48.75,\"level\":\"underlay\",\"line_alpha\":0.4,\"line_color\":\"black\",\"right\":49.5},\"id\":\"1829\",\"type\":\"BoxAnnotation\"},{\"attributes\":{\"coordinates\":null,\"fill_color\":null,\"group\":null,\"left\":50.25,\"level\":\"underlay\",\"line_alpha\":0.4,\"line_color\":\"black\",\"right\":51.0},\"id\":\"1831\",\"type\":\"BoxAnnotation\"},{\"attributes\":{\"coordinates\":null,\"fill_color\":null,\"group\":null,\"left\":47.25,\"level\":\"underlay\",\"line_alpha\":0.4,\"line_color\":\"black\",\"right\":48.0},\"id\":\"1827\",\"type\":\"BoxAnnotation\"},{\"attributes\":{\"coordinates\":null,\"fill_color\":null,\"group\":null,\"left\":51.0,\"level\":\"underlay\",\"line_alpha\":0.4,\"line_color\":\"black\",\"right\":51.75},\"id\":\"1832\",\"type\":\"BoxAnnotation\"},{\"attributes\":{\"coordinates\":null,\"fill_color\":null,\"group\":null,\"left\":49.5,\"level\":\"underlay\",\"line_alpha\":0.4,\"line_color\":\"black\",\"right\":50.25},\"id\":\"1830\",\"type\":\"BoxAnnotation\"},{\"attributes\":{\"coordinates\":null,\"fill_color\":null,\"group\":null,\"left\":51.75,\"level\":\"underlay\",\"line_alpha\":0.4,\"line_color\":\"black\",\"right\":52.5},\"id\":\"1833\",\"type\":\"BoxAnnotation\"},{\"attributes\":{\"coordinates\":null,\"fill_color\":null,\"group\":null,\"left\":48.0,\"level\":\"underlay\",\"line_alpha\":0.4,\"line_color\":\"black\",\"right\":48.75},\"id\":\"1828\",\"type\":\"BoxAnnotation\"},{\"attributes\":{\"coordinates\":null,\"fill_color\":null,\"group\":null,\"left\":52.5,\"level\":\"underlay\",\"line_alpha\":0.4,\"line_color\":\"black\",\"right\":53.25},\"id\":\"1834\",\"type\":\"BoxAnnotation\"},{\"attributes\":{\"coordinates\":null,\"fill_color\":null,\"group\":null,\"left\":53.25,\"level\":\"underlay\",\"line_alpha\":0.4,\"line_color\":\"black\",\"right\":54.0},\"id\":\"1835\",\"type\":\"BoxAnnotation\"},{\"attributes\":{\"coordinates\":null,\"fill_color\":null,\"group\":null,\"left\":54.0,\"level\":\"underlay\",\"line_alpha\":0.4,\"line_color\":\"black\",\"right\":54.75},\"id\":\"1836\",\"type\":\"BoxAnnotation\"},{\"attributes\":{\"coordinates\":null,\"fill_color\":null,\"group\":null,\"left\":54.75,\"level\":\"underlay\",\"line_alpha\":0.4,\"line_color\":\"black\",\"right\":55.5},\"id\":\"1837\",\"type\":\"BoxAnnotation\"},{\"attributes\":{\"coordinates\":null,\"fill_color\":null,\"group\":null,\"left\":55.5,\"level\":\"underlay\",\"line_alpha\":0.4,\"line_color\":\"black\",\"right\":56.25},\"id\":\"1838\",\"type\":\"BoxAnnotation\"},{\"attributes\":{\"coordinates\":null,\"fill_color\":null,\"group\":null,\"left\":56.25,\"level\":\"underlay\",\"line_alpha\":0.4,\"line_color\":\"black\",\"right\":57.0},\"id\":\"1839\",\"type\":\"BoxAnnotation\"},{\"attributes\":{\"coordinates\":null,\"fill_color\":null,\"group\":null,\"left\":57.0,\"level\":\"underlay\",\"line_alpha\":0.4,\"line_color\":\"black\",\"right\":57.75},\"id\":\"1840\",\"type\":\"BoxAnnotation\"},{\"attributes\":{\"coordinates\":null,\"fill_color\":null,\"group\":null,\"left\":57.75,\"level\":\"underlay\",\"line_alpha\":0.4,\"line_color\":\"black\",\"right\":58.5},\"id\":\"1841\",\"type\":\"BoxAnnotation\"},{\"attributes\":{\"coordinates\":null,\"fill_color\":null,\"group\":null,\"left\":58.5,\"level\":\"underlay\",\"line_alpha\":0.4,\"line_color\":\"black\",\"right\":59.25},\"id\":\"1842\",\"type\":\"BoxAnnotation\"},{\"attributes\":{\"coordinates\":null,\"fill_color\":null,\"group\":null,\"left\":59.25,\"level\":\"underlay\",\"line_alpha\":0.4,\"line_color\":\"black\",\"right\":60.0},\"id\":\"1843\",\"type\":\"BoxAnnotation\"},{\"attributes\":{\"coordinates\":null,\"fill_color\":null,\"group\":null,\"left\":60.0,\"level\":\"underlay\",\"line_alpha\":0.4,\"line_color\":\"black\",\"right\":60.75},\"id\":\"1844\",\"type\":\"BoxAnnotation\"},{\"attributes\":{\"coordinates\":null,\"fill_color\":null,\"group\":null,\"left\":60.75,\"level\":\"underlay\",\"line_alpha\":0.4,\"line_color\":\"black\",\"right\":61.5},\"id\":\"1845\",\"type\":\"BoxAnnotation\"},{\"attributes\":{\"coordinates\":null,\"fill_color\":null,\"group\":null,\"left\":61.5,\"level\":\"underlay\",\"line_alpha\":0.4,\"line_color\":\"black\",\"right\":62.25},\"id\":\"1846\",\"type\":\"BoxAnnotation\"},{\"attributes\":{\"coordinates\":null,\"fill_color\":null,\"group\":null,\"left\":62.25,\"level\":\"underlay\",\"line_alpha\":0.4,\"line_color\":\"black\",\"right\":63.0},\"id\":\"1847\",\"type\":\"BoxAnnotation\"},{\"attributes\":{\"coordinates\":null,\"fill_color\":null,\"group\":null,\"left\":63.0,\"level\":\"underlay\",\"line_alpha\":0.4,\"line_color\":\"black\",\"right\":63.75},\"id\":\"1848\",\"type\":\"BoxAnnotation\"},{\"attributes\":{\"coordinates\":null,\"fill_color\":null,\"group\":null,\"left\":63.75,\"level\":\"underlay\",\"line_alpha\":0.4,\"line_color\":\"black\",\"right\":64.5},\"id\":\"1849\",\"type\":\"BoxAnnotation\"},{\"attributes\":{\"coordinates\":null,\"fill_color\":null,\"group\":null,\"left\":64.5,\"level\":\"underlay\",\"line_alpha\":0.4,\"line_color\":\"black\",\"right\":65.25},\"id\":\"1850\",\"type\":\"BoxAnnotation\"},{\"attributes\":{\"coordinates\":null,\"fill_color\":null,\"group\":null,\"left\":65.25,\"level\":\"underlay\",\"line_alpha\":0.4,\"line_color\":\"black\",\"right\":66.0},\"id\":\"1851\",\"type\":\"BoxAnnotation\"},{\"attributes\":{\"coordinates\":null,\"fill_color\":null,\"group\":null,\"left\":66.0,\"level\":\"underlay\",\"line_alpha\":0.4,\"line_color\":\"black\",\"right\":66.75},\"id\":\"1852\",\"type\":\"BoxAnnotation\"},{\"attributes\":{\"coordinates\":null,\"fill_color\":null,\"group\":null,\"left\":66.75,\"level\":\"underlay\",\"line_alpha\":0.4,\"line_color\":\"black\",\"right\":67.5},\"id\":\"1853\",\"type\":\"BoxAnnotation\"},{\"attributes\":{\"coordinates\":null,\"fill_color\":null,\"group\":null,\"left\":67.5,\"level\":\"underlay\",\"line_alpha\":0.4,\"line_color\":\"black\",\"right\":68.25},\"id\":\"1854\",\"type\":\"BoxAnnotation\"},{\"attributes\":{\"coordinates\":null,\"fill_color\":null,\"group\":null,\"left\":68.25,\"level\":\"underlay\",\"line_alpha\":0.4,\"line_color\":\"black\",\"right\":69.0},\"id\":\"1855\",\"type\":\"BoxAnnotation\"},{\"attributes\":{\"coordinates\":null,\"fill_color\":null,\"group\":null,\"left\":69.0,\"level\":\"underlay\",\"line_alpha\":0.4,\"line_color\":\"black\",\"right\":69.75},\"id\":\"1856\",\"type\":\"BoxAnnotation\"},{\"attributes\":{\"coordinates\":null,\"fill_color\":null,\"group\":null,\"left\":69.75,\"level\":\"underlay\",\"line_alpha\":0.4,\"line_color\":\"black\",\"right\":70.5},\"id\":\"1857\",\"type\":\"BoxAnnotation\"},{\"attributes\":{\"coordinates\":null,\"fill_color\":null,\"group\":null,\"left\":70.5,\"level\":\"underlay\",\"line_alpha\":0.4,\"line_color\":\"black\",\"right\":71.25},\"id\":\"1858\",\"type\":\"BoxAnnotation\"},{\"attributes\":{\"coordinates\":null,\"fill_color\":null,\"group\":null,\"left\":71.25,\"level\":\"underlay\",\"line_alpha\":0.4,\"line_color\":\"black\",\"right\":72.0},\"id\":\"1859\",\"type\":\"BoxAnnotation\"},{\"attributes\":{\"coordinates\":null,\"fill_color\":null,\"group\":null,\"left\":72.0,\"level\":\"underlay\",\"line_alpha\":0.4,\"line_color\":\"black\",\"right\":72.75},\"id\":\"1860\",\"type\":\"BoxAnnotation\"},{\"attributes\":{\"coordinates\":null,\"fill_color\":null,\"group\":null,\"left\":72.75,\"level\":\"underlay\",\"line_alpha\":0.4,\"line_color\":\"black\",\"right\":73.5},\"id\":\"1861\",\"type\":\"BoxAnnotation\"},{\"attributes\":{\"coordinates\":null,\"fill_color\":null,\"group\":null,\"left\":73.5,\"level\":\"underlay\",\"line_alpha\":0.4,\"line_color\":\"black\",\"right\":74.25},\"id\":\"1862\",\"type\":\"BoxAnnotation\"},{\"attributes\":{\"coordinates\":null,\"fill_color\":null,\"group\":null,\"left\":74.25,\"level\":\"underlay\",\"line_alpha\":0.4,\"line_color\":\"black\",\"right\":75.0},\"id\":\"1863\",\"type\":\"BoxAnnotation\"},{\"attributes\":{\"coordinates\":null,\"fill_color\":null,\"group\":null,\"left\":75.0,\"level\":\"underlay\",\"line_alpha\":0.4,\"line_color\":\"black\",\"right\":75.75},\"id\":\"1864\",\"type\":\"BoxAnnotation\"},{\"attributes\":{\"coordinates\":null,\"fill_color\":null,\"group\":null,\"left\":75.75,\"level\":\"underlay\",\"line_alpha\":0.4,\"line_color\":\"black\",\"right\":76.5},\"id\":\"1865\",\"type\":\"BoxAnnotation\"},{\"attributes\":{\"coordinates\":null,\"fill_color\":null,\"group\":null,\"left\":76.5,\"level\":\"underlay\",\"line_alpha\":0.4,\"line_color\":\"black\",\"right\":77.25},\"id\":\"1866\",\"type\":\"BoxAnnotation\"},{\"attributes\":{\"coordinates\":null,\"fill_color\":null,\"group\":null,\"left\":77.25,\"level\":\"underlay\",\"line_alpha\":0.4,\"line_color\":\"black\",\"right\":78.0},\"id\":\"1867\",\"type\":\"BoxAnnotation\"},{\"attributes\":{\"coordinates\":null,\"fill_color\":null,\"group\":null,\"left\":78.0,\"level\":\"underlay\",\"line_alpha\":0.4,\"line_color\":\"black\",\"right\":78.75},\"id\":\"1868\",\"type\":\"BoxAnnotation\"},{\"attributes\":{\"coordinates\":null,\"fill_color\":null,\"group\":null,\"left\":78.75,\"level\":\"underlay\",\"line_alpha\":0.4,\"line_color\":\"black\",\"right\":79.5},\"id\":\"1869\",\"type\":\"BoxAnnotation\"},{\"attributes\":{\"coordinates\":null,\"fill_color\":null,\"group\":null,\"left\":79.5,\"level\":\"underlay\",\"line_alpha\":0.4,\"line_color\":\"black\",\"right\":80.25},\"id\":\"1870\",\"type\":\"BoxAnnotation\"},{\"attributes\":{\"coordinates\":null,\"fill_color\":null,\"group\":null,\"left\":80.25,\"level\":\"underlay\",\"line_alpha\":0.4,\"line_color\":\"black\",\"right\":81.0},\"id\":\"1871\",\"type\":\"BoxAnnotation\"},{\"attributes\":{\"coordinates\":null,\"fill_color\":null,\"group\":null,\"left\":81.0,\"level\":\"underlay\",\"line_alpha\":0.4,\"line_color\":\"black\",\"right\":81.75},\"id\":\"1872\",\"type\":\"BoxAnnotation\"},{\"attributes\":{\"coordinates\":null,\"fill_color\":null,\"group\":null,\"left\":81.75,\"level\":\"underlay\",\"line_alpha\":0.4,\"line_color\":\"black\",\"right\":82.5},\"id\":\"1873\",\"type\":\"BoxAnnotation\"},{\"attributes\":{\"coordinates\":null,\"fill_color\":null,\"group\":null,\"left\":82.5,\"level\":\"underlay\",\"line_alpha\":0.4,\"line_color\":\"black\",\"right\":83.25},\"id\":\"1874\",\"type\":\"BoxAnnotation\"},{\"attributes\":{\"coordinates\":null,\"fill_color\":null,\"group\":null,\"left\":83.25,\"level\":\"underlay\",\"line_alpha\":0.4,\"line_color\":\"black\",\"right\":84.0},\"id\":\"1875\",\"type\":\"BoxAnnotation\"},{\"attributes\":{\"coordinates\":null,\"fill_color\":null,\"group\":null,\"left\":84.0,\"level\":\"underlay\",\"line_alpha\":0.4,\"line_color\":\"black\",\"right\":84.75},\"id\":\"1876\",\"type\":\"BoxAnnotation\"},{\"attributes\":{\"coordinates\":null,\"fill_color\":null,\"group\":null,\"left\":84.75,\"level\":\"underlay\",\"line_alpha\":0.4,\"line_color\":\"black\",\"right\":85.5},\"id\":\"1877\",\"type\":\"BoxAnnotation\"},{\"attributes\":{\"coordinates\":null,\"fill_color\":null,\"group\":null,\"left\":85.5,\"level\":\"underlay\",\"line_alpha\":0.4,\"line_color\":\"black\",\"right\":86.25},\"id\":\"1878\",\"type\":\"BoxAnnotation\"},{\"attributes\":{\"coordinates\":null,\"fill_color\":null,\"group\":null,\"left\":86.25,\"level\":\"underlay\",\"line_alpha\":0.4,\"line_color\":\"black\",\"right\":87.0},\"id\":\"1879\",\"type\":\"BoxAnnotation\"},{\"attributes\":{\"coordinates\":null,\"fill_color\":null,\"group\":null,\"left\":87.0,\"level\":\"underlay\",\"line_alpha\":0.4,\"line_color\":\"black\",\"right\":87.75},\"id\":\"1880\",\"type\":\"BoxAnnotation\"},{\"attributes\":{\"coordinates\":null,\"fill_color\":null,\"group\":null,\"left\":87.75,\"level\":\"underlay\",\"line_alpha\":0.4,\"line_color\":\"black\",\"right\":88.5},\"id\":\"1881\",\"type\":\"BoxAnnotation\"},{\"attributes\":{\"coordinates\":null,\"fill_color\":null,\"group\":null,\"left\":88.5,\"level\":\"underlay\",\"line_alpha\":0.4,\"line_color\":\"black\",\"right\":89.25},\"id\":\"1882\",\"type\":\"BoxAnnotation\"},{\"attributes\":{\"coordinates\":null,\"fill_color\":null,\"group\":null,\"left\":89.25,\"level\":\"underlay\",\"line_alpha\":0.4,\"line_color\":\"black\",\"right\":90.0},\"id\":\"1883\",\"type\":\"BoxAnnotation\"},{\"attributes\":{\"coordinates\":null,\"fill_color\":null,\"group\":null,\"left\":90.0,\"level\":\"underlay\",\"line_alpha\":0.4,\"line_color\":\"black\",\"right\":90.75},\"id\":\"1884\",\"type\":\"BoxAnnotation\"},{\"attributes\":{\"coordinates\":null,\"fill_color\":null,\"group\":null,\"left\":90.75,\"level\":\"underlay\",\"line_alpha\":0.4,\"line_color\":\"black\",\"right\":91.5},\"id\":\"1885\",\"type\":\"BoxAnnotation\"},{\"attributes\":{\"coordinates\":null,\"fill_color\":null,\"group\":null,\"left\":91.5,\"level\":\"underlay\",\"line_alpha\":0.4,\"line_color\":\"black\",\"right\":92.25},\"id\":\"1886\",\"type\":\"BoxAnnotation\"},{\"attributes\":{\"coordinates\":null,\"fill_color\":null,\"group\":null,\"left\":92.25,\"level\":\"underlay\",\"line_alpha\":0.4,\"line_color\":\"black\",\"right\":93.0},\"id\":\"1887\",\"type\":\"BoxAnnotation\"},{\"attributes\":{\"coordinates\":null,\"fill_color\":null,\"group\":null,\"left\":93.0,\"level\":\"underlay\",\"line_alpha\":0.4,\"line_color\":\"black\",\"right\":93.75},\"id\":\"1888\",\"type\":\"BoxAnnotation\"},{\"attributes\":{\"coordinates\":null,\"fill_color\":null,\"group\":null,\"left\":93.75,\"level\":\"underlay\",\"line_alpha\":0.4,\"line_color\":\"black\",\"right\":94.5},\"id\":\"1889\",\"type\":\"BoxAnnotation\"},{\"attributes\":{\"coordinates\":null,\"fill_color\":null,\"group\":null,\"left\":94.5,\"level\":\"underlay\",\"line_alpha\":0.4,\"line_color\":\"black\",\"right\":95.25},\"id\":\"1890\",\"type\":\"BoxAnnotation\"},{\"attributes\":{\"coordinates\":null,\"fill_color\":null,\"group\":null,\"left\":95.25,\"level\":\"underlay\",\"line_alpha\":0.4,\"line_color\":\"black\",\"right\":96.0},\"id\":\"1891\",\"type\":\"BoxAnnotation\"},{\"attributes\":{\"coordinates\":null,\"fill_color\":null,\"group\":null,\"left\":96.0,\"level\":\"underlay\",\"line_alpha\":0.4,\"line_color\":\"black\",\"right\":96.75},\"id\":\"1892\",\"type\":\"BoxAnnotation\"},{\"attributes\":{\"coordinates\":null,\"fill_color\":null,\"group\":null,\"left\":96.75,\"level\":\"underlay\",\"line_alpha\":0.4,\"line_color\":\"black\",\"right\":97.5},\"id\":\"1893\",\"type\":\"BoxAnnotation\"},{\"attributes\":{\"coordinates\":null,\"fill_color\":null,\"group\":null,\"left\":97.5,\"level\":\"underlay\",\"line_alpha\":0.4,\"line_color\":\"black\",\"right\":98.25},\"id\":\"1894\",\"type\":\"BoxAnnotation\"},{\"attributes\":{\"coordinates\":null,\"fill_color\":null,\"group\":null,\"left\":98.25,\"level\":\"underlay\",\"line_alpha\":0.4,\"line_color\":\"black\",\"right\":99.0},\"id\":\"1895\",\"type\":\"BoxAnnotation\"},{\"attributes\":{\"coordinates\":null,\"fill_color\":null,\"group\":null,\"left\":99.0,\"level\":\"underlay\",\"line_alpha\":0.4,\"line_color\":\"black\",\"right\":99.75},\"id\":\"1896\",\"type\":\"BoxAnnotation\"},{\"attributes\":{\"coordinates\":null,\"fill_color\":null,\"group\":null,\"left\":99.75,\"level\":\"underlay\",\"line_alpha\":0.4,\"line_color\":\"black\",\"right\":100.5},\"id\":\"1897\",\"type\":\"BoxAnnotation\"},{\"attributes\":{\"coordinates\":null,\"fill_color\":null,\"group\":null,\"left\":100.5,\"level\":\"underlay\",\"line_alpha\":0.4,\"line_color\":\"black\",\"right\":101.25},\"id\":\"1898\",\"type\":\"BoxAnnotation\"},{\"attributes\":{\"coordinates\":null,\"fill_color\":null,\"group\":null,\"left\":101.25,\"level\":\"underlay\",\"line_alpha\":0.4,\"line_color\":\"black\",\"right\":102.0},\"id\":\"1899\",\"type\":\"BoxAnnotation\"},{\"attributes\":{\"coordinates\":null,\"fill_color\":null,\"group\":null,\"left\":102.0,\"level\":\"underlay\",\"line_alpha\":0.4,\"line_color\":\"black\",\"right\":102.75},\"id\":\"1900\",\"type\":\"BoxAnnotation\"},{\"attributes\":{\"coordinates\":null,\"fill_color\":null,\"group\":null,\"left\":102.75,\"level\":\"underlay\",\"line_alpha\":0.4,\"line_color\":\"black\",\"right\":103.5},\"id\":\"1901\",\"type\":\"BoxAnnotation\"},{\"attributes\":{\"coordinates\":null,\"fill_color\":null,\"group\":null,\"left\":103.5,\"level\":\"underlay\",\"line_alpha\":0.4,\"line_color\":\"black\",\"right\":104.25},\"id\":\"1902\",\"type\":\"BoxAnnotation\"},{\"attributes\":{\"coordinates\":null,\"fill_color\":null,\"group\":null,\"left\":104.25,\"level\":\"underlay\",\"line_alpha\":0.4,\"line_color\":\"black\",\"right\":105.0},\"id\":\"1903\",\"type\":\"BoxAnnotation\"},{\"attributes\":{\"coordinates\":null,\"fill_color\":null,\"group\":null,\"left\":105.0,\"level\":\"underlay\",\"line_alpha\":0.4,\"line_color\":\"black\",\"right\":105.75},\"id\":\"1904\",\"type\":\"BoxAnnotation\"},{\"attributes\":{\"coordinates\":null,\"fill_color\":null,\"group\":null,\"left\":108.0,\"level\":\"underlay\",\"line_alpha\":0.4,\"line_color\":\"black\",\"right\":108.75},\"id\":\"1908\",\"type\":\"BoxAnnotation\"},{\"attributes\":{\"bottom\":48,\"coordinates\":null,\"fill_alpha\":0.15,\"fill_color\":\"gray\",\"group\":null,\"level\":\"underlay\",\"line_color\":\"black\",\"top\":49},\"id\":\"1628\",\"type\":\"BoxAnnotation\"},{\"attributes\":{\"coordinates\":null,\"fill_color\":null,\"group\":null,\"left\":105.75,\"level\":\"underlay\",\"line_alpha\":0.4,\"line_color\":\"black\",\"right\":106.5},\"id\":\"1905\",\"type\":\"BoxAnnotation\"},{\"attributes\":{\"coordinates\":null,\"fill_color\":null,\"group\":null,\"left\":106.5,\"level\":\"underlay\",\"line_alpha\":0.4,\"line_color\":\"black\",\"right\":107.25},\"id\":\"1906\",\"type\":\"BoxAnnotation\"},{\"attributes\":{\"coordinates\":null,\"fill_color\":null,\"group\":null,\"left\":109.5,\"level\":\"underlay\",\"line_alpha\":0.4,\"line_color\":\"black\",\"right\":110.25},\"id\":\"1910\",\"type\":\"BoxAnnotation\"},{\"attributes\":{\"coordinates\":null,\"fill_color\":null,\"group\":null,\"left\":107.25,\"level\":\"underlay\",\"line_alpha\":0.4,\"line_color\":\"black\",\"right\":108.0},\"id\":\"1907\",\"type\":\"BoxAnnotation\"},{\"attributes\":{\"coordinates\":null,\"fill_color\":null,\"group\":null,\"left\":108.75,\"level\":\"underlay\",\"line_alpha\":0.4,\"line_color\":\"black\",\"right\":109.5},\"id\":\"1909\",\"type\":\"BoxAnnotation\"},{\"attributes\":{\"coordinates\":null,\"fill_alpha\":0.05,\"fill_color\":\"gray\",\"group\":null,\"left\":201.0,\"level\":\"underlay\",\"line_alpha\":0.5,\"line_color\":\"black\",\"line_width\":2,\"right\":204.0},\"id\":\"1745\",\"type\":\"BoxAnnotation\"},{\"attributes\":{\"coordinates\":null,\"fill_color\":null,\"group\":null,\"left\":174.75,\"level\":\"underlay\",\"line_alpha\":0.4,\"line_color\":\"black\",\"right\":175.5},\"id\":\"1997\",\"type\":\"BoxAnnotation\"},{\"attributes\":{\"coordinates\":null,\"fill_alpha\":0.05,\"fill_color\":\"gray\",\"group\":null,\"left\":207.0,\"level\":\"underlay\",\"line_alpha\":0.5,\"line_color\":\"black\",\"line_width\":2,\"right\":210.0},\"id\":\"1747\",\"type\":\"BoxAnnotation\"},{\"attributes\":{\"coordinates\":null,\"fill_color\":null,\"group\":null,\"left\":176.25,\"level\":\"underlay\",\"line_alpha\":0.4,\"line_color\":\"black\",\"right\":177.0},\"id\":\"1999\",\"type\":\"BoxAnnotation\"},{\"attributes\":{\"coordinates\":null,\"fill_alpha\":0.05,\"fill_color\":\"gray\",\"group\":null,\"left\":195.0,\"level\":\"underlay\",\"line_alpha\":0.5,\"line_color\":\"black\",\"line_width\":2,\"right\":198.0},\"id\":\"1743\",\"type\":\"BoxAnnotation\"},{\"attributes\":{\"coordinates\":null,\"fill_color\":null,\"group\":null,\"left\":173.25,\"level\":\"underlay\",\"line_alpha\":0.4,\"line_color\":\"black\",\"right\":174.0},\"id\":\"1995\",\"type\":\"BoxAnnotation\"},{\"attributes\":{\"coordinates\":null,\"fill_color\":null,\"group\":null,\"left\":0.0,\"level\":\"underlay\",\"line_alpha\":0.4,\"line_color\":\"black\",\"right\":0.75},\"id\":\"1764\",\"type\":\"BoxAnnotation\"},{\"attributes\":{\"coordinates\":null,\"fill_color\":null,\"group\":null,\"left\":177.0,\"level\":\"underlay\",\"line_alpha\":0.4,\"line_color\":\"black\",\"right\":177.75},\"id\":\"2000\",\"type\":\"BoxAnnotation\"},{\"attributes\":{\"coordinates\":null,\"fill_alpha\":0.25,\"fill_color\":\"gray\",\"group\":null,\"left\":204.0,\"level\":\"underlay\",\"line_alpha\":0.5,\"line_color\":\"black\",\"line_width\":2,\"right\":207.0},\"id\":\"1746\",\"type\":\"BoxAnnotation\"},{\"attributes\":{\"coordinates\":null,\"fill_color\":null,\"group\":null,\"left\":175.5,\"level\":\"underlay\",\"line_alpha\":0.4,\"line_color\":\"black\",\"right\":176.25},\"id\":\"1998\",\"type\":\"BoxAnnotation\"},{\"attributes\":{\"coordinates\":null,\"fill_alpha\":0.25,\"fill_color\":\"gray\",\"group\":null,\"left\":210.0,\"level\":\"underlay\",\"line_alpha\":0.5,\"line_color\":\"black\",\"line_width\":2,\"right\":213.0},\"id\":\"1748\",\"type\":\"BoxAnnotation\"},{\"attributes\":{\"coordinates\":null,\"fill_color\":null,\"group\":null,\"left\":177.75,\"level\":\"underlay\",\"line_alpha\":0.4,\"line_color\":\"black\",\"right\":178.5},\"id\":\"2001\",\"type\":\"BoxAnnotation\"},{\"attributes\":{\"coordinates\":null,\"fill_alpha\":0.25,\"fill_color\":\"gray\",\"group\":null,\"left\":198.0,\"level\":\"underlay\",\"line_alpha\":0.5,\"line_color\":\"black\",\"line_width\":2,\"right\":201.0},\"id\":\"1744\",\"type\":\"BoxAnnotation\"},{\"attributes\":{\"coordinates\":null,\"fill_color\":null,\"group\":null,\"left\":174.0,\"level\":\"underlay\",\"line_alpha\":0.4,\"line_color\":\"black\",\"right\":174.75},\"id\":\"1996\",\"type\":\"BoxAnnotation\"},{\"attributes\":{\"coordinates\":null,\"fill_alpha\":0.05,\"fill_color\":\"gray\",\"group\":null,\"left\":213.0,\"level\":\"underlay\",\"line_alpha\":0.5,\"line_color\":\"black\",\"line_width\":2,\"right\":216.0},\"id\":\"1749\",\"type\":\"BoxAnnotation\"},{\"attributes\":{\"coordinates\":null,\"fill_color\":null,\"group\":null,\"left\":178.5,\"level\":\"underlay\",\"line_alpha\":0.4,\"line_color\":\"black\",\"right\":179.25},\"id\":\"2002\",\"type\":\"BoxAnnotation\"},{\"attributes\":{\"coordinates\":null,\"fill_alpha\":0.25,\"fill_color\":\"gray\",\"group\":null,\"left\":216.0,\"level\":\"underlay\",\"line_alpha\":0.5,\"line_color\":\"black\",\"line_width\":2,\"right\":219.0},\"id\":\"1750\",\"type\":\"BoxAnnotation\"},{\"attributes\":{\"coordinates\":null,\"fill_color\":null,\"group\":null,\"left\":179.25,\"level\":\"underlay\",\"line_alpha\":0.4,\"line_color\":\"black\",\"right\":180.0},\"id\":\"2003\",\"type\":\"BoxAnnotation\"},{\"attributes\":{\"coordinates\":null,\"fill_alpha\":0.05,\"fill_color\":\"gray\",\"group\":null,\"left\":219.0,\"level\":\"underlay\",\"line_alpha\":0.5,\"line_color\":\"black\",\"line_width\":2,\"right\":222.0},\"id\":\"1751\",\"type\":\"BoxAnnotation\"},{\"attributes\":{\"coordinates\":null,\"fill_color\":null,\"group\":null,\"left\":180.0,\"level\":\"underlay\",\"line_alpha\":0.4,\"line_color\":\"black\",\"right\":180.75},\"id\":\"2004\",\"type\":\"BoxAnnotation\"},{\"attributes\":{\"coordinates\":null,\"fill_alpha\":0.25,\"fill_color\":\"gray\",\"group\":null,\"left\":222.0,\"level\":\"underlay\",\"line_alpha\":0.5,\"line_color\":\"black\",\"line_width\":2,\"right\":225.0},\"id\":\"1752\",\"type\":\"BoxAnnotation\"},{\"attributes\":{\"coordinates\":null,\"fill_color\":null,\"group\":null,\"left\":180.75,\"level\":\"underlay\",\"line_alpha\":0.4,\"line_color\":\"black\",\"right\":181.5},\"id\":\"2005\",\"type\":\"BoxAnnotation\"},{\"attributes\":{\"coordinates\":null,\"fill_alpha\":0.05,\"fill_color\":\"gray\",\"group\":null,\"left\":225.0,\"level\":\"underlay\",\"line_alpha\":0.5,\"line_color\":\"black\",\"line_width\":2,\"right\":228.0},\"id\":\"1753\",\"type\":\"BoxAnnotation\"},{\"attributes\":{\"coordinates\":null,\"fill_color\":null,\"group\":null,\"left\":181.5,\"level\":\"underlay\",\"line_alpha\":0.4,\"line_color\":\"black\",\"right\":182.25},\"id\":\"2006\",\"type\":\"BoxAnnotation\"},{\"attributes\":{\"coordinates\":null,\"fill_alpha\":0.25,\"fill_color\":\"gray\",\"group\":null,\"left\":228.0,\"level\":\"underlay\",\"line_alpha\":0.5,\"line_color\":\"black\",\"line_width\":2,\"right\":231.0},\"id\":\"1754\",\"type\":\"BoxAnnotation\"},{\"attributes\":{\"coordinates\":null,\"fill_color\":null,\"group\":null,\"left\":182.25,\"level\":\"underlay\",\"line_alpha\":0.4,\"line_color\":\"black\",\"right\":183.0},\"id\":\"2007\",\"type\":\"BoxAnnotation\"},{\"attributes\":{\"coordinates\":null,\"fill_alpha\":0.05,\"fill_color\":\"gray\",\"group\":null,\"left\":231.0,\"level\":\"underlay\",\"line_alpha\":0.5,\"line_color\":\"black\",\"line_width\":2,\"right\":234.0},\"id\":\"1755\",\"type\":\"BoxAnnotation\"},{\"attributes\":{\"coordinates\":null,\"fill_color\":null,\"group\":null,\"left\":183.0,\"level\":\"underlay\",\"line_alpha\":0.4,\"line_color\":\"black\",\"right\":183.75},\"id\":\"2008\",\"type\":\"BoxAnnotation\"},{\"attributes\":{\"coordinates\":null,\"fill_alpha\":0.25,\"fill_color\":\"gray\",\"group\":null,\"left\":234.0,\"level\":\"underlay\",\"line_alpha\":0.5,\"line_color\":\"black\",\"line_width\":2,\"right\":237.0},\"id\":\"1756\",\"type\":\"BoxAnnotation\"},{\"attributes\":{\"coordinates\":null,\"fill_color\":null,\"group\":null,\"left\":183.75,\"level\":\"underlay\",\"line_alpha\":0.4,\"line_color\":\"black\",\"right\":184.5},\"id\":\"2009\",\"type\":\"BoxAnnotation\"},{\"attributes\":{\"coordinates\":null,\"fill_alpha\":0.05,\"fill_color\":\"gray\",\"group\":null,\"left\":237.0,\"level\":\"underlay\",\"line_alpha\":0.5,\"line_color\":\"black\",\"line_width\":2,\"right\":240.0},\"id\":\"1757\",\"type\":\"BoxAnnotation\"},{\"attributes\":{\"coordinates\":null,\"fill_color\":null,\"group\":null,\"left\":184.5,\"level\":\"underlay\",\"line_alpha\":0.4,\"line_color\":\"black\",\"right\":185.25},\"id\":\"2010\",\"type\":\"BoxAnnotation\"},{\"attributes\":{\"coordinates\":null,\"fill_alpha\":0.25,\"fill_color\":\"gray\",\"group\":null,\"left\":240.0,\"level\":\"underlay\",\"line_alpha\":0.5,\"line_color\":\"black\",\"line_width\":2,\"right\":243.0},\"id\":\"1758\",\"type\":\"BoxAnnotation\"},{\"attributes\":{\"coordinates\":null,\"fill_color\":null,\"group\":null,\"left\":185.25,\"level\":\"underlay\",\"line_alpha\":0.4,\"line_color\":\"black\",\"right\":186.0},\"id\":\"2011\",\"type\":\"BoxAnnotation\"},{\"attributes\":{\"coordinates\":null,\"fill_alpha\":0.05,\"fill_color\":\"gray\",\"group\":null,\"left\":243.0,\"level\":\"underlay\",\"line_alpha\":0.5,\"line_color\":\"black\",\"line_width\":2,\"right\":246.0},\"id\":\"1759\",\"type\":\"BoxAnnotation\"},{\"attributes\":{\"coordinates\":null,\"fill_color\":null,\"group\":null,\"left\":186.0,\"level\":\"underlay\",\"line_alpha\":0.4,\"line_color\":\"black\",\"right\":186.75},\"id\":\"2012\",\"type\":\"BoxAnnotation\"},{\"attributes\":{\"coordinates\":null,\"fill_alpha\":0.25,\"fill_color\":\"gray\",\"group\":null,\"left\":246.0,\"level\":\"underlay\",\"line_alpha\":0.5,\"line_color\":\"black\",\"line_width\":2,\"right\":249.0},\"id\":\"1760\",\"type\":\"BoxAnnotation\"},{\"attributes\":{\"coordinates\":null,\"fill_color\":null,\"group\":null,\"left\":186.75,\"level\":\"underlay\",\"line_alpha\":0.4,\"line_color\":\"black\",\"right\":187.5},\"id\":\"2013\",\"type\":\"BoxAnnotation\"},{\"attributes\":{\"coordinates\":null,\"fill_alpha\":0.05,\"fill_color\":\"gray\",\"group\":null,\"left\":249.0,\"level\":\"underlay\",\"line_alpha\":0.5,\"line_color\":\"black\",\"line_width\":2,\"right\":252.0},\"id\":\"1761\",\"type\":\"BoxAnnotation\"},{\"attributes\":{\"coordinates\":null,\"fill_color\":null,\"group\":null,\"left\":187.5,\"level\":\"underlay\",\"line_alpha\":0.4,\"line_color\":\"black\",\"right\":188.25},\"id\":\"2014\",\"type\":\"BoxAnnotation\"},{\"attributes\":{\"coordinates\":null,\"fill_alpha\":0.25,\"fill_color\":\"gray\",\"group\":null,\"left\":252.0,\"level\":\"underlay\",\"line_alpha\":0.5,\"line_color\":\"black\",\"line_width\":2,\"right\":255.0},\"id\":\"1762\",\"type\":\"BoxAnnotation\"},{\"attributes\":{\"coordinates\":null,\"fill_color\":null,\"group\":null,\"left\":188.25,\"level\":\"underlay\",\"line_alpha\":0.4,\"line_color\":\"black\",\"right\":189.0},\"id\":\"2015\",\"type\":\"BoxAnnotation\"},{\"attributes\":{\"coordinates\":null,\"fill_alpha\":0.05,\"fill_color\":\"gray\",\"group\":null,\"left\":255.0,\"level\":\"underlay\",\"line_alpha\":0.5,\"line_color\":\"black\",\"line_width\":2,\"right\":258.0},\"id\":\"1763\",\"type\":\"BoxAnnotation\"},{\"attributes\":{\"coordinates\":null,\"fill_color\":null,\"group\":null,\"left\":189.0,\"level\":\"underlay\",\"line_alpha\":0.4,\"line_color\":\"black\",\"right\":189.75},\"id\":\"2016\",\"type\":\"BoxAnnotation\"},{\"attributes\":{\"coordinates\":null,\"fill_color\":null,\"group\":null,\"left\":3.75,\"level\":\"underlay\",\"line_alpha\":0.4,\"line_color\":\"black\",\"right\":4.5},\"id\":\"1769\",\"type\":\"BoxAnnotation\"},{\"attributes\":{\"coordinates\":null,\"fill_color\":null,\"group\":null,\"left\":189.75,\"level\":\"underlay\",\"line_alpha\":0.4,\"line_color\":\"black\",\"right\":190.5},\"id\":\"2017\",\"type\":\"BoxAnnotation\"},{\"attributes\":{\"coordinates\":null,\"fill_color\":null,\"group\":null,\"left\":0.75,\"level\":\"underlay\",\"line_alpha\":0.4,\"line_color\":\"black\",\"right\":1.5},\"id\":\"1765\",\"type\":\"BoxAnnotation\"},{\"attributes\":{\"coordinates\":null,\"fill_color\":null,\"group\":null,\"left\":190.5,\"level\":\"underlay\",\"line_alpha\":0.4,\"line_color\":\"black\",\"right\":191.25},\"id\":\"2018\",\"type\":\"BoxAnnotation\"},{\"attributes\":{\"coordinates\":null,\"fill_color\":null,\"group\":null,\"left\":1.5,\"level\":\"underlay\",\"line_alpha\":0.4,\"line_color\":\"black\",\"right\":2.25},\"id\":\"1766\",\"type\":\"BoxAnnotation\"},{\"attributes\":{\"coordinates\":null,\"fill_color\":null,\"group\":null,\"left\":191.25,\"level\":\"underlay\",\"line_alpha\":0.4,\"line_color\":\"black\",\"right\":192.0},\"id\":\"2019\",\"type\":\"BoxAnnotation\"},{\"attributes\":{\"coordinates\":null,\"fill_color\":null,\"group\":null,\"left\":2.25,\"level\":\"underlay\",\"line_alpha\":0.4,\"line_color\":\"black\",\"right\":3.0},\"id\":\"1767\",\"type\":\"BoxAnnotation\"},{\"attributes\":{\"coordinates\":null,\"fill_color\":null,\"group\":null,\"left\":192.0,\"level\":\"underlay\",\"line_alpha\":0.4,\"line_color\":\"black\",\"right\":192.75},\"id\":\"2020\",\"type\":\"BoxAnnotation\"},{\"attributes\":{\"coordinates\":null,\"fill_color\":null,\"group\":null,\"left\":3.0,\"level\":\"underlay\",\"line_alpha\":0.4,\"line_color\":\"black\",\"right\":3.75},\"id\":\"1768\",\"type\":\"BoxAnnotation\"},{\"attributes\":{\"coordinates\":null,\"fill_color\":null,\"group\":null,\"left\":192.75,\"level\":\"underlay\",\"line_alpha\":0.4,\"line_color\":\"black\",\"right\":193.5},\"id\":\"2021\",\"type\":\"BoxAnnotation\"},{\"attributes\":{\"coordinates\":null,\"fill_color\":null,\"group\":null,\"left\":4.5,\"level\":\"underlay\",\"line_alpha\":0.4,\"line_color\":\"black\",\"right\":5.25},\"id\":\"1770\",\"type\":\"BoxAnnotation\"},{\"attributes\":{\"coordinates\":null,\"fill_color\":null,\"group\":null,\"left\":193.5,\"level\":\"underlay\",\"line_alpha\":0.4,\"line_color\":\"black\",\"right\":194.25},\"id\":\"2022\",\"type\":\"BoxAnnotation\"},{\"attributes\":{\"coordinates\":null,\"fill_color\":null,\"group\":null,\"left\":5.25,\"level\":\"underlay\",\"line_alpha\":0.4,\"line_color\":\"black\",\"right\":6.0},\"id\":\"1771\",\"type\":\"BoxAnnotation\"},{\"attributes\":{\"coordinates\":null,\"fill_color\":null,\"group\":null,\"left\":194.25,\"level\":\"underlay\",\"line_alpha\":0.4,\"line_color\":\"black\",\"right\":195.0},\"id\":\"2023\",\"type\":\"BoxAnnotation\"},{\"attributes\":{\"coordinates\":null,\"fill_color\":null,\"group\":null,\"left\":6.0,\"level\":\"underlay\",\"line_alpha\":0.4,\"line_color\":\"black\",\"right\":6.75},\"id\":\"1772\",\"type\":\"BoxAnnotation\"},{\"attributes\":{\"coordinates\":null,\"fill_color\":null,\"group\":null,\"left\":195.0,\"level\":\"underlay\",\"line_alpha\":0.4,\"line_color\":\"black\",\"right\":195.75},\"id\":\"2024\",\"type\":\"BoxAnnotation\"},{\"attributes\":{\"coordinates\":null,\"fill_color\":null,\"group\":null,\"left\":6.75,\"level\":\"underlay\",\"line_alpha\":0.4,\"line_color\":\"black\",\"right\":7.5},\"id\":\"1773\",\"type\":\"BoxAnnotation\"},{\"attributes\":{\"coordinates\":null,\"fill_color\":null,\"group\":null,\"left\":199.5,\"level\":\"underlay\",\"line_alpha\":0.4,\"line_color\":\"black\",\"right\":200.25},\"id\":\"2030\",\"type\":\"BoxAnnotation\"},{\"attributes\":{\"coordinates\":null,\"fill_color\":null,\"group\":null,\"left\":7.5,\"level\":\"underlay\",\"line_alpha\":0.4,\"line_color\":\"black\",\"right\":8.25},\"id\":\"1774\",\"type\":\"BoxAnnotation\"},{\"attributes\":{\"coordinates\":null,\"fill_color\":null,\"group\":null,\"left\":198.75,\"level\":\"underlay\",\"line_alpha\":0.4,\"line_color\":\"black\",\"right\":199.5},\"id\":\"2029\",\"type\":\"BoxAnnotation\"},{\"attributes\":{\"coordinates\":null,\"fill_color\":null,\"group\":null,\"left\":8.25,\"level\":\"underlay\",\"line_alpha\":0.4,\"line_color\":\"black\",\"right\":9.0},\"id\":\"1775\",\"type\":\"BoxAnnotation\"},{\"attributes\":{\"coordinates\":null,\"fill_color\":null,\"group\":null,\"left\":9.0,\"level\":\"underlay\",\"line_alpha\":0.4,\"line_color\":\"black\",\"right\":9.75},\"id\":\"1776\",\"type\":\"BoxAnnotation\"},{\"attributes\":{\"coordinates\":null,\"fill_color\":null,\"group\":null,\"left\":196.5,\"level\":\"underlay\",\"line_alpha\":0.4,\"line_color\":\"black\",\"right\":197.25},\"id\":\"2026\",\"type\":\"BoxAnnotation\"},{\"attributes\":{\"coordinates\":null,\"fill_color\":null,\"group\":null,\"left\":9.75,\"level\":\"underlay\",\"line_alpha\":0.4,\"line_color\":\"black\",\"right\":10.5},\"id\":\"1777\",\"type\":\"BoxAnnotation\"},{\"attributes\":{\"coordinates\":null,\"fill_color\":null,\"group\":null,\"left\":197.25,\"level\":\"underlay\",\"line_alpha\":0.4,\"line_color\":\"black\",\"right\":198.0},\"id\":\"2027\",\"type\":\"BoxAnnotation\"},{\"attributes\":{\"coordinates\":null,\"fill_color\":null,\"group\":null,\"left\":10.5,\"level\":\"underlay\",\"line_alpha\":0.4,\"line_color\":\"black\",\"right\":11.25},\"id\":\"1778\",\"type\":\"BoxAnnotation\"},{\"attributes\":{\"coordinates\":null,\"fill_color\":null,\"group\":null,\"left\":198.0,\"level\":\"underlay\",\"line_alpha\":0.4,\"line_color\":\"black\",\"right\":198.75},\"id\":\"2028\",\"type\":\"BoxAnnotation\"},{\"attributes\":{\"coordinates\":null,\"fill_color\":null,\"group\":null,\"left\":11.25,\"level\":\"underlay\",\"line_alpha\":0.4,\"line_color\":\"black\",\"right\":12.0},\"id\":\"1779\",\"type\":\"BoxAnnotation\"},{\"attributes\":{\"coordinates\":null,\"fill_color\":null,\"group\":null,\"left\":195.75,\"level\":\"underlay\",\"line_alpha\":0.4,\"line_color\":\"black\",\"right\":196.5},\"id\":\"2025\",\"type\":\"BoxAnnotation\"},{\"attributes\":{\"coordinates\":null,\"fill_color\":null,\"group\":null,\"left\":12.0,\"level\":\"underlay\",\"line_alpha\":0.4,\"line_color\":\"black\",\"right\":12.75},\"id\":\"1780\",\"type\":\"BoxAnnotation\"},{\"attributes\":{\"coordinates\":null,\"fill_color\":null,\"group\":null,\"left\":200.25,\"level\":\"underlay\",\"line_alpha\":0.4,\"line_color\":\"black\",\"right\":201.0},\"id\":\"2031\",\"type\":\"BoxAnnotation\"},{\"attributes\":{\"coordinates\":null,\"fill_color\":null,\"group\":null,\"left\":12.75,\"level\":\"underlay\",\"line_alpha\":0.4,\"line_color\":\"black\",\"right\":13.5},\"id\":\"1781\",\"type\":\"BoxAnnotation\"},{\"attributes\":{\"coordinates\":null,\"fill_color\":null,\"group\":null,\"left\":201.0,\"level\":\"underlay\",\"line_alpha\":0.4,\"line_color\":\"black\",\"right\":201.75},\"id\":\"2032\",\"type\":\"BoxAnnotation\"},{\"attributes\":{\"coordinates\":null,\"fill_color\":null,\"group\":null,\"left\":13.5,\"level\":\"underlay\",\"line_alpha\":0.4,\"line_color\":\"black\",\"right\":14.25},\"id\":\"1782\",\"type\":\"BoxAnnotation\"},{\"attributes\":{\"coordinates\":null,\"fill_color\":null,\"group\":null,\"left\":201.75,\"level\":\"underlay\",\"line_alpha\":0.4,\"line_color\":\"black\",\"right\":202.5},\"id\":\"2033\",\"type\":\"BoxAnnotation\"},{\"attributes\":{\"coordinates\":null,\"fill_color\":null,\"group\":null,\"left\":14.25,\"level\":\"underlay\",\"line_alpha\":0.4,\"line_color\":\"black\",\"right\":15.0},\"id\":\"1783\",\"type\":\"BoxAnnotation\"},{\"attributes\":{\"coordinates\":null,\"fill_color\":null,\"group\":null,\"left\":202.5,\"level\":\"underlay\",\"line_alpha\":0.4,\"line_color\":\"black\",\"right\":203.25},\"id\":\"2034\",\"type\":\"BoxAnnotation\"},{\"attributes\":{\"coordinates\":null,\"fill_color\":null,\"group\":null,\"left\":15.0,\"level\":\"underlay\",\"line_alpha\":0.4,\"line_color\":\"black\",\"right\":15.75},\"id\":\"1784\",\"type\":\"BoxAnnotation\"},{\"attributes\":{\"coordinates\":null,\"fill_color\":null,\"group\":null,\"left\":203.25,\"level\":\"underlay\",\"line_alpha\":0.4,\"line_color\":\"black\",\"right\":204.0},\"id\":\"2035\",\"type\":\"BoxAnnotation\"},{\"attributes\":{\"coordinates\":null,\"fill_color\":null,\"group\":null,\"left\":15.75,\"level\":\"underlay\",\"line_alpha\":0.4,\"line_color\":\"black\",\"right\":16.5},\"id\":\"1785\",\"type\":\"BoxAnnotation\"},{\"attributes\":{\"coordinates\":null,\"fill_color\":null,\"group\":null,\"left\":204.0,\"level\":\"underlay\",\"line_alpha\":0.4,\"line_color\":\"black\",\"right\":204.75},\"id\":\"2036\",\"type\":\"BoxAnnotation\"},{\"attributes\":{\"coordinates\":null,\"fill_color\":null,\"group\":null,\"left\":16.5,\"level\":\"underlay\",\"line_alpha\":0.4,\"line_color\":\"black\",\"right\":17.25},\"id\":\"1786\",\"type\":\"BoxAnnotation\"},{\"attributes\":{\"coordinates\":null,\"fill_color\":null,\"group\":null,\"left\":204.75,\"level\":\"underlay\",\"line_alpha\":0.4,\"line_color\":\"black\",\"right\":205.5},\"id\":\"2037\",\"type\":\"BoxAnnotation\"},{\"attributes\":{\"coordinates\":null,\"fill_color\":null,\"group\":null,\"left\":17.25,\"level\":\"underlay\",\"line_alpha\":0.4,\"line_color\":\"black\",\"right\":18.0},\"id\":\"1787\",\"type\":\"BoxAnnotation\"},{\"attributes\":{\"coordinates\":null,\"fill_color\":null,\"group\":null,\"left\":205.5,\"level\":\"underlay\",\"line_alpha\":0.4,\"line_color\":\"black\",\"right\":206.25},\"id\":\"2038\",\"type\":\"BoxAnnotation\"},{\"attributes\":{\"coordinates\":null,\"fill_color\":null,\"group\":null,\"left\":18.0,\"level\":\"underlay\",\"line_alpha\":0.4,\"line_color\":\"black\",\"right\":18.75},\"id\":\"1788\",\"type\":\"BoxAnnotation\"},{\"attributes\":{\"coordinates\":null,\"fill_color\":null,\"group\":null,\"left\":206.25,\"level\":\"underlay\",\"line_alpha\":0.4,\"line_color\":\"black\",\"right\":207.0},\"id\":\"2039\",\"type\":\"BoxAnnotation\"},{\"attributes\":{\"coordinates\":null,\"fill_color\":null,\"group\":null,\"left\":18.75,\"level\":\"underlay\",\"line_alpha\":0.4,\"line_color\":\"black\",\"right\":19.5},\"id\":\"1789\",\"type\":\"BoxAnnotation\"},{\"attributes\":{\"coordinates\":null,\"fill_color\":null,\"group\":null,\"left\":207.0,\"level\":\"underlay\",\"line_alpha\":0.4,\"line_color\":\"black\",\"right\":207.75},\"id\":\"2040\",\"type\":\"BoxAnnotation\"},{\"attributes\":{\"coordinates\":null,\"fill_color\":null,\"group\":null,\"left\":19.5,\"level\":\"underlay\",\"line_alpha\":0.4,\"line_color\":\"black\",\"right\":20.25},\"id\":\"1790\",\"type\":\"BoxAnnotation\"},{\"attributes\":{\"coordinates\":null,\"fill_color\":null,\"group\":null,\"left\":207.75,\"level\":\"underlay\",\"line_alpha\":0.4,\"line_color\":\"black\",\"right\":208.5},\"id\":\"2041\",\"type\":\"BoxAnnotation\"},{\"attributes\":{\"coordinates\":null,\"fill_color\":null,\"group\":null,\"left\":20.25,\"level\":\"underlay\",\"line_alpha\":0.4,\"line_color\":\"black\",\"right\":21.0},\"id\":\"1791\",\"type\":\"BoxAnnotation\"},{\"attributes\":{\"coordinates\":null,\"fill_color\":null,\"group\":null,\"left\":208.5,\"level\":\"underlay\",\"line_alpha\":0.4,\"line_color\":\"black\",\"right\":209.25},\"id\":\"2042\",\"type\":\"BoxAnnotation\"},{\"attributes\":{\"coordinates\":null,\"fill_color\":null,\"group\":null,\"left\":21.0,\"level\":\"underlay\",\"line_alpha\":0.4,\"line_color\":\"black\",\"right\":21.75},\"id\":\"1792\",\"type\":\"BoxAnnotation\"},{\"attributes\":{\"coordinates\":null,\"fill_color\":null,\"group\":null,\"left\":209.25,\"level\":\"underlay\",\"line_alpha\":0.4,\"line_color\":\"black\",\"right\":210.0},\"id\":\"2043\",\"type\":\"BoxAnnotation\"},{\"attributes\":{\"coordinates\":null,\"fill_color\":null,\"group\":null,\"left\":21.75,\"level\":\"underlay\",\"line_alpha\":0.4,\"line_color\":\"black\",\"right\":22.5},\"id\":\"1793\",\"type\":\"BoxAnnotation\"},{\"attributes\":{\"coordinates\":null,\"fill_color\":null,\"group\":null,\"left\":210.0,\"level\":\"underlay\",\"line_alpha\":0.4,\"line_color\":\"black\",\"right\":210.75},\"id\":\"2044\",\"type\":\"BoxAnnotation\"},{\"attributes\":{\"coordinates\":null,\"fill_color\":null,\"group\":null,\"left\":22.5,\"level\":\"underlay\",\"line_alpha\":0.4,\"line_color\":\"black\",\"right\":23.25},\"id\":\"1794\",\"type\":\"BoxAnnotation\"},{\"attributes\":{\"coordinates\":null,\"fill_color\":null,\"group\":null,\"left\":210.75,\"level\":\"underlay\",\"line_alpha\":0.4,\"line_color\":\"black\",\"right\":211.5},\"id\":\"2045\",\"type\":\"BoxAnnotation\"},{\"attributes\":{\"coordinates\":null,\"fill_color\":null,\"group\":null,\"left\":23.25,\"level\":\"underlay\",\"line_alpha\":0.4,\"line_color\":\"black\",\"right\":24.0},\"id\":\"1795\",\"type\":\"BoxAnnotation\"},{\"attributes\":{\"coordinates\":null,\"fill_color\":null,\"group\":null,\"left\":211.5,\"level\":\"underlay\",\"line_alpha\":0.4,\"line_color\":\"black\",\"right\":212.25},\"id\":\"2046\",\"type\":\"BoxAnnotation\"},{\"attributes\":{\"coordinates\":null,\"fill_color\":null,\"group\":null,\"left\":24.0,\"level\":\"underlay\",\"line_alpha\":0.4,\"line_color\":\"black\",\"right\":24.75},\"id\":\"1796\",\"type\":\"BoxAnnotation\"},{\"attributes\":{\"coordinates\":null,\"fill_color\":null,\"group\":null,\"left\":212.25,\"level\":\"underlay\",\"line_alpha\":0.4,\"line_color\":\"black\",\"right\":213.0},\"id\":\"2047\",\"type\":\"BoxAnnotation\"},{\"attributes\":{\"coordinates\":null,\"fill_color\":null,\"group\":null,\"left\":24.75,\"level\":\"underlay\",\"line_alpha\":0.4,\"line_color\":\"black\",\"right\":25.5},\"id\":\"1797\",\"type\":\"BoxAnnotation\"},{\"attributes\":{\"coordinates\":null,\"fill_color\":null,\"group\":null,\"left\":213.0,\"level\":\"underlay\",\"line_alpha\":0.4,\"line_color\":\"black\",\"right\":213.75},\"id\":\"2048\",\"type\":\"BoxAnnotation\"},{\"attributes\":{\"coordinates\":null,\"fill_color\":null,\"group\":null,\"left\":25.5,\"level\":\"underlay\",\"line_alpha\":0.4,\"line_color\":\"black\",\"right\":26.25},\"id\":\"1798\",\"type\":\"BoxAnnotation\"},{\"attributes\":{\"coordinates\":null,\"fill_color\":null,\"group\":null,\"left\":213.75,\"level\":\"underlay\",\"line_alpha\":0.4,\"line_color\":\"black\",\"right\":214.5},\"id\":\"2049\",\"type\":\"BoxAnnotation\"},{\"attributes\":{\"coordinates\":null,\"fill_color\":null,\"group\":null,\"left\":26.25,\"level\":\"underlay\",\"line_alpha\":0.4,\"line_color\":\"black\",\"right\":27.0},\"id\":\"1799\",\"type\":\"BoxAnnotation\"},{\"attributes\":{\"coordinates\":null,\"fill_color\":null,\"group\":null,\"left\":214.5,\"level\":\"underlay\",\"line_alpha\":0.4,\"line_color\":\"black\",\"right\":215.25},\"id\":\"2050\",\"type\":\"BoxAnnotation\"},{\"attributes\":{\"coordinates\":null,\"fill_color\":null,\"group\":null,\"left\":27.0,\"level\":\"underlay\",\"line_alpha\":0.4,\"line_color\":\"black\",\"right\":27.75},\"id\":\"1800\",\"type\":\"BoxAnnotation\"},{\"attributes\":{\"coordinates\":null,\"fill_color\":null,\"group\":null,\"left\":215.25,\"level\":\"underlay\",\"line_alpha\":0.4,\"line_color\":\"black\",\"right\":216.0},\"id\":\"2051\",\"type\":\"BoxAnnotation\"},{\"attributes\":{\"coordinates\":null,\"fill_color\":null,\"group\":null,\"left\":27.75,\"level\":\"underlay\",\"line_alpha\":0.4,\"line_color\":\"black\",\"right\":28.5},\"id\":\"1801\",\"type\":\"BoxAnnotation\"},{\"attributes\":{\"coordinates\":null,\"fill_color\":null,\"group\":null,\"left\":216.0,\"level\":\"underlay\",\"line_alpha\":0.4,\"line_color\":\"black\",\"right\":216.75},\"id\":\"2052\",\"type\":\"BoxAnnotation\"},{\"attributes\":{\"coordinates\":null,\"fill_color\":null,\"group\":null,\"left\":28.5,\"level\":\"underlay\",\"line_alpha\":0.4,\"line_color\":\"black\",\"right\":29.25},\"id\":\"1802\",\"type\":\"BoxAnnotation\"},{\"attributes\":{\"coordinates\":null,\"fill_color\":null,\"group\":null,\"left\":216.75,\"level\":\"underlay\",\"line_alpha\":0.4,\"line_color\":\"black\",\"right\":217.5},\"id\":\"2053\",\"type\":\"BoxAnnotation\"},{\"attributes\":{\"coordinates\":null,\"fill_color\":null,\"group\":null,\"left\":29.25,\"level\":\"underlay\",\"line_alpha\":0.4,\"line_color\":\"black\",\"right\":30.0},\"id\":\"1803\",\"type\":\"BoxAnnotation\"},{\"attributes\":{\"coordinates\":null,\"fill_color\":null,\"group\":null,\"left\":217.5,\"level\":\"underlay\",\"line_alpha\":0.4,\"line_color\":\"black\",\"right\":218.25},\"id\":\"2054\",\"type\":\"BoxAnnotation\"},{\"attributes\":{\"coordinates\":null,\"fill_color\":null,\"group\":null,\"left\":30.0,\"level\":\"underlay\",\"line_alpha\":0.4,\"line_color\":\"black\",\"right\":30.75},\"id\":\"1804\",\"type\":\"BoxAnnotation\"},{\"attributes\":{\"coordinates\":null,\"fill_color\":null,\"group\":null,\"left\":218.25,\"level\":\"underlay\",\"line_alpha\":0.4,\"line_color\":\"black\",\"right\":219.0},\"id\":\"2055\",\"type\":\"BoxAnnotation\"},{\"attributes\":{\"coordinates\":null,\"fill_color\":null,\"group\":null,\"left\":30.75,\"level\":\"underlay\",\"line_alpha\":0.4,\"line_color\":\"black\",\"right\":31.5},\"id\":\"1805\",\"type\":\"BoxAnnotation\"},{\"attributes\":{\"coordinates\":null,\"fill_color\":null,\"group\":null,\"left\":219.0,\"level\":\"underlay\",\"line_alpha\":0.4,\"line_color\":\"black\",\"right\":219.75},\"id\":\"2056\",\"type\":\"BoxAnnotation\"},{\"attributes\":{\"coordinates\":null,\"fill_color\":null,\"group\":null,\"left\":31.5,\"level\":\"underlay\",\"line_alpha\":0.4,\"line_color\":\"black\",\"right\":32.25},\"id\":\"1806\",\"type\":\"BoxAnnotation\"},{\"attributes\":{\"coordinates\":null,\"fill_color\":null,\"group\":null,\"left\":219.75,\"level\":\"underlay\",\"line_alpha\":0.4,\"line_color\":\"black\",\"right\":220.5},\"id\":\"2057\",\"type\":\"BoxAnnotation\"},{\"attributes\":{\"coordinates\":null,\"fill_color\":null,\"group\":null,\"left\":32.25,\"level\":\"underlay\",\"line_alpha\":0.4,\"line_color\":\"black\",\"right\":33.0},\"id\":\"1807\",\"type\":\"BoxAnnotation\"},{\"attributes\":{\"coordinates\":null,\"fill_color\":null,\"group\":null,\"left\":220.5,\"level\":\"underlay\",\"line_alpha\":0.4,\"line_color\":\"black\",\"right\":221.25},\"id\":\"2058\",\"type\":\"BoxAnnotation\"},{\"attributes\":{\"coordinates\":null,\"fill_color\":null,\"group\":null,\"left\":33.0,\"level\":\"underlay\",\"line_alpha\":0.4,\"line_color\":\"black\",\"right\":33.75},\"id\":\"1808\",\"type\":\"BoxAnnotation\"},{\"attributes\":{\"coordinates\":null,\"fill_color\":null,\"group\":null,\"left\":221.25,\"level\":\"underlay\",\"line_alpha\":0.4,\"line_color\":\"black\",\"right\":222.0},\"id\":\"2059\",\"type\":\"BoxAnnotation\"},{\"attributes\":{\"coordinates\":null,\"fill_color\":null,\"group\":null,\"left\":33.75,\"level\":\"underlay\",\"line_alpha\":0.4,\"line_color\":\"black\",\"right\":34.5},\"id\":\"1809\",\"type\":\"BoxAnnotation\"},{\"attributes\":{\"coordinates\":null,\"fill_color\":null,\"group\":null,\"left\":222.0,\"level\":\"underlay\",\"line_alpha\":0.4,\"line_color\":\"black\",\"right\":222.75},\"id\":\"2060\",\"type\":\"BoxAnnotation\"},{\"attributes\":{\"coordinates\":null,\"fill_color\":null,\"group\":null,\"left\":34.5,\"level\":\"underlay\",\"line_alpha\":0.4,\"line_color\":\"black\",\"right\":35.25},\"id\":\"1810\",\"type\":\"BoxAnnotation\"},{\"attributes\":{\"coordinates\":null,\"fill_color\":null,\"group\":null,\"left\":222.75,\"level\":\"underlay\",\"line_alpha\":0.4,\"line_color\":\"black\",\"right\":223.5},\"id\":\"2061\",\"type\":\"BoxAnnotation\"},{\"attributes\":{\"coordinates\":null,\"fill_color\":null,\"group\":null,\"left\":35.25,\"level\":\"underlay\",\"line_alpha\":0.4,\"line_color\":\"black\",\"right\":36.0},\"id\":\"1811\",\"type\":\"BoxAnnotation\"},{\"attributes\":{\"coordinates\":null,\"fill_color\":null,\"group\":null,\"left\":223.5,\"level\":\"underlay\",\"line_alpha\":0.4,\"line_color\":\"black\",\"right\":224.25},\"id\":\"2062\",\"type\":\"BoxAnnotation\"},{\"attributes\":{\"coordinates\":null,\"fill_color\":null,\"group\":null,\"left\":36.0,\"level\":\"underlay\",\"line_alpha\":0.4,\"line_color\":\"black\",\"right\":36.75},\"id\":\"1812\",\"type\":\"BoxAnnotation\"},{\"attributes\":{\"coordinates\":null,\"fill_color\":null,\"group\":null,\"left\":224.25,\"level\":\"underlay\",\"line_alpha\":0.4,\"line_color\":\"black\",\"right\":225.0},\"id\":\"2063\",\"type\":\"BoxAnnotation\"},{\"attributes\":{\"coordinates\":null,\"fill_color\":null,\"group\":null,\"left\":36.75,\"level\":\"underlay\",\"line_alpha\":0.4,\"line_color\":\"black\",\"right\":37.5},\"id\":\"1813\",\"type\":\"BoxAnnotation\"},{\"attributes\":{\"coordinates\":null,\"fill_color\":null,\"group\":null,\"left\":225.0,\"level\":\"underlay\",\"line_alpha\":0.4,\"line_color\":\"black\",\"right\":225.75},\"id\":\"2064\",\"type\":\"BoxAnnotation\"},{\"attributes\":{\"coordinates\":null,\"fill_color\":null,\"group\":null,\"left\":37.5,\"level\":\"underlay\",\"line_alpha\":0.4,\"line_color\":\"black\",\"right\":38.25},\"id\":\"1814\",\"type\":\"BoxAnnotation\"},{\"attributes\":{\"coordinates\":null,\"fill_color\":null,\"group\":null,\"left\":225.75,\"level\":\"underlay\",\"line_alpha\":0.4,\"line_color\":\"black\",\"right\":226.5},\"id\":\"2065\",\"type\":\"BoxAnnotation\"},{\"attributes\":{\"coordinates\":null,\"fill_color\":null,\"group\":null,\"left\":38.25,\"level\":\"underlay\",\"line_alpha\":0.4,\"line_color\":\"black\",\"right\":39.0},\"id\":\"1815\",\"type\":\"BoxAnnotation\"},{\"attributes\":{\"coordinates\":null,\"fill_color\":null,\"group\":null,\"left\":226.5,\"level\":\"underlay\",\"line_alpha\":0.4,\"line_color\":\"black\",\"right\":227.25},\"id\":\"2066\",\"type\":\"BoxAnnotation\"},{\"attributes\":{\"coordinates\":null,\"fill_color\":null,\"group\":null,\"left\":39.0,\"level\":\"underlay\",\"line_alpha\":0.4,\"line_color\":\"black\",\"right\":39.75},\"id\":\"1816\",\"type\":\"BoxAnnotation\"},{\"attributes\":{\"coordinates\":null,\"fill_color\":null,\"group\":null,\"left\":227.25,\"level\":\"underlay\",\"line_alpha\":0.4,\"line_color\":\"black\",\"right\":228.0},\"id\":\"2067\",\"type\":\"BoxAnnotation\"},{\"attributes\":{\"coordinates\":null,\"fill_color\":null,\"group\":null,\"left\":39.75,\"level\":\"underlay\",\"line_alpha\":0.4,\"line_color\":\"black\",\"right\":40.5},\"id\":\"1817\",\"type\":\"BoxAnnotation\"},{\"attributes\":{\"coordinates\":null,\"fill_color\":null,\"group\":null,\"left\":228.0,\"level\":\"underlay\",\"line_alpha\":0.4,\"line_color\":\"black\",\"right\":228.75},\"id\":\"2068\",\"type\":\"BoxAnnotation\"},{\"attributes\":{\"coordinates\":null,\"fill_color\":null,\"group\":null,\"left\":40.5,\"level\":\"underlay\",\"line_alpha\":0.4,\"line_color\":\"black\",\"right\":41.25},\"id\":\"1818\",\"type\":\"BoxAnnotation\"},{\"attributes\":{\"coordinates\":null,\"fill_color\":null,\"group\":null,\"left\":228.75,\"level\":\"underlay\",\"line_alpha\":0.4,\"line_color\":\"black\",\"right\":229.5},\"id\":\"2069\",\"type\":\"BoxAnnotation\"},{\"attributes\":{\"coordinates\":null,\"fill_color\":null,\"group\":null,\"left\":41.25,\"level\":\"underlay\",\"line_alpha\":0.4,\"line_color\":\"black\",\"right\":42.0},\"id\":\"1819\",\"type\":\"BoxAnnotation\"},{\"attributes\":{\"coordinates\":null,\"fill_color\":null,\"group\":null,\"left\":229.5,\"level\":\"underlay\",\"line_alpha\":0.4,\"line_color\":\"black\",\"right\":230.25},\"id\":\"2070\",\"type\":\"BoxAnnotation\"},{\"attributes\":{\"coordinates\":null,\"fill_color\":null,\"group\":null,\"left\":42.0,\"level\":\"underlay\",\"line_alpha\":0.4,\"line_color\":\"black\",\"right\":42.75},\"id\":\"1820\",\"type\":\"BoxAnnotation\"},{\"attributes\":{\"coordinates\":null,\"fill_color\":null,\"group\":null,\"left\":230.25,\"level\":\"underlay\",\"line_alpha\":0.4,\"line_color\":\"black\",\"right\":231.0},\"id\":\"2071\",\"type\":\"BoxAnnotation\"},{\"attributes\":{\"coordinates\":null,\"fill_color\":null,\"group\":null,\"left\":45.0,\"level\":\"underlay\",\"line_alpha\":0.4,\"line_color\":\"black\",\"right\":45.75},\"id\":\"1824\",\"type\":\"BoxAnnotation\"},{\"attributes\":{\"coordinates\":null,\"fill_color\":null,\"group\":null,\"left\":233.25,\"level\":\"underlay\",\"line_alpha\":0.4,\"line_color\":\"black\",\"right\":234.0},\"id\":\"2075\",\"type\":\"BoxAnnotation\"},{\"attributes\":{\"coordinates\":null,\"fill_color\":null,\"group\":null,\"left\":42.75,\"level\":\"underlay\",\"line_alpha\":0.4,\"line_color\":\"black\",\"right\":43.5},\"id\":\"1821\",\"type\":\"BoxAnnotation\"},{\"attributes\":{\"coordinates\":null,\"fill_color\":null,\"group\":null,\"left\":231.0,\"level\":\"underlay\",\"line_alpha\":0.4,\"line_color\":\"black\",\"right\":231.75},\"id\":\"2072\",\"type\":\"BoxAnnotation\"},{\"attributes\":{\"coordinates\":null,\"fill_color\":null,\"group\":null,\"left\":43.5,\"level\":\"underlay\",\"line_alpha\":0.4,\"line_color\":\"black\",\"right\":44.25},\"id\":\"1822\",\"type\":\"BoxAnnotation\"},{\"attributes\":{\"coordinates\":null,\"fill_color\":null,\"group\":null,\"left\":231.75,\"level\":\"underlay\",\"line_alpha\":0.4,\"line_color\":\"black\",\"right\":232.5},\"id\":\"2073\",\"type\":\"BoxAnnotation\"},{\"attributes\":{\"coordinates\":null,\"fill_color\":null,\"group\":null,\"left\":46.5,\"level\":\"underlay\",\"line_alpha\":0.4,\"line_color\":\"black\",\"right\":47.25},\"id\":\"1826\",\"type\":\"BoxAnnotation\"},{\"attributes\":{\"coordinates\":null,\"fill_color\":null,\"group\":null,\"left\":234.75,\"level\":\"underlay\",\"line_alpha\":0.4,\"line_color\":\"black\",\"right\":235.5},\"id\":\"2077\",\"type\":\"BoxAnnotation\"},{\"attributes\":{\"coordinates\":null,\"fill_color\":null,\"group\":null,\"left\":44.25,\"level\":\"underlay\",\"line_alpha\":0.4,\"line_color\":\"black\",\"right\":45.0},\"id\":\"1823\",\"type\":\"BoxAnnotation\"},{\"attributes\":{\"coordinates\":null,\"fill_color\":null,\"group\":null,\"left\":232.5,\"level\":\"underlay\",\"line_alpha\":0.4,\"line_color\":\"black\",\"right\":233.25},\"id\":\"2074\",\"type\":\"BoxAnnotation\"},{\"attributes\":{\"coordinates\":null,\"fill_color\":null,\"group\":null,\"left\":45.75,\"level\":\"underlay\",\"line_alpha\":0.4,\"line_color\":\"black\",\"right\":46.5},\"id\":\"1825\",\"type\":\"BoxAnnotation\"},{\"attributes\":{\"coordinates\":null,\"fill_color\":null,\"group\":null,\"left\":234.0,\"level\":\"underlay\",\"line_alpha\":0.4,\"line_color\":\"black\",\"right\":234.75},\"id\":\"2076\",\"type\":\"BoxAnnotation\"},{\"attributes\":{\"bottom\":66,\"coordinates\":null,\"fill_alpha\":0.15,\"fill_color\":\"gray\",\"group\":null,\"level\":\"underlay\",\"line_color\":\"black\",\"top\":67},\"id\":\"1664\",\"type\":\"BoxAnnotation\"},{\"attributes\":{\"coordinates\":null,\"group\":null,\"render_mode\":\"css\",\"text\":\"65\",\"text_font_size\":\"10px\",\"x\":-18,\"x_units\":\"screen\",\"y\":65.1},\"id\":\"1663\",\"type\":\"Label\"},{\"attributes\":{\"coordinates\":null,\"fill_alpha\":0.25,\"fill_color\":\"gray\",\"group\":null,\"left\":12.0,\"level\":\"underlay\",\"line_alpha\":0.5,\"line_color\":\"black\",\"line_width\":2,\"right\":15.0},\"id\":\"1682\",\"type\":\"BoxAnnotation\"},{\"attributes\":{\"bottom\":67,\"coordinates\":null,\"fill_alpha\":0.0,\"fill_color\":\"gray\",\"group\":null,\"level\":\"underlay\",\"line_color\":\"black\",\"top\":68},\"id\":\"1666\",\"type\":\"BoxAnnotation\"},{\"attributes\":{},\"id\":\"1616\",\"type\":\"AllLabels\"},{\"attributes\":{\"coordinates\":null,\"group\":null,\"render_mode\":\"css\",\"text\":\"66\",\"text_font_size\":\"10px\",\"x\":-18,\"x_units\":\"screen\",\"y\":66.1},\"id\":\"1665\",\"type\":\"Label\"},{\"attributes\":{\"bottom\":68,\"coordinates\":null,\"fill_alpha\":0.15,\"fill_color\":\"gray\",\"group\":null,\"level\":\"underlay\",\"line_color\":\"black\",\"top\":69},\"id\":\"1668\",\"type\":\"BoxAnnotation\"},{\"attributes\":{\"coordinates\":null,\"group\":null,\"render_mode\":\"css\",\"text\":\"67\",\"text_font_size\":\"10px\",\"x\":-18,\"x_units\":\"screen\",\"y\":67.1},\"id\":\"1667\",\"type\":\"Label\"},{\"attributes\":{\"bottom\":69,\"coordinates\":null,\"fill_alpha\":0.0,\"fill_color\":\"gray\",\"group\":null,\"level\":\"underlay\",\"line_color\":\"black\",\"top\":70},\"id\":\"1670\",\"type\":\"BoxAnnotation\"},{\"attributes\":{\"coordinates\":null,\"group\":null,\"render_mode\":\"css\",\"text\":\"68\",\"text_font_size\":\"10px\",\"x\":-18,\"x_units\":\"screen\",\"y\":68.1},\"id\":\"1669\",\"type\":\"Label\"},{\"attributes\":{\"bottom\":70,\"coordinates\":null,\"fill_alpha\":0.15,\"fill_color\":\"gray\",\"group\":null,\"level\":\"underlay\",\"line_color\":\"black\",\"top\":71},\"id\":\"1672\",\"type\":\"BoxAnnotation\"},{\"attributes\":{\"coordinates\":null,\"group\":null,\"render_mode\":\"css\",\"text\":\"69\",\"text_font_size\":\"10px\",\"x\":-18,\"x_units\":\"screen\",\"y\":69.1},\"id\":\"1671\",\"type\":\"Label\"},{\"attributes\":{\"bottom\":71,\"coordinates\":null,\"fill_alpha\":0.0,\"fill_color\":\"gray\",\"group\":null,\"level\":\"underlay\",\"line_color\":\"black\",\"top\":72},\"id\":\"1674\",\"type\":\"BoxAnnotation\"},{\"attributes\":{},\"id\":\"1615\",\"type\":\"BasicTickFormatter\"},{\"attributes\":{\"coordinates\":null,\"group\":null,\"render_mode\":\"css\",\"text\":\"70\",\"text_font_size\":\"10px\",\"x\":-18,\"x_units\":\"screen\",\"y\":70.1},\"id\":\"1673\",\"type\":\"Label\"},{\"attributes\":{\"bottom\":72,\"coordinates\":null,\"fill_alpha\":0.15,\"fill_color\":\"gray\",\"group\":null,\"level\":\"underlay\",\"line_color\":\"black\",\"top\":73},\"id\":\"1676\",\"type\":\"BoxAnnotation\"},{\"attributes\":{\"coordinates\":null,\"group\":null,\"render_mode\":\"css\",\"text\":\"71\",\"text_font_size\":\"10px\",\"x\":-18,\"x_units\":\"screen\",\"y\":71.1},\"id\":\"1675\",\"type\":\"Label\"},{\"attributes\":{\"coordinates\":null,\"fill_alpha\":0.05,\"fill_color\":\"gray\",\"group\":null,\"left\":183.0,\"level\":\"underlay\",\"line_alpha\":0.5,\"line_color\":\"black\",\"line_width\":2,\"right\":186.0},\"id\":\"1739\",\"type\":\"BoxAnnotation\"},{\"attributes\":{\"coordinates\":null,\"group\":null,\"render_mode\":\"css\",\"text\":\"72\",\"text_font_size\":\"10px\",\"x\":-18,\"x_units\":\"screen\",\"y\":72.1},\"id\":\"1677\",\"type\":\"Label\"},{\"attributes\":{},\"id\":\"1613\",\"type\":\"AllLabels\"},{\"attributes\":{\"coordinates\":null,\"fill_alpha\":0.25,\"fill_color\":\"gray\",\"group\":null,\"left\":0.0,\"level\":\"underlay\",\"line_alpha\":0.5,\"line_color\":\"black\",\"line_width\":2,\"right\":3.0},\"id\":\"1678\",\"type\":\"BoxAnnotation\"},{\"attributes\":{\"coordinates\":null,\"fill_alpha\":0.25,\"fill_color\":\"gray\",\"group\":null,\"left\":6.0,\"level\":\"underlay\",\"line_alpha\":0.5,\"line_color\":\"black\",\"line_width\":2,\"right\":9.0},\"id\":\"1680\",\"type\":\"BoxAnnotation\"},{\"attributes\":{\"coordinates\":null,\"fill_alpha\":0.05,\"fill_color\":\"gray\",\"group\":null,\"left\":9.0,\"level\":\"underlay\",\"line_alpha\":0.5,\"line_color\":\"black\",\"line_width\":2,\"right\":12.0},\"id\":\"1681\",\"type\":\"BoxAnnotation\"},{\"attributes\":{\"coordinates\":null,\"fill_alpha\":0.05,\"fill_color\":\"gray\",\"group\":null,\"left\":15.0,\"level\":\"underlay\",\"line_alpha\":0.5,\"line_color\":\"black\",\"line_width\":2,\"right\":18.0},\"id\":\"1683\",\"type\":\"BoxAnnotation\"},{\"attributes\":{\"coordinates\":null,\"fill_alpha\":0.05,\"fill_color\":\"gray\",\"group\":null,\"left\":3.0,\"level\":\"underlay\",\"line_alpha\":0.5,\"line_color\":\"black\",\"line_width\":2,\"right\":6.0},\"id\":\"1679\",\"type\":\"BoxAnnotation\"},{\"attributes\":{\"coordinates\":null,\"fill_alpha\":0.25,\"fill_color\":\"gray\",\"group\":null,\"left\":18.0,\"level\":\"underlay\",\"line_alpha\":0.5,\"line_color\":\"black\",\"line_width\":2,\"right\":21.0},\"id\":\"1684\",\"type\":\"BoxAnnotation\"},{\"attributes\":{\"coordinates\":null,\"fill_alpha\":0.05,\"fill_color\":\"gray\",\"group\":null,\"left\":21.0,\"level\":\"underlay\",\"line_alpha\":0.5,\"line_color\":\"black\",\"line_width\":2,\"right\":24.0},\"id\":\"1685\",\"type\":\"BoxAnnotation\"},{\"attributes\":{\"coordinates\":null,\"fill_alpha\":0.25,\"fill_color\":\"gray\",\"group\":null,\"left\":24.0,\"level\":\"underlay\",\"line_alpha\":0.5,\"line_color\":\"black\",\"line_width\":2,\"right\":27.0},\"id\":\"1686\",\"type\":\"BoxAnnotation\"},{\"attributes\":{\"coordinates\":null,\"fill_alpha\":0.05,\"fill_color\":\"gray\",\"group\":null,\"left\":27.0,\"level\":\"underlay\",\"line_alpha\":0.5,\"line_color\":\"black\",\"line_width\":2,\"right\":30.0},\"id\":\"1687\",\"type\":\"BoxAnnotation\"},{\"attributes\":{\"coordinates\":null,\"fill_alpha\":0.25,\"fill_color\":\"gray\",\"group\":null,\"left\":30.0,\"level\":\"underlay\",\"line_alpha\":0.5,\"line_color\":\"black\",\"line_width\":2,\"right\":33.0},\"id\":\"1688\",\"type\":\"BoxAnnotation\"},{\"attributes\":{},\"id\":\"1612\",\"type\":\"BasicTickFormatter\"},{\"attributes\":{\"coordinates\":null,\"fill_alpha\":0.05,\"fill_color\":\"gray\",\"group\":null,\"left\":33.0,\"level\":\"underlay\",\"line_alpha\":0.5,\"line_color\":\"black\",\"line_width\":2,\"right\":36.0},\"id\":\"1689\",\"type\":\"BoxAnnotation\"},{\"attributes\":{\"coordinates\":null,\"fill_alpha\":0.25,\"fill_color\":\"gray\",\"group\":null,\"left\":36.0,\"level\":\"underlay\",\"line_alpha\":0.5,\"line_color\":\"black\",\"line_width\":2,\"right\":39.0},\"id\":\"1690\",\"type\":\"BoxAnnotation\"},{\"attributes\":{\"coordinates\":null,\"fill_alpha\":0.05,\"fill_color\":\"gray\",\"group\":null,\"left\":39.0,\"level\":\"underlay\",\"line_alpha\":0.5,\"line_color\":\"black\",\"line_width\":2,\"right\":42.0},\"id\":\"1691\",\"type\":\"BoxAnnotation\"},{\"attributes\":{\"coordinates\":null,\"fill_alpha\":0.25,\"fill_color\":\"gray\",\"group\":null,\"left\":42.0,\"level\":\"underlay\",\"line_alpha\":0.5,\"line_color\":\"black\",\"line_width\":2,\"right\":45.0},\"id\":\"1692\",\"type\":\"BoxAnnotation\"},{\"attributes\":{\"coordinates\":null,\"fill_alpha\":0.05,\"fill_color\":\"gray\",\"group\":null,\"left\":45.0,\"level\":\"underlay\",\"line_alpha\":0.5,\"line_color\":\"black\",\"line_width\":2,\"right\":48.0},\"id\":\"1693\",\"type\":\"BoxAnnotation\"},{\"attributes\":{\"coordinates\":null,\"fill_alpha\":0.25,\"fill_color\":\"gray\",\"group\":null,\"left\":48.0,\"level\":\"underlay\",\"line_alpha\":0.5,\"line_color\":\"black\",\"line_width\":2,\"right\":51.0},\"id\":\"1694\",\"type\":\"BoxAnnotation\"},{\"attributes\":{\"coordinates\":null,\"fill_alpha\":0.05,\"fill_color\":\"gray\",\"group\":null,\"left\":51.0,\"level\":\"underlay\",\"line_alpha\":0.5,\"line_color\":\"black\",\"line_width\":2,\"right\":54.0},\"id\":\"1695\",\"type\":\"BoxAnnotation\"},{\"attributes\":{\"coordinates\":null,\"fill_alpha\":0.25,\"fill_color\":\"gray\",\"group\":null,\"left\":54.0,\"level\":\"underlay\",\"line_alpha\":0.5,\"line_color\":\"black\",\"line_width\":2,\"right\":57.0},\"id\":\"1696\",\"type\":\"BoxAnnotation\"},{\"attributes\":{\"coordinates\":null,\"fill_alpha\":0.05,\"fill_color\":\"gray\",\"group\":null,\"left\":57.0,\"level\":\"underlay\",\"line_alpha\":0.5,\"line_color\":\"black\",\"line_width\":2,\"right\":60.0},\"id\":\"1697\",\"type\":\"BoxAnnotation\"},{\"attributes\":{\"bottom\":47,\"coordinates\":null,\"fill_alpha\":0.0,\"fill_color\":\"gray\",\"group\":null,\"level\":\"underlay\",\"line_color\":\"black\",\"top\":48},\"id\":\"1626\",\"type\":\"BoxAnnotation\"},{\"attributes\":{\"coordinates\":null,\"fill_alpha\":0.25,\"fill_color\":\"gray\",\"group\":null,\"left\":60.0,\"level\":\"underlay\",\"line_alpha\":0.5,\"line_color\":\"black\",\"line_width\":2,\"right\":63.0},\"id\":\"1698\",\"type\":\"BoxAnnotation\"},{\"attributes\":{\"coordinates\":null,\"data_source\":{\"id\":\"1617\"},\"glyph\":{\"id\":\"1619\"},\"group\":null,\"hover_glyph\":null,\"muted_glyph\":{\"id\":\"1621\"},\"nonselection_glyph\":{\"id\":\"1620\"},\"view\":{\"id\":\"1623\"}},\"id\":\"1622\",\"type\":\"GlyphRenderer\"},{\"attributes\":{\"coordinates\":null,\"fill_alpha\":0.05,\"fill_color\":\"gray\",\"group\":null,\"left\":63.0,\"level\":\"underlay\",\"line_alpha\":0.5,\"line_color\":\"black\",\"line_width\":2,\"right\":66.0},\"id\":\"1699\",\"type\":\"BoxAnnotation\"},{\"attributes\":{\"coordinates\":null,\"fill_alpha\":0.25,\"fill_color\":\"gray\",\"group\":null,\"left\":66.0,\"level\":\"underlay\",\"line_alpha\":0.5,\"line_color\":\"black\",\"line_width\":2,\"right\":69.0},\"id\":\"1700\",\"type\":\"BoxAnnotation\"},{\"attributes\":{\"bottom\":{\"field\":\"bottom\"},\"fill_alpha\":{\"value\":0.1},\"fill_color\":{\"field\":\"color\"},\"hatch_alpha\":{\"value\":0.1},\"hatch_color\":{\"field\":\"color\"},\"left\":{\"field\":\"left\"},\"line_alpha\":{\"value\":0.1},\"right\":{\"field\":\"right\"},\"top\":{\"field\":\"top\"}},\"id\":\"1620\",\"type\":\"Quad\"},{\"attributes\":{\"coordinates\":null,\"fill_alpha\":0.05,\"fill_color\":\"gray\",\"group\":null,\"left\":69.0,\"level\":\"underlay\",\"line_alpha\":0.5,\"line_color\":\"black\",\"line_width\":2,\"right\":72.0},\"id\":\"1701\",\"type\":\"BoxAnnotation\"},{\"attributes\":{\"interval\":1},\"id\":\"2106\",\"type\":\"SingleIntervalTicker\"},{\"attributes\":{\"bottom\":50,\"coordinates\":null,\"fill_alpha\":0.15,\"fill_color\":\"gray\",\"group\":null,\"level\":\"underlay\",\"line_color\":\"black\",\"top\":51},\"id\":\"1632\",\"type\":\"BoxAnnotation\"},{\"attributes\":{\"coordinates\":null,\"fill_alpha\":0.25,\"fill_color\":\"gray\",\"group\":null,\"left\":72.0,\"level\":\"underlay\",\"line_alpha\":0.5,\"line_color\":\"black\",\"line_width\":2,\"right\":75.0},\"id\":\"1702\",\"type\":\"BoxAnnotation\"},{\"attributes\":{\"coordinates\":null,\"fill_alpha\":0.05,\"fill_color\":\"gray\",\"group\":null,\"left\":75.0,\"level\":\"underlay\",\"line_alpha\":0.5,\"line_color\":\"black\",\"line_width\":2,\"right\":78.0},\"id\":\"1703\",\"type\":\"BoxAnnotation\"},{\"attributes\":{\"source\":{\"id\":\"1617\"}},\"id\":\"1623\",\"type\":\"CDSView\"},{\"attributes\":{\"coordinates\":null,\"fill_alpha\":0.25,\"fill_color\":\"gray\",\"group\":null,\"left\":78.0,\"level\":\"underlay\",\"line_alpha\":0.5,\"line_color\":\"black\",\"line_width\":2,\"right\":81.0},\"id\":\"1704\",\"type\":\"BoxAnnotation\"},{\"attributes\":{\"bottom\":{\"field\":\"bottom\"},\"fill_alpha\":{\"value\":0.2},\"fill_color\":{\"field\":\"color\"},\"hatch_alpha\":{\"value\":0.2},\"hatch_color\":{\"field\":\"color\"},\"left\":{\"field\":\"left\"},\"line_alpha\":{\"value\":0.2},\"right\":{\"field\":\"right\"},\"top\":{\"field\":\"top\"}},\"id\":\"1621\",\"type\":\"Quad\"},{\"attributes\":{\"bottom\":46,\"coordinates\":null,\"fill_alpha\":0.15,\"fill_color\":\"gray\",\"group\":null,\"level\":\"underlay\",\"line_color\":\"black\",\"top\":47},\"id\":\"1624\",\"type\":\"BoxAnnotation\"},{\"attributes\":{\"coordinates\":null,\"fill_alpha\":0.05,\"fill_color\":\"gray\",\"group\":null,\"left\":81.0,\"level\":\"underlay\",\"line_alpha\":0.5,\"line_color\":\"black\",\"line_width\":2,\"right\":84.0},\"id\":\"1705\",\"type\":\"BoxAnnotation\"},{\"attributes\":{\"bottom\":52,\"coordinates\":null,\"fill_alpha\":0.15,\"fill_color\":\"gray\",\"group\":null,\"level\":\"underlay\",\"line_color\":\"black\",\"top\":53},\"id\":\"1636\",\"type\":\"BoxAnnotation\"},{\"attributes\":{\"coordinates\":null,\"fill_alpha\":0.25,\"fill_color\":\"gray\",\"group\":null,\"left\":84.0,\"level\":\"underlay\",\"line_alpha\":0.5,\"line_color\":\"black\",\"line_width\":2,\"right\":87.0},\"id\":\"1706\",\"type\":\"BoxAnnotation\"},{\"attributes\":{\"coordinates\":null,\"group\":null,\"render_mode\":\"css\",\"text\":\"48\",\"text_font_size\":\"10px\",\"x\":-18,\"x_units\":\"screen\",\"y\":48.1},\"id\":\"1629\",\"type\":\"Label\"},{\"attributes\":{\"coordinates\":null,\"fill_alpha\":0.05,\"fill_color\":\"gray\",\"group\":null,\"left\":87.0,\"level\":\"underlay\",\"line_alpha\":0.5,\"line_color\":\"black\",\"line_width\":2,\"right\":90.0},\"id\":\"1707\",\"type\":\"BoxAnnotation\"},{\"attributes\":{\"bottom\":53,\"coordinates\":null,\"fill_alpha\":0.0,\"fill_color\":\"gray\",\"group\":null,\"level\":\"underlay\",\"line_color\":\"black\",\"top\":54},\"id\":\"1638\",\"type\":\"BoxAnnotation\"},{\"attributes\":{\"coordinates\":null,\"fill_alpha\":0.25,\"fill_color\":\"gray\",\"group\":null,\"left\":90.0,\"level\":\"underlay\",\"line_alpha\":0.5,\"line_color\":\"black\",\"line_width\":2,\"right\":93.0},\"id\":\"1708\",\"type\":\"BoxAnnotation\"},{\"attributes\":{\"coordinates\":null,\"group\":null,\"render_mode\":\"css\",\"text\":\"64\",\"text_font_size\":\"10px\",\"x\":-18,\"x_units\":\"screen\",\"y\":64.1},\"id\":\"1661\",\"type\":\"Label\"},{\"attributes\":{\"coordinates\":null,\"fill_alpha\":0.05,\"fill_color\":\"gray\",\"group\":null,\"left\":93.0,\"level\":\"underlay\",\"line_alpha\":0.5,\"line_color\":\"black\",\"line_width\":2,\"right\":96.0},\"id\":\"1709\",\"type\":\"BoxAnnotation\"},{\"attributes\":{\"coordinates\":null,\"group\":null,\"render_mode\":\"css\",\"text\":\"46\",\"text_font_size\":\"10px\",\"x\":-18,\"x_units\":\"screen\",\"y\":46.1},\"id\":\"1625\",\"type\":\"Label\"},{\"attributes\":{\"coordinates\":null,\"fill_alpha\":0.25,\"fill_color\":\"gray\",\"group\":null,\"left\":96.0,\"level\":\"underlay\",\"line_alpha\":0.5,\"line_color\":\"black\",\"line_width\":2,\"right\":99.0},\"id\":\"1710\",\"type\":\"BoxAnnotation\"},{\"attributes\":{\"bottom\":49,\"coordinates\":null,\"fill_alpha\":0.0,\"fill_color\":\"gray\",\"group\":null,\"level\":\"underlay\",\"line_color\":\"black\",\"top\":50},\"id\":\"1630\",\"type\":\"BoxAnnotation\"},{\"attributes\":{\"coordinates\":null,\"fill_alpha\":0.05,\"fill_color\":\"gray\",\"group\":null,\"left\":99.0,\"level\":\"underlay\",\"line_alpha\":0.5,\"line_color\":\"black\",\"line_width\":2,\"right\":102.0},\"id\":\"1711\",\"type\":\"BoxAnnotation\"},{\"attributes\":{\"coordinates\":null,\"group\":null,\"render_mode\":\"css\",\"text\":\"47\",\"text_font_size\":\"10px\",\"x\":-18,\"x_units\":\"screen\",\"y\":47.1},\"id\":\"1627\",\"type\":\"Label\"},{\"attributes\":{\"coordinates\":null,\"fill_alpha\":0.25,\"fill_color\":\"gray\",\"group\":null,\"left\":102.0,\"level\":\"underlay\",\"line_alpha\":0.5,\"line_color\":\"black\",\"line_width\":2,\"right\":105.0},\"id\":\"1712\",\"type\":\"BoxAnnotation\"},{\"attributes\":{\"coordinates\":null,\"group\":null,\"render_mode\":\"css\",\"text\":\"62\",\"text_font_size\":\"10px\",\"x\":-18,\"x_units\":\"screen\",\"y\":62.1},\"id\":\"1657\",\"type\":\"Label\"},{\"attributes\":{\"coordinates\":null,\"fill_alpha\":0.05,\"fill_color\":\"gray\",\"group\":null,\"left\":105.0,\"level\":\"underlay\",\"line_alpha\":0.5,\"line_color\":\"black\",\"line_width\":2,\"right\":108.0},\"id\":\"1713\",\"type\":\"BoxAnnotation\"},{\"attributes\":{\"coordinates\":null,\"group\":null,\"render_mode\":\"css\",\"text\":\"49\",\"text_font_size\":\"10px\",\"x\":-18,\"x_units\":\"screen\",\"y\":49.1},\"id\":\"1631\",\"type\":\"Label\"},{\"attributes\":{\"coordinates\":null,\"fill_alpha\":0.25,\"fill_color\":\"gray\",\"group\":null,\"left\":108.0,\"level\":\"underlay\",\"line_alpha\":0.5,\"line_color\":\"black\",\"line_width\":2,\"right\":111.0},\"id\":\"1714\",\"type\":\"BoxAnnotation\"},{\"attributes\":{\"bottom\":51,\"coordinates\":null,\"fill_alpha\":0.0,\"fill_color\":\"gray\",\"group\":null,\"level\":\"underlay\",\"line_color\":\"black\",\"top\":52},\"id\":\"1634\",\"type\":\"BoxAnnotation\"},{\"attributes\":{\"coordinates\":null,\"fill_alpha\":0.05,\"fill_color\":\"gray\",\"group\":null,\"left\":111.0,\"level\":\"underlay\",\"line_alpha\":0.5,\"line_color\":\"black\",\"line_width\":2,\"right\":114.0},\"id\":\"1715\",\"type\":\"BoxAnnotation\"},{\"attributes\":{\"coordinates\":null,\"group\":null,\"render_mode\":\"css\",\"text\":\"50\",\"text_font_size\":\"10px\",\"x\":-18,\"x_units\":\"screen\",\"y\":50.1},\"id\":\"1633\",\"type\":\"Label\"},{\"attributes\":{\"coordinates\":null,\"fill_alpha\":0.25,\"fill_color\":\"gray\",\"group\":null,\"left\":114.0,\"level\":\"underlay\",\"line_alpha\":0.5,\"line_color\":\"black\",\"line_width\":2,\"right\":117.0},\"id\":\"1716\",\"type\":\"BoxAnnotation\"},{\"attributes\":{\"coordinates\":null,\"fill_alpha\":0.05,\"fill_color\":\"gray\",\"group\":null,\"left\":117.0,\"level\":\"underlay\",\"line_alpha\":0.5,\"line_color\":\"black\",\"line_width\":2,\"right\":120.0},\"id\":\"1717\",\"type\":\"BoxAnnotation\"},{\"attributes\":{\"coordinates\":null,\"group\":null,\"render_mode\":\"css\",\"text\":\"51\",\"text_font_size\":\"10px\",\"x\":-18,\"x_units\":\"screen\",\"y\":51.1},\"id\":\"1635\",\"type\":\"Label\"},{\"attributes\":{\"coordinates\":null,\"fill_alpha\":0.25,\"fill_color\":\"gray\",\"group\":null,\"left\":120.0,\"level\":\"underlay\",\"line_alpha\":0.5,\"line_color\":\"black\",\"line_width\":2,\"right\":123.0},\"id\":\"1718\",\"type\":\"BoxAnnotation\"},{\"attributes\":{\"bottom\":65,\"coordinates\":null,\"fill_alpha\":0.0,\"fill_color\":\"gray\",\"group\":null,\"level\":\"underlay\",\"line_color\":\"black\",\"top\":66},\"id\":\"1662\",\"type\":\"BoxAnnotation\"},{\"attributes\":{\"coordinates\":null,\"fill_alpha\":0.05,\"fill_color\":\"gray\",\"group\":null,\"left\":123.0,\"level\":\"underlay\",\"line_alpha\":0.5,\"line_color\":\"black\",\"line_width\":2,\"right\":126.0},\"id\":\"1719\",\"type\":\"BoxAnnotation\"},{\"attributes\":{\"coordinates\":null,\"group\":null,\"render_mode\":\"css\",\"text\":\"63\",\"text_font_size\":\"10px\",\"x\":-18,\"x_units\":\"screen\",\"y\":63.1},\"id\":\"1659\",\"type\":\"Label\"},{\"attributes\":{\"coordinates\":null,\"fill_alpha\":0.25,\"fill_color\":\"gray\",\"group\":null,\"left\":126.0,\"level\":\"underlay\",\"line_alpha\":0.5,\"line_color\":\"black\",\"line_width\":2,\"right\":129.0},\"id\":\"1720\",\"type\":\"BoxAnnotation\"},{\"attributes\":{\"coordinates\":null,\"group\":null,\"render_mode\":\"css\",\"text\":\"52\",\"text_font_size\":\"10px\",\"x\":-18,\"x_units\":\"screen\",\"y\":52.1},\"id\":\"1637\",\"type\":\"Label\"},{\"attributes\":{\"coordinates\":null,\"fill_alpha\":0.05,\"fill_color\":\"gray\",\"group\":null,\"left\":129.0,\"level\":\"underlay\",\"line_alpha\":0.5,\"line_color\":\"black\",\"line_width\":2,\"right\":132.0},\"id\":\"1721\",\"type\":\"BoxAnnotation\"},{\"attributes\":{\"bottom\":54,\"coordinates\":null,\"fill_alpha\":0.15,\"fill_color\":\"gray\",\"group\":null,\"level\":\"underlay\",\"line_color\":\"black\",\"top\":55},\"id\":\"1640\",\"type\":\"BoxAnnotation\"},{\"attributes\":{\"coordinates\":null,\"fill_alpha\":0.25,\"fill_color\":\"gray\",\"group\":null,\"left\":132.0,\"level\":\"underlay\",\"line_alpha\":0.5,\"line_color\":\"black\",\"line_width\":2,\"right\":135.0},\"id\":\"1722\",\"type\":\"BoxAnnotation\"},{\"attributes\":{\"coordinates\":null,\"group\":null,\"render_mode\":\"css\",\"text\":\"53\",\"text_font_size\":\"10px\",\"x\":-18,\"x_units\":\"screen\",\"y\":53.1},\"id\":\"1639\",\"type\":\"Label\"},{\"attributes\":{\"coordinates\":null,\"fill_alpha\":0.05,\"fill_color\":\"gray\",\"group\":null,\"left\":135.0,\"level\":\"underlay\",\"line_alpha\":0.5,\"line_color\":\"black\",\"line_width\":2,\"right\":138.0},\"id\":\"1723\",\"type\":\"BoxAnnotation\"},{\"attributes\":{\"bottom\":55,\"coordinates\":null,\"fill_alpha\":0.0,\"fill_color\":\"gray\",\"group\":null,\"level\":\"underlay\",\"line_color\":\"black\",\"top\":56},\"id\":\"1642\",\"type\":\"BoxAnnotation\"},{\"attributes\":{\"coordinates\":null,\"fill_alpha\":0.25,\"fill_color\":\"gray\",\"group\":null,\"left\":138.0,\"level\":\"underlay\",\"line_alpha\":0.5,\"line_color\":\"black\",\"line_width\":2,\"right\":141.0},\"id\":\"1724\",\"type\":\"BoxAnnotation\"},{\"attributes\":{\"coordinates\":null,\"group\":null,\"render_mode\":\"css\",\"text\":\"54\",\"text_font_size\":\"10px\",\"x\":-18,\"x_units\":\"screen\",\"y\":54.1},\"id\":\"1641\",\"type\":\"Label\"},{\"attributes\":{\"coordinates\":null,\"fill_alpha\":0.05,\"fill_color\":\"gray\",\"group\":null,\"left\":141.0,\"level\":\"underlay\",\"line_alpha\":0.5,\"line_color\":\"black\",\"line_width\":2,\"right\":144.0},\"id\":\"1725\",\"type\":\"BoxAnnotation\"},{\"attributes\":{\"bottom\":56,\"coordinates\":null,\"fill_alpha\":0.15,\"fill_color\":\"gray\",\"group\":null,\"level\":\"underlay\",\"line_color\":\"black\",\"top\":57},\"id\":\"1644\",\"type\":\"BoxAnnotation\"},{\"attributes\":{\"coordinates\":null,\"fill_alpha\":0.25,\"fill_color\":\"gray\",\"group\":null,\"left\":144.0,\"level\":\"underlay\",\"line_alpha\":0.5,\"line_color\":\"black\",\"line_width\":2,\"right\":147.0},\"id\":\"1726\",\"type\":\"BoxAnnotation\"},{\"attributes\":{\"coordinates\":null,\"group\":null,\"render_mode\":\"css\",\"text\":\"55\",\"text_font_size\":\"10px\",\"x\":-18,\"x_units\":\"screen\",\"y\":55.1},\"id\":\"1643\",\"type\":\"Label\"},{\"attributes\":{\"coordinates\":null,\"fill_alpha\":0.05,\"fill_color\":\"gray\",\"group\":null,\"left\":147.0,\"level\":\"underlay\",\"line_alpha\":0.5,\"line_color\":\"black\",\"line_width\":2,\"right\":150.0},\"id\":\"1727\",\"type\":\"BoxAnnotation\"},{\"attributes\":{\"bottom\":57,\"coordinates\":null,\"fill_alpha\":0.0,\"fill_color\":\"gray\",\"group\":null,\"level\":\"underlay\",\"line_color\":\"black\",\"top\":58},\"id\":\"1646\",\"type\":\"BoxAnnotation\"},{\"attributes\":{\"coordinates\":null,\"fill_alpha\":0.25,\"fill_color\":\"gray\",\"group\":null,\"left\":150.0,\"level\":\"underlay\",\"line_alpha\":0.5,\"line_color\":\"black\",\"line_width\":2,\"right\":153.0},\"id\":\"1728\",\"type\":\"BoxAnnotation\"},{\"attributes\":{\"coordinates\":null,\"group\":null,\"render_mode\":\"css\",\"text\":\"56\",\"text_font_size\":\"10px\",\"x\":-18,\"x_units\":\"screen\",\"y\":56.1},\"id\":\"1645\",\"type\":\"Label\"},{\"attributes\":{\"coordinates\":null,\"fill_alpha\":0.05,\"fill_color\":\"gray\",\"group\":null,\"left\":153.0,\"level\":\"underlay\",\"line_alpha\":0.5,\"line_color\":\"black\",\"line_width\":2,\"right\":156.0},\"id\":\"1729\",\"type\":\"BoxAnnotation\"},{\"attributes\":{\"bottom\":58,\"coordinates\":null,\"fill_alpha\":0.15,\"fill_color\":\"gray\",\"group\":null,\"level\":\"underlay\",\"line_color\":\"black\",\"top\":59},\"id\":\"1648\",\"type\":\"BoxAnnotation\"},{\"attributes\":{\"coordinates\":null,\"fill_alpha\":0.25,\"fill_color\":\"gray\",\"group\":null,\"left\":156.0,\"level\":\"underlay\",\"line_alpha\":0.5,\"line_color\":\"black\",\"line_width\":2,\"right\":159.0},\"id\":\"1730\",\"type\":\"BoxAnnotation\"},{\"attributes\":{\"coordinates\":null,\"group\":null,\"render_mode\":\"css\",\"text\":\"57\",\"text_font_size\":\"10px\",\"x\":-18,\"x_units\":\"screen\",\"y\":57.1},\"id\":\"1647\",\"type\":\"Label\"},{\"attributes\":{\"coordinates\":null,\"fill_alpha\":0.05,\"fill_color\":\"gray\",\"group\":null,\"left\":159.0,\"level\":\"underlay\",\"line_alpha\":0.5,\"line_color\":\"black\",\"line_width\":2,\"right\":162.0},\"id\":\"1731\",\"type\":\"BoxAnnotation\"},{\"attributes\":{\"bottom\":59,\"coordinates\":null,\"fill_alpha\":0.0,\"fill_color\":\"gray\",\"group\":null,\"level\":\"underlay\",\"line_color\":\"black\",\"top\":60},\"id\":\"1650\",\"type\":\"BoxAnnotation\"},{\"attributes\":{\"coordinates\":null,\"fill_alpha\":0.25,\"fill_color\":\"gray\",\"group\":null,\"left\":162.0,\"level\":\"underlay\",\"line_alpha\":0.5,\"line_color\":\"black\",\"line_width\":2,\"right\":165.0},\"id\":\"1732\",\"type\":\"BoxAnnotation\"},{\"attributes\":{\"coordinates\":null,\"group\":null,\"render_mode\":\"css\",\"text\":\"58\",\"text_font_size\":\"10px\",\"x\":-18,\"x_units\":\"screen\",\"y\":58.1},\"id\":\"1649\",\"type\":\"Label\"},{\"attributes\":{\"coordinates\":null,\"fill_alpha\":0.05,\"fill_color\":\"gray\",\"group\":null,\"left\":165.0,\"level\":\"underlay\",\"line_alpha\":0.5,\"line_color\":\"black\",\"line_width\":2,\"right\":168.0},\"id\":\"1733\",\"type\":\"BoxAnnotation\"},{\"attributes\":{\"bottom\":60,\"coordinates\":null,\"fill_alpha\":0.15,\"fill_color\":\"gray\",\"group\":null,\"level\":\"underlay\",\"line_color\":\"black\",\"top\":61},\"id\":\"1652\",\"type\":\"BoxAnnotation\"},{\"attributes\":{\"coordinates\":null,\"fill_alpha\":0.25,\"fill_color\":\"gray\",\"group\":null,\"left\":168.0,\"level\":\"underlay\",\"line_alpha\":0.5,\"line_color\":\"black\",\"line_width\":2,\"right\":171.0},\"id\":\"1734\",\"type\":\"BoxAnnotation\"},{\"attributes\":{\"coordinates\":null,\"group\":null,\"render_mode\":\"css\",\"text\":\"59\",\"text_font_size\":\"10px\",\"x\":-18,\"x_units\":\"screen\",\"y\":59.1},\"id\":\"1651\",\"type\":\"Label\"},{\"attributes\":{\"coordinates\":null,\"fill_alpha\":0.05,\"fill_color\":\"gray\",\"group\":null,\"left\":171.0,\"level\":\"underlay\",\"line_alpha\":0.5,\"line_color\":\"black\",\"line_width\":2,\"right\":174.0},\"id\":\"1735\",\"type\":\"BoxAnnotation\"},{\"attributes\":{\"bottom\":61,\"coordinates\":null,\"fill_alpha\":0.0,\"fill_color\":\"gray\",\"group\":null,\"level\":\"underlay\",\"line_color\":\"black\",\"top\":62},\"id\":\"1654\",\"type\":\"BoxAnnotation\"},{\"attributes\":{\"coordinates\":null,\"fill_alpha\":0.25,\"fill_color\":\"gray\",\"group\":null,\"left\":174.0,\"level\":\"underlay\",\"line_alpha\":0.5,\"line_color\":\"black\",\"line_width\":2,\"right\":177.0},\"id\":\"1736\",\"type\":\"BoxAnnotation\"},{\"attributes\":{\"coordinates\":null,\"group\":null,\"render_mode\":\"css\",\"text\":\"60\",\"text_font_size\":\"10px\",\"x\":-18,\"x_units\":\"screen\",\"y\":60.1},\"id\":\"1653\",\"type\":\"Label\"},{\"attributes\":{\"coordinates\":null,\"fill_alpha\":0.05,\"fill_color\":\"gray\",\"group\":null,\"left\":189.0,\"level\":\"underlay\",\"line_alpha\":0.5,\"line_color\":\"black\",\"line_width\":2,\"right\":192.0},\"id\":\"1741\",\"type\":\"BoxAnnotation\"},{\"attributes\":{\"bottom\":62,\"coordinates\":null,\"fill_alpha\":0.15,\"fill_color\":\"gray\",\"group\":null,\"level\":\"underlay\",\"line_color\":\"black\",\"top\":63},\"id\":\"1656\",\"type\":\"BoxAnnotation\"},{\"attributes\":{\"coordinates\":null,\"fill_alpha\":0.05,\"fill_color\":\"gray\",\"group\":null,\"left\":177.0,\"level\":\"underlay\",\"line_alpha\":0.5,\"line_color\":\"black\",\"line_width\":2,\"right\":180.0},\"id\":\"1737\",\"type\":\"BoxAnnotation\"},{\"attributes\":{\"coordinates\":null,\"fill_alpha\":0.25,\"fill_color\":\"gray\",\"group\":null,\"left\":180.0,\"level\":\"underlay\",\"line_alpha\":0.5,\"line_color\":\"black\",\"line_width\":2,\"right\":183.0},\"id\":\"1738\",\"type\":\"BoxAnnotation\"},{\"attributes\":{\"coordinates\":null,\"group\":null,\"render_mode\":\"css\",\"text\":\"61\",\"text_font_size\":\"10px\",\"x\":-18,\"x_units\":\"screen\",\"y\":61.1},\"id\":\"1655\",\"type\":\"Label\"},{\"attributes\":{\"coordinates\":null,\"fill_alpha\":0.25,\"fill_color\":\"gray\",\"group\":null,\"left\":186.0,\"level\":\"underlay\",\"line_alpha\":0.5,\"line_color\":\"black\",\"line_width\":2,\"right\":189.0},\"id\":\"1740\",\"type\":\"BoxAnnotation\"},{\"attributes\":{\"bottom\":63,\"coordinates\":null,\"fill_alpha\":0.0,\"fill_color\":\"gray\",\"group\":null,\"level\":\"underlay\",\"line_color\":\"black\",\"top\":64},\"id\":\"1658\",\"type\":\"BoxAnnotation\"},{\"attributes\":{\"coordinates\":null,\"fill_alpha\":0.25,\"fill_color\":\"gray\",\"group\":null,\"left\":192.0,\"level\":\"underlay\",\"line_alpha\":0.5,\"line_color\":\"black\",\"line_width\":2,\"right\":195.0},\"id\":\"1742\",\"type\":\"BoxAnnotation\"},{\"attributes\":{\"bottom\":64,\"coordinates\":null,\"fill_alpha\":0.15,\"fill_color\":\"gray\",\"group\":null,\"level\":\"underlay\",\"line_color\":\"black\",\"top\":65},\"id\":\"1660\",\"type\":\"BoxAnnotation\"},{\"attributes\":{\"tools\":[{\"id\":\"1598\"},{\"id\":\"1599\"},{\"id\":\"1600\"},{\"id\":\"1601\"},{\"id\":\"1602\"}]},\"id\":\"1603\",\"type\":\"Toolbar\"},{\"attributes\":{},\"id\":\"1602\",\"type\":\"PanTool\"},{\"attributes\":{},\"id\":\"1586\",\"type\":\"LinearScale\"},{\"attributes\":{},\"id\":\"1598\",\"type\":\"ResetTool\"},{\"attributes\":{\"callback\":null,\"tooltips\":[[\"program\",\"@program\"],[\"pitch\",\"@top\"],[\"velocity\",\"@velocity\"],[\"duration\",\"@duration\"],[\"start_time\",\"@left\"],[\"end_time\",\"@right\"]]},\"id\":\"1599\",\"type\":\"HoverTool\"},{\"attributes\":{},\"id\":\"1600\",\"type\":\"SaveTool\"},{\"attributes\":{\"data\":{\"bottom\":[61,65,68,61,56,68,49,65,59,63,68,59,63,68,56,51,61,73,66,68,61,66,68,54,49,61,68,73,61,65,49,56,68,61,65,68,61,56,68,49,65,59,63,68,59,63,68,56,51,61,73,66,68,61,66,68,54,49,61,68,73,61,65,49,56,68,61,68,63,61,65,68,56,49,61,63,68,49,56,61,65,68,59,63,68,56,61,58,68,54,61,56,63,68,49,65,61,56,49,68,61,49,56,63,68,49,65,61,56,68,63,59,68,56,61,58,54,68,63,68,58,53,58,53,68,58,61,60,63,58,54,61,68,63,61,65,53,58,68,61,61,54,68,73,61,65,68,61,56,68,49,65,59,63,68,59,63,68,56,51,61,73,66,68,61,66,68,54,49,61,68,73,61,65,49,56,68,61,65,68,61,56,68,49,65,59,63,68,59,63,68,56,51,61,73,66,68,61,66,68,54,49,61,68,73,61,65,49,56,68,59,63,47,58,61,66,54,61,65,56,68,49,63,47,54,66,54,49,61,66,73,61,68,73,56,49,61,65,68,61,56,68,49,65,59,63,68,59,63,68,56,51,61,73,66,68,61,66,68,54,49,61,68,73,61,65,49,56,68,61,65,68,61,56,68,49,65,59,63,68,59,63,68,56,51,61,73,66,68,61,66,68,54,49,61,68,73,61,65,49,56,68,61,65,68,61,56,68,49,65,59,63,68,59,63,68,56,51,61,73,66,68,61,66,68,54,49,61,68,73,61,65,49,56,68,61,65,68,61,56,68,49,65,59,63,68,59,63,68,56,51,61,73,66,68,61,66,68,54,49,61,68,73,61,65,49,56,68],\"color\":[\"rgb(255, 51, 255)\",\"rgb(181, 7, 255)\",\"rgb(179, 0, 179)\",\"rgb(255, 51, 255)\",\"rgb(235, 223, 235)\",\"rgb(179, 0, 179)\",\"rgb(190, 0, 190)\",\"rgb(181, 7, 255)\",\"rgb(228, 153, 226)\",\"rgb(178, 153, 229)\",\"rgb(179, 0, 179)\",\"rgb(228, 153, 226)\",\"rgb(178, 153, 229)\",\"rgb(179, 0, 179)\",\"rgb(235, 223, 235)\",\"rgb(106, 0, 181)\",\"rgb(255, 51, 255)\",\"rgb(255, 255, 255)\",\"rgb(173, 90, 215)\",\"rgb(179, 0, 179)\",\"rgb(255, 51, 255)\",\"rgb(173, 90, 215)\",\"rgb(179, 0, 179)\",\"rgb(164, 150, 243)\",\"rgb(190, 0, 190)\",\"rgb(255, 51, 255)\",\"rgb(179, 0, 179)\",\"rgb(255, 255, 255)\",\"rgb(255, 51, 255)\",\"rgb(181, 7, 255)\",\"rgb(190, 0, 190)\",\"rgb(235, 223, 235)\",\"rgb(179, 0, 179)\",\"rgb(255, 51, 255)\",\"rgb(181, 7, 255)\",\"rgb(179, 0, 179)\",\"rgb(255, 51, 255)\",\"rgb(235, 223, 235)\",\"rgb(179, 0, 179)\",\"rgb(190, 0, 190)\",\"rgb(181, 7, 255)\",\"rgb(228, 153, 226)\",\"rgb(178, 153, 229)\",\"rgb(179, 0, 179)\",\"rgb(228, 153, 226)\",\"rgb(178, 153, 229)\",\"rgb(179, 0, 179)\",\"rgb(235, 223, 235)\",\"rgb(106, 0, 181)\",\"rgb(255, 51, 255)\",\"rgb(255, 255, 255)\",\"rgb(173, 90, 215)\",\"rgb(179, 0, 179)\",\"rgb(255, 51, 255)\",\"rgb(173, 90, 215)\",\"rgb(179, 0, 179)\",\"rgb(164, 150, 243)\",\"rgb(190, 0, 190)\",\"rgb(255, 51, 255)\",\"rgb(179, 0, 179)\",\"rgb(255, 255, 255)\",\"rgb(255, 51, 255)\",\"rgb(181, 7, 255)\",\"rgb(190, 0, 190)\",\"rgb(235, 223, 235)\",\"rgb(179, 0, 179)\",\"rgb(255, 51, 255)\",\"rgb(179, 0, 179)\",\"rgb(178, 153, 229)\",\"rgb(255, 51, 255)\",\"rgb(181, 7, 255)\",\"rgb(179, 0, 179)\",\"rgb(235, 223, 235)\",\"rgb(190, 0, 190)\",\"rgb(255, 51, 255)\",\"rgb(178, 153, 229)\",\"rgb(179, 0, 179)\",\"rgb(190, 0, 190)\",\"rgb(235, 223, 235)\",\"rgb(255, 51, 255)\",\"rgb(181, 7, 255)\",\"rgb(179, 0, 179)\",\"rgb(228, 153, 226)\",\"rgb(178, 153, 229)\",\"rgb(179, 0, 179)\",\"rgb(235, 223, 235)\",\"rgb(255, 51, 255)\",\"rgb(244, 175, 244)\",\"rgb(179, 0, 179)\",\"rgb(164, 150, 243)\",\"rgb(255, 51, 255)\",\"rgb(235, 223, 235)\",\"rgb(178, 153, 229)\",\"rgb(179, 0, 179)\",\"rgb(190, 0, 190)\",\"rgb(181, 7, 255)\",\"rgb(255, 51, 255)\",\"rgb(235, 223, 235)\",\"rgb(190, 0, 190)\",\"rgb(179, 0, 179)\",\"rgb(255, 51, 255)\",\"rgb(190, 0, 190)\",\"rgb(235, 223, 235)\",\"rgb(178, 153, 229)\",\"rgb(179, 0, 179)\",\"rgb(190, 0, 190)\",\"rgb(181, 7, 255)\",\"rgb(255, 51, 255)\",\"rgb(235, 223, 235)\",\"rgb(179, 0, 179)\",\"rgb(178, 153, 229)\",\"rgb(228, 153, 226)\",\"rgb(179, 0, 179)\",\"rgb(235, 223, 235)\",\"rgb(255, 51, 255)\",\"rgb(244, 175, 244)\",\"rgb(164, 150, 243)\",\"rgb(179, 0, 179)\",\"rgb(178, 153, 229)\",\"rgb(179, 0, 179)\",\"rgb(244, 175, 244)\",\"rgb(141, 129, 217)\",\"rgb(244, 175, 244)\",\"rgb(141, 129, 217)\",\"rgb(179, 0, 179)\",\"rgb(244, 175, 244)\",\"rgb(255, 51, 255)\",\"rgb(255, 51, 255)\",\"rgb(178, 153, 229)\",\"rgb(244, 175, 244)\",\"rgb(164, 150, 243)\",\"rgb(255, 51, 255)\",\"rgb(179, 0, 179)\",\"rgb(178, 153, 229)\",\"rgb(255, 51, 255)\",\"rgb(181, 7, 255)\",\"rgb(141, 129, 217)\",\"rgb(244, 175, 244)\",\"rgb(179, 0, 179)\",\"rgb(255, 51, 255)\",\"rgb(255, 51, 255)\",\"rgb(164, 150, 243)\",\"rgb(179, 0, 179)\",\"rgb(255, 255, 255)\",\"rgb(255, 51, 255)\",\"rgb(181, 7, 255)\",\"rgb(179, 0, 179)\",\"rgb(255, 51, 255)\",\"rgb(235, 223, 235)\",\"rgb(179, 0, 179)\",\"rgb(190, 0, 190)\",\"rgb(181, 7, 255)\",\"rgb(228, 153, 226)\",\"rgb(178, 153, 229)\",\"rgb(179, 0, 179)\",\"rgb(228, 153, 226)\",\"rgb(178, 153, 229)\",\"rgb(179, 0, 179)\",\"rgb(235, 223, 235)\",\"rgb(106, 0, 181)\",\"rgb(255, 51, 255)\",\"rgb(255, 255, 255)\",\"rgb(173, 90, 215)\",\"rgb(179, 0, 179)\",\"rgb(255, 51, 255)\",\"rgb(173, 90, 215)\",\"rgb(179, 0, 179)\",\"rgb(164, 150, 243)\",\"rgb(190, 0, 190)\",\"rgb(255, 51, 255)\",\"rgb(179, 0, 179)\",\"rgb(255, 255, 255)\",\"rgb(255, 51, 255)\",\"rgb(181, 7, 255)\",\"rgb(190, 0, 190)\",\"rgb(235, 223, 235)\",\"rgb(179, 0, 179)\",\"rgb(255, 51, 255)\",\"rgb(181, 7, 255)\",\"rgb(179, 0, 179)\",\"rgb(255, 51, 255)\",\"rgb(235, 223, 235)\",\"rgb(179, 0, 179)\",\"rgb(190, 0, 190)\",\"rgb(181, 7, 255)\",\"rgb(228, 153, 226)\",\"rgb(178, 153, 229)\",\"rgb(179, 0, 179)\",\"rgb(228, 153, 226)\",\"rgb(178, 153, 229)\",\"rgb(179, 0, 179)\",\"rgb(235, 223, 235)\",\"rgb(106, 0, 181)\",\"rgb(255, 51, 255)\",\"rgb(255, 255, 255)\",\"rgb(173, 90, 215)\",\"rgb(179, 0, 179)\",\"rgb(255, 51, 255)\",\"rgb(173, 90, 215)\",\"rgb(179, 0, 179)\",\"rgb(164, 150, 243)\",\"rgb(190, 0, 190)\",\"rgb(255, 51, 255)\",\"rgb(179, 0, 179)\",\"rgb(255, 255, 255)\",\"rgb(255, 51, 255)\",\"rgb(181, 7, 255)\",\"rgb(190, 0, 190)\",\"rgb(235, 223, 235)\",\"rgb(179, 0, 179)\",\"rgb(228, 153, 226)\",\"rgb(178, 153, 229)\",\"rgb(181, 7, 255)\",\"rgb(244, 175, 244)\",\"rgb(255, 51, 255)\",\"rgb(173, 90, 215)\",\"rgb(164, 150, 243)\",\"rgb(255, 51, 255)\",\"rgb(181, 7, 255)\",\"rgb(235, 223, 235)\",\"rgb(179, 0, 179)\",\"rgb(190, 0, 190)\",\"rgb(178, 153, 229)\",\"rgb(181, 7, 255)\",\"rgb(164, 150, 243)\",\"rgb(173, 90, 215)\",\"rgb(164, 150, 243)\",\"rgb(190, 0, 190)\",\"rgb(255, 51, 255)\",\"rgb(173, 90, 215)\",\"rgb(255, 255, 255)\",\"rgb(255, 51, 255)\",\"rgb(179, 0, 179)\",\"rgb(255, 255, 255)\",\"rgb(235, 223, 235)\",\"rgb(190, 0, 190)\",\"rgb(255, 51, 255)\",\"rgb(181, 7, 255)\",\"rgb(179, 0, 179)\",\"rgb(255, 51, 255)\",\"rgb(235, 223, 235)\",\"rgb(179, 0, 179)\",\"rgb(190, 0, 190)\",\"rgb(181, 7, 255)\",\"rgb(228, 153, 226)\",\"rgb(178, 153, 229)\",\"rgb(179, 0, 179)\",\"rgb(228, 153, 226)\",\"rgb(178, 153, 229)\",\"rgb(179, 0, 179)\",\"rgb(235, 223, 235)\",\"rgb(106, 0, 181)\",\"rgb(255, 51, 255)\",\"rgb(255, 255, 255)\",\"rgb(173, 90, 215)\",\"rgb(179, 0, 179)\",\"rgb(255, 51, 255)\",\"rgb(173, 90, 215)\",\"rgb(179, 0, 179)\",\"rgb(164, 150, 243)\",\"rgb(190, 0, 190)\",\"rgb(255, 51, 255)\",\"rgb(179, 0, 179)\",\"rgb(255, 255, 255)\",\"rgb(255, 51, 255)\",\"rgb(181, 7, 255)\",\"rgb(190, 0, 190)\",\"rgb(235, 223, 235)\",\"rgb(179, 0, 179)\",\"rgb(255, 51, 255)\",\"rgb(181, 7, 255)\",\"rgb(179, 0, 179)\",\"rgb(255, 51, 255)\",\"rgb(235, 223, 235)\",\"rgb(179, 0, 179)\",\"rgb(190, 0, 190)\",\"rgb(181, 7, 255)\",\"rgb(228, 153, 226)\",\"rgb(178, 153, 229)\",\"rgb(179, 0, 179)\",\"rgb(228, 153, 226)\",\"rgb(178, 153, 229)\",\"rgb(179, 0, 179)\",\"rgb(235, 223, 235)\",\"rgb(106, 0, 181)\",\"rgb(255, 51, 255)\",\"rgb(255, 255, 255)\",\"rgb(173, 90, 215)\",\"rgb(179, 0, 179)\",\"rgb(255, 51, 255)\",\"rgb(173, 90, 215)\",\"rgb(179, 0, 179)\",\"rgb(164, 150, 243)\",\"rgb(190, 0, 190)\",\"rgb(255, 51, 255)\",\"rgb(179, 0, 179)\",\"rgb(255, 255, 255)\",\"rgb(255, 51, 255)\",\"rgb(181, 7, 255)\",\"rgb(190, 0, 190)\",\"rgb(235, 223, 235)\",\"rgb(179, 0, 179)\",\"rgb(255, 51, 255)\",\"rgb(181, 7, 255)\",\"rgb(179, 0, 179)\",\"rgb(255, 51, 255)\",\"rgb(235, 223, 235)\",\"rgb(179, 0, 179)\",\"rgb(190, 0, 190)\",\"rgb(181, 7, 255)\",\"rgb(228, 153, 226)\",\"rgb(178, 153, 229)\",\"rgb(179, 0, 179)\",\"rgb(228, 153, 226)\",\"rgb(178, 153, 229)\",\"rgb(179, 0, 179)\",\"rgb(235, 223, 235)\",\"rgb(106, 0, 181)\",\"rgb(255, 51, 255)\",\"rgb(255, 255, 255)\",\"rgb(173, 90, 215)\",\"rgb(179, 0, 179)\",\"rgb(255, 51, 255)\",\"rgb(173, 90, 215)\",\"rgb(179, 0, 179)\",\"rgb(164, 150, 243)\",\"rgb(190, 0, 190)\",\"rgb(255, 51, 255)\",\"rgb(179, 0, 179)\",\"rgb(255, 255, 255)\",\"rgb(255, 51, 255)\",\"rgb(181, 7, 255)\",\"rgb(190, 0, 190)\",\"rgb(235, 223, 235)\",\"rgb(179, 0, 179)\",\"rgb(255, 51, 255)\",\"rgb(181, 7, 255)\",\"rgb(179, 0, 179)\",\"rgb(255, 51, 255)\",\"rgb(235, 223, 235)\",\"rgb(179, 0, 179)\",\"rgb(190, 0, 190)\",\"rgb(181, 7, 255)\",\"rgb(228, 153, 226)\",\"rgb(178, 153, 229)\",\"rgb(179, 0, 179)\",\"rgb(228, 153, 226)\",\"rgb(178, 153, 229)\",\"rgb(179, 0, 179)\",\"rgb(235, 223, 235)\",\"rgb(106, 0, 181)\",\"rgb(255, 51, 255)\",\"rgb(255, 255, 255)\",\"rgb(173, 90, 215)\",\"rgb(179, 0, 179)\",\"rgb(255, 51, 255)\",\"rgb(173, 90, 215)\",\"rgb(179, 0, 179)\",\"rgb(164, 150, 243)\",\"rgb(190, 0, 190)\",\"rgb(255, 51, 255)\",\"rgb(179, 0, 179)\",\"rgb(255, 255, 255)\",\"rgb(255, 51, 255)\",\"rgb(181, 7, 255)\",\"rgb(190, 0, 190)\",\"rgb(235, 223, 235)\",\"rgb(179, 0, 179)\"],\"duration\":[0.9625000000000057,0.9750000000000014,0.9937500000000057,1.6375000000000028,2.8062500000000057,1.6812500000000057,2.825000000000003,1.7062500000000043,1.0,1.0187500000000043,1.0187500000000043,1.2750000000000057,1.3312500000000043,1.3500000000000014,2.575000000000003,2.5875000000000057,1.03125,1.03125,1.0562500000000057,1.0562500000000057,1.6500000000000057,1.6937500000000014,1.7125000000000057,2.8687500000000057,2.8937500000000043,1.0,1.0062500000000014,1.0250000000000057,1.4500000000000028,1.46875,2.6187500000000057,2.6187500000000057,1.4937500000000057,0.9625000000000057,0.9750000000000014,0.9937500000000057,1.6375000000000028,2.8062500000000057,1.6812500000000057,2.825000000000003,1.7062499999999972,1.0,1.0187499999999972,1.0187499999999972,1.2750000000000057,1.3312499999999972,1.3500000000000085,2.575000000000003,2.5875000000000057,1.03125,1.03125,1.0562500000000057,1.0562500000000057,1.6500000000000057,1.6937500000000085,1.7125000000000057,2.8687500000000057,2.893749999999997,1.0,1.0062500000000085,1.0250000000000057,1.4500000000000028,1.46875,2.6187500000000057,2.6187500000000057,1.4937500000000057,0.96875,0.9875000000000114,0.9937500000000057,1.5750000000000028,1.6000000000000085,1.6062500000000028,2.7375000000000114,2.7437500000000057,0.9875000000000114,1.0062500000000085,1.0125000000000028,2.6625000000000085,2.7125000000000057,1.5875000000000057,1.5875000000000057,1.6312500000000085,2.65625,2.8000000000000114,2.8187500000000085,2.8312500000000114,2.7562500000000085,2.8000000000000114,2.8000000000000114,2.825000000000003,0.9125000000000085,0.9250000000000114,0.9437500000000085,0.9437500000000085,0.9625000000000057,1.5250000000000057,1.53125,1.5375000000000085,1.5500000000000114,1.5500000000000114,0.9625000000000057,0.9750000000000085,0.9875000000000114,0.9875000000000114,0.9937500000000057,1.5875000000000057,1.625,1.6312500000000085,1.6437500000000114,1.6437500000000114,2.8312500000000114,2.8375000000000057,2.8375000000000057,2.84375,2.7250000000000085,2.731250000000003,2.7437500000000057,2.7875000000000085,0.9750000000000085,1.0,1.0250000000000057,1.0750000000000028,1.6000000000000085,1.6500000000000057,2.918750000000003,1.0687500000000085,2.981250000000003,0.6187500000000057,0.6750000000000114,0.9250000000000114,2.84375,0.96875,0.9625000000000057,0.96875,1.40625,1.4312500000000057,2.575000000000003,2.575000000000003,1.4562500000000114,1.0437500000000028,1.6312500000000085,2.8062500000000057,2.0562500000000057,2.450000000000003,0.9625000000000057,0.9750000000000085,0.9937500000000057,1.6375000000000028,2.8062500000000057,1.6812500000000057,2.825000000000003,1.7062500000000114,1.0,1.0187500000000114,1.0187500000000114,1.2750000000000057,1.3312500000000114,1.3499999999999943,2.575000000000017,2.5875000000000057,1.03125,1.03125,1.0562500000000057,1.0562500000000057,1.6500000000000057,1.6937499999999943,1.7125000000000057,2.8687500000000057,2.8937500000000114,1.0,1.0062499999999943,1.0250000000000057,1.450000000000017,1.46875,2.6187500000000057,2.6187500000000057,1.4937500000000057,0.9625000000000057,0.9749999999999943,0.9937500000000057,1.637500000000017,2.8062500000000057,1.6812500000000057,2.825000000000017,1.7062500000000114,1.0,1.0187500000000114,1.0187500000000114,1.2750000000000057,1.3312500000000114,1.3499999999999943,2.575000000000017,2.5875000000000057,1.03125,1.03125,1.0562500000000057,1.0562500000000057,1.6500000000000057,1.6937499999999943,1.7125000000000057,2.8687500000000057,2.8937500000000114,1.0,1.0062499999999943,1.0250000000000057,1.450000000000017,1.46875,2.6187500000000057,2.6187500000000057,1.4937500000000057,2.793750000000017,2.8812499999999943,2.9000000000000057,2.5,2.5187500000000114,2.5562500000000057,2.5625,5.5,5.525000000000006,5.537500000000023,5.556250000000006,5.581250000000011,2.6437500000000114,2.6500000000000057,2.6500000000000057,2.6625000000000227,2.6937500000000227,2.7750000000000057,2.793750000000017,2.8125,2.8312500000000114,2.3500000000000227,2.3625000000000114,2.375,2.3812500000000227,2.387500000000017,0.9625000000000057,0.9750000000000227,0.9937500000000057,1.637500000000017,2.8062500000000057,1.6812500000000057,2.825000000000017,1.7062500000000114,1.0,1.0187500000000114,1.0187500000000114,1.2750000000000057,1.3312500000000114,1.3500000000000227,2.575000000000017,2.5875000000000057,1.03125,1.03125,1.0562500000000057,1.0562500000000057,1.6500000000000057,1.6937500000000227,1.7125000000000057,2.8687500000000057,2.8937500000000114,1.0,1.0062500000000227,1.0250000000000057,1.450000000000017,1.46875,2.6187500000000057,2.6187500000000057,1.4937500000000057,0.9625000000000057,0.9750000000000227,0.9937500000000057,1.637500000000017,2.8062500000000057,1.6812500000000057,2.825000000000017,1.7062500000000114,1.0,1.0187500000000114,1.0187500000000114,1.2750000000000057,1.3312500000000114,1.3500000000000227,2.575000000000017,2.5875000000000057,1.03125,1.03125,1.0562500000000057,1.0562500000000057,1.6500000000000057,1.6937500000000227,1.7125000000000057,2.8687500000000057,2.8937500000000114,1.0,1.0062500000000227,1.0250000000000057,1.450000000000017,1.46875,2.6187500000000057,2.6187500000000057,1.4937500000000057,0.9625000000000057,0.9750000000000227,0.9937500000000057,1.637500000000017,2.8062500000000057,1.6812500000000057,2.825000000000017,1.7062500000000114,1.0,1.0187500000000114,1.0187500000000114,1.2750000000000057,1.3312500000000114,1.3500000000000227,2.575000000000017,2.5875000000000057,1.03125,1.03125,1.0562500000000057,1.0562500000000057,1.6500000000000057,1.6937500000000227,1.7125000000000057,2.8687500000000057,2.8937500000000114,1.0,1.0062500000000227,1.0250000000000057,1.450000000000017,1.46875,2.6187500000000057,2.6187500000000057,1.4937500000000057,0.9625000000000057,0.9750000000000227,0.9937500000000057,1.637500000000017,2.8062500000000057,1.6812500000000057,2.825000000000017,1.7062500000000114,1.0,1.0187500000000114,1.0187500000000114,1.2750000000000057,1.3312500000000114,1.3500000000000227,2.575000000000017,2.5875000000000057,1.03125,1.03125,1.0562500000000057,1.0562500000000057,1.6500000000000057,1.6937500000000227,1.7125000000000057,2.8687500000000057,2.8937500000000114,1.0,1.0062500000000227,1.0250000000000057,1.450000000000017,1.46875,2.6187500000000057,2.6187500000000057,1.4937500000000057],\"left\":[51.0,51.0,51.0,52.125,51.0,52.125,51.0,52.125,54.0,54.0,54.0,55.125,55.125,55.125,54.0,54.0,57.0,57.0,57.0,57.0,58.125,58.125,58.125,57.0,57.0,60.0,60.0,60.0,61.125,61.125,60.0,60.0,61.125,63.0,63.0,63.0,64.125,63.0,64.125,63.0,64.125,66.0,66.0,66.0,67.125,67.125,67.125,66.0,66.0,69.0,69.0,69.0,69.0,70.125,70.125,70.125,69.0,69.0,72.0,72.0,72.0,73.125,73.125,72.0,72.0,73.125,87.0,87.0,87.0,88.125,88.125,88.125,87.0,87.0,90.0,90.0,90.0,90.0,90.0,91.125,91.125,91.125,93.0,93.0,93.0,93.0,96.0,96.0,96.0,96.0,99.0,99.0,99.0,99.0,99.0,100.125,100.125,100.125,100.125,100.125,102.0,102.0,102.0,102.0,102.0,103.125,103.125,103.125,103.125,103.125,105.0,105.0,105.0,105.0,108.0,108.0,108.0,108.0,111.0,111.0,111.0,111.0,112.125,112.125,112.125,114.0,112.125,115.125,115.125,115.875,114.0,115.875,117.0,117.0,118.125,118.125,117.0,117.0,118.125,120.0,121.125,120.0,120.75,120.375,123.0,123.0,123.0,124.125,123.0,124.125,123.0,124.125,126.0,126.0,126.0,127.125,127.125,127.125,126.0,126.0,129.0,129.0,129.0,129.0,130.125,130.125,130.125,129.0,129.0,132.0,132.0,132.0,133.125,133.125,132.0,132.0,133.125,135.0,135.0,135.0,136.125,135.0,136.125,135.0,136.125,138.0,138.0,138.0,139.125,139.125,139.125,138.0,138.0,141.0,141.0,141.0,141.0,142.125,142.125,142.125,141.0,141.0,144.0,144.0,144.0,145.125,145.125,144.0,144.0,145.125,147.0,147.0,147.0,150.0,150.0,150.0,150.0,153.0,153.0,153.0,153.0,153.0,159.0,159.0,159.0,159.0,162.0,162.0,162.0,162.0,162.0,165.0,165.0,165.0,165.0,165.0,189.0,189.0,189.0,190.125,189.0,190.125,189.0,190.125,192.0,192.0,192.0,193.125,193.125,193.125,192.0,192.0,195.0,195.0,195.0,195.0,196.125,196.125,196.125,195.0,195.0,198.0,198.0,198.0,199.125,199.125,198.0,198.0,199.125,201.0,201.0,201.0,202.125,201.0,202.125,201.0,202.125,204.0,204.0,204.0,205.125,205.125,205.125,204.0,204.0,207.0,207.0,207.0,207.0,208.125,208.125,208.125,207.0,207.0,210.0,210.0,210.0,211.125,211.125,210.0,210.0,211.125,213.0,213.0,213.0,214.125,213.0,214.125,213.0,214.125,216.0,216.0,216.0,217.125,217.125,217.125,216.0,216.0,219.0,219.0,219.0,219.0,220.125,220.125,220.125,219.0,219.0,222.0,222.0,222.0,223.125,223.125,222.0,222.0,223.125,225.0,225.0,225.0,226.125,225.0,226.125,225.0,226.125,228.0,228.0,228.0,229.125,229.125,229.125,228.0,228.0,231.0,231.0,231.0,231.0,232.125,232.125,232.125,231.0,231.0,234.0,234.0,234.0,235.125,235.125,234.0,234.0,235.125],\"program\":[4,4,4,4,4,4,4,4,4,4,4,4,4,4,4,4,4,4,4,4,4,4,4,4,4,4,4,4,4,4,4,4,4,4,4,4,4,4,4,4,4,4,4,4,4,4,4,4,4,4,4,4,4,4,4,4,4,4,4,4,4,4,4,4,4,4,4,4,4,4,4,4,4,4,4,4,4,4,4,4,4,4,4,4,4,4,4,4,4,4,4,4,4,4,4,4,4,4,4,4,4,4,4,4,4,4,4,4,4,4,4,4,4,4,4,4,4,4,4,4,4,4,4,4,4,4,4,4,4,4,4,4,4,4,4,4,4,4,4,4,4,4,4,4,4,4,4,4,4,4,4,4,4,4,4,4,4,4,4,4,4,4,4,4,4,4,4,4,4,4,4,4,4,4,4,4,4,4,4,4,4,4,4,4,4,4,4,4,4,4,4,4,4,4,4,4,4,4,4,4,4,4,4,4,4,4,4,4,4,4,4,4,4,4,4,4,4,4,4,4,4,4,4,4,4,4,4,4,4,4,4,4,4,4,4,4,4,4,4,4,4,4,4,4,4,4,4,4,4,4,4,4,4,4,4,4,4,4,4,4,4,4,4,4,4,4,4,4,4,4,4,4,4,4,4,4,4,4,4,4,4,4,4,4,4,4,4,4,4,4,4,4,4,4,4,4,4,4,4,4,4,4,4,4,4,4,4,4,4,4,4,4,4,4,4,4,4,4,4,4,4,4,4,4,4,4,4,4,4,4,4,4,4,4,4,4,4,4,4,4,4,4,4,4,4,4,4,4,4,4,4,4,4,4,4,4,4,4,4,4,4,4,4,4,4,4,4,4],\"right\":[51.962500000000006,51.975,51.993750000000006,53.7625,53.806250000000006,53.806250000000006,53.825,53.831250000000004,55.0,55.018750000000004,55.018750000000004,56.400000000000006,56.456250000000004,56.475,56.575,56.587500000000006,58.03125,58.03125,58.056250000000006,58.056250000000006,59.775000000000006,59.81875,59.837500000000006,59.868750000000006,59.893750000000004,61.0,61.00625,61.025000000000006,62.575,62.59375,62.618750000000006,62.618750000000006,62.618750000000006,63.962500000000006,63.975,63.993750000000006,65.7625,65.80625,65.80625,65.825,65.83125,67.0,67.01875,67.01875,68.4,68.45625,68.47500000000001,68.575,68.5875,70.03125,70.03125,70.05625,70.05625,71.775,71.81875000000001,71.8375,71.86875,71.89375,73.0,73.00625000000001,73.025,74.575,74.59375,74.61875,74.61875,74.61875,87.96875,87.98750000000001,87.99375,89.7,89.72500000000001,89.73125,89.73750000000001,89.74375,90.98750000000001,91.00625000000001,91.0125,92.66250000000001,92.7125,92.7125,92.7125,92.75625000000001,95.65625,95.80000000000001,95.81875000000001,95.83125000000001,98.75625000000001,98.80000000000001,98.80000000000001,98.825,99.91250000000001,99.92500000000001,99.94375000000001,99.94375000000001,99.9625,101.65,101.65625,101.66250000000001,101.67500000000001,101.67500000000001,102.9625,102.97500000000001,102.98750000000001,102.98750000000001,102.99375,104.7125,104.75,104.75625000000001,104.76875000000001,104.76875000000001,107.83125000000001,107.8375,107.8375,107.84375,110.72500000000001,110.73125,110.74375,110.78750000000001,111.97500000000001,112.0,112.025,112.075,113.72500000000001,113.775,115.04375,115.06875000000001,115.10625,115.74375,115.80000000000001,116.80000000000001,116.84375,116.84375,117.9625,117.96875,119.53125,119.55625,119.575,119.575,119.58125000000001,121.04375,122.75625000000001,122.80625,122.80625,122.825,123.9625,123.97500000000001,123.99375,125.7625,125.80625,125.80625,125.825,125.83125000000001,127.0,127.01875000000001,127.01875000000001,128.4,128.45625,128.475,128.57500000000002,128.5875,130.03125,130.03125,130.05625,130.05625,131.775,131.81875,131.8375,131.86875,131.89375,133.0,133.00625,133.025,134.57500000000002,134.59375,134.61875,134.61875,134.61875,135.9625,135.975,135.99375,137.76250000000002,137.80625,137.80625,137.82500000000002,137.83125,139.0,139.01875,139.01875,140.4,140.45625,140.475,140.57500000000002,140.5875,142.03125,142.03125,142.05625,142.05625,143.775,143.81875,143.8375,143.86875,143.89375,145.0,145.00625,145.025,146.57500000000002,146.59375,146.61875,146.61875,146.61875,149.79375000000002,149.88125,149.9,152.5,152.51875,152.55625,152.5625,158.5,158.525,158.53750000000002,158.55625,158.58125,161.64375,161.65,161.65,161.66250000000002,164.69375000000002,164.775,164.79375000000002,164.8125,164.83125,167.35000000000002,167.3625,167.375,167.38125000000002,167.38750000000002,189.9625,189.97500000000002,189.99375,191.76250000000002,191.80625,191.80625,191.82500000000002,191.83125,193.0,193.01875,193.01875,194.4,194.45625,194.47500000000002,194.57500000000002,194.5875,196.03125,196.03125,196.05625,196.05625,197.775,197.81875000000002,197.8375,197.86875,197.89375,199.0,199.00625000000002,199.025,200.57500000000002,200.59375,200.61875,200.61875,200.61875,201.9625,201.97500000000002,201.99375,203.76250000000002,203.80625,203.80625,203.82500000000002,203.83125,205.0,205.01875,205.01875,206.4,206.45625,206.47500000000002,206.57500000000002,206.5875,208.03125,208.03125,208.05625,208.05625,209.775,209.81875000000002,209.8375,209.86875,209.89375,211.0,211.00625000000002,211.025,212.57500000000002,212.59375,212.61875,212.61875,212.61875,213.9625,213.97500000000002,213.99375,215.76250000000002,215.80625,215.80625,215.82500000000002,215.83125,217.0,217.01875,217.01875,218.4,218.45625,218.47500000000002,218.57500000000002,218.5875,220.03125,220.03125,220.05625,220.05625,221.775,221.81875000000002,221.8375,221.86875,221.89375,223.0,223.00625000000002,223.025,224.57500000000002,224.59375,224.61875,224.61875,224.61875,225.9625,225.97500000000002,225.99375,227.76250000000002,227.80625,227.80625,227.82500000000002,227.83125,229.0,229.01875,229.01875,230.4,230.45625,230.47500000000002,230.57500000000002,230.5875,232.03125,232.03125,232.05625,232.05625,233.775,233.81875000000002,233.8375,233.86875,233.89375,235.0,235.00625000000002,235.025,236.57500000000002,236.59375,236.61875,236.61875,236.61875],\"top\":[60,64,67,60,55,67,48,64,58,62,67,58,62,67,55,50,60,72,65,67,60,65,67,53,48,60,67,72,60,64,48,55,67,60,64,67,60,55,67,48,64,58,62,67,58,62,67,55,50,60,72,65,67,60,65,67,53,48,60,67,72,60,64,48,55,67,60,67,62,60,64,67,55,48,60,62,67,48,55,60,64,67,58,62,67,55,60,57,67,53,60,55,62,67,48,64,60,55,48,67,60,48,55,62,67,48,64,60,55,67,62,58,67,55,60,57,53,67,62,67,57,52,57,52,67,57,60,59,62,57,53,60,67,62,60,64,52,57,67,60,60,53,67,72,60,64,67,60,55,67,48,64,58,62,67,58,62,67,55,50,60,72,65,67,60,65,67,53,48,60,67,72,60,64,48,55,67,60,64,67,60,55,67,48,64,58,62,67,58,62,67,55,50,60,72,65,67,60,65,67,53,48,60,67,72,60,64,48,55,67,58,62,46,57,60,65,53,60,64,55,67,48,62,46,53,65,53,48,60,65,72,60,67,72,55,48,60,64,67,60,55,67,48,64,58,62,67,58,62,67,55,50,60,72,65,67,60,65,67,53,48,60,67,72,60,64,48,55,67,60,64,67,60,55,67,48,64,58,62,67,58,62,67,55,50,60,72,65,67,60,65,67,53,48,60,67,72,60,64,48,55,67,60,64,67,60,55,67,48,64,58,62,67,58,62,67,55,50,60,72,65,67,60,65,67,53,48,60,67,72,60,64,48,55,67,60,64,67,60,55,67,48,64,58,62,67,58,62,67,55,50,60,72,65,67,60,65,67,53,48,60,67,72,60,64,48,55,67],\"velocity\":[90,89,88,92,82,89,91,98,92,81,73,98,97,77,81,94,87,88,83,79,82,83,79,79,60,92,90,88,81,88,88,87,81,90,89,88,92,82,89,91,98,92,81,73,98,97,77,81,94,87,88,83,79,82,83,79,79,60,92,90,88,81,88,88,87,81,75,82,82,82,81,78,66,57,75,82,81,61,72,85,88,80,82,94,86,75,89,80,90,83,79,85,91,89,75,80,85,77,71,79,75,69,83,86,80,60,79,83,72,75,92,81,87,71,89,79,81,90,87,81,60,70,52,15,79,63,85,85,88,72,74,75,79,83,85,75,79,72,69,89,63,104,80,98,90,89,88,92,82,89,91,98,92,81,73,98,97,77,81,94,87,88,83,79,82,83,79,79,60,92,90,88,81,88,88,87,81,90,89,88,92,82,89,91,98,92,81,73,98,97,77,81,94,87,88,83,79,82,83,79,79,60,92,90,88,81,88,88,87,81,90,78,89,81,73,77,96,81,71,81,66,83,89,89,81,74,57,71,77,77,85,75,80,79,72,78,90,89,88,92,82,89,91,98,92,81,73,98,97,77,81,94,87,88,83,79,82,83,79,79,60,92,90,88,81,88,88,87,81,90,89,88,92,82,89,91,98,92,81,73,98,97,77,81,94,87,88,83,79,82,83,79,79,60,92,90,88,81,88,88,87,81,90,89,88,92,82,89,91,98,92,81,73,98,97,77,81,94,87,88,83,79,82,83,79,79,60,92,90,88,81,88,88,87,81,90,89,88,92,82,89,91,98,92,81,73,98,97,77,81,94,87,88,83,79,82,83,79,79,60,92,90,88,81,88,88,87,81]},\"selected\":{\"id\":\"2129\"},\"selection_policy\":{\"id\":\"2128\"}},\"id\":\"1617\",\"type\":\"ColumnDataSource\"},{\"attributes\":{\"axis\":{\"id\":\"1594\"},\"coordinates\":null,\"dimension\":1,\"grid_line_color\":null,\"group\":null,\"ticker\":null},\"id\":\"1597\",\"type\":\"Grid\"},{\"attributes\":{\"axis_label\":\"time (SEC)\",\"axis_label_text_font_size\":\"12px\",\"bounds\":[213.0,237.0],\"coordinates\":null,\"formatter\":{\"id\":\"1615\"},\"group\":null,\"major_label_policy\":{\"id\":\"1616\"},\"major_label_text_font_size\":\"10px\",\"major_tick_line_alpha\":0.9,\"major_tick_out\":5,\"minor_tick_line_alpha\":0,\"ticker\":{\"id\":\"2106\"}},\"id\":\"1590\",\"type\":\"LinearAxis\"},{\"attributes\":{\"axis\":{\"id\":\"1590\"},\"coordinates\":null,\"grid_line_color\":null,\"group\":null,\"ticker\":null},\"id\":\"1593\",\"type\":\"Grid\"},{\"attributes\":{\"axis_label\":\"pitch (MIDI)\",\"axis_label_standoff\":0,\"axis_label_text_font_size\":\"12px\",\"bounds\":[46,73],\"coordinates\":null,\"formatter\":{\"id\":\"1612\"},\"group\":null,\"major_label_policy\":{\"id\":\"1613\"},\"major_label_text_alpha\":0,\"major_tick_line_alpha\":0.9,\"major_tick_out\":25,\"minor_tick_line_alpha\":0,\"ticker\":{\"id\":\"2108\"}},\"id\":\"1594\",\"type\":\"LinearAxis\"},{\"attributes\":{},\"id\":\"1588\",\"type\":\"LinearScale\"},{\"attributes\":{},\"id\":\"1601\",\"type\":\"WheelZoomTool\"},{\"attributes\":{\"coordinates\":null,\"fill_color\":null,\"group\":null,\"left\":111.75,\"level\":\"underlay\",\"line_alpha\":0.4,\"line_color\":\"black\",\"right\":112.5},\"id\":\"1913\",\"type\":\"BoxAnnotation\"},{\"attributes\":{\"coordinates\":null,\"fill_color\":null,\"group\":null,\"left\":237.75,\"level\":\"underlay\",\"line_alpha\":0.4,\"line_color\":\"black\",\"right\":238.5},\"id\":\"2081\",\"type\":\"BoxAnnotation\"},{\"attributes\":{\"coordinates\":null,\"fill_color\":null,\"group\":null,\"left\":113.25,\"level\":\"underlay\",\"line_alpha\":0.4,\"line_color\":\"black\",\"right\":114.0},\"id\":\"1915\",\"type\":\"BoxAnnotation\"},{\"attributes\":{\"coordinates\":null,\"fill_color\":null,\"group\":null,\"left\":235.5,\"level\":\"underlay\",\"line_alpha\":0.4,\"line_color\":\"black\",\"right\":236.25},\"id\":\"2078\",\"type\":\"BoxAnnotation\"},{\"attributes\":{\"coordinates\":null,\"fill_color\":null,\"group\":null,\"left\":110.25,\"level\":\"underlay\",\"line_alpha\":0.4,\"line_color\":\"black\",\"right\":111.0},\"id\":\"1911\",\"type\":\"BoxAnnotation\"},{\"attributes\":{\"coordinates\":null,\"fill_color\":null,\"group\":null,\"left\":237.0,\"level\":\"underlay\",\"line_alpha\":0.4,\"line_color\":\"black\",\"right\":237.75},\"id\":\"2080\",\"type\":\"BoxAnnotation\"},{\"attributes\":{\"coordinates\":null,\"fill_color\":null,\"group\":null,\"left\":114.0,\"level\":\"underlay\",\"line_alpha\":0.4,\"line_color\":\"black\",\"right\":114.75},\"id\":\"1916\",\"type\":\"BoxAnnotation\"},{\"attributes\":{\"coordinates\":null,\"fill_color\":null,\"group\":null,\"left\":238.5,\"level\":\"underlay\",\"line_alpha\":0.4,\"line_color\":\"black\",\"right\":239.25},\"id\":\"2082\",\"type\":\"BoxAnnotation\"},{\"attributes\":{\"coordinates\":null,\"fill_color\":null,\"group\":null,\"left\":112.5,\"level\":\"underlay\",\"line_alpha\":0.4,\"line_color\":\"black\",\"right\":113.25},\"id\":\"1914\",\"type\":\"BoxAnnotation\"},{\"attributes\":{\"coordinates\":null,\"fill_color\":null,\"group\":null,\"left\":236.25,\"level\":\"underlay\",\"line_alpha\":0.4,\"line_color\":\"black\",\"right\":237.0},\"id\":\"2079\",\"type\":\"BoxAnnotation\"},{\"attributes\":{\"coordinates\":null,\"fill_color\":null,\"group\":null,\"left\":114.75,\"level\":\"underlay\",\"line_alpha\":0.4,\"line_color\":\"black\",\"right\":115.5},\"id\":\"1917\",\"type\":\"BoxAnnotation\"},{\"attributes\":{\"coordinates\":null,\"fill_color\":null,\"group\":null,\"left\":239.25,\"level\":\"underlay\",\"line_alpha\":0.4,\"line_color\":\"black\",\"right\":240.0},\"id\":\"2083\",\"type\":\"BoxAnnotation\"},{\"attributes\":{\"coordinates\":null,\"fill_color\":null,\"group\":null,\"left\":111.0,\"level\":\"underlay\",\"line_alpha\":0.4,\"line_color\":\"black\",\"right\":111.75},\"id\":\"1912\",\"type\":\"BoxAnnotation\"},{\"attributes\":{\"coordinates\":null,\"fill_color\":null,\"group\":null,\"left\":240.0,\"level\":\"underlay\",\"line_alpha\":0.4,\"line_color\":\"black\",\"right\":240.75},\"id\":\"2084\",\"type\":\"BoxAnnotation\"},{\"attributes\":{\"coordinates\":null,\"fill_color\":null,\"group\":null,\"left\":115.5,\"level\":\"underlay\",\"line_alpha\":0.4,\"line_color\":\"black\",\"right\":116.25},\"id\":\"1918\",\"type\":\"BoxAnnotation\"},{\"attributes\":{\"coordinates\":null,\"fill_color\":null,\"group\":null,\"left\":240.75,\"level\":\"underlay\",\"line_alpha\":0.4,\"line_color\":\"black\",\"right\":241.5},\"id\":\"2085\",\"type\":\"BoxAnnotation\"},{\"attributes\":{\"coordinates\":null,\"fill_color\":null,\"group\":null,\"left\":116.25,\"level\":\"underlay\",\"line_alpha\":0.4,\"line_color\":\"black\",\"right\":117.0},\"id\":\"1919\",\"type\":\"BoxAnnotation\"},{\"attributes\":{\"coordinates\":null,\"fill_color\":null,\"group\":null,\"left\":241.5,\"level\":\"underlay\",\"line_alpha\":0.4,\"line_color\":\"black\",\"right\":242.25},\"id\":\"2086\",\"type\":\"BoxAnnotation\"},{\"attributes\":{\"coordinates\":null,\"fill_color\":null,\"group\":null,\"left\":117.0,\"level\":\"underlay\",\"line_alpha\":0.4,\"line_color\":\"black\",\"right\":117.75},\"id\":\"1920\",\"type\":\"BoxAnnotation\"},{\"attributes\":{\"coordinates\":null,\"fill_color\":null,\"group\":null,\"left\":242.25,\"level\":\"underlay\",\"line_alpha\":0.4,\"line_color\":\"black\",\"right\":243.0},\"id\":\"2087\",\"type\":\"BoxAnnotation\"},{\"attributes\":{\"coordinates\":null,\"fill_color\":null,\"group\":null,\"left\":117.75,\"level\":\"underlay\",\"line_alpha\":0.4,\"line_color\":\"black\",\"right\":118.5},\"id\":\"1921\",\"type\":\"BoxAnnotation\"},{\"attributes\":{\"coordinates\":null,\"fill_color\":null,\"group\":null,\"left\":243.0,\"level\":\"underlay\",\"line_alpha\":0.4,\"line_color\":\"black\",\"right\":243.75},\"id\":\"2088\",\"type\":\"BoxAnnotation\"},{\"attributes\":{\"coordinates\":null,\"fill_color\":null,\"group\":null,\"left\":118.5,\"level\":\"underlay\",\"line_alpha\":0.4,\"line_color\":\"black\",\"right\":119.25},\"id\":\"1922\",\"type\":\"BoxAnnotation\"},{\"attributes\":{\"coordinates\":null,\"fill_color\":null,\"group\":null,\"left\":243.75,\"level\":\"underlay\",\"line_alpha\":0.4,\"line_color\":\"black\",\"right\":244.5},\"id\":\"2089\",\"type\":\"BoxAnnotation\"},{\"attributes\":{\"coordinates\":null,\"fill_color\":null,\"group\":null,\"left\":119.25,\"level\":\"underlay\",\"line_alpha\":0.4,\"line_color\":\"black\",\"right\":120.0},\"id\":\"1923\",\"type\":\"BoxAnnotation\"},{\"attributes\":{\"coordinates\":null,\"fill_color\":null,\"group\":null,\"left\":244.5,\"level\":\"underlay\",\"line_alpha\":0.4,\"line_color\":\"black\",\"right\":245.25},\"id\":\"2090\",\"type\":\"BoxAnnotation\"},{\"attributes\":{\"coordinates\":null,\"fill_color\":null,\"group\":null,\"left\":120.0,\"level\":\"underlay\",\"line_alpha\":0.4,\"line_color\":\"black\",\"right\":120.75},\"id\":\"1924\",\"type\":\"BoxAnnotation\"},{\"attributes\":{\"coordinates\":null,\"fill_color\":null,\"group\":null,\"left\":245.25,\"level\":\"underlay\",\"line_alpha\":0.4,\"line_color\":\"black\",\"right\":246.0},\"id\":\"2091\",\"type\":\"BoxAnnotation\"},{\"attributes\":{\"coordinates\":null,\"fill_color\":null,\"group\":null,\"left\":120.75,\"level\":\"underlay\",\"line_alpha\":0.4,\"line_color\":\"black\",\"right\":121.5},\"id\":\"1925\",\"type\":\"BoxAnnotation\"},{\"attributes\":{\"coordinates\":null,\"fill_color\":null,\"group\":null,\"left\":246.0,\"level\":\"underlay\",\"line_alpha\":0.4,\"line_color\":\"black\",\"right\":246.75},\"id\":\"2092\",\"type\":\"BoxAnnotation\"},{\"attributes\":{\"coordinates\":null,\"fill_color\":null,\"group\":null,\"left\":121.5,\"level\":\"underlay\",\"line_alpha\":0.4,\"line_color\":\"black\",\"right\":122.25},\"id\":\"1926\",\"type\":\"BoxAnnotation\"},{\"attributes\":{\"coordinates\":null,\"fill_color\":null,\"group\":null,\"left\":246.75,\"level\":\"underlay\",\"line_alpha\":0.4,\"line_color\":\"black\",\"right\":247.5},\"id\":\"2093\",\"type\":\"BoxAnnotation\"},{\"attributes\":{\"coordinates\":null,\"fill_color\":null,\"group\":null,\"left\":122.25,\"level\":\"underlay\",\"line_alpha\":0.4,\"line_color\":\"black\",\"right\":123.0},\"id\":\"1927\",\"type\":\"BoxAnnotation\"},{\"attributes\":{\"coordinates\":null,\"fill_color\":null,\"group\":null,\"left\":247.5,\"level\":\"underlay\",\"line_alpha\":0.4,\"line_color\":\"black\",\"right\":248.25},\"id\":\"2094\",\"type\":\"BoxAnnotation\"},{\"attributes\":{\"coordinates\":null,\"fill_color\":null,\"group\":null,\"left\":123.0,\"level\":\"underlay\",\"line_alpha\":0.4,\"line_color\":\"black\",\"right\":123.75},\"id\":\"1928\",\"type\":\"BoxAnnotation\"},{\"attributes\":{\"coordinates\":null,\"fill_color\":null,\"group\":null,\"left\":248.25,\"level\":\"underlay\",\"line_alpha\":0.4,\"line_color\":\"black\",\"right\":249.0},\"id\":\"2095\",\"type\":\"BoxAnnotation\"},{\"attributes\":{\"coordinates\":null,\"fill_color\":null,\"group\":null,\"left\":123.75,\"level\":\"underlay\",\"line_alpha\":0.4,\"line_color\":\"black\",\"right\":124.5},\"id\":\"1929\",\"type\":\"BoxAnnotation\"},{\"attributes\":{\"coordinates\":null,\"fill_color\":null,\"group\":null,\"left\":249.0,\"level\":\"underlay\",\"line_alpha\":0.4,\"line_color\":\"black\",\"right\":249.75},\"id\":\"2096\",\"type\":\"BoxAnnotation\"},{\"attributes\":{\"coordinates\":null,\"fill_color\":null,\"group\":null,\"left\":124.5,\"level\":\"underlay\",\"line_alpha\":0.4,\"line_color\":\"black\",\"right\":125.25},\"id\":\"1930\",\"type\":\"BoxAnnotation\"},{\"attributes\":{\"coordinates\":null,\"fill_color\":null,\"group\":null,\"left\":249.75,\"level\":\"underlay\",\"line_alpha\":0.4,\"line_color\":\"black\",\"right\":250.5},\"id\":\"2097\",\"type\":\"BoxAnnotation\"},{\"attributes\":{\"coordinates\":null,\"fill_color\":null,\"group\":null,\"left\":125.25,\"level\":\"underlay\",\"line_alpha\":0.4,\"line_color\":\"black\",\"right\":126.0},\"id\":\"1931\",\"type\":\"BoxAnnotation\"},{\"attributes\":{\"coordinates\":null,\"fill_color\":null,\"group\":null,\"left\":250.5,\"level\":\"underlay\",\"line_alpha\":0.4,\"line_color\":\"black\",\"right\":251.25},\"id\":\"2098\",\"type\":\"BoxAnnotation\"},{\"attributes\":{\"coordinates\":null,\"fill_color\":null,\"group\":null,\"left\":126.0,\"level\":\"underlay\",\"line_alpha\":0.4,\"line_color\":\"black\",\"right\":126.75},\"id\":\"1932\",\"type\":\"BoxAnnotation\"},{\"attributes\":{\"coordinates\":null,\"fill_color\":null,\"group\":null,\"left\":251.25,\"level\":\"underlay\",\"line_alpha\":0.4,\"line_color\":\"black\",\"right\":252.0},\"id\":\"2099\",\"type\":\"BoxAnnotation\"},{\"attributes\":{\"coordinates\":null,\"fill_color\":null,\"group\":null,\"left\":126.75,\"level\":\"underlay\",\"line_alpha\":0.4,\"line_color\":\"black\",\"right\":127.5},\"id\":\"1933\",\"type\":\"BoxAnnotation\"},{\"attributes\":{\"coordinates\":null,\"fill_color\":null,\"group\":null,\"left\":252.0,\"level\":\"underlay\",\"line_alpha\":0.4,\"line_color\":\"black\",\"right\":252.75},\"id\":\"2100\",\"type\":\"BoxAnnotation\"},{\"attributes\":{\"coordinates\":null,\"fill_color\":null,\"group\":null,\"left\":127.5,\"level\":\"underlay\",\"line_alpha\":0.4,\"line_color\":\"black\",\"right\":128.25},\"id\":\"1934\",\"type\":\"BoxAnnotation\"},{\"attributes\":{\"coordinates\":null,\"fill_color\":null,\"group\":null,\"left\":252.75,\"level\":\"underlay\",\"line_alpha\":0.4,\"line_color\":\"black\",\"right\":253.5},\"id\":\"2101\",\"type\":\"BoxAnnotation\"},{\"attributes\":{\"coordinates\":null,\"fill_color\":null,\"group\":null,\"left\":128.25,\"level\":\"underlay\",\"line_alpha\":0.4,\"line_color\":\"black\",\"right\":129.0},\"id\":\"1935\",\"type\":\"BoxAnnotation\"},{\"attributes\":{\"coordinates\":null,\"fill_color\":null,\"group\":null,\"left\":253.5,\"level\":\"underlay\",\"line_alpha\":0.4,\"line_color\":\"black\",\"right\":254.25},\"id\":\"2102\",\"type\":\"BoxAnnotation\"},{\"attributes\":{\"coordinates\":null,\"fill_color\":null,\"group\":null,\"left\":129.0,\"level\":\"underlay\",\"line_alpha\":0.4,\"line_color\":\"black\",\"right\":129.75},\"id\":\"1936\",\"type\":\"BoxAnnotation\"},{\"attributes\":{\"coordinates\":null,\"fill_color\":null,\"group\":null,\"left\":254.25,\"level\":\"underlay\",\"line_alpha\":0.4,\"line_color\":\"black\",\"right\":255.0},\"id\":\"2103\",\"type\":\"BoxAnnotation\"},{\"attributes\":{\"coordinates\":null,\"fill_color\":null,\"group\":null,\"left\":129.75,\"level\":\"underlay\",\"line_alpha\":0.4,\"line_color\":\"black\",\"right\":130.5},\"id\":\"1937\",\"type\":\"BoxAnnotation\"},{\"attributes\":{\"coordinates\":null,\"fill_color\":null,\"group\":null,\"left\":255.0,\"level\":\"underlay\",\"line_alpha\":0.4,\"line_color\":\"black\",\"right\":255.75},\"id\":\"2104\",\"type\":\"BoxAnnotation\"},{\"attributes\":{\"coordinates\":null,\"fill_color\":null,\"group\":null,\"left\":130.5,\"level\":\"underlay\",\"line_alpha\":0.4,\"line_color\":\"black\",\"right\":131.25},\"id\":\"1938\",\"type\":\"BoxAnnotation\"},{\"attributes\":{\"coordinates\":null,\"fill_color\":null,\"group\":null,\"left\":255.75,\"level\":\"underlay\",\"line_alpha\":0.4,\"line_color\":\"black\",\"right\":256.5},\"id\":\"2105\",\"type\":\"BoxAnnotation\"},{\"attributes\":{\"coordinates\":null,\"fill_color\":null,\"group\":null,\"left\":131.25,\"level\":\"underlay\",\"line_alpha\":0.4,\"line_color\":\"black\",\"right\":132.0},\"id\":\"1939\",\"type\":\"BoxAnnotation\"},{\"attributes\":{\"interval\":1},\"id\":\"2108\",\"type\":\"SingleIntervalTicker\"},{\"attributes\":{\"coordinates\":null,\"fill_color\":null,\"group\":null,\"left\":132.0,\"level\":\"underlay\",\"line_alpha\":0.4,\"line_color\":\"black\",\"right\":132.75},\"id\":\"1940\",\"type\":\"BoxAnnotation\"},{\"attributes\":{\"coordinates\":null,\"group\":null,\"text\":\"Visual MIDI (80 QPM, 4/4)\",\"text_font_size\":\"14px\"},\"id\":\"2110\",\"type\":\"Title\"},{\"attributes\":{\"coordinates\":null,\"fill_color\":null,\"group\":null,\"left\":132.75,\"level\":\"underlay\",\"line_alpha\":0.4,\"line_color\":\"black\",\"right\":133.5},\"id\":\"1941\",\"type\":\"BoxAnnotation\"},{\"attributes\":{\"end\":237.0,\"start\":213.0},\"id\":\"2112\",\"type\":\"Range1d\"},{\"attributes\":{\"coordinates\":null,\"fill_color\":null,\"group\":null,\"left\":133.5,\"level\":\"underlay\",\"line_alpha\":0.4,\"line_color\":\"black\",\"right\":134.25},\"id\":\"1942\",\"type\":\"BoxAnnotation\"},{\"attributes\":{\"coordinates\":null,\"fill_color\":null,\"group\":null,\"left\":134.25,\"level\":\"underlay\",\"line_alpha\":0.4,\"line_color\":\"black\",\"right\":135.0},\"id\":\"1943\",\"type\":\"BoxAnnotation\"},{\"attributes\":{\"coordinates\":null,\"fill_color\":null,\"group\":null,\"left\":135.0,\"level\":\"underlay\",\"line_alpha\":0.4,\"line_color\":\"black\",\"right\":135.75},\"id\":\"1944\",\"type\":\"BoxAnnotation\"},{\"attributes\":{\"coordinates\":null,\"fill_color\":null,\"group\":null,\"left\":135.75,\"level\":\"underlay\",\"line_alpha\":0.4,\"line_color\":\"black\",\"right\":136.5},\"id\":\"1945\",\"type\":\"BoxAnnotation\"},{\"attributes\":{\"end\":73,\"start\":46},\"id\":\"2113\",\"type\":\"Range1d\"},{\"attributes\":{\"coordinates\":null,\"fill_color\":null,\"group\":null,\"left\":136.5,\"level\":\"underlay\",\"line_alpha\":0.4,\"line_color\":\"black\",\"right\":137.25},\"id\":\"1946\",\"type\":\"BoxAnnotation\"},{\"attributes\":{\"coordinates\":null,\"fill_color\":null,\"group\":null,\"left\":137.25,\"level\":\"underlay\",\"line_alpha\":0.4,\"line_color\":\"black\",\"right\":138.0},\"id\":\"1947\",\"type\":\"BoxAnnotation\"},{\"attributes\":{\"coordinates\":null,\"fill_color\":null,\"group\":null,\"left\":138.0,\"level\":\"underlay\",\"line_alpha\":0.4,\"line_color\":\"black\",\"right\":138.75},\"id\":\"1948\",\"type\":\"BoxAnnotation\"},{\"attributes\":{\"coordinates\":null,\"fill_color\":null,\"group\":null,\"left\":138.75,\"level\":\"underlay\",\"line_alpha\":0.4,\"line_color\":\"black\",\"right\":139.5},\"id\":\"1949\",\"type\":\"BoxAnnotation\"},{\"attributes\":{\"coordinates\":null,\"fill_color\":null,\"group\":null,\"left\":139.5,\"level\":\"underlay\",\"line_alpha\":0.4,\"line_color\":\"black\",\"right\":140.25},\"id\":\"1950\",\"type\":\"BoxAnnotation\"},{\"attributes\":{\"coordinates\":null,\"fill_color\":null,\"group\":null,\"left\":140.25,\"level\":\"underlay\",\"line_alpha\":0.4,\"line_color\":\"black\",\"right\":141.0},\"id\":\"1951\",\"type\":\"BoxAnnotation\"},{\"attributes\":{\"coordinates\":null,\"fill_color\":null,\"group\":null,\"left\":141.0,\"level\":\"underlay\",\"line_alpha\":0.4,\"line_color\":\"black\",\"right\":141.75},\"id\":\"1952\",\"type\":\"BoxAnnotation\"},{\"attributes\":{\"coordinates\":null,\"fill_color\":null,\"group\":null,\"left\":141.75,\"level\":\"underlay\",\"line_alpha\":0.4,\"line_color\":\"black\",\"right\":142.5},\"id\":\"1953\",\"type\":\"BoxAnnotation\"},{\"attributes\":{\"coordinates\":null,\"fill_color\":null,\"group\":null,\"left\":142.5,\"level\":\"underlay\",\"line_alpha\":0.4,\"line_color\":\"black\",\"right\":143.25},\"id\":\"1954\",\"type\":\"BoxAnnotation\"},{\"attributes\":{\"coordinates\":null,\"fill_color\":null,\"group\":null,\"left\":143.25,\"level\":\"underlay\",\"line_alpha\":0.4,\"line_color\":\"black\",\"right\":144.0},\"id\":\"1955\",\"type\":\"BoxAnnotation\"},{\"attributes\":{\"coordinates\":null,\"fill_color\":null,\"group\":null,\"left\":144.0,\"level\":\"underlay\",\"line_alpha\":0.4,\"line_color\":\"black\",\"right\":144.75},\"id\":\"1956\",\"type\":\"BoxAnnotation\"},{\"attributes\":{\"coordinates\":null,\"fill_color\":null,\"group\":null,\"left\":144.75,\"level\":\"underlay\",\"line_alpha\":0.4,\"line_color\":\"black\",\"right\":145.5},\"id\":\"1957\",\"type\":\"BoxAnnotation\"},{\"attributes\":{\"coordinates\":null,\"fill_color\":null,\"group\":null,\"left\":145.5,\"level\":\"underlay\",\"line_alpha\":0.4,\"line_color\":\"black\",\"right\":146.25},\"id\":\"1958\",\"type\":\"BoxAnnotation\"},{\"attributes\":{\"coordinates\":null,\"fill_color\":null,\"group\":null,\"left\":146.25,\"level\":\"underlay\",\"line_alpha\":0.4,\"line_color\":\"black\",\"right\":147.0},\"id\":\"1959\",\"type\":\"BoxAnnotation\"},{\"attributes\":{\"coordinates\":null,\"fill_color\":null,\"group\":null,\"left\":147.0,\"level\":\"underlay\",\"line_alpha\":0.4,\"line_color\":\"black\",\"right\":147.75},\"id\":\"1960\",\"type\":\"BoxAnnotation\"},{\"attributes\":{\"coordinates\":null,\"fill_color\":null,\"group\":null,\"left\":147.75,\"level\":\"underlay\",\"line_alpha\":0.4,\"line_color\":\"black\",\"right\":148.5},\"id\":\"1961\",\"type\":\"BoxAnnotation\"},{\"attributes\":{\"coordinates\":null,\"fill_color\":null,\"group\":null,\"left\":148.5,\"level\":\"underlay\",\"line_alpha\":0.4,\"line_color\":\"black\",\"right\":149.25},\"id\":\"1962\",\"type\":\"BoxAnnotation\"},{\"attributes\":{\"coordinates\":null,\"fill_color\":null,\"group\":null,\"left\":149.25,\"level\":\"underlay\",\"line_alpha\":0.4,\"line_color\":\"black\",\"right\":150.0},\"id\":\"1963\",\"type\":\"BoxAnnotation\"},{\"attributes\":{\"coordinates\":null,\"fill_color\":null,\"group\":null,\"left\":150.0,\"level\":\"underlay\",\"line_alpha\":0.4,\"line_color\":\"black\",\"right\":150.75},\"id\":\"1964\",\"type\":\"BoxAnnotation\"},{\"attributes\":{\"coordinates\":null,\"fill_color\":null,\"group\":null,\"left\":150.75,\"level\":\"underlay\",\"line_alpha\":0.4,\"line_color\":\"black\",\"right\":151.5},\"id\":\"1965\",\"type\":\"BoxAnnotation\"},{\"attributes\":{\"coordinates\":null,\"fill_color\":null,\"group\":null,\"left\":151.5,\"level\":\"underlay\",\"line_alpha\":0.4,\"line_color\":\"black\",\"right\":152.25},\"id\":\"1966\",\"type\":\"BoxAnnotation\"},{\"attributes\":{\"coordinates\":null,\"fill_color\":null,\"group\":null,\"left\":152.25,\"level\":\"underlay\",\"line_alpha\":0.4,\"line_color\":\"black\",\"right\":153.0},\"id\":\"1967\",\"type\":\"BoxAnnotation\"},{\"attributes\":{\"coordinates\":null,\"fill_color\":null,\"group\":null,\"left\":153.0,\"level\":\"underlay\",\"line_alpha\":0.4,\"line_color\":\"black\",\"right\":153.75},\"id\":\"1968\",\"type\":\"BoxAnnotation\"},{\"attributes\":{\"coordinates\":null,\"fill_color\":null,\"group\":null,\"left\":153.75,\"level\":\"underlay\",\"line_alpha\":0.4,\"line_color\":\"black\",\"right\":154.5},\"id\":\"1969\",\"type\":\"BoxAnnotation\"},{\"attributes\":{\"coordinates\":null,\"fill_color\":null,\"group\":null,\"left\":154.5,\"level\":\"underlay\",\"line_alpha\":0.4,\"line_color\":\"black\",\"right\":155.25},\"id\":\"1970\",\"type\":\"BoxAnnotation\"},{\"attributes\":{\"coordinates\":null,\"fill_color\":null,\"group\":null,\"left\":155.25,\"level\":\"underlay\",\"line_alpha\":0.4,\"line_color\":\"black\",\"right\":156.0},\"id\":\"1971\",\"type\":\"BoxAnnotation\"},{\"attributes\":{\"coordinates\":null,\"fill_color\":null,\"group\":null,\"left\":156.0,\"level\":\"underlay\",\"line_alpha\":0.4,\"line_color\":\"black\",\"right\":156.75},\"id\":\"1972\",\"type\":\"BoxAnnotation\"},{\"attributes\":{\"coordinates\":null,\"fill_color\":null,\"group\":null,\"left\":156.75,\"level\":\"underlay\",\"line_alpha\":0.4,\"line_color\":\"black\",\"right\":157.5},\"id\":\"1973\",\"type\":\"BoxAnnotation\"},{\"attributes\":{\"coordinates\":null,\"fill_color\":null,\"group\":null,\"left\":157.5,\"level\":\"underlay\",\"line_alpha\":0.4,\"line_color\":\"black\",\"right\":158.25},\"id\":\"1974\",\"type\":\"BoxAnnotation\"},{\"attributes\":{\"coordinates\":null,\"fill_color\":null,\"group\":null,\"left\":158.25,\"level\":\"underlay\",\"line_alpha\":0.4,\"line_color\":\"black\",\"right\":159.0},\"id\":\"1975\",\"type\":\"BoxAnnotation\"},{\"attributes\":{\"coordinates\":null,\"fill_color\":null,\"group\":null,\"left\":159.0,\"level\":\"underlay\",\"line_alpha\":0.4,\"line_color\":\"black\",\"right\":159.75},\"id\":\"1976\",\"type\":\"BoxAnnotation\"},{\"attributes\":{\"coordinates\":null,\"fill_color\":null,\"group\":null,\"left\":159.75,\"level\":\"underlay\",\"line_alpha\":0.4,\"line_color\":\"black\",\"right\":160.5},\"id\":\"1977\",\"type\":\"BoxAnnotation\"},{\"attributes\":{\"coordinates\":null,\"fill_color\":null,\"group\":null,\"left\":160.5,\"level\":\"underlay\",\"line_alpha\":0.4,\"line_color\":\"black\",\"right\":161.25},\"id\":\"1978\",\"type\":\"BoxAnnotation\"},{\"attributes\":{\"coordinates\":null,\"fill_color\":null,\"group\":null,\"left\":161.25,\"level\":\"underlay\",\"line_alpha\":0.4,\"line_color\":\"black\",\"right\":162.0},\"id\":\"1979\",\"type\":\"BoxAnnotation\"},{\"attributes\":{\"coordinates\":null,\"fill_color\":null,\"group\":null,\"left\":162.0,\"level\":\"underlay\",\"line_alpha\":0.4,\"line_color\":\"black\",\"right\":162.75},\"id\":\"1980\",\"type\":\"BoxAnnotation\"},{\"attributes\":{\"coordinates\":null,\"fill_color\":null,\"group\":null,\"left\":162.75,\"level\":\"underlay\",\"line_alpha\":0.4,\"line_color\":\"black\",\"right\":163.5},\"id\":\"1981\",\"type\":\"BoxAnnotation\"},{\"attributes\":{\"coordinates\":null,\"fill_color\":null,\"group\":null,\"left\":163.5,\"level\":\"underlay\",\"line_alpha\":0.4,\"line_color\":\"black\",\"right\":164.25},\"id\":\"1982\",\"type\":\"BoxAnnotation\"},{\"attributes\":{\"coordinates\":null,\"fill_color\":null,\"group\":null,\"left\":164.25,\"level\":\"underlay\",\"line_alpha\":0.4,\"line_color\":\"black\",\"right\":165.0},\"id\":\"1983\",\"type\":\"BoxAnnotation\"},{\"attributes\":{\"coordinates\":null,\"fill_color\":null,\"group\":null,\"left\":165.0,\"level\":\"underlay\",\"line_alpha\":0.4,\"line_color\":\"black\",\"right\":165.75},\"id\":\"1984\",\"type\":\"BoxAnnotation\"},{\"attributes\":{\"coordinates\":null,\"fill_color\":null,\"group\":null,\"left\":165.75,\"level\":\"underlay\",\"line_alpha\":0.4,\"line_color\":\"black\",\"right\":166.5},\"id\":\"1985\",\"type\":\"BoxAnnotation\"},{\"attributes\":{\"coordinates\":null,\"fill_color\":null,\"group\":null,\"left\":166.5,\"level\":\"underlay\",\"line_alpha\":0.4,\"line_color\":\"black\",\"right\":167.25},\"id\":\"1986\",\"type\":\"BoxAnnotation\"},{\"attributes\":{\"coordinates\":null,\"fill_color\":null,\"group\":null,\"left\":167.25,\"level\":\"underlay\",\"line_alpha\":0.4,\"line_color\":\"black\",\"right\":168.0},\"id\":\"1987\",\"type\":\"BoxAnnotation\"},{\"attributes\":{\"coordinates\":null,\"fill_color\":null,\"group\":null,\"left\":168.0,\"level\":\"underlay\",\"line_alpha\":0.4,\"line_color\":\"black\",\"right\":168.75},\"id\":\"1988\",\"type\":\"BoxAnnotation\"},{\"attributes\":{\"coordinates\":null,\"fill_color\":null,\"group\":null,\"left\":171.0,\"level\":\"underlay\",\"line_alpha\":0.4,\"line_color\":\"black\",\"right\":171.75},\"id\":\"1992\",\"type\":\"BoxAnnotation\"},{\"attributes\":{\"coordinates\":null,\"fill_color\":null,\"group\":null,\"left\":168.75,\"level\":\"underlay\",\"line_alpha\":0.4,\"line_color\":\"black\",\"right\":169.5},\"id\":\"1989\",\"type\":\"BoxAnnotation\"},{\"attributes\":{\"coordinates\":null,\"fill_color\":null,\"group\":null,\"left\":169.5,\"level\":\"underlay\",\"line_alpha\":0.4,\"line_color\":\"black\",\"right\":170.25},\"id\":\"1990\",\"type\":\"BoxAnnotation\"},{\"attributes\":{\"coordinates\":null,\"fill_color\":null,\"group\":null,\"left\":172.5,\"level\":\"underlay\",\"line_alpha\":0.4,\"line_color\":\"black\",\"right\":173.25},\"id\":\"1994\",\"type\":\"BoxAnnotation\"},{\"attributes\":{\"coordinates\":null,\"fill_color\":null,\"group\":null,\"left\":170.25,\"level\":\"underlay\",\"line_alpha\":0.4,\"line_color\":\"black\",\"right\":171.0},\"id\":\"1991\",\"type\":\"BoxAnnotation\"},{\"attributes\":{\"coordinates\":null,\"fill_color\":null,\"group\":null,\"left\":171.75,\"level\":\"underlay\",\"line_alpha\":0.4,\"line_color\":\"black\",\"right\":172.5},\"id\":\"1993\",\"type\":\"BoxAnnotation\"},{\"attributes\":{\"bottom\":{\"field\":\"bottom\"},\"fill_color\":{\"field\":\"color\"},\"hatch_color\":{\"field\":\"color\"},\"left\":{\"field\":\"left\"},\"right\":{\"field\":\"right\"},\"top\":{\"field\":\"top\"}},\"id\":\"1619\",\"type\":\"Quad\"},{\"attributes\":{},\"id\":\"2128\",\"type\":\"UnionRenderers\"},{\"attributes\":{},\"id\":\"2129\",\"type\":\"Selection\"},{\"attributes\":{\"below\":[{\"id\":\"1590\"}],\"center\":[{\"id\":\"1593\"},{\"id\":\"1597\"},{\"id\":\"1624\"},{\"id\":\"1625\"},{\"id\":\"1626\"},{\"id\":\"1627\"},{\"id\":\"1628\"},{\"id\":\"1629\"},{\"id\":\"1630\"},{\"id\":\"1631\"},{\"id\":\"1632\"},{\"id\":\"1633\"},{\"id\":\"1634\"},{\"id\":\"1635\"},{\"id\":\"1636\"},{\"id\":\"1637\"},{\"id\":\"1638\"},{\"id\":\"1639\"},{\"id\":\"1640\"},{\"id\":\"1641\"},{\"id\":\"1642\"},{\"id\":\"1643\"},{\"id\":\"1644\"},{\"id\":\"1645\"},{\"id\":\"1646\"},{\"id\":\"1647\"},{\"id\":\"1648\"},{\"id\":\"1649\"},{\"id\":\"1650\"},{\"id\":\"1651\"},{\"id\":\"1652\"},{\"id\":\"1653\"},{\"id\":\"1654\"},{\"id\":\"1655\"},{\"id\":\"1656\"},{\"id\":\"1657\"},{\"id\":\"1658\"},{\"id\":\"1659\"},{\"id\":\"1660\"},{\"id\":\"1661\"},{\"id\":\"1662\"},{\"id\":\"1663\"},{\"id\":\"1664\"},{\"id\":\"1665\"},{\"id\":\"1666\"},{\"id\":\"1667\"},{\"id\":\"1668\"},{\"id\":\"1669\"},{\"id\":\"1670\"},{\"id\":\"1671\"},{\"id\":\"1672\"},{\"id\":\"1673\"},{\"id\":\"1674\"},{\"id\":\"1675\"},{\"id\":\"1676\"},{\"id\":\"1677\"},{\"id\":\"1678\"},{\"id\":\"1679\"},{\"id\":\"1680\"},{\"id\":\"1681\"},{\"id\":\"1682\"},{\"id\":\"1683\"},{\"id\":\"1684\"},{\"id\":\"1685\"},{\"id\":\"1686\"},{\"id\":\"1687\"},{\"id\":\"1688\"},{\"id\":\"1689\"},{\"id\":\"1690\"},{\"id\":\"1691\"},{\"id\":\"1692\"},{\"id\":\"1693\"},{\"id\":\"1694\"},{\"id\":\"1695\"},{\"id\":\"1696\"},{\"id\":\"1697\"},{\"id\":\"1698\"},{\"id\":\"1699\"},{\"id\":\"1700\"},{\"id\":\"1701\"},{\"id\":\"1702\"},{\"id\":\"1703\"},{\"id\":\"1704\"},{\"id\":\"1705\"},{\"id\":\"1706\"},{\"id\":\"1707\"},{\"id\":\"1708\"},{\"id\":\"1709\"},{\"id\":\"1710\"},{\"id\":\"1711\"},{\"id\":\"1712\"},{\"id\":\"1713\"},{\"id\":\"1714\"},{\"id\":\"1715\"},{\"id\":\"1716\"},{\"id\":\"1717\"},{\"id\":\"1718\"},{\"id\":\"1719\"},{\"id\":\"1720\"},{\"id\":\"1721\"},{\"id\":\"1722\"},{\"id\":\"1723\"},{\"id\":\"1724\"},{\"id\":\"1725\"},{\"id\":\"1726\"},{\"id\":\"1727\"},{\"id\":\"1728\"},{\"id\":\"1729\"},{\"id\":\"1730\"},{\"id\":\"1731\"},{\"id\":\"1732\"},{\"id\":\"1733\"},{\"id\":\"1734\"},{\"id\":\"1735\"},{\"id\":\"1736\"},{\"id\":\"1737\"},{\"id\":\"1738\"},{\"id\":\"1739\"},{\"id\":\"1740\"},{\"id\":\"1741\"},{\"id\":\"1742\"},{\"id\":\"1743\"},{\"id\":\"1744\"},{\"id\":\"1745\"},{\"id\":\"1746\"},{\"id\":\"1747\"},{\"id\":\"1748\"},{\"id\":\"1749\"},{\"id\":\"1750\"},{\"id\":\"1751\"},{\"id\":\"1752\"},{\"id\":\"1753\"},{\"id\":\"1754\"},{\"id\":\"1755\"},{\"id\":\"1756\"},{\"id\":\"1757\"},{\"id\":\"1758\"},{\"id\":\"1759\"},{\"id\":\"1760\"},{\"id\":\"1761\"},{\"id\":\"1762\"},{\"id\":\"1763\"},{\"id\":\"1764\"},{\"id\":\"1765\"},{\"id\":\"1766\"},{\"id\":\"1767\"},{\"id\":\"1768\"},{\"id\":\"1769\"},{\"id\":\"1770\"},{\"id\":\"1771\"},{\"id\":\"1772\"},{\"id\":\"1773\"},{\"id\":\"1774\"},{\"id\":\"1775\"},{\"id\":\"1776\"},{\"id\":\"1777\"},{\"id\":\"1778\"},{\"id\":\"1779\"},{\"id\":\"1780\"},{\"id\":\"1781\"},{\"id\":\"1782\"},{\"id\":\"1783\"},{\"id\":\"1784\"},{\"id\":\"1785\"},{\"id\":\"1786\"},{\"id\":\"1787\"},{\"id\":\"1788\"},{\"id\":\"1789\"},{\"id\":\"1790\"},{\"id\":\"1791\"},{\"id\":\"1792\"},{\"id\":\"1793\"},{\"id\":\"1794\"},{\"id\":\"1795\"},{\"id\":\"1796\"},{\"id\":\"1797\"},{\"id\":\"1798\"},{\"id\":\"1799\"},{\"id\":\"1800\"},{\"id\":\"1801\"},{\"id\":\"1802\"},{\"id\":\"1803\"},{\"id\":\"1804\"},{\"id\":\"1805\"},{\"id\":\"1806\"},{\"id\":\"1807\"},{\"id\":\"1808\"},{\"id\":\"1809\"},{\"id\":\"1810\"},{\"id\":\"1811\"},{\"id\":\"1812\"},{\"id\":\"1813\"},{\"id\":\"1814\"},{\"id\":\"1815\"},{\"id\":\"1816\"},{\"id\":\"1817\"},{\"id\":\"1818\"},{\"id\":\"1819\"},{\"id\":\"1820\"},{\"id\":\"1821\"},{\"id\":\"1822\"},{\"id\":\"1823\"},{\"id\":\"1824\"},{\"id\":\"1825\"},{\"id\":\"1826\"},{\"id\":\"1827\"},{\"id\":\"1828\"},{\"id\":\"1829\"},{\"id\":\"1830\"},{\"id\":\"1831\"},{\"id\":\"1832\"},{\"id\":\"1833\"},{\"id\":\"1834\"},{\"id\":\"1835\"},{\"id\":\"1836\"},{\"id\":\"1837\"},{\"id\":\"1838\"},{\"id\":\"1839\"},{\"id\":\"1840\"},{\"id\":\"1841\"},{\"id\":\"1842\"},{\"id\":\"1843\"},{\"id\":\"1844\"},{\"id\":\"1845\"},{\"id\":\"1846\"},{\"id\":\"1847\"},{\"id\":\"1848\"},{\"id\":\"1849\"},{\"id\":\"1850\"},{\"id\":\"1851\"},{\"id\":\"1852\"},{\"id\":\"1853\"},{\"id\":\"1854\"},{\"id\":\"1855\"},{\"id\":\"1856\"},{\"id\":\"1857\"},{\"id\":\"1858\"},{\"id\":\"1859\"},{\"id\":\"1860\"},{\"id\":\"1861\"},{\"id\":\"1862\"},{\"id\":\"1863\"},{\"id\":\"1864\"},{\"id\":\"1865\"},{\"id\":\"1866\"},{\"id\":\"1867\"},{\"id\":\"1868\"},{\"id\":\"1869\"},{\"id\":\"1870\"},{\"id\":\"1871\"},{\"id\":\"1872\"},{\"id\":\"1873\"},{\"id\":\"1874\"},{\"id\":\"1875\"},{\"id\":\"1876\"},{\"id\":\"1877\"},{\"id\":\"1878\"},{\"id\":\"1879\"},{\"id\":\"1880\"},{\"id\":\"1881\"},{\"id\":\"1882\"},{\"id\":\"1883\"},{\"id\":\"1884\"},{\"id\":\"1885\"},{\"id\":\"1886\"},{\"id\":\"1887\"},{\"id\":\"1888\"},{\"id\":\"1889\"},{\"id\":\"1890\"},{\"id\":\"1891\"},{\"id\":\"1892\"},{\"id\":\"1893\"},{\"id\":\"1894\"},{\"id\":\"1895\"},{\"id\":\"1896\"},{\"id\":\"1897\"},{\"id\":\"1898\"},{\"id\":\"1899\"},{\"id\":\"1900\"},{\"id\":\"1901\"},{\"id\":\"1902\"},{\"id\":\"1903\"},{\"id\":\"1904\"},{\"id\":\"1905\"},{\"id\":\"1906\"},{\"id\":\"1907\"},{\"id\":\"1908\"},{\"id\":\"1909\"},{\"id\":\"1910\"},{\"id\":\"1911\"},{\"id\":\"1912\"},{\"id\":\"1913\"},{\"id\":\"1914\"},{\"id\":\"1915\"},{\"id\":\"1916\"},{\"id\":\"1917\"},{\"id\":\"1918\"},{\"id\":\"1919\"},{\"id\":\"1920\"},{\"id\":\"1921\"},{\"id\":\"1922\"},{\"id\":\"1923\"},{\"id\":\"1924\"},{\"id\":\"1925\"},{\"id\":\"1926\"},{\"id\":\"1927\"},{\"id\":\"1928\"},{\"id\":\"1929\"},{\"id\":\"1930\"},{\"id\":\"1931\"},{\"id\":\"1932\"},{\"id\":\"1933\"},{\"id\":\"1934\"},{\"id\":\"1935\"},{\"id\":\"1936\"},{\"id\":\"1937\"},{\"id\":\"1938\"},{\"id\":\"1939\"},{\"id\":\"1940\"},{\"id\":\"1941\"},{\"id\":\"1942\"},{\"id\":\"1943\"},{\"id\":\"1944\"},{\"id\":\"1945\"},{\"id\":\"1946\"},{\"id\":\"1947\"},{\"id\":\"1948\"},{\"id\":\"1949\"},{\"id\":\"1950\"},{\"id\":\"1951\"},{\"id\":\"1952\"},{\"id\":\"1953\"},{\"id\":\"1954\"},{\"id\":\"1955\"},{\"id\":\"1956\"},{\"id\":\"1957\"},{\"id\":\"1958\"},{\"id\":\"1959\"},{\"id\":\"1960\"},{\"id\":\"1961\"},{\"id\":\"1962\"},{\"id\":\"1963\"},{\"id\":\"1964\"},{\"id\":\"1965\"},{\"id\":\"1966\"},{\"id\":\"1967\"},{\"id\":\"1968\"},{\"id\":\"1969\"},{\"id\":\"1970\"},{\"id\":\"1971\"},{\"id\":\"1972\"},{\"id\":\"1973\"},{\"id\":\"1974\"},{\"id\":\"1975\"},{\"id\":\"1976\"},{\"id\":\"1977\"},{\"id\":\"1978\"},{\"id\":\"1979\"},{\"id\":\"1980\"},{\"id\":\"1981\"},{\"id\":\"1982\"},{\"id\":\"1983\"},{\"id\":\"1984\"},{\"id\":\"1985\"},{\"id\":\"1986\"},{\"id\":\"1987\"},{\"id\":\"1988\"},{\"id\":\"1989\"},{\"id\":\"1990\"},{\"id\":\"1991\"},{\"id\":\"1992\"},{\"id\":\"1993\"},{\"id\":\"1994\"},{\"id\":\"1995\"},{\"id\":\"1996\"},{\"id\":\"1997\"},{\"id\":\"1998\"},{\"id\":\"1999\"},{\"id\":\"2000\"},{\"id\":\"2001\"},{\"id\":\"2002\"},{\"id\":\"2003\"},{\"id\":\"2004\"},{\"id\":\"2005\"},{\"id\":\"2006\"},{\"id\":\"2007\"},{\"id\":\"2008\"},{\"id\":\"2009\"},{\"id\":\"2010\"},{\"id\":\"2011\"},{\"id\":\"2012\"},{\"id\":\"2013\"},{\"id\":\"2014\"},{\"id\":\"2015\"},{\"id\":\"2016\"},{\"id\":\"2017\"},{\"id\":\"2018\"},{\"id\":\"2019\"},{\"id\":\"2020\"},{\"id\":\"2021\"},{\"id\":\"2022\"},{\"id\":\"2023\"},{\"id\":\"2024\"},{\"id\":\"2025\"},{\"id\":\"2026\"},{\"id\":\"2027\"},{\"id\":\"2028\"},{\"id\":\"2029\"},{\"id\":\"2030\"},{\"id\":\"2031\"},{\"id\":\"2032\"},{\"id\":\"2033\"},{\"id\":\"2034\"},{\"id\":\"2035\"},{\"id\":\"2036\"},{\"id\":\"2037\"},{\"id\":\"2038\"},{\"id\":\"2039\"},{\"id\":\"2040\"},{\"id\":\"2041\"},{\"id\":\"2042\"},{\"id\":\"2043\"},{\"id\":\"2044\"},{\"id\":\"2045\"},{\"id\":\"2046\"},{\"id\":\"2047\"},{\"id\":\"2048\"},{\"id\":\"2049\"},{\"id\":\"2050\"},{\"id\":\"2051\"},{\"id\":\"2052\"},{\"id\":\"2053\"},{\"id\":\"2054\"},{\"id\":\"2055\"},{\"id\":\"2056\"},{\"id\":\"2057\"},{\"id\":\"2058\"},{\"id\":\"2059\"},{\"id\":\"2060\"},{\"id\":\"2061\"},{\"id\":\"2062\"},{\"id\":\"2063\"},{\"id\":\"2064\"},{\"id\":\"2065\"},{\"id\":\"2066\"},{\"id\":\"2067\"},{\"id\":\"2068\"},{\"id\":\"2069\"},{\"id\":\"2070\"},{\"id\":\"2071\"},{\"id\":\"2072\"},{\"id\":\"2073\"},{\"id\":\"2074\"},{\"id\":\"2075\"},{\"id\":\"2076\"},{\"id\":\"2077\"},{\"id\":\"2078\"},{\"id\":\"2079\"},{\"id\":\"2080\"},{\"id\":\"2081\"},{\"id\":\"2082\"},{\"id\":\"2083\"},{\"id\":\"2084\"},{\"id\":\"2085\"},{\"id\":\"2086\"},{\"id\":\"2087\"},{\"id\":\"2088\"},{\"id\":\"2089\"},{\"id\":\"2090\"},{\"id\":\"2091\"},{\"id\":\"2092\"},{\"id\":\"2093\"},{\"id\":\"2094\"},{\"id\":\"2095\"},{\"id\":\"2096\"},{\"id\":\"2097\"},{\"id\":\"2098\"},{\"id\":\"2099\"},{\"id\":\"2100\"},{\"id\":\"2101\"},{\"id\":\"2102\"},{\"id\":\"2103\"},{\"id\":\"2104\"},{\"id\":\"2105\"}],\"height\":400,\"left\":[{\"id\":\"1594\"}],\"min_border_right\":50,\"outline_line_color\":\"black\",\"renderers\":[{\"id\":\"1622\"}],\"title\":{\"id\":\"2110\"},\"toolbar\":{\"id\":\"1603\"},\"width\":850,\"x_range\":{\"id\":\"2112\"},\"x_scale\":{\"id\":\"1586\"},\"y_range\":{\"id\":\"2113\"},\"y_scale\":{\"id\":\"1588\"}},\"id\":\"1581\",\"subtype\":\"Figure\",\"type\":\"Plot\"}],\"root_ids\":[\"2114\"]},\"title\":\"Bokeh Application\",\"version\":\"2.4.2\"}};\n",
       "  const render_items = [{\"docid\":\"4fbc8fd3-2b99-4389-931e-6739457b0777\",\"root_ids\":[\"2114\"],\"roots\":{\"2114\":\"86fc366f-29d9-476f-b2ed-65579bcb38e0\"}}];\n",
       "  root.Bokeh.embed.embed_items_notebook(docs_json, render_items);\n",
       "\n",
       "  }\n",
       "  if (root.Bokeh !== undefined) {\n",
       "    embed_document(root);\n",
       "  } else {\n",
       "    let attempts = 0;\n",
       "    const timer = setInterval(function(root) {\n",
       "      if (root.Bokeh !== undefined) {\n",
       "        clearInterval(timer);\n",
       "        embed_document(root);\n",
       "      } else {\n",
       "        attempts++;\n",
       "        if (attempts > 100) {\n",
       "          clearInterval(timer);\n",
       "          console.log(\"Bokeh: ERROR: Unable to run BokehJS code because BokehJS library is missing\");\n",
       "        }\n",
       "      }\n",
       "    }, 10, root)\n",
       "  }\n",
       "})(window);"
      ],
      "application/vnd.bokehjs_exec.v0+json": ""
     },
     "metadata": {
      "application/vnd.bokehjs_exec.v0+json": {
       "id": "2114"
      }
     },
     "output_type": "display_data"
    },
    {
     "data": {
      "text/html": [
       "<div style=\"display: table;\"><div style=\"display: table-row;\"><div style=\"display: table-cell;\"><b title=\"bokeh.models.layouts.Column\">Column</b>(</div><div style=\"display: table-cell;\">id&nbsp;=&nbsp;'2114', <span id=\"2166\" style=\"cursor: pointer;\">&hellip;)</span></div></div><div class=\"2165\" style=\"display: none;\"><div style=\"display: table-cell;\"></div><div style=\"display: table-cell;\">align&nbsp;=&nbsp;'start',</div></div><div class=\"2165\" style=\"display: none;\"><div style=\"display: table-cell;\"></div><div style=\"display: table-cell;\">aspect_ratio&nbsp;=&nbsp;None,</div></div><div class=\"2165\" style=\"display: none;\"><div style=\"display: table-cell;\"></div><div style=\"display: table-cell;\">background&nbsp;=&nbsp;None,</div></div><div class=\"2165\" style=\"display: none;\"><div style=\"display: table-cell;\"></div><div style=\"display: table-cell;\">children&nbsp;=&nbsp;[Figure(id='1581', ...)],</div></div><div class=\"2165\" style=\"display: none;\"><div style=\"display: table-cell;\"></div><div style=\"display: table-cell;\">css_classes&nbsp;=&nbsp;[],</div></div><div class=\"2165\" style=\"display: none;\"><div style=\"display: table-cell;\"></div><div style=\"display: table-cell;\">disabled&nbsp;=&nbsp;False,</div></div><div class=\"2165\" style=\"display: none;\"><div style=\"display: table-cell;\"></div><div style=\"display: table-cell;\">height&nbsp;=&nbsp;None,</div></div><div class=\"2165\" style=\"display: none;\"><div style=\"display: table-cell;\"></div><div style=\"display: table-cell;\">height_policy&nbsp;=&nbsp;'auto',</div></div><div class=\"2165\" style=\"display: none;\"><div style=\"display: table-cell;\"></div><div style=\"display: table-cell;\">js_event_callbacks&nbsp;=&nbsp;{},</div></div><div class=\"2165\" style=\"display: none;\"><div style=\"display: table-cell;\"></div><div style=\"display: table-cell;\">js_property_callbacks&nbsp;=&nbsp;{},</div></div><div class=\"2165\" style=\"display: none;\"><div style=\"display: table-cell;\"></div><div style=\"display: table-cell;\">margin&nbsp;=&nbsp;(0, 0, 0, 0),</div></div><div class=\"2165\" style=\"display: none;\"><div style=\"display: table-cell;\"></div><div style=\"display: table-cell;\">max_height&nbsp;=&nbsp;None,</div></div><div class=\"2165\" style=\"display: none;\"><div style=\"display: table-cell;\"></div><div style=\"display: table-cell;\">max_width&nbsp;=&nbsp;None,</div></div><div class=\"2165\" style=\"display: none;\"><div style=\"display: table-cell;\"></div><div style=\"display: table-cell;\">min_height&nbsp;=&nbsp;None,</div></div><div class=\"2165\" style=\"display: none;\"><div style=\"display: table-cell;\"></div><div style=\"display: table-cell;\">min_width&nbsp;=&nbsp;None,</div></div><div class=\"2165\" style=\"display: none;\"><div style=\"display: table-cell;\"></div><div style=\"display: table-cell;\">name&nbsp;=&nbsp;None,</div></div><div class=\"2165\" style=\"display: none;\"><div style=\"display: table-cell;\"></div><div style=\"display: table-cell;\">rows&nbsp;=&nbsp;'auto',</div></div><div class=\"2165\" style=\"display: none;\"><div style=\"display: table-cell;\"></div><div style=\"display: table-cell;\">sizing_mode&nbsp;=&nbsp;None,</div></div><div class=\"2165\" style=\"display: none;\"><div style=\"display: table-cell;\"></div><div style=\"display: table-cell;\">spacing&nbsp;=&nbsp;0,</div></div><div class=\"2165\" style=\"display: none;\"><div style=\"display: table-cell;\"></div><div style=\"display: table-cell;\">subscribed_events&nbsp;=&nbsp;[],</div></div><div class=\"2165\" style=\"display: none;\"><div style=\"display: table-cell;\"></div><div style=\"display: table-cell;\">syncable&nbsp;=&nbsp;True,</div></div><div class=\"2165\" style=\"display: none;\"><div style=\"display: table-cell;\"></div><div style=\"display: table-cell;\">tags&nbsp;=&nbsp;[],</div></div><div class=\"2165\" style=\"display: none;\"><div style=\"display: table-cell;\"></div><div style=\"display: table-cell;\">visible&nbsp;=&nbsp;True,</div></div><div class=\"2165\" style=\"display: none;\"><div style=\"display: table-cell;\"></div><div style=\"display: table-cell;\">width&nbsp;=&nbsp;None,</div></div><div class=\"2165\" style=\"display: none;\"><div style=\"display: table-cell;\"></div><div style=\"display: table-cell;\">width_policy&nbsp;=&nbsp;'auto')</div></div></div>\n",
       "<script>\n",
       "(function() {\n",
       "  let expanded = false;\n",
       "  const ellipsis = document.getElementById(\"2166\");\n",
       "  ellipsis.addEventListener(\"click\", function() {\n",
       "    const rows = document.getElementsByClassName(\"2165\");\n",
       "    for (let i = 0; i < rows.length; i++) {\n",
       "      const el = rows[i];\n",
       "      el.style.display = expanded ? \"none\" : \"table-row\";\n",
       "    }\n",
       "    ellipsis.innerHTML = expanded ? \"&hellip;)\" : \"&lsaquo;&lsaquo;&lsaquo;\";\n",
       "    expanded = !expanded;\n",
       "  });\n",
       "})();\n",
       "</script>\n"
      ],
      "text/plain": [
       "Column(id='2114', ...)"
      ]
     },
     "execution_count": 7,
     "metadata": {},
     "output_type": "execute_result"
    }
   ],
   "source": [
    "%%capture --no-display\n",
    "\n",
    "plotter.show_notebook(test)"
   ]
  },
  {
   "cell_type": "markdown",
   "id": "c5c261ae",
   "metadata": {},
   "source": [
    "### Get PianoRoll to Pretty Midi function from Utils\n"
   ]
  },
  {
   "cell_type": "code",
   "execution_count": 10,
   "id": "7ed717a5",
   "metadata": {},
   "outputs": [],
   "source": [
    "os.chdir('/home/dianehb/code/KarlVoncq/MIDIComposingAI')"
   ]
  },
  {
   "cell_type": "code",
   "execution_count": 3,
   "id": "a5202a71",
   "metadata": {},
   "outputs": [
    {
     "data": {
      "text/plain": [
       "'/home/dianehb/code/KarlVoncq/MIDIComposingAI'"
      ]
     },
     "execution_count": 3,
     "metadata": {},
     "output_type": "execute_result"
    }
   ],
   "source": [
    "os.getcwd()"
   ]
  },
  {
   "cell_type": "code",
   "execution_count": 16,
   "id": "9b73bffa",
   "metadata": {
    "scrolled": true
   },
   "outputs": [],
   "source": [
    "from MIDIComposingAI.utils import piano_roll_to_pretty_midi"
   ]
  },
  {
   "cell_type": "markdown",
   "id": "54234de0",
   "metadata": {
    "heading_collapsed": true
   },
   "source": [
    "## Test Guitar Chords DataSet\n"
   ]
  },
  {
   "cell_type": "markdown",
   "id": "d63b352b",
   "metadata": {
    "heading_collapsed": true,
    "hidden": true
   },
   "source": [
    "### Get Dataset\n",
    "\n"
   ]
  },
  {
   "cell_type": "code",
   "execution_count": 47,
   "id": "817773bb",
   "metadata": {
    "hidden": true
   },
   "outputs": [],
   "source": [
    "guitar_chords_df = pd.read_csv('raw_data/guitar-chords-midi-pitches.csv', sep=\";\")"
   ]
  },
  {
   "cell_type": "code",
   "execution_count": 71,
   "id": "5c53084c",
   "metadata": {
    "hidden": true,
    "scrolled": true
   },
   "outputs": [
    {
     "data": {
      "text/html": [
       "<div>\n",
       "<style scoped>\n",
       "    .dataframe tbody tr th:only-of-type {\n",
       "        vertical-align: middle;\n",
       "    }\n",
       "\n",
       "    .dataframe tbody tr th {\n",
       "        vertical-align: top;\n",
       "    }\n",
       "\n",
       "    .dataframe thead th {\n",
       "        text-align: right;\n",
       "    }\n",
       "</style>\n",
       "<table border=\"1\" class=\"dataframe\">\n",
       "  <thead>\n",
       "    <tr style=\"text-align: right;\">\n",
       "      <th></th>\n",
       "      <th>Chord</th>\n",
       "      <th>2nd</th>\n",
       "      <th>3rd</th>\n",
       "      <th>4th</th>\n",
       "      <th>5th</th>\n",
       "      <th>6th</th>\n",
       "    </tr>\n",
       "  </thead>\n",
       "  <tbody>\n",
       "    <tr>\n",
       "      <th>0</th>\n",
       "      <td>Am</td>\n",
       "      <td>45</td>\n",
       "      <td>52</td>\n",
       "      <td>57.0</td>\n",
       "      <td>60.0</td>\n",
       "      <td>64.0</td>\n",
       "    </tr>\n",
       "    <tr>\n",
       "      <th>1</th>\n",
       "      <td>Amaj</td>\n",
       "      <td>45</td>\n",
       "      <td>52</td>\n",
       "      <td>57.0</td>\n",
       "      <td>61.0</td>\n",
       "      <td>64.0</td>\n",
       "    </tr>\n",
       "    <tr>\n",
       "      <th>2</th>\n",
       "      <td>A6</td>\n",
       "      <td>52</td>\n",
       "      <td>57</td>\n",
       "      <td>61.0</td>\n",
       "      <td>66.0</td>\n",
       "      <td>NaN</td>\n",
       "    </tr>\n",
       "    <tr>\n",
       "      <th>3</th>\n",
       "      <td>A7</td>\n",
       "      <td>45</td>\n",
       "      <td>52</td>\n",
       "      <td>55.0</td>\n",
       "      <td>61.0</td>\n",
       "      <td>64.0</td>\n",
       "    </tr>\n",
       "    <tr>\n",
       "      <th>4</th>\n",
       "      <td>A7b5</td>\n",
       "      <td>45</td>\n",
       "      <td>55</td>\n",
       "      <td>61.0</td>\n",
       "      <td>63.0</td>\n",
       "      <td>NaN</td>\n",
       "    </tr>\n",
       "  </tbody>\n",
       "</table>\n",
       "</div>"
      ],
      "text/plain": [
       "  Chord  2nd  3rd   4th   5th   6th\n",
       "0    Am   45   52  57.0  60.0  64.0\n",
       "1  Amaj   45   52  57.0  61.0  64.0\n",
       "2    A6   52   57  61.0  66.0   NaN\n",
       "3    A7   45   52  55.0  61.0  64.0\n",
       "4  A7b5   45   55  61.0  63.0   NaN"
      ]
     },
     "execution_count": 71,
     "metadata": {},
     "output_type": "execute_result"
    }
   ],
   "source": [
    "guitar_chords_df.head()"
   ]
  },
  {
   "cell_type": "code",
   "execution_count": 49,
   "id": "a9900ac0",
   "metadata": {
    "hidden": true
   },
   "outputs": [],
   "source": [
    "columns = guitar_chords_df.columns"
   ]
  },
  {
   "cell_type": "code",
   "execution_count": 50,
   "id": "9abe88cf",
   "metadata": {
    "hidden": true
   },
   "outputs": [],
   "source": [
    "columns_to_transform = columns[1:]"
   ]
  },
  {
   "cell_type": "code",
   "execution_count": 51,
   "id": "fbdd4315",
   "metadata": {
    "hidden": true
   },
   "outputs": [
    {
     "data": {
      "text/plain": [
       "Index(['2nd', '3rd', '4th', '5th', '6th'], dtype='object')"
      ]
     },
     "execution_count": 51,
     "metadata": {},
     "output_type": "execute_result"
    }
   ],
   "source": [
    "columns_to_transform # Can't be transformed to integer yet because of NaN values"
   ]
  },
  {
   "cell_type": "code",
   "execution_count": 66,
   "id": "c8683245",
   "metadata": {
    "hidden": true
   },
   "outputs": [],
   "source": [
    "# NEED to DROP NA if the chords we use are shorter than 5th line.dropna()\n",
    "# In model user mask & padding with -1 for example ?"
   ]
  },
  {
   "cell_type": "markdown",
   "id": "f90bb243",
   "metadata": {
    "heading_collapsed": true,
    "hidden": true
   },
   "source": [
    "### Create MIDI test files\n"
   ]
  },
  {
   "cell_type": "markdown",
   "id": "a54f6119",
   "metadata": {
    "heading_collapsed": true,
    "hidden": true
   },
   "source": [
    "#### Create MIDI with first line\n",
    "\n",
    "\n",
    "\n"
   ]
  },
  {
   "cell_type": "code",
   "execution_count": 70,
   "id": "baaec1a5",
   "metadata": {
    "hidden": true,
    "scrolled": true
   },
   "outputs": [],
   "source": [
    "guitar_chord_1_test = guitar_chords_df.iloc[0]"
   ]
  },
  {
   "cell_type": "code",
   "execution_count": 37,
   "id": "d8e73876",
   "metadata": {
    "hidden": true
   },
   "outputs": [],
   "source": [
    "guitar_chord_1 = guitar_chord_1_test.values[1:]"
   ]
  },
  {
   "cell_type": "code",
   "execution_count": 56,
   "id": "4ee9b957",
   "metadata": {
    "hidden": true
   },
   "outputs": [],
   "source": [
    "# Create a PrettyMIDI object\n",
    "cello_c_chord = pretty_midi.PrettyMIDI()\n",
    "\n",
    "# Create an Instrument instance for a cello instrument\n",
    "\n",
    "cello_program = pretty_midi.instrument_name_to_program('Cello')\n",
    "\n",
    "\n",
    "cello = pretty_midi.Instrument(program=cello_program)\n",
    "\n",
    "# Iterate over notes\n",
    "for note_midi in guitar_chord_1:\n",
    "    \n",
    "    # Create a Note instance, starting at 0s and ending at .5s\n",
    "    note = pretty_midi.Note(velocity=100, pitch=int(note_midi), start=0, end=.5)\n",
    "    \n",
    "    # Add it to our cello instrument\n",
    "    \n",
    "    cello.notes.append(note)\n",
    "    \n",
    "# Add the cello instrument to the PrettyMIDI object\n",
    "\n",
    "cello_c_chord.instruments.append(cello)\n",
    "\n",
    "# Write out the MIDI data\n",
    "cello_c_chord.write('raw_data/guitar-test-chord.mid')"
   ]
  },
  {
   "cell_type": "markdown",
   "id": "98c57fc6",
   "metadata": {
    "heading_collapsed": true,
    "hidden": true
   },
   "source": [
    "#### Create MIDI with last line\n",
    "\n"
   ]
  },
  {
   "cell_type": "code",
   "execution_count": 57,
   "id": "272cddac",
   "metadata": {
    "hidden": true
   },
   "outputs": [],
   "source": [
    "guitar_chord_2_test = guitar_chords_df.iloc[-1]"
   ]
  },
  {
   "cell_type": "code",
   "execution_count": 58,
   "id": "28f1deaf",
   "metadata": {
    "hidden": true
   },
   "outputs": [],
   "source": [
    "guitar_chord_2 = guitar_chord_2_test.values[1:]"
   ]
  },
  {
   "cell_type": "code",
   "execution_count": 59,
   "id": "42eadaa5",
   "metadata": {
    "hidden": true
   },
   "outputs": [],
   "source": [
    "# TEST 2\n",
    "\n",
    "cello_c_chord = pretty_midi.PrettyMIDI()\n",
    "cello_program = pretty_midi.instrument_name_to_program('Cello')\n",
    "cello = pretty_midi.Instrument(program=cello_program)\n",
    "\n",
    "for note_midi in guitar_chord_2:\n",
    "    \n",
    "    note = pretty_midi.Note(velocity=100, pitch=int(note_midi), start=0, end=.5)\n",
    "    cello.notes.append(note)\n",
    "\n",
    "cello_c_chord.instruments.append(cello)\n",
    "\n",
    "# Write out the MIDI data\n",
    "cello_c_chord.write('raw_data/guitar-test2-chord.mid')"
   ]
  },
  {
   "cell_type": "markdown",
   "id": "c3f3c7be",
   "metadata": {
    "heading_collapsed": true
   },
   "source": [
    "## Test Music Scale Dataset\n"
   ]
  },
  {
   "cell_type": "markdown",
   "id": "aa07b67c",
   "metadata": {
    "heading_collapsed": true,
    "hidden": true
   },
   "source": [
    "### Get Dataset\n"
   ]
  },
  {
   "cell_type": "code",
   "execution_count": 74,
   "id": "7576153d",
   "metadata": {
    "hidden": true
   },
   "outputs": [],
   "source": [
    "music_scale_df = pd.read_csv('raw_data/music-scales_with_columns.csv', sep=\";\")"
   ]
  },
  {
   "cell_type": "code",
   "execution_count": 75,
   "id": "aa4d7a99",
   "metadata": {
    "hidden": true
   },
   "outputs": [
    {
     "data": {
      "text/html": [
       "<div>\n",
       "<style scoped>\n",
       "    .dataframe tbody tr th:only-of-type {\n",
       "        vertical-align: middle;\n",
       "    }\n",
       "\n",
       "    .dataframe tbody tr th {\n",
       "        vertical-align: top;\n",
       "    }\n",
       "\n",
       "    .dataframe thead th {\n",
       "        text-align: right;\n",
       "    }\n",
       "</style>\n",
       "<table border=\"1\" class=\"dataframe\">\n",
       "  <thead>\n",
       "    <tr style=\"text-align: right;\">\n",
       "      <th></th>\n",
       "      <th>scale_name</th>\n",
       "      <th>root</th>\n",
       "      <th>steps_from_root</th>\n",
       "      <th>steps_from_root.1</th>\n",
       "      <th>steps_from_root.2</th>\n",
       "      <th>steps_from_root.3</th>\n",
       "      <th>steps_from_root.4</th>\n",
       "      <th>steps_from_root.5</th>\n",
       "      <th>steps_from_root.6</th>\n",
       "      <th>steps_from_root.7</th>\n",
       "      <th>steps_from_root.8</th>\n",
       "      <th>other</th>\n",
       "    </tr>\n",
       "  </thead>\n",
       "  <tbody>\n",
       "    <tr>\n",
       "      <th>0</th>\n",
       "      <td>ChromaticTriMirror</td>\n",
       "      <td>0</td>\n",
       "      <td>1</td>\n",
       "      <td>2</td>\n",
       "      <td>NaN</td>\n",
       "      <td>NaN</td>\n",
       "      <td>NaN</td>\n",
       "      <td>NaN</td>\n",
       "      <td>NaN</td>\n",
       "      <td>NaN</td>\n",
       "      <td>NaN</td>\n",
       "      <td>NaN</td>\n",
       "    </tr>\n",
       "    <tr>\n",
       "      <th>1</th>\n",
       "      <td>DoReMi</td>\n",
       "      <td>0</td>\n",
       "      <td>2</td>\n",
       "      <td>4</td>\n",
       "      <td>NaN</td>\n",
       "      <td>NaN</td>\n",
       "      <td>NaN</td>\n",
       "      <td>NaN</td>\n",
       "      <td>NaN</td>\n",
       "      <td>NaN</td>\n",
       "      <td>NaN</td>\n",
       "      <td>NaN</td>\n",
       "    </tr>\n",
       "    <tr>\n",
       "      <th>2</th>\n",
       "      <td>Flat6and7</td>\n",
       "      <td>0</td>\n",
       "      <td>10</td>\n",
       "      <td>11</td>\n",
       "      <td>NaN</td>\n",
       "      <td>NaN</td>\n",
       "      <td>NaN</td>\n",
       "      <td>NaN</td>\n",
       "      <td>NaN</td>\n",
       "      <td>NaN</td>\n",
       "      <td>NaN</td>\n",
       "      <td>NaN</td>\n",
       "    </tr>\n",
       "    <tr>\n",
       "      <th>3</th>\n",
       "      <td>MajorFlat6</td>\n",
       "      <td>0</td>\n",
       "      <td>4</td>\n",
       "      <td>8</td>\n",
       "      <td>NaN</td>\n",
       "      <td>NaN</td>\n",
       "      <td>NaN</td>\n",
       "      <td>NaN</td>\n",
       "      <td>NaN</td>\n",
       "      <td>NaN</td>\n",
       "      <td>NaN</td>\n",
       "      <td>NaN</td>\n",
       "    </tr>\n",
       "    <tr>\n",
       "      <th>4</th>\n",
       "      <td>MajorTriad1</td>\n",
       "      <td>0</td>\n",
       "      <td>3</td>\n",
       "      <td>8</td>\n",
       "      <td>NaN</td>\n",
       "      <td>NaN</td>\n",
       "      <td>NaN</td>\n",
       "      <td>NaN</td>\n",
       "      <td>NaN</td>\n",
       "      <td>NaN</td>\n",
       "      <td>NaN</td>\n",
       "      <td>NaN</td>\n",
       "    </tr>\n",
       "  </tbody>\n",
       "</table>\n",
       "</div>"
      ],
      "text/plain": [
       "           scale_name  root  steps_from_root  steps_from_root.1  \\\n",
       "0  ChromaticTriMirror     0                1                  2   \n",
       "1              DoReMi     0                2                  4   \n",
       "2           Flat6and7     0               10                 11   \n",
       "3          MajorFlat6     0                4                  8   \n",
       "4         MajorTriad1     0                3                  8   \n",
       "\n",
       "   steps_from_root.2  steps_from_root.3  steps_from_root.4  steps_from_root.5  \\\n",
       "0                NaN                NaN                NaN                NaN   \n",
       "1                NaN                NaN                NaN                NaN   \n",
       "2                NaN                NaN                NaN                NaN   \n",
       "3                NaN                NaN                NaN                NaN   \n",
       "4                NaN                NaN                NaN                NaN   \n",
       "\n",
       "   steps_from_root.6  steps_from_root.7  steps_from_root.8 other  \n",
       "0                NaN                NaN                NaN   NaN  \n",
       "1                NaN                NaN                NaN   NaN  \n",
       "2                NaN                NaN                NaN   NaN  \n",
       "3                NaN                NaN                NaN   NaN  \n",
       "4                NaN                NaN                NaN   NaN  "
      ]
     },
     "execution_count": 75,
     "metadata": {},
     "output_type": "execute_result"
    }
   ],
   "source": [
    "music_scale_df.head()"
   ]
  },
  {
   "cell_type": "markdown",
   "id": "eb7890ec",
   "metadata": {},
   "source": [
    "## Get Samples & Fix Features/Target\n",
    "\n",
    "\n"
   ]
  },
  {
   "cell_type": "markdown",
   "id": "0244889b",
   "metadata": {
    "heading_collapsed": true
   },
   "source": [
    "### Concat Samples into one\n"
   ]
  },
  {
   "cell_type": "code",
   "execution_count": 61,
   "id": "44b03bcf",
   "metadata": {
    "hidden": true
   },
   "outputs": [],
   "source": [
    "df0 = joblib.load(f'raw_data/dataframes_sample/dataframe_0')"
   ]
  },
  {
   "cell_type": "code",
   "execution_count": 32,
   "id": "0b3fb55c",
   "metadata": {
    "hidden": true
   },
   "outputs": [],
   "source": [
    "data = pd.DataFrame(columns=['accompaniment', 'melody_pitches', 'melody_velocities'])\n",
    "for i in range(10):\n",
    "    loaded = joblib.load(f'raw_data/dataframes_sample/dataframe_{i}')\n",
    "    data = pd.concat((data, loaded))"
   ]
  },
  {
   "cell_type": "code",
   "execution_count": 33,
   "id": "29eec31c",
   "metadata": {
    "hidden": true,
    "scrolled": false
   },
   "outputs": [],
   "source": [
    "data.reset_index(drop=True, inplace=True)"
   ]
  },
  {
   "cell_type": "code",
   "execution_count": 56,
   "id": "dfcae6ec",
   "metadata": {
    "hidden": true
   },
   "outputs": [],
   "source": [
    "acc = [np.asarray(data['accompaniment'].iloc[0].todense()).T, np.asarray(data['accompaniment'].iloc[1].todense()).T]\n",
    "pitch = [np.asarray(data['melody_pitches'].iloc[0].todense()).reshape(-1), np.asarray(data['melody_pitches'].iloc[1].todense()).reshape(-1)]\n",
    "velo = [np.asarray(data['melody_velocities'].iloc[0].todense()).reshape(-1), np.asarray(data['melody_velocities'].iloc[0].todense()).reshape(-1)]"
   ]
  },
  {
   "cell_type": "code",
   "execution_count": 57,
   "id": "6d76d734",
   "metadata": {
    "hidden": true
   },
   "outputs": [],
   "source": [
    "acc_as_array = np.array(acc)\n",
    "pitch_as_array = np.array(pitch)\n",
    "velo_as_array = np.array(velo)"
   ]
  },
  {
   "cell_type": "code",
   "execution_count": 59,
   "id": "fedf25cd",
   "metadata": {
    "hidden": true
   },
   "outputs": [
    {
     "data": {
      "text/plain": [
       "(2, 10000, 128)"
      ]
     },
     "execution_count": 59,
     "metadata": {},
     "output_type": "execute_result"
    }
   ],
   "source": [
    "acc_as_array.shape\n",
    "# n_seqs, n_observations, n_features\n",
    "# Pour garder le voc des cours ML n_obs, n_indiv, n_features"
   ]
  },
  {
   "cell_type": "code",
   "execution_count": 60,
   "id": "3a76a581",
   "metadata": {
    "hidden": true
   },
   "outputs": [
    {
     "data": {
      "text/plain": [
       "(2, 10000)"
      ]
     },
     "execution_count": 60,
     "metadata": {},
     "output_type": "execute_result"
    }
   ],
   "source": [
    "pitch_as_array.shape"
   ]
  },
  {
   "cell_type": "code",
   "execution_count": 37,
   "id": "57f22308",
   "metadata": {
    "hidden": true,
    "scrolled": true
   },
   "outputs": [],
   "source": [
    "X_dumb_train = acc_as_array\n",
    "y_pitch_dumb_train = pitch_as_array\n",
    "y_velocity_dumb_train = velo_as_array"
   ]
  },
  {
   "cell_type": "code",
   "execution_count": 23,
   "id": "d986d8f8",
   "metadata": {
    "hidden": true
   },
   "outputs": [],
   "source": [
    "for column in data:\n",
    "    for i in range(len(data[column])):\n",
    "        data[column][i] = np.asarray(data[column][i].todense())"
   ]
  },
  {
   "cell_type": "markdown",
   "id": "895d82a0",
   "metadata": {},
   "source": [
    "### Split Features & Target + Train Test Split\n"
   ]
  },
  {
   "cell_type": "code",
   "execution_count": 11,
   "id": "e7d55c0d",
   "metadata": {},
   "outputs": [],
   "source": [
    "X, y_pitch, y_velocity = joblib.load(f'raw_data/nparray_samples/nparray0') # No .. because of os change dir earlier\n",
    "\n",
    "for i in range(1, 10):\n",
    "    loaded = joblib.load(f'raw_data/nparray_samples/nparray{i}')\n",
    "    \n",
    "    X = np.concatenate((X, loaded[0]))\n",
    "    y_pitch = np.concatenate((y_pitch, loaded[1]))\n",
    "    y_velocity = np.concatenate((y_velocity, loaded[2]))"
   ]
  },
  {
   "cell_type": "code",
   "execution_count": 12,
   "id": "4b93a7a3",
   "metadata": {},
   "outputs": [],
   "source": [
    "X_train, X_test, y_train_pitch, y_test_pitch, y_train_velocity, y_test_velocity  = train_test_split(X, y_pitch, y_velocity, test_size=0.3)"
   ]
  },
  {
   "cell_type": "markdown",
   "id": "86dc27f6",
   "metadata": {},
   "source": [
    "## Models Tests\n",
    "\n"
   ]
  },
  {
   "cell_type": "markdown",
   "id": "4a8401b5",
   "metadata": {
    "heading_collapsed": true
   },
   "source": [
    "### Test Model from Article"
   ]
  },
  {
   "cell_type": "code",
   "execution_count": null,
   "id": "fb0b983f",
   "metadata": {
    "hidden": true
   },
   "outputs": [],
   "source": [
    "# https://github.com/CyberZHG/keras-self-attention/blob/master/keras_self_attention/seq_self_attention.py\n",
    "class SeqSelfAttention(tf.keras.layers.Layer):\n",
    "\n",
    "    ATTENTION_TYPE_ADD = 'additive'\n",
    "    ATTENTION_TYPE_MUL = 'multiplicative'\n",
    "\n",
    "    def __init__(self,\n",
    "                 units=32,\n",
    "                 attention_width=None,\n",
    "                 attention_type=ATTENTION_TYPE_ADD,\n",
    "                 return_attention=False,\n",
    "                 history_only=False,\n",
    "                 kernel_initializer='glorot_normal',\n",
    "                 bias_initializer='zeros',\n",
    "                 kernel_regularizer=None,\n",
    "                 bias_regularizer=None,\n",
    "                 kernel_constraint=None,\n",
    "                 bias_constraint=None,\n",
    "                 use_additive_bias=True,\n",
    "                 use_attention_bias=True,\n",
    "                 attention_activation=None,\n",
    "                 attention_regularizer_weight=0.0,\n",
    "                 **kwargs):\n",
    "        \"\"\"Layer initialization.\n",
    "        For additive attention, see: https://arxiv.org/pdf/1806.01264.pdf\n",
    "        :param units: The dimension of the vectors that used to calculate the attention weights.\n",
    "        :param attention_width: The width of local attention.\n",
    "        :param attention_type: 'additive' or 'multiplicative'.\n",
    "        :param return_attention: Whether to return the attention weights for visualization.\n",
    "        :param history_only: Only use historical pieces of data.\n",
    "        :param kernel_initializer: The initializer for weight matrices.\n",
    "        :param bias_initializer: The initializer for biases.\n",
    "        :param kernel_regularizer: The regularization for weight matrices.\n",
    "        :param bias_regularizer: The regularization for biases.\n",
    "        :param kernel_constraint: The constraint for weight matrices.\n",
    "        :param bias_constraint: The constraint for biases.\n",
    "        :param use_additive_bias: Whether to use bias while calculating the relevance of inputs features\n",
    "                                  in additive mode.\n",
    "        :param use_attention_bias: Whether to use bias while calculating the weights of attention.\n",
    "        :param attention_activation: The activation used for calculating the weights of attention.\n",
    "        :param attention_regularizer_weight: The weights of attention regularizer.\n",
    "        :param kwargs: Parameters for parent class.\n",
    "        \"\"\"\n",
    "        self.supports_masking = True\n",
    "        self.units = units\n",
    "        self.attention_width = attention_width\n",
    "        self.attention_type = attention_type\n",
    "        self.return_attention = return_attention\n",
    "        self.history_only = history_only\n",
    "        if history_only and attention_width is None:\n",
    "            self.attention_width = int(1e9)\n",
    "\n",
    "        self.use_additive_bias = use_additive_bias\n",
    "        self.use_attention_bias = use_attention_bias\n",
    "        self.kernel_initializer = tf.keras.initializers.get(kernel_initializer)\n",
    "        self.bias_initializer = tf.keras.initializers.get(bias_initializer)\n",
    "        self.kernel_regularizer = tf.keras.regularizers.get(kernel_regularizer)\n",
    "        self.bias_regularizer = tf.keras.regularizers.get(bias_regularizer)\n",
    "        self.kernel_constraint = tf.keras.constraints.get(kernel_constraint)\n",
    "        self.bias_constraint = tf.keras.constraints.get(bias_constraint)\n",
    "        self.attention_activation = tf.keras.activations.get(attention_activation)\n",
    "        self.attention_regularizer_weight = attention_regularizer_weight\n",
    "        self._backend = tf.keras.backend.backend()\n",
    "\n",
    "        if attention_type == SeqSelfAttention.ATTENTION_TYPE_ADD:\n",
    "            self.Wx, self.Wt, self.bh = None, None, None\n",
    "            self.Wa, self.ba = None, None\n",
    "        elif attention_type == SeqSelfAttention.ATTENTION_TYPE_MUL:\n",
    "            self.Wa, self.ba = None, None\n",
    "        else:\n",
    "            raise NotImplementedError('No implementation for attention type : ' + attention_type)\n",
    "\n",
    "        super(SeqSelfAttention, self).__init__(**kwargs)\n",
    "    def get_config(self):\n",
    "        config = {\n",
    "            'units': self.units,\n",
    "            'attention_width': self.attention_width,\n",
    "            'attention_type': self.attention_type,\n",
    "            'return_attention': self.return_attention,\n",
    "            'history_only': self.history_only,\n",
    "            'use_additive_bias': self.use_additive_bias,\n",
    "            'use_attention_bias': self.use_attention_bias,\n",
    "            'kernel_initializer': tf.keras.regularizers.serialize(self.kernel_initializer),\n",
    "            'bias_initializer': tf.keras.regularizers.serialize(self.bias_initializer),\n",
    "            'kernel_regularizer': tf.keras.regularizers.serialize(self.kernel_regularizer),\n",
    "            'bias_regularizer': tf.keras.regularizers.serialize(self.bias_regularizer),\n",
    "            'kernel_constraint': tf.keras.constraints.serialize(self.kernel_constraint),\n",
    "            'bias_constraint': tf.keras.constraints.serialize(self.bias_constraint),\n",
    "            'attention_activation': tf.keras.activations.serialize(self.attention_activation),\n",
    "            'attention_regularizer_weight': self.attention_regularizer_weight,\n",
    "        }\n",
    "        base_config = super(SeqSelfAttention, self).get_config()\n",
    "        return dict(list(base_config.items()) + list(config.items()))\n",
    "\n",
    "    def build(self, input_shape):\n",
    "        if isinstance(input_shape, list):\n",
    "            input_shape = input_shape[0]\n",
    "        if self.attention_type == SeqSelfAttention.ATTENTION_TYPE_ADD:\n",
    "            self._build_additive_attention(input_shape)\n",
    "        elif self.attention_type == SeqSelfAttention.ATTENTION_TYPE_MUL:\n",
    "            self._build_multiplicative_attention(input_shape)\n",
    "        super(SeqSelfAttention, self).build(input_shape)\n",
    "        \n",
    "    def _build_additive_attention(self, input_shape):\n",
    "        feature_dim = input_shape[2]\n",
    "\n",
    "        self.Wt = self.add_weight(shape=(feature_dim, self.units),\n",
    "                                  name='{}_Add_Wt'.format(self.name),\n",
    "                                  initializer=self.kernel_initializer,\n",
    "                                  regularizer=self.kernel_regularizer,\n",
    "                                  constraint=self.kernel_constraint)\n",
    "        self.Wx = self.add_weight(shape=(feature_dim, self.units),\n",
    "                                  name='{}_Add_Wx'.format(self.name),\n",
    "                                  initializer=self.kernel_initializer,\n",
    "                                  regularizer=self.kernel_regularizer,\n",
    "                                  constraint=self.kernel_constraint)\n",
    "        if self.use_additive_bias:\n",
    "            self.bh = self.add_weight(shape=(self.units,),\n",
    "                                      name='{}_Add_bh'.format(self.name),\n",
    "                                      initializer=self.bias_initializer,\n",
    "                                      regularizer=self.bias_regularizer,\n",
    "                                      constraint=self.bias_constraint)\n",
    "\n",
    "        self.Wa = self.add_weight(shape=(self.units, 1),\n",
    "                                  name='{}_Add_Wa'.format(self.name),\n",
    "                                  initializer=self.kernel_initializer,\n",
    "                                  regularizer=self.kernel_regularizer,\n",
    "                                  constraint=self.kernel_constraint)\n",
    "        if self.use_attention_bias:\n",
    "            self.ba = self.add_weight(shape=(1,),\n",
    "                                      name='{}_Add_ba'.format(self.name),\n",
    "                                      initializer=self.bias_initializer,\n",
    "                                      regularizer=self.bias_regularizer,\n",
    "                                      constraint=self.bias_constraint)\n",
    "    def _build_multiplicative_attention(self, input_shape):\n",
    "        feature_dim = input_shape[2]\n",
    "\n",
    "        self.Wa = self.add_weight(shape=(feature_dim, feature_dim),\n",
    "                                  name='{}_Mul_Wa'.format(self.name),\n",
    "                                  initializer=self.kernel_initializer,\n",
    "                                  regularizer=self.kernel_regularizer,\n",
    "                                  constraint=self.kernel_constraint)\n",
    "        if self.use_attention_bias:\n",
    "            self.ba = self.add_weight(shape=(1,),\n",
    "                                      name='{}_Mul_ba'.format(self.name),\n",
    "                                      initializer=self.bias_initializer,\n",
    "                                      regularizer=self.bias_regularizer,\n",
    "                                      constraint=self.bias_constraint)\n",
    "    def call(self, inputs, mask=None, **kwargs):\n",
    "        if isinstance(inputs, list):\n",
    "            inputs, positions = inputs\n",
    "            positions = K.cast(positions, 'int32')\n",
    "            mask = mask[1]\n",
    "        else:\n",
    "            positions = None\n",
    "\n",
    "        input_len = K.shape(inputs)[1]\n",
    "\n",
    "        if self.attention_type == SeqSelfAttention.ATTENTION_TYPE_ADD:\n",
    "            e = self._call_additive_emission(inputs)\n",
    "        elif self.attention_type == SeqSelfAttention.ATTENTION_TYPE_MUL:\n",
    "            e = self._call_multiplicative_emission(inputs)\n",
    "\n",
    "        if self.attention_activation is not None:\n",
    "            e = self.attention_activation(e)\n",
    "        e = K.exp(e - K.max(e, axis=-1, keepdims=True))\n",
    "        if self.attention_width is not None:\n",
    "            ones = tf.ones((input_len, input_len))\n",
    "            if self.history_only:\n",
    "                local = tf.linalg.band_part(\n",
    "                    ones,\n",
    "                    K.minimum(input_len, self.attention_width - 1),\n",
    "                    0,\n",
    "                )\n",
    "            else:\n",
    "                local = tf.linalg.band_part(\n",
    "                    ones,\n",
    "                    K.minimum(input_len, self.attention_width // 2),\n",
    "                    K.minimum(input_len, (self.attention_width - 1) // 2),\n",
    "                )\n",
    "            e = e * K.expand_dims(local, 0)\n",
    "        if mask is not None:\n",
    "            mask = K.cast(mask, K.floatx())\n",
    "            mask = K.expand_dims(mask)\n",
    "            e = K.permute_dimensions(K.permute_dimensions(e * mask, (0, 2, 1)) * mask, (0, 2, 1))\n",
    "                # a_{t} = \\text{softmax}(e_t)\n",
    "        s = K.sum(e, axis=-1)\n",
    "        s = K.tile(K.expand_dims(s, axis=-1), K.stack([1, 1, input_len]))\n",
    "        a = e / (s + K.epsilon())\n",
    "\n",
    "        # l_t = \\sum_{t'} a_{t, t'} x_{t'}\n",
    "        v = K.batch_dot(a, inputs)\n",
    "        if self.attention_regularizer_weight > 0.0:\n",
    "            self.add_loss(self._attention_regularizer(a))\n",
    "\n",
    "        if positions is not None:\n",
    "            pos_num = K.shape(positions)[1]\n",
    "            batch_indices = K.tile(K.expand_dims(K.arange(K.shape(inputs)[0]), axis=-1), K.stack([1, pos_num]))\n",
    "            pos_indices = K.stack([batch_indices, positions], axis=-1)\n",
    "            v = tf.gather_nd(v, pos_indices)\n",
    "            a = tf.gather_nd(a, pos_indices)\n",
    "\n",
    "        if self.return_attention:\n",
    "            return [v, a]\n",
    "        return v\n",
    "    def _call_additive_emission(self, inputs):\n",
    "        input_shape = K.shape(inputs)\n",
    "        batch_size, input_len = input_shape[0], input_shape[1]\n",
    "\n",
    "        # h_{t, t'} = \\tanh(x_t^T W_t + x_{t'}^T W_x + b_h)\n",
    "        q, k = K.dot(inputs, self.Wt), K.dot(inputs, self.Wx)\n",
    "        q = K.tile(K.expand_dims(q, 2), K.stack([1, 1, input_len, 1]))\n",
    "        k = K.tile(K.expand_dims(k, 1), K.stack([1, input_len, 1, 1]))\n",
    "        if self.use_additive_bias:\n",
    "            h = K.tanh(q + k + self.bh)\n",
    "        else:\n",
    "            h = K.tanh(q + k)\n",
    "\n",
    "        # e_{t, t'} = W_a h_{t, t'} + b_a\n",
    "        if self.use_attention_bias:\n",
    "            e = K.reshape(K.dot(h, self.Wa) + self.ba, (batch_size, input_len, input_len))\n",
    "        else:\n",
    "            e = K.reshape(K.dot(h, self.Wa), (batch_size, input_len, input_len))\n",
    "        return e\n",
    "\n",
    "    def _call_multiplicative_emission(self, inputs):\n",
    "        # e_{t, t'} = x_t^T W_a x_{t'} + b_a\n",
    "        e = K.batch_dot(K.dot(inputs, self.Wa), K.permute_dimensions(inputs, (0, 2, 1)))\n",
    "        if self.use_attention_bias:\n",
    "            e = e + self.ba\n",
    "        return e\n",
    "    def compute_output_shape(self, input_shape):\n",
    "        if isinstance(input_shape, list):\n",
    "            input_shape, pos_shape = input_shape\n",
    "            output_shape = (input_shape[0], pos_shape[1], input_shape[2])\n",
    "        else:\n",
    "            output_shape = input_shape\n",
    "        if self.return_attention:\n",
    "            attention_shape = (input_shape[0], output_shape[1], input_shape[1])\n",
    "            return [output_shape, attention_shape]\n",
    "        return output_shape\n",
    "\n",
    "    def compute_mask(self, inputs, mask=None):\n",
    "        if isinstance(inputs, list):\n",
    "            mask = mask[1]\n",
    "        if self.return_attention:\n",
    "            return [mask, None]\n",
    "        return mask\n",
    "\n",
    "    def _attention_regularizer(self, attention):\n",
    "        batch_size = K.cast(K.shape(attention)[0], K.floatx())\n",
    "        input_len = K.shape(attention)[-1]\n",
    "        return self.attention_regularizer_weight * K.sum(K.square(K.batch_dot(\n",
    "            attention,\n",
    "            K.permute_dimensions(attention, (0, 2, 1))) - tf.eye(input_len))) / batch_size\n",
    "\n",
    "    @staticmethod\n",
    "    def get_custom_objects():\n",
    "      return {'SeqSelfAttention': SeqSelfAttention}"
   ]
  },
  {
   "cell_type": "code",
   "execution_count": null,
   "id": "effbdc69",
   "metadata": {
    "hidden": true
   },
   "outputs": [],
   "source": [
    "def create_model(seq_len, unique_notes, dropout=0.3, output_emb=100, rnn_unit=128, dense_unit=64):\n",
    "  inputs = tf.keras.layers.Input(shape=(seq_len,))\n",
    "  embedding = tf.keras.layers.Embedding(input_dim=unique_notes+1, output_dim=output_emb, input_length=seq_len)(inputs)\n",
    "  forward_pass = tf.keras.layers.Bidirectional(tf.keras.layers.GRU(rnn_unit, return_sequences=True))(embedding)\n",
    "  forward_pass , att_vector = SeqSelfAttention(\n",
    "      return_attention=True,\n",
    "      attention_activation='sigmoid', \n",
    "      attention_type=SeqSelfAttention.ATTENTION_TYPE_MUL,\n",
    "      attention_width=50, \n",
    "      kernel_regularizer=tf.keras.regularizers.l2(1e-4),\n",
    "      bias_regularizer=tf.keras.regularizers.l1(1e-4),\n",
    "      attention_regularizer_weight=1e-4,\n",
    "  )(forward_pass)\n",
    "  forward_pass = tf.keras.layers.Dropout(dropout)(forward_pass)\n",
    "  forward_pass = tf.keras.layers.Bidirectional(tf.keras.layers.GRU(rnn_unit, return_sequences=True))(forward_pass)\n",
    "  forward_pass , att_vector2 = SeqSelfAttention(\n",
    "      return_attention=True,\n",
    "      attention_activation='sigmoid', \n",
    "      attention_type=SeqSelfAttention.ATTENTION_TYPE_MUL,\n",
    "      attention_width=50, \n",
    "      kernel_regularizer=tf.keras.regularizers.l2(1e-4),\n",
    "      bias_regularizer=tf.keras.regularizers.l1(1e-4),\n",
    "      attention_regularizer_weight=1e-4,\n",
    "  )(forward_pass)\n",
    "  forward_pass = tf.keras.layers.Dropout(dropout)(forward_pass)\n",
    "  forward_pass = tf.keras.layers.Bidirectional(tf.keras.layers.GRU(rnn_unit))(forward_pass)\n",
    "  forward_pass = tf.keras.layers.Dropout(dropout)(forward_pass)\n",
    "  forward_pass = tf.keras.layers.Dense(dense_unit)(forward_pass)\n",
    "  forward_pass = tf.keras.layers.LeakyReLU()(forward_pass)\n",
    "  outputs = tf.keras.layers.Dense(unique_notes+1, activation = \"softmax\")(forward_pass)\n",
    "\n",
    "  model = tf.keras.Model(inputs=inputs, outputs=outputs, name='generate_scores_rnn')\n",
    "  return model\n",
    "\n",
    "model = create_model(seq_len, unique_notes)"
   ]
  },
  {
   "cell_type": "markdown",
   "id": "d5bc8697",
   "metadata": {},
   "source": [
    "### Simple Model with LSTM\n",
    "\n"
   ]
  },
  {
   "cell_type": "markdown",
   "id": "05c5e1e7",
   "metadata": {},
   "source": [
    "#### LSTM - Classique\n"
   ]
  },
  {
   "cell_type": "markdown",
   "id": "0899836a",
   "metadata": {},
   "source": [
    "##### LSTM - Classique - Regression\n",
    "\n"
   ]
  },
  {
   "cell_type": "markdown",
   "id": "19eb6647",
   "metadata": {},
   "source": [
    "###### Model Creation\n",
    "\n",
    "\n"
   ]
  },
  {
   "cell_type": "code",
   "execution_count": 24,
   "id": "cff25f6b",
   "metadata": {},
   "outputs": [],
   "source": [
    "inputs = layers.Input(shape=(500, 128), name='main_input') # TO BE MODIFIED - SPARSE MATRIX  #input shape 128 * 10_000\n",
    "# shape = X_train[0].shape\n",
    "# Envoi d'un sparse tensor sinon sparse matrix\n",
    "# Envoyer en input sparse ou brut est-ce que ça change les perfs ou non\n",
    "# https://stackoverflow.com/questions/20459536/convert-pandas-dataframe-to-sparse-numpy-matrix-directly\n",
    "\n",
    "\n",
    "\n",
    "main_branch = layers.LSTM(units=128, activation='tanh', return_sequences=True)(inputs)\n",
    "main_branch = layers.LSTM(units=128, activation='tanh')(main_branch)\n",
    "main_branch = layers.Dense(64, activation='relu')(main_branch)\n",
    "# DO WE NEED TWO LAYERS FOR REGRESSION AS WELL ?\n",
    "pitch_branch = layers.Dense(500, activation='relu', name='pitch_output')(main_branch)\n",
    "velocity_branch = layers.Dense(500, activation='relu', name='velocity_output')(main_branch)\n",
    "\n",
    "\n",
    "model_lstm_reg = models.Model(inputs = inputs, outputs = [pitch_branch, velocity_branch])"
   ]
  },
  {
   "cell_type": "markdown",
   "id": "30939326",
   "metadata": {},
   "source": [
    "###### Model Summary\n",
    "\n"
   ]
  },
  {
   "cell_type": "code",
   "execution_count": 25,
   "id": "2de36752",
   "metadata": {},
   "outputs": [
    {
     "name": "stdout",
     "output_type": "stream",
     "text": [
      "Model: \"model_3\"\n",
      "__________________________________________________________________________________________________\n",
      " Layer (type)                   Output Shape         Param #     Connected to                     \n",
      "==================================================================================================\n",
      " main_input (InputLayer)        [(None, 500, 128)]   0           []                               \n",
      "                                                                                                  \n",
      " lstm_12 (LSTM)                 (None, 500, 128)     131584      ['main_input[0][0]']             \n",
      "                                                                                                  \n",
      " lstm_13 (LSTM)                 (None, 128)          131584      ['lstm_12[0][0]']                \n",
      "                                                                                                  \n",
      " dense_4 (Dense)                (None, 64)           8256        ['lstm_13[0][0]']                \n",
      "                                                                                                  \n",
      " pitch_output (Dense)           (None, 500)          32500       ['dense_4[0][0]']                \n",
      "                                                                                                  \n",
      " velocity_output (Dense)        (None, 500)          32500       ['dense_4[0][0]']                \n",
      "                                                                                                  \n",
      "==================================================================================================\n",
      "Total params: 336,424\n",
      "Trainable params: 336,424\n",
      "Non-trainable params: 0\n",
      "__________________________________________________________________________________________________\n"
     ]
    }
   ],
   "source": [
    "model_lstm_reg.summary()\n"
   ]
  },
  {
   "cell_type": "markdown",
   "id": "9ebdb7d2",
   "metadata": {},
   "source": [
    "###### Model Compilation\n",
    "\n",
    "\n"
   ]
  },
  {
   "cell_type": "code",
   "execution_count": 26,
   "id": "e3e7fce2",
   "metadata": {},
   "outputs": [],
   "source": [
    "model_lstm_reg.compile(loss='mse', optimizer='rmsprop') # LOSS TO REVIEW\n"
   ]
  },
  {
   "cell_type": "code",
   "execution_count": 27,
   "id": "d03c06fc",
   "metadata": {
    "scrolled": true
   },
   "outputs": [
    {
     "name": "stdout",
     "output_type": "stream",
     "text": [
      "Epoch 1/3\n",
      "2/2 [==============================] - 5s 819ms/step - loss: 6843.3013 - pitch_output_loss: 3421.5637 - velocity_output_loss: 3421.7375\n",
      "Epoch 2/3\n",
      "2/2 [==============================] - 2s 818ms/step - loss: 6812.8818 - pitch_output_loss: 3405.8647 - velocity_output_loss: 3407.0171\n",
      "Epoch 3/3\n",
      "2/2 [==============================] - 2s 816ms/step - loss: 6709.1758 - pitch_output_loss: 3352.1475 - velocity_output_loss: 3357.0283\n"
     ]
    },
    {
     "data": {
      "text/plain": [
       "<keras.callbacks.History at 0x7f6b85cdb6d0>"
      ]
     },
     "execution_count": 27,
     "metadata": {},
     "output_type": "execute_result"
    }
   ],
   "source": [
    "model_lstm_reg.fit(X_train,\n",
    "              {'pitch_output': y_train_pitch, 'velocity_output': y_train_pitch},   \n",
    "              epochs=3,    \n",
    "              verbose=1,    \n",
    "                   \n",
    "             )"
   ]
  },
  {
   "cell_type": "code",
   "execution_count": 19,
   "id": "eea4531a",
   "metadata": {},
   "outputs": [
    {
     "data": {
      "text/plain": [
       "(24, 500, 128)"
      ]
     },
     "execution_count": 19,
     "metadata": {},
     "output_type": "execute_result"
    }
   ],
   "source": [
    "X_test.shape\n"
   ]
  },
  {
   "cell_type": "code",
   "execution_count": 28,
   "id": "78e1ab6d",
   "metadata": {
    "scrolled": true
   },
   "outputs": [],
   "source": [
    "predictions = model_lstm_reg.predict(X_test)\n"
   ]
  },
  {
   "cell_type": "code",
   "execution_count": 29,
   "id": "338fb244",
   "metadata": {},
   "outputs": [
    {
     "data": {
      "text/plain": [
       "2"
      ]
     },
     "execution_count": 29,
     "metadata": {},
     "output_type": "execute_result"
    }
   ],
   "source": [
    "len(predictions)\n"
   ]
  },
  {
   "cell_type": "code",
   "execution_count": 30,
   "id": "6bba6761",
   "metadata": {},
   "outputs": [
    {
     "data": {
      "text/plain": [
       "(24, 500)"
      ]
     },
     "execution_count": 30,
     "metadata": {},
     "output_type": "execute_result"
    }
   ],
   "source": [
    "predictions[0].shape\n"
   ]
  },
  {
   "cell_type": "code",
   "execution_count": 31,
   "id": "d1c5311c",
   "metadata": {},
   "outputs": [
    {
     "data": {
      "text/plain": [
       "array([[1.7282021 , 0.81933546, 1.5780133 , ..., 2.1836374 , 1.81944   ,\n",
       "        0.7153228 ],\n",
       "       [1.6985056 , 0.89310086, 1.5660357 , ..., 2.1188452 , 1.7540379 ,\n",
       "        0.72517514],\n",
       "       [1.774209  , 0.8511097 , 1.603918  , ..., 2.2873428 , 1.8960465 ,\n",
       "        0.7071736 ],\n",
       "       ...,\n",
       "       [1.7526388 , 0.74925786, 1.6756169 , ..., 2.5557847 , 1.7794411 ,\n",
       "        0.86734444],\n",
       "       [1.6046493 , 0.7806285 , 1.4707662 , ..., 2.062016  , 1.7441509 ,\n",
       "        0.6406468 ],\n",
       "       [1.7776222 , 0.85299087, 1.6044803 , ..., 2.2847514 , 1.8972899 ,\n",
       "        0.7062103 ]], dtype=float32)"
      ]
     },
     "execution_count": 31,
     "metadata": {},
     "output_type": "execute_result"
    }
   ],
   "source": [
    "predictions[0]"
   ]
  },
  {
   "cell_type": "code",
   "execution_count": 3,
   "id": "512bcfa6",
   "metadata": {},
   "outputs": [],
   "source": [
    "# https://towardsdatascience.com/zero-inflated-regression-c7dfc656d8af\n"
   ]
  },
  {
   "cell_type": "markdown",
   "id": "9ba68dab",
   "metadata": {},
   "source": [
    "##### LSTM - Classique - Classification\n"
   ]
  },
  {
   "cell_type": "markdown",
   "id": "5c56d19b",
   "metadata": {},
   "source": [
    "###### Model Creation\n"
   ]
  },
  {
   "cell_type": "code",
   "execution_count": 13,
   "id": "80db6e26",
   "metadata": {},
   "outputs": [
    {
     "data": {
      "text/plain": [
       "(500, 128)"
      ]
     },
     "execution_count": 13,
     "metadata": {},
     "output_type": "execute_result"
    }
   ],
   "source": [
    "X_train[0].shape"
   ]
  },
  {
   "cell_type": "code",
   "execution_count": 14,
   "id": "c51d78f1",
   "metadata": {},
   "outputs": [],
   "source": [
    "inputs = layers.Input(shape=(500, 128), name='main_input') # TO BE MODIFIED - SPARSE MATRIX\n",
    "\n",
    "main_branch = layers.LSTM(units=128, activation='tanh', return_sequences=True)(inputs)\n",
    "main_branch = layers.LSTM(units=128, activation='tanh')(main_branch)\n",
    "main_branch = layers.Dense(64, activation='relu')(main_branch)\n",
    "               \n",
    "# 2 SORTIES POUR CHAQUE PREDICTION\n",
    "# Multitask learning\n",
    "# https://github.com/rahul-pande/faces-mtl\n",
    "# https://github.com/rahul-pande/faces-mtl/blob/master/faces_mtl_age_gender.ipynb\n",
    "\n",
    "pitch_branch = layers.Dense(500, activation='softmax', name='pitch_output')(main_branch)\n",
    "velocity_branch = layers.Dense(500, activation='softmax', name='velocity_output')(main_branch)\n",
    "\n",
    "\n",
    "\n",
    "# Cannot use Sequential because several outputs\n",
    "model_lstm_class = models.Model(inputs = inputs, outputs = [pitch_branch, velocity_branch])"
   ]
  },
  {
   "cell_type": "markdown",
   "id": "a759806c",
   "metadata": {},
   "source": [
    "###### Model Summary\n"
   ]
  },
  {
   "cell_type": "code",
   "execution_count": 15,
   "id": "105faf39",
   "metadata": {},
   "outputs": [
    {
     "name": "stdout",
     "output_type": "stream",
     "text": [
      "Model: \"model_1\"\n",
      "__________________________________________________________________________________________________\n",
      " Layer (type)                   Output Shape         Param #     Connected to                     \n",
      "==================================================================================================\n",
      " main_input (InputLayer)        [(None, 500, 128)]   0           []                               \n",
      "                                                                                                  \n",
      " lstm_8 (LSTM)                  (None, 500, 128)     131584      ['main_input[0][0]']             \n",
      "                                                                                                  \n",
      " lstm_9 (LSTM)                  (None, 128)          131584      ['lstm_8[0][0]']                 \n",
      "                                                                                                  \n",
      " dense_2 (Dense)                (None, 64)           8256        ['lstm_9[0][0]']                 \n",
      "                                                                                                  \n",
      " pitch_output (Dense)           (None, 500)          32500       ['dense_2[0][0]']                \n",
      "                                                                                                  \n",
      " velocity_output (Dense)        (None, 500)          32500       ['dense_2[0][0]']                \n",
      "                                                                                                  \n",
      "==================================================================================================\n",
      "Total params: 336,424\n",
      "Trainable params: 336,424\n",
      "Non-trainable params: 0\n",
      "__________________________________________________________________________________________________\n"
     ]
    }
   ],
   "source": [
    "model_lstm_class.summary()\n"
   ]
  },
  {
   "cell_type": "markdown",
   "id": "2296b39a",
   "metadata": {},
   "source": [
    "###### Model Compilation\n"
   ]
  },
  {
   "cell_type": "code",
   "execution_count": 16,
   "id": "4daa9d51",
   "metadata": {},
   "outputs": [],
   "source": [
    "model_lstm_class.compile(loss='mse', optimizer='rmsprop') # LOSS TO REVIEW\n",
    "\n"
   ]
  },
  {
   "cell_type": "code",
   "execution_count": 17,
   "id": "5956ec15",
   "metadata": {},
   "outputs": [
    {
     "name": "stdout",
     "output_type": "stream",
     "text": [
      "Epoch 1/3\n",
      "2/2 [==============================] - 6s 1s/step - loss: 7334.0229 - pitch_output_loss: 3667.0115 - velocity_output_loss: 3667.0115 - val_loss: 5740.1104 - val_pitch_output_loss: 2870.0552 - val_velocity_output_loss: 2870.0554\n",
      "Epoch 2/3\n",
      "2/2 [==============================] - 2s 769ms/step - loss: 7334.0210 - pitch_output_loss: 3667.0103 - velocity_output_loss: 3667.0105 - val_loss: 5740.1104 - val_pitch_output_loss: 2870.0552 - val_velocity_output_loss: 2870.0552\n",
      "Epoch 3/3\n",
      "2/2 [==============================] - 2s 757ms/step - loss: 7334.0195 - pitch_output_loss: 3667.0093 - velocity_output_loss: 3667.0098 - val_loss: 5740.1104 - val_pitch_output_loss: 2870.0552 - val_velocity_output_loss: 2870.0552\n"
     ]
    },
    {
     "data": {
      "text/plain": [
       "<keras.callbacks.History at 0x7f6bc024ad90>"
      ]
     },
     "execution_count": 17,
     "metadata": {},
     "output_type": "execute_result"
    }
   ],
   "source": [
    "model_lstm_class.fit(X_train,\n",
    "                     {'pitch_output': y_train_pitch, 'velocity_output': y_train_pitch},\n",
    "                     epochs=3,\n",
    "                     verbose=1,\n",
    "                     validation_split=0.3)"
   ]
  },
  {
   "cell_type": "code",
   "execution_count": 18,
   "id": "b7db2cb6",
   "metadata": {},
   "outputs": [
    {
     "data": {
      "text/plain": [
       "[array([[0.00220615, 0.00244655, 0.00184569, ..., 0.00191783, 0.00205974,\n",
       "         0.00223915],\n",
       "        [0.00225659, 0.0021515 , 0.00203297, ..., 0.00143521, 0.00202373,\n",
       "         0.00283183],\n",
       "        [0.00204619, 0.00208152, 0.0020491 , ..., 0.0020014 , 0.00191964,\n",
       "         0.00204967],\n",
       "        ...,\n",
       "        [0.00176206, 0.00220666, 0.00186596, ..., 0.00255523, 0.00295224,\n",
       "         0.0024419 ],\n",
       "        [0.002087  , 0.00194584, 0.00214329, ..., 0.00213238, 0.00197001,\n",
       "         0.00227359],\n",
       "        [0.00204496, 0.00207931, 0.0020483 , ..., 0.00200137, 0.00192178,\n",
       "         0.00204961]], dtype=float32),\n",
       " array([[0.00213919, 0.00188687, 0.00198557, ..., 0.00183318, 0.00219967,\n",
       "         0.00208585],\n",
       "        [0.00294387, 0.00221825, 0.00226866, ..., 0.00154194, 0.00215878,\n",
       "         0.00221682],\n",
       "        [0.00195877, 0.00197917, 0.00195863, ..., 0.00200432, 0.00199127,\n",
       "         0.001916  ],\n",
       "        ...,\n",
       "        [0.00268113, 0.00208994, 0.00111118, ..., 0.00183242, 0.00245036,\n",
       "         0.00192286],\n",
       "        [0.00195044, 0.00205702, 0.00176984, ..., 0.00186905, 0.00192007,\n",
       "         0.00187495],\n",
       "        [0.00196006, 0.00198   , 0.00195996, ..., 0.00200378, 0.00199159,\n",
       "         0.00191754]], dtype=float32)]"
      ]
     },
     "execution_count": 18,
     "metadata": {},
     "output_type": "execute_result"
    }
   ],
   "source": [
    "model_lstm_class.predict(X_test)\n"
   ]
  },
  {
   "cell_type": "markdown",
   "id": "46707a97",
   "metadata": {},
   "source": [
    "#### LSTM - Bidirectional\n"
   ]
  },
  {
   "cell_type": "markdown",
   "id": "10b6a61b",
   "metadata": {},
   "source": [
    "##### LSTM - Bidirectional - Regression\n",
    "\n"
   ]
  },
  {
   "cell_type": "markdown",
   "id": "b0a4182f",
   "metadata": {},
   "source": [
    "###### Model Creation\n",
    "\n",
    "\n"
   ]
  },
  {
   "cell_type": "code",
   "execution_count": null,
   "id": "c5ba41d3",
   "metadata": {},
   "outputs": [],
   "source": [
    "# https://keras.io/examples/nlp/bidirectional_lstm_imdb/\n",
    "# https://machinelearningmastery.com/develop-bidirectional-lstm-sequence-classification-python-keras/\n",
    "# Try all methods concat, sum etc.."
   ]
  },
  {
   "cell_type": "code",
   "execution_count": 49,
   "id": "11fd9fab",
   "metadata": {},
   "outputs": [
    {
     "data": {
      "text/plain": [
       "(53, 500, 128)"
      ]
     },
     "execution_count": 49,
     "metadata": {},
     "output_type": "execute_result"
    }
   ],
   "source": [
    "X_train.shape\n",
    "\n"
   ]
  },
  {
   "cell_type": "code",
   "execution_count": 53,
   "id": "5cbc2e8a",
   "metadata": {},
   "outputs": [],
   "source": [
    "inputs = layers.Input(shape=(500, 128), name='main_input') # TO BE MODIFIED - SPARSE MATRIX\n",
    "\n",
    "# Add 2 bidirectional LSTMs\n",
    "main_branch = layers.Bidirectional(layers.LSTM(128, return_sequences=True))(inputs)\n",
    "\n",
    "main_branch = layers.Bidirectional(layers.LSTM(128, return_sequences=False))(main_branch)\n",
    "\n",
    "\n",
    "pitch_branch = layers.Dense(500, activation='relu', name='pitch_output')(main_branch)\n",
    "velocity_branch = layers.Dense(500, activation='relu', name='velocity_output')(main_branch)\n",
    "\n",
    "model_lstm_bin_reg = models.Model(inputs = inputs, outputs = [pitch_branch, velocity_branch])"
   ]
  },
  {
   "cell_type": "markdown",
   "id": "cddd8cef",
   "metadata": {
    "heading_collapsed": true
   },
   "source": [
    "###### Model Summary\n"
   ]
  },
  {
   "cell_type": "code",
   "execution_count": 11,
   "id": "d1c22efd",
   "metadata": {
    "hidden": true
   },
   "outputs": [
    {
     "name": "stdout",
     "output_type": "stream",
     "text": [
      "Model: \"model\"\n",
      "__________________________________________________________________________________________________\n",
      " Layer (type)                   Output Shape         Param #     Connected to                     \n",
      "==================================================================================================\n",
      " main_input (InputLayer)        [(None, 10000, 128)  0           []                               \n",
      "                                ]                                                                 \n",
      "                                                                                                  \n",
      " bidirectional_1 (Bidirectional  (None, 10000, 256)  263168      ['main_input[0][0]']             \n",
      " )                                                                                                \n",
      "                                                                                                  \n",
      " bidirectional_2 (Bidirectional  (None, 10000, 256)  394240      ['bidirectional_1[0][0]']        \n",
      " )                                                                                                \n",
      "                                                                                                  \n",
      " pitch_output (Dense)           (None, 10000, 10000  2570000     ['bidirectional_2[0][0]']        \n",
      "                                )                                                                 \n",
      "                                                                                                  \n",
      " velocity_output (Dense)        (None, 10000, 10000  2570000     ['bidirectional_2[0][0]']        \n",
      "                                )                                                                 \n",
      "                                                                                                  \n",
      "==================================================================================================\n",
      "Total params: 5,797,408\n",
      "Trainable params: 5,797,408\n",
      "Non-trainable params: 0\n",
      "__________________________________________________________________________________________________\n"
     ]
    }
   ],
   "source": [
    "model_lstm_bin_reg.summary()"
   ]
  },
  {
   "cell_type": "markdown",
   "id": "58e3d92e",
   "metadata": {},
   "source": [
    "###### Model Compilation\n",
    "\n"
   ]
  },
  {
   "cell_type": "code",
   "execution_count": 55,
   "id": "984f9474",
   "metadata": {},
   "outputs": [],
   "source": [
    "model_lstm_bin_reg.compile(loss='mse', optimizer='rmsprop') # LOSS TO REVIEW\n",
    "\n",
    "\n"
   ]
  },
  {
   "cell_type": "code",
   "execution_count": 56,
   "id": "9de89d08",
   "metadata": {
    "scrolled": true
   },
   "outputs": [
    {
     "name": "stdout",
     "output_type": "stream",
     "text": [
      "Epoch 1/3\n",
      "2/2 [==============================] - 9s 2s/step - loss: 7316.5234 - pitch_output_loss: 3658.3159 - velocity_output_loss: 3658.2078 - val_loss: 5709.1035 - val_pitch_output_loss: 2854.4509 - val_velocity_output_loss: 2854.6523\n",
      "Epoch 2/3\n",
      "2/2 [==============================] - 3s 1s/step - loss: 7279.8643 - pitch_output_loss: 3639.9282 - velocity_output_loss: 3639.9358 - val_loss: 5612.9116 - val_pitch_output_loss: 2806.0522 - val_velocity_output_loss: 2806.8594\n",
      "Epoch 3/3\n",
      "2/2 [==============================] - 3s 1s/step - loss: 7129.2812 - pitch_output_loss: 3564.2854 - velocity_output_loss: 3564.9961 - val_loss: 5366.8047 - val_pitch_output_loss: 2682.1904 - val_velocity_output_loss: 2684.6143\n"
     ]
    },
    {
     "data": {
      "text/plain": [
       "<keras.callbacks.History at 0x7f6b524162b0>"
      ]
     },
     "execution_count": 56,
     "metadata": {},
     "output_type": "execute_result"
    }
   ],
   "source": [
    "model_lstm_bin_reg.fit(X_train,\n",
    "                       \n",
    "                       {'pitch_output': y_train_pitch, 'velocity_output': y_train_pitch},\n",
    "                       epochs=3,\n",
    "                       \n",
    "                       verbose=1,\n",
    "                       validation_split=0.3)\n",
    "\n",
    "\n"
   ]
  },
  {
   "cell_type": "code",
   "execution_count": 57,
   "id": "45c87589",
   "metadata": {},
   "outputs": [
    {
     "data": {
      "text/plain": [
       "[array([[1.49013  , 2.5460432, 1.5468057, ..., 0.       , 2.9921162,\n",
       "         1.4680847],\n",
       "        [1.4176242, 2.5383046, 1.606751 , ..., 0.       , 3.1321988,\n",
       "         1.4478189],\n",
       "        [1.5379738, 2.5684156, 1.5659815, ..., 0.       , 2.8267174,\n",
       "         1.4381366],\n",
       "        ...,\n",
       "        [1.5755632, 2.6621666, 1.3937517, ..., 0.       , 3.0831265,\n",
       "         1.4822463],\n",
       "        [1.4692689, 2.512146 , 1.4996699, ..., 0.       , 2.8341765,\n",
       "         1.5800787],\n",
       "        [1.5274748, 2.5598228, 1.4604315, ..., 0.       , 2.8393102,\n",
       "         1.3934698]], dtype=float32),\n",
       " array([[2.0669925, 2.926127 , 2.0572948, ..., 2.660007 , 2.6958578,\n",
       "         1.2443758],\n",
       "        [2.054878 , 2.8737903, 2.1641245, ..., 2.6332088, 2.6927924,\n",
       "         1.3162158],\n",
       "        [2.0483797, 2.894317 , 2.1711962, ..., 2.734638 , 2.485267 ,\n",
       "         1.1730914],\n",
       "        ...,\n",
       "        [2.2032788, 3.1675272, 2.405532 , ..., 2.877417 , 2.5378315,\n",
       "         1.3443611],\n",
       "        [2.1885436, 2.6860294, 2.1007724, ..., 2.5330186, 2.5411408,\n",
       "         1.2553121],\n",
       "        [1.9987096, 2.7911296, 2.1017003, ..., 2.552864 , 2.4774106,\n",
       "         1.1015038]], dtype=float32)]"
      ]
     },
     "execution_count": 57,
     "metadata": {},
     "output_type": "execute_result"
    }
   ],
   "source": [
    "model_lstm_bin_reg.predict(X_test)\n"
   ]
  },
  {
   "cell_type": "markdown",
   "id": "cdfaac34",
   "metadata": {
    "heading_collapsed": true
   },
   "source": [
    "##### LSTM - Bidirectional - Classification\n",
    "\n"
   ]
  },
  {
   "cell_type": "markdown",
   "id": "357d79a1",
   "metadata": {
    "heading_collapsed": true,
    "hidden": true
   },
   "source": [
    "###### Model Creation\n"
   ]
  },
  {
   "cell_type": "code",
   "execution_count": null,
   "id": "18808861",
   "metadata": {
    "hidden": true
   },
   "outputs": [],
   "source": [
    "inputs = layers.Input(shape=(10000, 128), name='main_input') # TO BE MODIFIED - SPARSE MATRIX\n",
    "# Add 2 bidirectional LSTMs\n",
    "main_branch = layers.Bidirectional(layers.LSTM(128, return_sequences=True))(main_branch)\n",
    "main_branch = layers.Bidirectional(layers.LSTM(128))(main_branch)\n",
    "# Add a classifier\n",
    "pitch_branch = layers.Dense(128, activation='softmax', name='pitch_output')(main_branch)\n",
    "velocity_branch = layers.Dense(128, activation='softmax', name='velocity_output')(main_branch)\n",
    "model_lstm_bin_class = models.Model(inputs = inputs, outputs = [pitch_branch, velocity_branch])\n",
    "model_lstm_bin_class.summary()"
   ]
  },
  {
   "cell_type": "markdown",
   "id": "ca666cf9",
   "metadata": {
    "heading_collapsed": true,
    "hidden": true
   },
   "source": [
    "###### Model Compilation\n",
    "\n",
    "\n"
   ]
  },
  {
   "cell_type": "code",
   "execution_count": null,
   "id": "b5278ab1",
   "metadata": {
    "hidden": true
   },
   "outputs": [],
   "source": [
    "model_lstm_bin_class.compile(loss='mse', optimizer='rmsprop') # LOSS TO REVIEW"
   ]
  },
  {
   "cell_type": "markdown",
   "id": "5c09d61a",
   "metadata": {},
   "source": [
    "#### Test\n"
   ]
  },
  {
   "cell_type": "code",
   "execution_count": null,
   "id": "caf460b5",
   "metadata": {},
   "outputs": [],
   "source": [
    "# https://github.com/CyberZHG/keras-self-attention -> Try the basic use"
   ]
  },
  {
   "cell_type": "code",
   "execution_count": 32,
   "id": "e8300fb0",
   "metadata": {},
   "outputs": [],
   "source": [
    "from keras_self_attention import SeqSelfAttention\n",
    "\n",
    "model_self_test = models.Sequential()\n",
    "model_self_test.add(layers.Bidirectional(layers.LSTM(units=128, return_sequences=True)))\n",
    "model_self_test.add(SeqSelfAttention(attention_activation='sigmoid'))\n",
    "model_self_test.add(layers.Dense(units=64))"
   ]
  },
  {
   "cell_type": "code",
   "execution_count": 34,
   "id": "ce4a29f4",
   "metadata": {},
   "outputs": [],
   "source": [
    "inputs = layers.Input(shape=(500, 128), name='main_input') # TO BE MODIFIED - SPARSE MATRIX  #input shape 128 * 10_000\n",
    "# shape = X_train[0].shape\n",
    "# Envoi d'un sparse tensor sinon sparse matrix\n",
    "# Envoyer en input sparse ou brut est-ce que ça change les perfs ou non\n",
    "# https://stackoverflow.com/questions/20459536/convert-pandas-dataframe-to-sparse-numpy-matrix-directly\n",
    "\n",
    "main_branch = layers.LSTM(units=128, activation='tanh', return_sequences=True)(inputs)\n",
    "main_branch = layers.LSTM(units=128, activation='tanh', return_sequences=True)(main_branch)\n",
    "\n",
    "main_branch = SeqSelfAttention(attention_activation='sigmoid')(main_branch)\n",
    "\n",
    "main_branch = layers.Dense(64, activation='relu')(main_branch)\n",
    "\n",
    "pitch_branch = layers.Dense(500, activation='relu', name='pitch_output')(main_branch)\n",
    "velocity_branch = layers.Dense(500, activation='relu', name='velocity_output')(main_branch)\n",
    "\n",
    "model_self_test = models.Model(inputs = inputs, outputs = [pitch_branch, velocity_branch])"
   ]
  },
  {
   "cell_type": "code",
   "execution_count": 35,
   "id": "d80eac8b",
   "metadata": {},
   "outputs": [
    {
     "name": "stdout",
     "output_type": "stream",
     "text": [
      "Model: \"model_4\"\n",
      "__________________________________________________________________________________________________\n",
      " Layer (type)                   Output Shape         Param #     Connected to                     \n",
      "==================================================================================================\n",
      " main_input (InputLayer)        [(None, 500, 128)]   0           []                               \n",
      "                                                                                                  \n",
      " lstm_15 (LSTM)                 (None, 500, 128)     131584      ['main_input[0][0]']             \n",
      "                                                                                                  \n",
      " lstm_16 (LSTM)                 (None, 500, 128)     131584      ['lstm_15[0][0]']                \n",
      "                                                                                                  \n",
      " seq_self_attention_4 (SeqSelfA  (None, 500, 128)    8257        ['lstm_16[0][0]']                \n",
      " ttention)                                                                                        \n",
      "                                                                                                  \n",
      " dense_6 (Dense)                (None, 500, 64)      8256        ['seq_self_attention_4[0][0]']   \n",
      "                                                                                                  \n",
      " pitch_output (Dense)           (None, 500, 500)     32500       ['dense_6[0][0]']                \n",
      "                                                                                                  \n",
      " velocity_output (Dense)        (None, 500, 500)     32500       ['dense_6[0][0]']                \n",
      "                                                                                                  \n",
      "==================================================================================================\n",
      "Total params: 344,681\n",
      "Trainable params: 344,681\n",
      "Non-trainable params: 0\n",
      "__________________________________________________________________________________________________\n"
     ]
    }
   ],
   "source": [
    "model_self_test.summary()\n"
   ]
  },
  {
   "cell_type": "code",
   "execution_count": 36,
   "id": "850bf23b",
   "metadata": {},
   "outputs": [],
   "source": [
    "model_self_test.compile(loss='mse', optimizer='rmsprop') # LOSS TO REVIEW"
   ]
  },
  {
   "cell_type": "code",
   "execution_count": 37,
   "id": "a794b1a1",
   "metadata": {},
   "outputs": [
    {
     "name": "stdout",
     "output_type": "stream",
     "text": [
      "Epoch 1/3\n"
     ]
    },
    {
     "name": "stderr",
     "output_type": "stream",
     "text": [
      "2021-12-01 18:17:06.395515: W tensorflow/core/framework/cpu_allocator_impl.cc:82] Allocation of 1024000000 exceeds 10% of free system memory.\n"
     ]
    },
    {
     "ename": "InvalidArgumentError",
     "evalue": " Incompatible shapes: [32,500] vs. [32,500,500]\n\t [[node mean_squared_error_1/SquaredDifference\n (defined at /home/dianehb/.pyenv/versions/3.8.12/envs/MIDIComposingAI/lib/python3.8/site-packages/keras/losses.py:1204)\n]] [Op:__inference_train_function_28176]\n\nErrors may have originated from an input operation.\nInput Source operations connected to node mean_squared_error_1/SquaredDifference:\nIn[0] model_4/velocity_output/Relu (defined at /home/dianehb/.pyenv/versions/3.8.12/envs/MIDIComposingAI/lib/python3.8/site-packages/keras/backend.py:4867)\t\nIn[1] mean_squared_error_1/Cast (defined at /home/dianehb/.pyenv/versions/3.8.12/envs/MIDIComposingAI/lib/python3.8/site-packages/keras/losses.py:1203)\n\nOperation defined at: (most recent call last)\n>>>   File \"/home/dianehb/.pyenv/versions/3.8.12/lib/python3.8/runpy.py\", line 194, in _run_module_as_main\n>>>     return _run_code(code, main_globals, None,\n>>> \n>>>   File \"/home/dianehb/.pyenv/versions/3.8.12/lib/python3.8/runpy.py\", line 87, in _run_code\n>>>     exec(code, run_globals)\n>>> \n>>>   File \"/home/dianehb/.pyenv/versions/3.8.12/envs/MIDIComposingAI/lib/python3.8/site-packages/ipykernel_launcher.py\", line 16, in <module>\n>>>     app.launch_new_instance()\n>>> \n>>>   File \"/home/dianehb/.pyenv/versions/3.8.12/envs/MIDIComposingAI/lib/python3.8/site-packages/traitlets/config/application.py\", line 846, in launch_instance\n>>>     app.start()\n>>> \n>>>   File \"/home/dianehb/.pyenv/versions/3.8.12/envs/MIDIComposingAI/lib/python3.8/site-packages/ipykernel/kernelapp.py\", line 677, in start\n>>>     self.io_loop.start()\n>>> \n>>>   File \"/home/dianehb/.pyenv/versions/3.8.12/envs/MIDIComposingAI/lib/python3.8/site-packages/tornado/platform/asyncio.py\", line 199, in start\n>>>     self.asyncio_loop.run_forever()\n>>> \n>>>   File \"/home/dianehb/.pyenv/versions/3.8.12/lib/python3.8/asyncio/base_events.py\", line 570, in run_forever\n>>>     self._run_once()\n>>> \n>>>   File \"/home/dianehb/.pyenv/versions/3.8.12/lib/python3.8/asyncio/base_events.py\", line 1859, in _run_once\n>>>     handle._run()\n>>> \n>>>   File \"/home/dianehb/.pyenv/versions/3.8.12/lib/python3.8/asyncio/events.py\", line 81, in _run\n>>>     self._context.run(self._callback, *self._args)\n>>> \n>>>   File \"/home/dianehb/.pyenv/versions/3.8.12/envs/MIDIComposingAI/lib/python3.8/site-packages/ipykernel/kernelbase.py\", line 457, in dispatch_queue\n>>>     await self.process_one()\n>>> \n>>>   File \"/home/dianehb/.pyenv/versions/3.8.12/envs/MIDIComposingAI/lib/python3.8/site-packages/ipykernel/kernelbase.py\", line 446, in process_one\n>>>     await dispatch(*args)\n>>> \n>>>   File \"/home/dianehb/.pyenv/versions/3.8.12/envs/MIDIComposingAI/lib/python3.8/site-packages/ipykernel/kernelbase.py\", line 353, in dispatch_shell\n>>>     await result\n>>> \n>>>   File \"/home/dianehb/.pyenv/versions/3.8.12/envs/MIDIComposingAI/lib/python3.8/site-packages/ipykernel/kernelbase.py\", line 648, in execute_request\n>>>     reply_content = await reply_content\n>>> \n>>>   File \"/home/dianehb/.pyenv/versions/3.8.12/envs/MIDIComposingAI/lib/python3.8/site-packages/ipykernel/ipkernel.py\", line 353, in do_execute\n>>>     res = shell.run_cell(code, store_history=store_history, silent=silent)\n>>> \n>>>   File \"/home/dianehb/.pyenv/versions/3.8.12/envs/MIDIComposingAI/lib/python3.8/site-packages/ipykernel/zmqshell.py\", line 533, in run_cell\n>>>     return super(ZMQInteractiveShell, self).run_cell(*args, **kwargs)\n>>> \n>>>   File \"/home/dianehb/.pyenv/versions/3.8.12/envs/MIDIComposingAI/lib/python3.8/site-packages/IPython/core/interactiveshell.py\", line 2914, in run_cell\n>>>     result = self._run_cell(\n>>> \n>>>   File \"/home/dianehb/.pyenv/versions/3.8.12/envs/MIDIComposingAI/lib/python3.8/site-packages/IPython/core/interactiveshell.py\", line 2960, in _run_cell\n>>>     return runner(coro)\n>>> \n>>>   File \"/home/dianehb/.pyenv/versions/3.8.12/envs/MIDIComposingAI/lib/python3.8/site-packages/IPython/core/async_helpers.py\", line 68, in _pseudo_sync_runner\n>>>     coro.send(None)\n>>> \n>>>   File \"/home/dianehb/.pyenv/versions/3.8.12/envs/MIDIComposingAI/lib/python3.8/site-packages/IPython/core/interactiveshell.py\", line 3185, in run_cell_async\n>>>     has_raised = await self.run_ast_nodes(code_ast.body, cell_name,\n>>> \n>>>   File \"/home/dianehb/.pyenv/versions/3.8.12/envs/MIDIComposingAI/lib/python3.8/site-packages/IPython/core/interactiveshell.py\", line 3377, in run_ast_nodes\n>>>     if (await self.run_code(code, result,  async_=asy)):\n>>> \n>>>   File \"/home/dianehb/.pyenv/versions/3.8.12/envs/MIDIComposingAI/lib/python3.8/site-packages/IPython/core/interactiveshell.py\", line 3457, in run_code\n>>>     exec(code_obj, self.user_global_ns, self.user_ns)\n>>> \n>>>   File \"/tmp/ipykernel_1047/2316196270.py\", line 1, in <module>\n>>>     model_self_test.fit(X_train,\n>>> \n>>>   File \"/home/dianehb/.pyenv/versions/3.8.12/envs/MIDIComposingAI/lib/python3.8/site-packages/keras/utils/traceback_utils.py\", line 64, in error_handler\n>>>     return fn(*args, **kwargs)\n>>> \n>>>   File \"/home/dianehb/.pyenv/versions/3.8.12/envs/MIDIComposingAI/lib/python3.8/site-packages/keras/engine/training.py\", line 1216, in fit\n>>>     tmp_logs = self.train_function(iterator)\n>>> \n>>>   File \"/home/dianehb/.pyenv/versions/3.8.12/envs/MIDIComposingAI/lib/python3.8/site-packages/keras/engine/training.py\", line 878, in train_function\n>>>     return step_function(self, iterator)\n>>> \n>>>   File \"/home/dianehb/.pyenv/versions/3.8.12/envs/MIDIComposingAI/lib/python3.8/site-packages/keras/engine/training.py\", line 867, in step_function\n>>>     outputs = model.distribute_strategy.run(run_step, args=(data,))\n>>> \n>>>   File \"/home/dianehb/.pyenv/versions/3.8.12/envs/MIDIComposingAI/lib/python3.8/site-packages/keras/engine/training.py\", line 860, in run_step\n>>>     outputs = model.train_step(data)\n>>> \n>>>   File \"/home/dianehb/.pyenv/versions/3.8.12/envs/MIDIComposingAI/lib/python3.8/site-packages/keras/engine/training.py\", line 809, in train_step\n>>>     loss = self.compiled_loss(\n>>> \n>>>   File \"/home/dianehb/.pyenv/versions/3.8.12/envs/MIDIComposingAI/lib/python3.8/site-packages/keras/engine/compile_utils.py\", line 201, in __call__\n>>>     loss_value = loss_obj(y_t, y_p, sample_weight=sw)\n>>> \n>>>   File \"/home/dianehb/.pyenv/versions/3.8.12/envs/MIDIComposingAI/lib/python3.8/site-packages/keras/losses.py\", line 141, in __call__\n>>>     losses = call_fn(y_true, y_pred)\n>>> \n>>>   File \"/home/dianehb/.pyenv/versions/3.8.12/envs/MIDIComposingAI/lib/python3.8/site-packages/keras/losses.py\", line 245, in call\n>>>     return ag_fn(y_true, y_pred, **self._fn_kwargs)\n>>> \n>>>   File \"/home/dianehb/.pyenv/versions/3.8.12/envs/MIDIComposingAI/lib/python3.8/site-packages/keras/losses.py\", line 1204, in mean_squared_error\n>>>     return backend.mean(tf.math.squared_difference(y_pred, y_true), axis=-1)\n>>> ",
     "output_type": "error",
     "traceback": [
      "\u001b[0;31m---------------------------------------------------------------------------\u001b[0m",
      "\u001b[0;31mInvalidArgumentError\u001b[0m                      Traceback (most recent call last)",
      "\u001b[0;32m/tmp/ipykernel_1047/2316196270.py\u001b[0m in \u001b[0;36m<module>\u001b[0;34m\u001b[0m\n\u001b[0;32m----> 1\u001b[0;31m model_self_test.fit(X_train,\n\u001b[0m\u001b[1;32m      2\u001b[0m \u001b[0;34m\u001b[0m\u001b[0m\n\u001b[1;32m      3\u001b[0m                      \u001b[0;34m{\u001b[0m\u001b[0;34m'pitch_output'\u001b[0m\u001b[0;34m:\u001b[0m \u001b[0my_train_pitch\u001b[0m\u001b[0;34m,\u001b[0m \u001b[0;34m'velocity_output'\u001b[0m\u001b[0;34m:\u001b[0m \u001b[0my_train_pitch\u001b[0m\u001b[0;34m}\u001b[0m\u001b[0;34m,\u001b[0m\u001b[0;34m\u001b[0m\u001b[0;34m\u001b[0m\u001b[0m\n\u001b[1;32m      4\u001b[0m                      \u001b[0mepochs\u001b[0m\u001b[0;34m=\u001b[0m\u001b[0;36m3\u001b[0m\u001b[0;34m,\u001b[0m\u001b[0;34m\u001b[0m\u001b[0;34m\u001b[0m\u001b[0m\n\u001b[1;32m      5\u001b[0m                      \u001b[0mverbose\u001b[0m\u001b[0;34m=\u001b[0m\u001b[0;36m1\u001b[0m\u001b[0;34m,\u001b[0m\u001b[0;34m\u001b[0m\u001b[0;34m\u001b[0m\u001b[0m\n",
      "\u001b[0;32m~/.pyenv/versions/3.8.12/envs/MIDIComposingAI/lib/python3.8/site-packages/keras/utils/traceback_utils.py\u001b[0m in \u001b[0;36merror_handler\u001b[0;34m(*args, **kwargs)\u001b[0m\n\u001b[1;32m     65\u001b[0m     \u001b[0;32mexcept\u001b[0m \u001b[0mException\u001b[0m \u001b[0;32mas\u001b[0m \u001b[0me\u001b[0m\u001b[0;34m:\u001b[0m  \u001b[0;31m# pylint: disable=broad-except\u001b[0m\u001b[0;34m\u001b[0m\u001b[0;34m\u001b[0m\u001b[0m\n\u001b[1;32m     66\u001b[0m       \u001b[0mfiltered_tb\u001b[0m \u001b[0;34m=\u001b[0m \u001b[0m_process_traceback_frames\u001b[0m\u001b[0;34m(\u001b[0m\u001b[0me\u001b[0m\u001b[0;34m.\u001b[0m\u001b[0m__traceback__\u001b[0m\u001b[0;34m)\u001b[0m\u001b[0;34m\u001b[0m\u001b[0;34m\u001b[0m\u001b[0m\n\u001b[0;32m---> 67\u001b[0;31m       \u001b[0;32mraise\u001b[0m \u001b[0me\u001b[0m\u001b[0;34m.\u001b[0m\u001b[0mwith_traceback\u001b[0m\u001b[0;34m(\u001b[0m\u001b[0mfiltered_tb\u001b[0m\u001b[0;34m)\u001b[0m \u001b[0;32mfrom\u001b[0m \u001b[0;32mNone\u001b[0m\u001b[0;34m\u001b[0m\u001b[0;34m\u001b[0m\u001b[0m\n\u001b[0m\u001b[1;32m     68\u001b[0m     \u001b[0;32mfinally\u001b[0m\u001b[0;34m:\u001b[0m\u001b[0;34m\u001b[0m\u001b[0;34m\u001b[0m\u001b[0m\n\u001b[1;32m     69\u001b[0m       \u001b[0;32mdel\u001b[0m \u001b[0mfiltered_tb\u001b[0m\u001b[0;34m\u001b[0m\u001b[0;34m\u001b[0m\u001b[0m\n",
      "\u001b[0;32m~/.pyenv/versions/3.8.12/envs/MIDIComposingAI/lib/python3.8/site-packages/tensorflow/python/eager/execute.py\u001b[0m in \u001b[0;36mquick_execute\u001b[0;34m(op_name, num_outputs, inputs, attrs, ctx, name)\u001b[0m\n\u001b[1;32m     56\u001b[0m   \u001b[0;32mtry\u001b[0m\u001b[0;34m:\u001b[0m\u001b[0;34m\u001b[0m\u001b[0;34m\u001b[0m\u001b[0m\n\u001b[1;32m     57\u001b[0m     \u001b[0mctx\u001b[0m\u001b[0;34m.\u001b[0m\u001b[0mensure_initialized\u001b[0m\u001b[0;34m(\u001b[0m\u001b[0;34m)\u001b[0m\u001b[0;34m\u001b[0m\u001b[0;34m\u001b[0m\u001b[0m\n\u001b[0;32m---> 58\u001b[0;31m     tensors = pywrap_tfe.TFE_Py_Execute(ctx._handle, device_name, op_name,\n\u001b[0m\u001b[1;32m     59\u001b[0m                                         inputs, attrs, num_outputs)\n\u001b[1;32m     60\u001b[0m   \u001b[0;32mexcept\u001b[0m \u001b[0mcore\u001b[0m\u001b[0;34m.\u001b[0m\u001b[0m_NotOkStatusException\u001b[0m \u001b[0;32mas\u001b[0m \u001b[0me\u001b[0m\u001b[0;34m:\u001b[0m\u001b[0;34m\u001b[0m\u001b[0;34m\u001b[0m\u001b[0m\n",
      "\u001b[0;31mInvalidArgumentError\u001b[0m:  Incompatible shapes: [32,500] vs. [32,500,500]\n\t [[node mean_squared_error_1/SquaredDifference\n (defined at /home/dianehb/.pyenv/versions/3.8.12/envs/MIDIComposingAI/lib/python3.8/site-packages/keras/losses.py:1204)\n]] [Op:__inference_train_function_28176]\n\nErrors may have originated from an input operation.\nInput Source operations connected to node mean_squared_error_1/SquaredDifference:\nIn[0] model_4/velocity_output/Relu (defined at /home/dianehb/.pyenv/versions/3.8.12/envs/MIDIComposingAI/lib/python3.8/site-packages/keras/backend.py:4867)\t\nIn[1] mean_squared_error_1/Cast (defined at /home/dianehb/.pyenv/versions/3.8.12/envs/MIDIComposingAI/lib/python3.8/site-packages/keras/losses.py:1203)\n\nOperation defined at: (most recent call last)\n>>>   File \"/home/dianehb/.pyenv/versions/3.8.12/lib/python3.8/runpy.py\", line 194, in _run_module_as_main\n>>>     return _run_code(code, main_globals, None,\n>>> \n>>>   File \"/home/dianehb/.pyenv/versions/3.8.12/lib/python3.8/runpy.py\", line 87, in _run_code\n>>>     exec(code, run_globals)\n>>> \n>>>   File \"/home/dianehb/.pyenv/versions/3.8.12/envs/MIDIComposingAI/lib/python3.8/site-packages/ipykernel_launcher.py\", line 16, in <module>\n>>>     app.launch_new_instance()\n>>> \n>>>   File \"/home/dianehb/.pyenv/versions/3.8.12/envs/MIDIComposingAI/lib/python3.8/site-packages/traitlets/config/application.py\", line 846, in launch_instance\n>>>     app.start()\n>>> \n>>>   File \"/home/dianehb/.pyenv/versions/3.8.12/envs/MIDIComposingAI/lib/python3.8/site-packages/ipykernel/kernelapp.py\", line 677, in start\n>>>     self.io_loop.start()\n>>> \n>>>   File \"/home/dianehb/.pyenv/versions/3.8.12/envs/MIDIComposingAI/lib/python3.8/site-packages/tornado/platform/asyncio.py\", line 199, in start\n>>>     self.asyncio_loop.run_forever()\n>>> \n>>>   File \"/home/dianehb/.pyenv/versions/3.8.12/lib/python3.8/asyncio/base_events.py\", line 570, in run_forever\n>>>     self._run_once()\n>>> \n>>>   File \"/home/dianehb/.pyenv/versions/3.8.12/lib/python3.8/asyncio/base_events.py\", line 1859, in _run_once\n>>>     handle._run()\n>>> \n>>>   File \"/home/dianehb/.pyenv/versions/3.8.12/lib/python3.8/asyncio/events.py\", line 81, in _run\n>>>     self._context.run(self._callback, *self._args)\n>>> \n>>>   File \"/home/dianehb/.pyenv/versions/3.8.12/envs/MIDIComposingAI/lib/python3.8/site-packages/ipykernel/kernelbase.py\", line 457, in dispatch_queue\n>>>     await self.process_one()\n>>> \n>>>   File \"/home/dianehb/.pyenv/versions/3.8.12/envs/MIDIComposingAI/lib/python3.8/site-packages/ipykernel/kernelbase.py\", line 446, in process_one\n>>>     await dispatch(*args)\n>>> \n>>>   File \"/home/dianehb/.pyenv/versions/3.8.12/envs/MIDIComposingAI/lib/python3.8/site-packages/ipykernel/kernelbase.py\", line 353, in dispatch_shell\n>>>     await result\n>>> \n>>>   File \"/home/dianehb/.pyenv/versions/3.8.12/envs/MIDIComposingAI/lib/python3.8/site-packages/ipykernel/kernelbase.py\", line 648, in execute_request\n>>>     reply_content = await reply_content\n>>> \n>>>   File \"/home/dianehb/.pyenv/versions/3.8.12/envs/MIDIComposingAI/lib/python3.8/site-packages/ipykernel/ipkernel.py\", line 353, in do_execute\n>>>     res = shell.run_cell(code, store_history=store_history, silent=silent)\n>>> \n>>>   File \"/home/dianehb/.pyenv/versions/3.8.12/envs/MIDIComposingAI/lib/python3.8/site-packages/ipykernel/zmqshell.py\", line 533, in run_cell\n>>>     return super(ZMQInteractiveShell, self).run_cell(*args, **kwargs)\n>>> \n>>>   File \"/home/dianehb/.pyenv/versions/3.8.12/envs/MIDIComposingAI/lib/python3.8/site-packages/IPython/core/interactiveshell.py\", line 2914, in run_cell\n>>>     result = self._run_cell(\n>>> \n>>>   File \"/home/dianehb/.pyenv/versions/3.8.12/envs/MIDIComposingAI/lib/python3.8/site-packages/IPython/core/interactiveshell.py\", line 2960, in _run_cell\n>>>     return runner(coro)\n>>> \n>>>   File \"/home/dianehb/.pyenv/versions/3.8.12/envs/MIDIComposingAI/lib/python3.8/site-packages/IPython/core/async_helpers.py\", line 68, in _pseudo_sync_runner\n>>>     coro.send(None)\n>>> \n>>>   File \"/home/dianehb/.pyenv/versions/3.8.12/envs/MIDIComposingAI/lib/python3.8/site-packages/IPython/core/interactiveshell.py\", line 3185, in run_cell_async\n>>>     has_raised = await self.run_ast_nodes(code_ast.body, cell_name,\n>>> \n>>>   File \"/home/dianehb/.pyenv/versions/3.8.12/envs/MIDIComposingAI/lib/python3.8/site-packages/IPython/core/interactiveshell.py\", line 3377, in run_ast_nodes\n>>>     if (await self.run_code(code, result,  async_=asy)):\n>>> \n>>>   File \"/home/dianehb/.pyenv/versions/3.8.12/envs/MIDIComposingAI/lib/python3.8/site-packages/IPython/core/interactiveshell.py\", line 3457, in run_code\n>>>     exec(code_obj, self.user_global_ns, self.user_ns)\n>>> \n>>>   File \"/tmp/ipykernel_1047/2316196270.py\", line 1, in <module>\n>>>     model_self_test.fit(X_train,\n>>> \n>>>   File \"/home/dianehb/.pyenv/versions/3.8.12/envs/MIDIComposingAI/lib/python3.8/site-packages/keras/utils/traceback_utils.py\", line 64, in error_handler\n>>>     return fn(*args, **kwargs)\n>>> \n>>>   File \"/home/dianehb/.pyenv/versions/3.8.12/envs/MIDIComposingAI/lib/python3.8/site-packages/keras/engine/training.py\", line 1216, in fit\n>>>     tmp_logs = self.train_function(iterator)\n>>> \n>>>   File \"/home/dianehb/.pyenv/versions/3.8.12/envs/MIDIComposingAI/lib/python3.8/site-packages/keras/engine/training.py\", line 878, in train_function\n>>>     return step_function(self, iterator)\n>>> \n>>>   File \"/home/dianehb/.pyenv/versions/3.8.12/envs/MIDIComposingAI/lib/python3.8/site-packages/keras/engine/training.py\", line 867, in step_function\n>>>     outputs = model.distribute_strategy.run(run_step, args=(data,))\n>>> \n>>>   File \"/home/dianehb/.pyenv/versions/3.8.12/envs/MIDIComposingAI/lib/python3.8/site-packages/keras/engine/training.py\", line 860, in run_step\n>>>     outputs = model.train_step(data)\n>>> \n>>>   File \"/home/dianehb/.pyenv/versions/3.8.12/envs/MIDIComposingAI/lib/python3.8/site-packages/keras/engine/training.py\", line 809, in train_step\n>>>     loss = self.compiled_loss(\n>>> \n>>>   File \"/home/dianehb/.pyenv/versions/3.8.12/envs/MIDIComposingAI/lib/python3.8/site-packages/keras/engine/compile_utils.py\", line 201, in __call__\n>>>     loss_value = loss_obj(y_t, y_p, sample_weight=sw)\n>>> \n>>>   File \"/home/dianehb/.pyenv/versions/3.8.12/envs/MIDIComposingAI/lib/python3.8/site-packages/keras/losses.py\", line 141, in __call__\n>>>     losses = call_fn(y_true, y_pred)\n>>> \n>>>   File \"/home/dianehb/.pyenv/versions/3.8.12/envs/MIDIComposingAI/lib/python3.8/site-packages/keras/losses.py\", line 245, in call\n>>>     return ag_fn(y_true, y_pred, **self._fn_kwargs)\n>>> \n>>>   File \"/home/dianehb/.pyenv/versions/3.8.12/envs/MIDIComposingAI/lib/python3.8/site-packages/keras/losses.py\", line 1204, in mean_squared_error\n>>>     return backend.mean(tf.math.squared_difference(y_pred, y_true), axis=-1)\n>>> "
     ]
    }
   ],
   "source": [
    "model_self_test.fit(X_train,\n",
    "                    \n",
    "                     {'pitch_output': y_train_pitch, 'velocity_output': y_train_pitch},\n",
    "                     epochs=3,\n",
    "                     verbose=1,\n",
    "                     validation_split=0.3)"
   ]
  }
 ],
 "metadata": {
  "kernelspec": {
   "display_name": "Python 3 (ipykernel)",
   "language": "python",
   "name": "python3"
  },
  "language_info": {
   "codemirror_mode": {
    "name": "ipython",
    "version": 3
   },
   "file_extension": ".py",
   "mimetype": "text/x-python",
   "name": "python",
   "nbconvert_exporter": "python",
   "pygments_lexer": "ipython3",
   "version": "3.8.12"
  },
  "toc": {
   "base_numbering": 1,
   "nav_menu": {},
   "number_sections": true,
   "sideBar": true,
   "skip_h1_title": false,
   "title_cell": "Table of Contents",
   "title_sidebar": "Contents",
   "toc_cell": false,
   "toc_position": {},
   "toc_section_display": true,
   "toc_window_display": false
  }
 },
 "nbformat": 4,
 "nbformat_minor": 5
}
